{
 "cells": [
  {
   "cell_type": "markdown",
   "metadata": {},
   "source": [
    "# Multiple Linear Regression Lab"
   ]
  },
  {
   "cell_type": "markdown",
   "metadata": {},
   "source": [
    "## Import the relevant libraries"
   ]
  },
  {
   "cell_type": "code",
   "execution_count": 1,
   "metadata": {},
   "outputs": [],
   "source": [
    "import numpy as np\n",
    "import pandas as pd \n",
    "from sklearn.model_selection import train_test_split\n",
    "from sklearn.linear_model import LinearRegression\n",
    "from sklearn import metrics\n",
    "from sklearn.model_selection import cross_val_score\n",
    "from sklearn.feature_selection import f_regression\n",
    "from sklearn.preprocessing import PolynomialFeatures\n",
    "from sklearn.metrics import mean_squared_error, r2_score\n",
    "import matplotlib.pyplot as plt\n",
    "import seaborn as sns\n",
    "sns.set()\n",
    "from sklearn.preprocessing import StandardScaler\n",
    "import statsmodels.api as sm\n",
    "\n",
    "%matplotlib inline\n",
    "import warnings\n",
    "warnings.filterwarnings('ignore')\n",
    "pd.set_option('display.float_format', lambda x: '%.3f' % x)"
   ]
  },
  {
   "cell_type": "markdown",
   "metadata": {},
   "source": [
    "## Load the data"
   ]
  },
  {
   "cell_type": "code",
   "execution_count": 2,
   "metadata": {},
   "outputs": [
    {
     "data": {
      "text/html": [
       "<div>\n",
       "<style scoped>\n",
       "    .dataframe tbody tr th:only-of-type {\n",
       "        vertical-align: middle;\n",
       "    }\n",
       "\n",
       "    .dataframe tbody tr th {\n",
       "        vertical-align: top;\n",
       "    }\n",
       "\n",
       "    .dataframe thead th {\n",
       "        text-align: right;\n",
       "    }\n",
       "</style>\n",
       "<table border=\"1\" class=\"dataframe\">\n",
       "  <thead>\n",
       "    <tr style=\"text-align: right;\">\n",
       "      <th></th>\n",
       "      <th>Unnamed: 0</th>\n",
       "      <th>id</th>\n",
       "      <th>date</th>\n",
       "      <th>price</th>\n",
       "      <th>bedrooms</th>\n",
       "      <th>bathrooms</th>\n",
       "      <th>sqft_living</th>\n",
       "      <th>sqft_lot</th>\n",
       "      <th>floors</th>\n",
       "      <th>waterfront</th>\n",
       "      <th>...</th>\n",
       "      <th>grade</th>\n",
       "      <th>sqft_above</th>\n",
       "      <th>sqft_basement</th>\n",
       "      <th>yr_built</th>\n",
       "      <th>yr_renovated</th>\n",
       "      <th>zipcode</th>\n",
       "      <th>lat</th>\n",
       "      <th>long</th>\n",
       "      <th>sqft_living15</th>\n",
       "      <th>sqft_lot15</th>\n",
       "    </tr>\n",
       "  </thead>\n",
       "  <tbody>\n",
       "    <tr>\n",
       "      <td>0</td>\n",
       "      <td>0</td>\n",
       "      <td>2591820310</td>\n",
       "      <td>20141006T000000</td>\n",
       "      <td>365000.000</td>\n",
       "      <td>4</td>\n",
       "      <td>2.250</td>\n",
       "      <td>2070</td>\n",
       "      <td>8893</td>\n",
       "      <td>2.000</td>\n",
       "      <td>0</td>\n",
       "      <td>...</td>\n",
       "      <td>8</td>\n",
       "      <td>2070</td>\n",
       "      <td>0</td>\n",
       "      <td>1986</td>\n",
       "      <td>0</td>\n",
       "      <td>98058</td>\n",
       "      <td>47.439</td>\n",
       "      <td>-122.162</td>\n",
       "      <td>2390</td>\n",
       "      <td>7700</td>\n",
       "    </tr>\n",
       "    <tr>\n",
       "      <td>1</td>\n",
       "      <td>1</td>\n",
       "      <td>7974200820</td>\n",
       "      <td>20140821T000000</td>\n",
       "      <td>865000.000</td>\n",
       "      <td>5</td>\n",
       "      <td>3.000</td>\n",
       "      <td>2900</td>\n",
       "      <td>6730</td>\n",
       "      <td>1.000</td>\n",
       "      <td>0</td>\n",
       "      <td>...</td>\n",
       "      <td>8</td>\n",
       "      <td>1830</td>\n",
       "      <td>1070</td>\n",
       "      <td>1977</td>\n",
       "      <td>0</td>\n",
       "      <td>98115</td>\n",
       "      <td>47.678</td>\n",
       "      <td>-122.285</td>\n",
       "      <td>2370</td>\n",
       "      <td>6283</td>\n",
       "    </tr>\n",
       "    <tr>\n",
       "      <td>2</td>\n",
       "      <td>2</td>\n",
       "      <td>7701450110</td>\n",
       "      <td>20140815T000000</td>\n",
       "      <td>1038000.000</td>\n",
       "      <td>4</td>\n",
       "      <td>2.500</td>\n",
       "      <td>3770</td>\n",
       "      <td>10893</td>\n",
       "      <td>2.000</td>\n",
       "      <td>0</td>\n",
       "      <td>...</td>\n",
       "      <td>11</td>\n",
       "      <td>3770</td>\n",
       "      <td>0</td>\n",
       "      <td>1997</td>\n",
       "      <td>0</td>\n",
       "      <td>98006</td>\n",
       "      <td>47.565</td>\n",
       "      <td>-122.129</td>\n",
       "      <td>3710</td>\n",
       "      <td>9685</td>\n",
       "    </tr>\n",
       "    <tr>\n",
       "      <td>3</td>\n",
       "      <td>3</td>\n",
       "      <td>9522300010</td>\n",
       "      <td>20150331T000000</td>\n",
       "      <td>1490000.000</td>\n",
       "      <td>3</td>\n",
       "      <td>3.500</td>\n",
       "      <td>4560</td>\n",
       "      <td>14608</td>\n",
       "      <td>2.000</td>\n",
       "      <td>0</td>\n",
       "      <td>...</td>\n",
       "      <td>12</td>\n",
       "      <td>4560</td>\n",
       "      <td>0</td>\n",
       "      <td>1990</td>\n",
       "      <td>0</td>\n",
       "      <td>98034</td>\n",
       "      <td>47.700</td>\n",
       "      <td>-122.228</td>\n",
       "      <td>4050</td>\n",
       "      <td>14226</td>\n",
       "    </tr>\n",
       "    <tr>\n",
       "      <td>4</td>\n",
       "      <td>4</td>\n",
       "      <td>9510861140</td>\n",
       "      <td>20140714T000000</td>\n",
       "      <td>711000.000</td>\n",
       "      <td>3</td>\n",
       "      <td>2.500</td>\n",
       "      <td>2550</td>\n",
       "      <td>5376</td>\n",
       "      <td>2.000</td>\n",
       "      <td>0</td>\n",
       "      <td>...</td>\n",
       "      <td>9</td>\n",
       "      <td>2550</td>\n",
       "      <td>0</td>\n",
       "      <td>2004</td>\n",
       "      <td>0</td>\n",
       "      <td>98052</td>\n",
       "      <td>47.665</td>\n",
       "      <td>-122.083</td>\n",
       "      <td>2250</td>\n",
       "      <td>4050</td>\n",
       "    </tr>\n",
       "    <tr>\n",
       "      <td>5</td>\n",
       "      <td>5</td>\n",
       "      <td>1761300310</td>\n",
       "      <td>20140827T000000</td>\n",
       "      <td>211000.000</td>\n",
       "      <td>4</td>\n",
       "      <td>2.000</td>\n",
       "      <td>1710</td>\n",
       "      <td>8288</td>\n",
       "      <td>1.500</td>\n",
       "      <td>0</td>\n",
       "      <td>...</td>\n",
       "      <td>7</td>\n",
       "      <td>1710</td>\n",
       "      <td>0</td>\n",
       "      <td>1970</td>\n",
       "      <td>0</td>\n",
       "      <td>98031</td>\n",
       "      <td>47.395</td>\n",
       "      <td>-122.174</td>\n",
       "      <td>1710</td>\n",
       "      <td>7200</td>\n",
       "    </tr>\n",
       "    <tr>\n",
       "      <td>6</td>\n",
       "      <td>6</td>\n",
       "      <td>7732410120</td>\n",
       "      <td>20140819T000000</td>\n",
       "      <td>790000.000</td>\n",
       "      <td>4</td>\n",
       "      <td>2.500</td>\n",
       "      <td>2690</td>\n",
       "      <td>8036</td>\n",
       "      <td>2.000</td>\n",
       "      <td>0</td>\n",
       "      <td>...</td>\n",
       "      <td>9</td>\n",
       "      <td>2690</td>\n",
       "      <td>0</td>\n",
       "      <td>1987</td>\n",
       "      <td>0</td>\n",
       "      <td>98007</td>\n",
       "      <td>47.660</td>\n",
       "      <td>-122.144</td>\n",
       "      <td>2420</td>\n",
       "      <td>8087</td>\n",
       "    </tr>\n",
       "    <tr>\n",
       "      <td>7</td>\n",
       "      <td>7</td>\n",
       "      <td>7010701383</td>\n",
       "      <td>20141017T000000</td>\n",
       "      <td>680000.000</td>\n",
       "      <td>3</td>\n",
       "      <td>2.500</td>\n",
       "      <td>1800</td>\n",
       "      <td>4400</td>\n",
       "      <td>1.000</td>\n",
       "      <td>0</td>\n",
       "      <td>...</td>\n",
       "      <td>7</td>\n",
       "      <td>1350</td>\n",
       "      <td>450</td>\n",
       "      <td>1970</td>\n",
       "      <td>0</td>\n",
       "      <td>98199</td>\n",
       "      <td>47.660</td>\n",
       "      <td>-122.396</td>\n",
       "      <td>1920</td>\n",
       "      <td>4400</td>\n",
       "    </tr>\n",
       "    <tr>\n",
       "      <td>8</td>\n",
       "      <td>8</td>\n",
       "      <td>291310170</td>\n",
       "      <td>20140804T000000</td>\n",
       "      <td>384500.000</td>\n",
       "      <td>3</td>\n",
       "      <td>2.500</td>\n",
       "      <td>1600</td>\n",
       "      <td>2610</td>\n",
       "      <td>2.000</td>\n",
       "      <td>0</td>\n",
       "      <td>...</td>\n",
       "      <td>8</td>\n",
       "      <td>1600</td>\n",
       "      <td>0</td>\n",
       "      <td>2005</td>\n",
       "      <td>0</td>\n",
       "      <td>98027</td>\n",
       "      <td>47.534</td>\n",
       "      <td>-122.068</td>\n",
       "      <td>1445</td>\n",
       "      <td>1288</td>\n",
       "    </tr>\n",
       "    <tr>\n",
       "      <td>9</td>\n",
       "      <td>9</td>\n",
       "      <td>4232901990</td>\n",
       "      <td>20140516T000000</td>\n",
       "      <td>605000.000</td>\n",
       "      <td>2</td>\n",
       "      <td>1.000</td>\n",
       "      <td>910</td>\n",
       "      <td>3600</td>\n",
       "      <td>1.000</td>\n",
       "      <td>0</td>\n",
       "      <td>...</td>\n",
       "      <td>7</td>\n",
       "      <td>910</td>\n",
       "      <td>0</td>\n",
       "      <td>1909</td>\n",
       "      <td>0</td>\n",
       "      <td>98119</td>\n",
       "      <td>47.634</td>\n",
       "      <td>-122.361</td>\n",
       "      <td>1720</td>\n",
       "      <td>3600</td>\n",
       "    </tr>\n",
       "  </tbody>\n",
       "</table>\n",
       "<p>10 rows × 22 columns</p>\n",
       "</div>"
      ],
      "text/plain": [
       "   Unnamed: 0          id             date       price  bedrooms  bathrooms  \\\n",
       "0           0  2591820310  20141006T000000  365000.000         4      2.250   \n",
       "1           1  7974200820  20140821T000000  865000.000         5      3.000   \n",
       "2           2  7701450110  20140815T000000 1038000.000         4      2.500   \n",
       "3           3  9522300010  20150331T000000 1490000.000         3      3.500   \n",
       "4           4  9510861140  20140714T000000  711000.000         3      2.500   \n",
       "5           5  1761300310  20140827T000000  211000.000         4      2.000   \n",
       "6           6  7732410120  20140819T000000  790000.000         4      2.500   \n",
       "7           7  7010701383  20141017T000000  680000.000         3      2.500   \n",
       "8           8   291310170  20140804T000000  384500.000         3      2.500   \n",
       "9           9  4232901990  20140516T000000  605000.000         2      1.000   \n",
       "\n",
       "   sqft_living  sqft_lot  floors  waterfront  ...  grade  sqft_above  \\\n",
       "0         2070      8893   2.000           0  ...      8        2070   \n",
       "1         2900      6730   1.000           0  ...      8        1830   \n",
       "2         3770     10893   2.000           0  ...     11        3770   \n",
       "3         4560     14608   2.000           0  ...     12        4560   \n",
       "4         2550      5376   2.000           0  ...      9        2550   \n",
       "5         1710      8288   1.500           0  ...      7        1710   \n",
       "6         2690      8036   2.000           0  ...      9        2690   \n",
       "7         1800      4400   1.000           0  ...      7        1350   \n",
       "8         1600      2610   2.000           0  ...      8        1600   \n",
       "9          910      3600   1.000           0  ...      7         910   \n",
       "\n",
       "   sqft_basement  yr_built  yr_renovated  zipcode    lat     long  \\\n",
       "0              0      1986             0    98058 47.439 -122.162   \n",
       "1           1070      1977             0    98115 47.678 -122.285   \n",
       "2              0      1997             0    98006 47.565 -122.129   \n",
       "3              0      1990             0    98034 47.700 -122.228   \n",
       "4              0      2004             0    98052 47.665 -122.083   \n",
       "5              0      1970             0    98031 47.395 -122.174   \n",
       "6              0      1987             0    98007 47.660 -122.144   \n",
       "7            450      1970             0    98199 47.660 -122.396   \n",
       "8              0      2005             0    98027 47.534 -122.068   \n",
       "9              0      1909             0    98119 47.634 -122.361   \n",
       "\n",
       "   sqft_living15  sqft_lot15  \n",
       "0           2390        7700  \n",
       "1           2370        6283  \n",
       "2           3710        9685  \n",
       "3           4050       14226  \n",
       "4           2250        4050  \n",
       "5           1710        7200  \n",
       "6           2420        8087  \n",
       "7           1920        4400  \n",
       "8           1445        1288  \n",
       "9           1720        3600  \n",
       "\n",
       "[10 rows x 22 columns]"
      ]
     },
     "execution_count": 2,
     "metadata": {},
     "output_type": "execute_result"
    }
   ],
   "source": [
    "df = pd.read_csv('kc_house_data_train.csv')\n",
    "df.head(10)"
   ]
  },
  {
   "cell_type": "code",
   "execution_count": 3,
   "metadata": {},
   "outputs": [
    {
     "data": {
      "text/html": [
       "<div>\n",
       "<style scoped>\n",
       "    .dataframe tbody tr th:only-of-type {\n",
       "        vertical-align: middle;\n",
       "    }\n",
       "\n",
       "    .dataframe tbody tr th {\n",
       "        vertical-align: top;\n",
       "    }\n",
       "\n",
       "    .dataframe thead th {\n",
       "        text-align: right;\n",
       "    }\n",
       "</style>\n",
       "<table border=\"1\" class=\"dataframe\">\n",
       "  <thead>\n",
       "    <tr style=\"text-align: right;\">\n",
       "      <th></th>\n",
       "      <th>Unnamed: 0</th>\n",
       "      <th>id</th>\n",
       "      <th>price</th>\n",
       "      <th>bedrooms</th>\n",
       "      <th>bathrooms</th>\n",
       "      <th>sqft_living</th>\n",
       "      <th>sqft_lot</th>\n",
       "      <th>floors</th>\n",
       "      <th>waterfront</th>\n",
       "      <th>view</th>\n",
       "      <th>...</th>\n",
       "      <th>grade</th>\n",
       "      <th>sqft_above</th>\n",
       "      <th>sqft_basement</th>\n",
       "      <th>yr_built</th>\n",
       "      <th>yr_renovated</th>\n",
       "      <th>zipcode</th>\n",
       "      <th>lat</th>\n",
       "      <th>long</th>\n",
       "      <th>sqft_living15</th>\n",
       "      <th>sqft_lot15</th>\n",
       "    </tr>\n",
       "  </thead>\n",
       "  <tbody>\n",
       "    <tr>\n",
       "      <td>count</td>\n",
       "      <td>17290.000</td>\n",
       "      <td>17290.000</td>\n",
       "      <td>17290.000</td>\n",
       "      <td>17290.000</td>\n",
       "      <td>17290.000</td>\n",
       "      <td>17290.000</td>\n",
       "      <td>17290.000</td>\n",
       "      <td>17290.000</td>\n",
       "      <td>17290.000</td>\n",
       "      <td>17290.000</td>\n",
       "      <td>...</td>\n",
       "      <td>17290.000</td>\n",
       "      <td>17290.000</td>\n",
       "      <td>17290.000</td>\n",
       "      <td>17290.000</td>\n",
       "      <td>17290.000</td>\n",
       "      <td>17290.000</td>\n",
       "      <td>17290.000</td>\n",
       "      <td>17290.000</td>\n",
       "      <td>17290.000</td>\n",
       "      <td>17290.000</td>\n",
       "    </tr>\n",
       "    <tr>\n",
       "      <td>mean</td>\n",
       "      <td>8644.500</td>\n",
       "      <td>4565501756.437</td>\n",
       "      <td>540739.549</td>\n",
       "      <td>3.372</td>\n",
       "      <td>2.112</td>\n",
       "      <td>2081.465</td>\n",
       "      <td>15243.400</td>\n",
       "      <td>1.490</td>\n",
       "      <td>0.008</td>\n",
       "      <td>0.239</td>\n",
       "      <td>...</td>\n",
       "      <td>7.654</td>\n",
       "      <td>1789.306</td>\n",
       "      <td>292.159</td>\n",
       "      <td>1970.792</td>\n",
       "      <td>83.806</td>\n",
       "      <td>98078.193</td>\n",
       "      <td>47.560</td>\n",
       "      <td>-122.214</td>\n",
       "      <td>1987.987</td>\n",
       "      <td>12873.476</td>\n",
       "    </tr>\n",
       "    <tr>\n",
       "      <td>std</td>\n",
       "      <td>4991.337</td>\n",
       "      <td>2874655595.362</td>\n",
       "      <td>373318.979</td>\n",
       "      <td>0.939</td>\n",
       "      <td>0.770</td>\n",
       "      <td>920.019</td>\n",
       "      <td>42304.624</td>\n",
       "      <td>0.539</td>\n",
       "      <td>0.089</td>\n",
       "      <td>0.775</td>\n",
       "      <td>...</td>\n",
       "      <td>1.175</td>\n",
       "      <td>829.265</td>\n",
       "      <td>443.152</td>\n",
       "      <td>29.344</td>\n",
       "      <td>400.329</td>\n",
       "      <td>53.608</td>\n",
       "      <td>0.138</td>\n",
       "      <td>0.141</td>\n",
       "      <td>684.803</td>\n",
       "      <td>27227.438</td>\n",
       "    </tr>\n",
       "    <tr>\n",
       "      <td>min</td>\n",
       "      <td>0.000</td>\n",
       "      <td>1000102.000</td>\n",
       "      <td>75000.000</td>\n",
       "      <td>0.000</td>\n",
       "      <td>0.000</td>\n",
       "      <td>290.000</td>\n",
       "      <td>572.000</td>\n",
       "      <td>1.000</td>\n",
       "      <td>0.000</td>\n",
       "      <td>0.000</td>\n",
       "      <td>...</td>\n",
       "      <td>1.000</td>\n",
       "      <td>290.000</td>\n",
       "      <td>0.000</td>\n",
       "      <td>1900.000</td>\n",
       "      <td>0.000</td>\n",
       "      <td>98001.000</td>\n",
       "      <td>47.156</td>\n",
       "      <td>-122.519</td>\n",
       "      <td>399.000</td>\n",
       "      <td>659.000</td>\n",
       "    </tr>\n",
       "    <tr>\n",
       "      <td>25%</td>\n",
       "      <td>4322.250</td>\n",
       "      <td>2114700558.750</td>\n",
       "      <td>321000.000</td>\n",
       "      <td>3.000</td>\n",
       "      <td>1.500</td>\n",
       "      <td>1430.000</td>\n",
       "      <td>5081.250</td>\n",
       "      <td>1.000</td>\n",
       "      <td>0.000</td>\n",
       "      <td>0.000</td>\n",
       "      <td>...</td>\n",
       "      <td>7.000</td>\n",
       "      <td>1200.000</td>\n",
       "      <td>0.000</td>\n",
       "      <td>1951.000</td>\n",
       "      <td>0.000</td>\n",
       "      <td>98033.000</td>\n",
       "      <td>47.471</td>\n",
       "      <td>-122.329</td>\n",
       "      <td>1490.000</td>\n",
       "      <td>5111.250</td>\n",
       "    </tr>\n",
       "    <tr>\n",
       "      <td>50%</td>\n",
       "      <td>8644.500</td>\n",
       "      <td>3903650042.500</td>\n",
       "      <td>450000.000</td>\n",
       "      <td>3.000</td>\n",
       "      <td>2.250</td>\n",
       "      <td>1920.000</td>\n",
       "      <td>7642.000</td>\n",
       "      <td>1.500</td>\n",
       "      <td>0.000</td>\n",
       "      <td>0.000</td>\n",
       "      <td>...</td>\n",
       "      <td>7.000</td>\n",
       "      <td>1560.000</td>\n",
       "      <td>0.000</td>\n",
       "      <td>1974.000</td>\n",
       "      <td>0.000</td>\n",
       "      <td>98065.000</td>\n",
       "      <td>47.572</td>\n",
       "      <td>-122.230</td>\n",
       "      <td>1840.000</td>\n",
       "      <td>7622.500</td>\n",
       "    </tr>\n",
       "    <tr>\n",
       "      <td>75%</td>\n",
       "      <td>12966.750</td>\n",
       "      <td>7301150051.500</td>\n",
       "      <td>645000.000</td>\n",
       "      <td>4.000</td>\n",
       "      <td>2.500</td>\n",
       "      <td>2550.000</td>\n",
       "      <td>10725.750</td>\n",
       "      <td>2.000</td>\n",
       "      <td>0.000</td>\n",
       "      <td>0.000</td>\n",
       "      <td>...</td>\n",
       "      <td>8.000</td>\n",
       "      <td>2214.500</td>\n",
       "      <td>560.000</td>\n",
       "      <td>1996.000</td>\n",
       "      <td>0.000</td>\n",
       "      <td>98118.000</td>\n",
       "      <td>47.678</td>\n",
       "      <td>-122.126</td>\n",
       "      <td>2360.000</td>\n",
       "      <td>10101.750</td>\n",
       "    </tr>\n",
       "    <tr>\n",
       "      <td>max</td>\n",
       "      <td>17289.000</td>\n",
       "      <td>9900000190.000</td>\n",
       "      <td>7700000.000</td>\n",
       "      <td>33.000</td>\n",
       "      <td>8.000</td>\n",
       "      <td>13540.000</td>\n",
       "      <td>1651359.000</td>\n",
       "      <td>3.500</td>\n",
       "      <td>1.000</td>\n",
       "      <td>4.000</td>\n",
       "      <td>...</td>\n",
       "      <td>13.000</td>\n",
       "      <td>9410.000</td>\n",
       "      <td>4820.000</td>\n",
       "      <td>2015.000</td>\n",
       "      <td>2015.000</td>\n",
       "      <td>98199.000</td>\n",
       "      <td>47.778</td>\n",
       "      <td>-121.315</td>\n",
       "      <td>6210.000</td>\n",
       "      <td>858132.000</td>\n",
       "    </tr>\n",
       "  </tbody>\n",
       "</table>\n",
       "<p>8 rows × 21 columns</p>\n",
       "</div>"
      ],
      "text/plain": [
       "       Unnamed: 0             id       price  bedrooms  bathrooms  \\\n",
       "count   17290.000      17290.000   17290.000 17290.000  17290.000   \n",
       "mean     8644.500 4565501756.437  540739.549     3.372      2.112   \n",
       "std      4991.337 2874655595.362  373318.979     0.939      0.770   \n",
       "min         0.000    1000102.000   75000.000     0.000      0.000   \n",
       "25%      4322.250 2114700558.750  321000.000     3.000      1.500   \n",
       "50%      8644.500 3903650042.500  450000.000     3.000      2.250   \n",
       "75%     12966.750 7301150051.500  645000.000     4.000      2.500   \n",
       "max     17289.000 9900000190.000 7700000.000    33.000      8.000   \n",
       "\n",
       "       sqft_living    sqft_lot    floors  waterfront      view  ...     grade  \\\n",
       "count    17290.000   17290.000 17290.000   17290.000 17290.000  ... 17290.000   \n",
       "mean      2081.465   15243.400     1.490       0.008     0.239  ...     7.654   \n",
       "std        920.019   42304.624     0.539       0.089     0.775  ...     1.175   \n",
       "min        290.000     572.000     1.000       0.000     0.000  ...     1.000   \n",
       "25%       1430.000    5081.250     1.000       0.000     0.000  ...     7.000   \n",
       "50%       1920.000    7642.000     1.500       0.000     0.000  ...     7.000   \n",
       "75%       2550.000   10725.750     2.000       0.000     0.000  ...     8.000   \n",
       "max      13540.000 1651359.000     3.500       1.000     4.000  ...    13.000   \n",
       "\n",
       "       sqft_above  sqft_basement  yr_built  yr_renovated   zipcode       lat  \\\n",
       "count   17290.000      17290.000 17290.000     17290.000 17290.000 17290.000   \n",
       "mean     1789.306        292.159  1970.792        83.806 98078.193    47.560   \n",
       "std       829.265        443.152    29.344       400.329    53.608     0.138   \n",
       "min       290.000          0.000  1900.000         0.000 98001.000    47.156   \n",
       "25%      1200.000          0.000  1951.000         0.000 98033.000    47.471   \n",
       "50%      1560.000          0.000  1974.000         0.000 98065.000    47.572   \n",
       "75%      2214.500        560.000  1996.000         0.000 98118.000    47.678   \n",
       "max      9410.000       4820.000  2015.000      2015.000 98199.000    47.778   \n",
       "\n",
       "           long  sqft_living15  sqft_lot15  \n",
       "count 17290.000      17290.000   17290.000  \n",
       "mean   -122.214       1987.987   12873.476  \n",
       "std       0.141        684.803   27227.438  \n",
       "min    -122.519        399.000     659.000  \n",
       "25%    -122.329       1490.000    5111.250  \n",
       "50%    -122.230       1840.000    7622.500  \n",
       "75%    -122.126       2360.000   10101.750  \n",
       "max    -121.315       6210.000  858132.000  \n",
       "\n",
       "[8 rows x 21 columns]"
      ]
     },
     "execution_count": 3,
     "metadata": {},
     "output_type": "execute_result"
    }
   ],
   "source": [
    "df.describe()"
   ]
  },
  {
   "cell_type": "code",
   "execution_count": 4,
   "metadata": {},
   "outputs": [
    {
     "data": {
      "text/plain": [
       "(17290, 22)"
      ]
     },
     "execution_count": 4,
     "metadata": {},
     "output_type": "execute_result"
    }
   ],
   "source": [
    "df.shape"
   ]
  },
  {
   "cell_type": "code",
   "execution_count": 5,
   "metadata": {},
   "outputs": [
    {
     "data": {
      "text/plain": [
       "Index(['Unnamed: 0', 'id', 'date', 'price', 'bedrooms', 'bathrooms',\n",
       "       'sqft_living', 'sqft_lot', 'floors', 'waterfront', 'view', 'condition',\n",
       "       'grade', 'sqft_above', 'sqft_basement', 'yr_built', 'yr_renovated',\n",
       "       'zipcode', 'lat', 'long', 'sqft_living15', 'sqft_lot15'],\n",
       "      dtype='object')"
      ]
     },
     "execution_count": 5,
     "metadata": {},
     "output_type": "execute_result"
    }
   ],
   "source": [
    "df.columns"
   ]
  },
  {
   "cell_type": "markdown",
   "metadata": {},
   "source": [
    "## Declare the dependent and independent variables"
   ]
  },
  {
   "cell_type": "code",
   "execution_count": 6,
   "metadata": {},
   "outputs": [],
   "source": [
    "target = df['price']\n",
    "features = df[['bedrooms', 'bathrooms', 'sqft_living', 'sqft_lot', 'floors', 'waterfront', 'view' , 'condition', 'grade', 'sqft_above', 'sqft_basement', 'yr_built', 'yr_renovated',\n",
    "       'zipcode', 'lat', 'long', 'sqft_living15', 'sqft_lot15']]"
   ]
  },
  {
   "cell_type": "markdown",
   "metadata": {},
   "source": [
    "## Standardization / Scaling"
   ]
  },
  {
   "cell_type": "code",
   "execution_count": 7,
   "metadata": {},
   "outputs": [],
   "source": [
    "scaler = StandardScaler()"
   ]
  },
  {
   "cell_type": "code",
   "execution_count": 8,
   "metadata": {},
   "outputs": [
    {
     "data": {
      "text/plain": [
       "StandardScaler(copy=True, with_mean=True, with_std=True)"
      ]
     },
     "execution_count": 8,
     "metadata": {},
     "output_type": "execute_result"
    }
   ],
   "source": [
    "scaler.fit(features)"
   ]
  },
  {
   "cell_type": "code",
   "execution_count": 9,
   "metadata": {},
   "outputs": [
    {
     "data": {
      "text/plain": [
       "array([[ 0.66806994,  0.17918873, -0.01246164, ...,  0.37101341,\n",
       "         0.58706685, -0.19001514],\n",
       "       [ 1.73267171,  1.15264072,  0.88972019, ..., -0.50223539,\n",
       "         0.55786051, -0.24205974],\n",
       "       [ 0.66806994,  0.50367273,  1.83538065, ...,  0.60529967,\n",
       "         2.51468528, -0.11710863],\n",
       "       ...,\n",
       "       [-0.39653183, -1.44323124, -1.12116701, ..., -0.33894497,\n",
       "        -0.33293285, -0.12746613],\n",
       "       [-0.39653183, -0.79426325, -0.19724586, ...,  1.59214181,\n",
       "         0.13436859,  3.49490383],\n",
       "       [-0.39653183, -0.79426325, -0.81681651, ..., -0.74362124,\n",
       "        -0.97547232, -0.21903083]])"
      ]
     },
     "execution_count": 9,
     "metadata": {},
     "output_type": "execute_result"
    }
   ],
   "source": [
    "features_scaled = scaler.transform(features)\n",
    "features_scaled\n"
   ]
  },
  {
   "cell_type": "markdown",
   "metadata": {},
   "source": [
    "## EDA"
   ]
  },
  {
   "cell_type": "code",
   "execution_count": 10,
   "metadata": {
    "scrolled": true
   },
   "outputs": [
    {
     "data": {
      "text/plain": [
       "<matplotlib.axes._subplots.AxesSubplot at 0x10d676d50>"
      ]
     },
     "execution_count": 10,
     "metadata": {},
     "output_type": "execute_result"
    },
    {
     "data": {
      "image/png": "[encoded data removed]",
      "text/plain": [
       "<Figure size 1152x864 with 2 Axes>"
      ]
     },
     "metadata": {
      "needs_background": "light"
     },
     "output_type": "display_data"
    }
   ],
   "source": [
    "f, ax = plt.subplots(figsize=(16, 12))\n",
    "matrix = np.triu(features.corr())\n",
    "sns.heatmap(features.corr(), annot = True, vmin=-1, vmax=1, center= 0, cmap= 'coolwarm', mask = matrix)"
   ]
  },
  {
   "cell_type": "code",
   "execution_count": 11,
   "metadata": {},
   "outputs": [
    {
     "data": {
      "text/html": [
       "<div>\n",
       "<style scoped>\n",
       "    .dataframe tbody tr th:only-of-type {\n",
       "        vertical-align: middle;\n",
       "    }\n",
       "\n",
       "    .dataframe tbody tr th {\n",
       "        vertical-align: top;\n",
       "    }\n",
       "\n",
       "    .dataframe thead th {\n",
       "        text-align: right;\n",
       "    }\n",
       "</style>\n",
       "<table border=\"1\" class=\"dataframe\">\n",
       "  <thead>\n",
       "    <tr style=\"text-align: right;\">\n",
       "      <th></th>\n",
       "      <th>Unnamed: 0</th>\n",
       "      <th>id</th>\n",
       "      <th>price</th>\n",
       "      <th>bedrooms</th>\n",
       "      <th>bathrooms</th>\n",
       "      <th>sqft_living</th>\n",
       "      <th>sqft_lot</th>\n",
       "      <th>floors</th>\n",
       "      <th>waterfront</th>\n",
       "      <th>view</th>\n",
       "      <th>...</th>\n",
       "      <th>grade</th>\n",
       "      <th>sqft_above</th>\n",
       "      <th>sqft_basement</th>\n",
       "      <th>yr_built</th>\n",
       "      <th>yr_renovated</th>\n",
       "      <th>zipcode</th>\n",
       "      <th>lat</th>\n",
       "      <th>long</th>\n",
       "      <th>sqft_living15</th>\n",
       "      <th>sqft_lot15</th>\n",
       "    </tr>\n",
       "  </thead>\n",
       "  <tbody>\n",
       "    <tr>\n",
       "      <td>count</td>\n",
       "      <td>17290.000</td>\n",
       "      <td>17290.000</td>\n",
       "      <td>17290.000</td>\n",
       "      <td>17290.000</td>\n",
       "      <td>17290.000</td>\n",
       "      <td>17290.000</td>\n",
       "      <td>17290.000</td>\n",
       "      <td>17290.000</td>\n",
       "      <td>17290.000</td>\n",
       "      <td>17290.000</td>\n",
       "      <td>...</td>\n",
       "      <td>17290.000</td>\n",
       "      <td>17290.000</td>\n",
       "      <td>17290.000</td>\n",
       "      <td>17290.000</td>\n",
       "      <td>17290.000</td>\n",
       "      <td>17290.000</td>\n",
       "      <td>17290.000</td>\n",
       "      <td>17290.000</td>\n",
       "      <td>17290.000</td>\n",
       "      <td>17290.000</td>\n",
       "    </tr>\n",
       "    <tr>\n",
       "      <td>mean</td>\n",
       "      <td>8644.500</td>\n",
       "      <td>4565501756.437</td>\n",
       "      <td>540739.549</td>\n",
       "      <td>3.372</td>\n",
       "      <td>2.112</td>\n",
       "      <td>2081.465</td>\n",
       "      <td>15243.400</td>\n",
       "      <td>1.490</td>\n",
       "      <td>0.008</td>\n",
       "      <td>0.239</td>\n",
       "      <td>...</td>\n",
       "      <td>7.654</td>\n",
       "      <td>1789.306</td>\n",
       "      <td>292.159</td>\n",
       "      <td>1970.792</td>\n",
       "      <td>83.806</td>\n",
       "      <td>98078.193</td>\n",
       "      <td>47.560</td>\n",
       "      <td>-122.214</td>\n",
       "      <td>1987.987</td>\n",
       "      <td>12873.476</td>\n",
       "    </tr>\n",
       "    <tr>\n",
       "      <td>std</td>\n",
       "      <td>4991.337</td>\n",
       "      <td>2874655595.362</td>\n",
       "      <td>373318.979</td>\n",
       "      <td>0.939</td>\n",
       "      <td>0.770</td>\n",
       "      <td>920.019</td>\n",
       "      <td>42304.624</td>\n",
       "      <td>0.539</td>\n",
       "      <td>0.089</td>\n",
       "      <td>0.775</td>\n",
       "      <td>...</td>\n",
       "      <td>1.175</td>\n",
       "      <td>829.265</td>\n",
       "      <td>443.152</td>\n",
       "      <td>29.344</td>\n",
       "      <td>400.329</td>\n",
       "      <td>53.608</td>\n",
       "      <td>0.138</td>\n",
       "      <td>0.141</td>\n",
       "      <td>684.803</td>\n",
       "      <td>27227.438</td>\n",
       "    </tr>\n",
       "    <tr>\n",
       "      <td>min</td>\n",
       "      <td>0.000</td>\n",
       "      <td>1000102.000</td>\n",
       "      <td>75000.000</td>\n",
       "      <td>0.000</td>\n",
       "      <td>0.000</td>\n",
       "      <td>290.000</td>\n",
       "      <td>572.000</td>\n",
       "      <td>1.000</td>\n",
       "      <td>0.000</td>\n",
       "      <td>0.000</td>\n",
       "      <td>...</td>\n",
       "      <td>1.000</td>\n",
       "      <td>290.000</td>\n",
       "      <td>0.000</td>\n",
       "      <td>1900.000</td>\n",
       "      <td>0.000</td>\n",
       "      <td>98001.000</td>\n",
       "      <td>47.156</td>\n",
       "      <td>-122.519</td>\n",
       "      <td>399.000</td>\n",
       "      <td>659.000</td>\n",
       "    </tr>\n",
       "    <tr>\n",
       "      <td>25%</td>\n",
       "      <td>4322.250</td>\n",
       "      <td>2114700558.750</td>\n",
       "      <td>321000.000</td>\n",
       "      <td>3.000</td>\n",
       "      <td>1.500</td>\n",
       "      <td>1430.000</td>\n",
       "      <td>5081.250</td>\n",
       "      <td>1.000</td>\n",
       "      <td>0.000</td>\n",
       "      <td>0.000</td>\n",
       "      <td>...</td>\n",
       "      <td>7.000</td>\n",
       "      <td>1200.000</td>\n",
       "      <td>0.000</td>\n",
       "      <td>1951.000</td>\n",
       "      <td>0.000</td>\n",
       "      <td>98033.000</td>\n",
       "      <td>47.471</td>\n",
       "      <td>-122.329</td>\n",
       "      <td>1490.000</td>\n",
       "      <td>5111.250</td>\n",
       "    </tr>\n",
       "    <tr>\n",
       "      <td>50%</td>\n",
       "      <td>8644.500</td>\n",
       "      <td>3903650042.500</td>\n",
       "      <td>450000.000</td>\n",
       "      <td>3.000</td>\n",
       "      <td>2.250</td>\n",
       "      <td>1920.000</td>\n",
       "      <td>7642.000</td>\n",
       "      <td>1.500</td>\n",
       "      <td>0.000</td>\n",
       "      <td>0.000</td>\n",
       "      <td>...</td>\n",
       "      <td>7.000</td>\n",
       "      <td>1560.000</td>\n",
       "      <td>0.000</td>\n",
       "      <td>1974.000</td>\n",
       "      <td>0.000</td>\n",
       "      <td>98065.000</td>\n",
       "      <td>47.572</td>\n",
       "      <td>-122.230</td>\n",
       "      <td>1840.000</td>\n",
       "      <td>7622.500</td>\n",
       "    </tr>\n",
       "    <tr>\n",
       "      <td>75%</td>\n",
       "      <td>12966.750</td>\n",
       "      <td>7301150051.500</td>\n",
       "      <td>645000.000</td>\n",
       "      <td>4.000</td>\n",
       "      <td>2.500</td>\n",
       "      <td>2550.000</td>\n",
       "      <td>10725.750</td>\n",
       "      <td>2.000</td>\n",
       "      <td>0.000</td>\n",
       "      <td>0.000</td>\n",
       "      <td>...</td>\n",
       "      <td>8.000</td>\n",
       "      <td>2214.500</td>\n",
       "      <td>560.000</td>\n",
       "      <td>1996.000</td>\n",
       "      <td>0.000</td>\n",
       "      <td>98118.000</td>\n",
       "      <td>47.678</td>\n",
       "      <td>-122.126</td>\n",
       "      <td>2360.000</td>\n",
       "      <td>10101.750</td>\n",
       "    </tr>\n",
       "    <tr>\n",
       "      <td>max</td>\n",
       "      <td>17289.000</td>\n",
       "      <td>9900000190.000</td>\n",
       "      <td>7700000.000</td>\n",
       "      <td>33.000</td>\n",
       "      <td>8.000</td>\n",
       "      <td>13540.000</td>\n",
       "      <td>1651359.000</td>\n",
       "      <td>3.500</td>\n",
       "      <td>1.000</td>\n",
       "      <td>4.000</td>\n",
       "      <td>...</td>\n",
       "      <td>13.000</td>\n",
       "      <td>9410.000</td>\n",
       "      <td>4820.000</td>\n",
       "      <td>2015.000</td>\n",
       "      <td>2015.000</td>\n",
       "      <td>98199.000</td>\n",
       "      <td>47.778</td>\n",
       "      <td>-121.315</td>\n",
       "      <td>6210.000</td>\n",
       "      <td>858132.000</td>\n",
       "    </tr>\n",
       "  </tbody>\n",
       "</table>\n",
       "<p>8 rows × 21 columns</p>\n",
       "</div>"
      ],
      "text/plain": [
       "       Unnamed: 0             id       price  bedrooms  bathrooms  \\\n",
       "count   17290.000      17290.000   17290.000 17290.000  17290.000   \n",
       "mean     8644.500 4565501756.437  540739.549     3.372      2.112   \n",
       "std      4991.337 2874655595.362  373318.979     0.939      0.770   \n",
       "min         0.000    1000102.000   75000.000     0.000      0.000   \n",
       "25%      4322.250 2114700558.750  321000.000     3.000      1.500   \n",
       "50%      8644.500 3903650042.500  450000.000     3.000      2.250   \n",
       "75%     12966.750 7301150051.500  645000.000     4.000      2.500   \n",
       "max     17289.000 9900000190.000 7700000.000    33.000      8.000   \n",
       "\n",
       "       sqft_living    sqft_lot    floors  waterfront      view  ...     grade  \\\n",
       "count    17290.000   17290.000 17290.000   17290.000 17290.000  ... 17290.000   \n",
       "mean      2081.465   15243.400     1.490       0.008     0.239  ...     7.654   \n",
       "std        920.019   42304.624     0.539       0.089     0.775  ...     1.175   \n",
       "min        290.000     572.000     1.000       0.000     0.000  ...     1.000   \n",
       "25%       1430.000    5081.250     1.000       0.000     0.000  ...     7.000   \n",
       "50%       1920.000    7642.000     1.500       0.000     0.000  ...     7.000   \n",
       "75%       2550.000   10725.750     2.000       0.000     0.000  ...     8.000   \n",
       "max      13540.000 1651359.000     3.500       1.000     4.000  ...    13.000   \n",
       "\n",
       "       sqft_above  sqft_basement  yr_built  yr_renovated   zipcode       lat  \\\n",
       "count   17290.000      17290.000 17290.000     17290.000 17290.000 17290.000   \n",
       "mean     1789.306        292.159  1970.792        83.806 98078.193    47.560   \n",
       "std       829.265        443.152    29.344       400.329    53.608     0.138   \n",
       "min       290.000          0.000  1900.000         0.000 98001.000    47.156   \n",
       "25%      1200.000          0.000  1951.000         0.000 98033.000    47.471   \n",
       "50%      1560.000          0.000  1974.000         0.000 98065.000    47.572   \n",
       "75%      2214.500        560.000  1996.000         0.000 98118.000    47.678   \n",
       "max      9410.000       4820.000  2015.000      2015.000 98199.000    47.778   \n",
       "\n",
       "           long  sqft_living15  sqft_lot15  \n",
       "count 17290.000      17290.000   17290.000  \n",
       "mean   -122.214       1987.987   12873.476  \n",
       "std       0.141        684.803   27227.438  \n",
       "min    -122.519        399.000     659.000  \n",
       "25%    -122.329       1490.000    5111.250  \n",
       "50%    -122.230       1840.000    7622.500  \n",
       "75%    -122.126       2360.000   10101.750  \n",
       "max    -121.315       6210.000  858132.000  \n",
       "\n",
       "[8 rows x 21 columns]"
      ]
     },
     "execution_count": 11,
     "metadata": {},
     "output_type": "execute_result"
    }
   ],
   "source": [
    "df.describe()"
   ]
  },
  {
   "cell_type": "code",
   "execution_count": 12,
   "metadata": {},
   "outputs": [
    {
     "data": {
      "text/plain": [
       "<matplotlib.axes._subplots.AxesSubplot at 0x10be39d10>"
      ]
     },
     "execution_count": 12,
     "metadata": {},
     "output_type": "execute_result"
    },
    {
     "data": {
      "image/png": "[encoded data removed]",
      "text/plain": [
       "<Figure size 432x288 with 1 Axes>"
      ]
     },
     "metadata": {
      "needs_background": "light"
     },
     "output_type": "display_data"
    }
   ],
   "source": [
    "sns.distplot(df['price'])"
   ]
  },
  {
   "cell_type": "code",
   "execution_count": 13,
   "metadata": {},
   "outputs": [
    {
     "data": {
      "text/plain": [
       "<matplotlib.axes._subplots.AxesSubplot at 0x1c23e83490>"
      ]
     },
     "execution_count": 13,
     "metadata": {},
     "output_type": "execute_result"
    },
    {
     "data": {
      "image/png": "[encoded data removed]",
      "text/plain": [
       "<Figure size 432x288 with 1 Axes>"
      ]
     },
     "metadata": {
      "needs_background": "light"
     },
     "output_type": "display_data"
    }
   ],
   "source": [
    "sns.distplot(df['bedrooms'])"
   ]
  },
  {
   "cell_type": "code",
   "execution_count": 14,
   "metadata": {},
   "outputs": [
    {
     "data": {
      "text/plain": [
       "<matplotlib.axes._subplots.AxesSubplot at 0x1c23e56690>"
      ]
     },
     "execution_count": 14,
     "metadata": {},
     "output_type": "execute_result"
    },
    {
     "data": {
      "image/png": "[encoded data removed]",
      "text/plain": [
       "<Figure size 432x288 with 1 Axes>"
      ]
     },
     "metadata": {
      "needs_background": "light"
     },
     "output_type": "display_data"
    }
   ],
   "source": [
    "sns.distplot(df['sqft_lot'])"
   ]
  },
  {
   "cell_type": "markdown",
   "metadata": {},
   "source": [
    "## Train test split"
   ]
  },
  {
   "cell_type": "code",
   "execution_count": 15,
   "metadata": {},
   "outputs": [
    {
     "name": "stdout",
     "output_type": "stream",
     "text": [
      "Training set - Features:  (13832, 18) Target:  (13832,)\n",
      "Training set - Features:  (3458, 18) Target:  (3458,)\n"
     ]
    }
   ],
   "source": [
    "# call train_test_split on the data and capture the results\n",
    "X_train, X_test, y_train, y_test = train_test_split(features_scaled, target, random_state=42,test_size=0.2)\n",
    "\n",
    "#check the shape of the results\n",
    "print(\"Training set - Features: \", X_train.shape, \"Target: \", y_train.shape)\n",
    "print(\"Training set - Features: \", X_test.shape, \"Target: \",y_test.shape)\n"
   ]
  },
  {
   "cell_type": "markdown",
   "metadata": {},
   "source": [
    "## Create the multiple linear regression"
   ]
  },
  {
   "cell_type": "markdown",
   "metadata": {},
   "source": [
    "### Multiple Regression - 1 (all features, no pre-processing)"
   ]
  },
  {
   "cell_type": "markdown",
   "metadata": {},
   "source": [
    "#### Training data"
   ]
  },
  {
   "cell_type": "code",
   "execution_count": 16,
   "metadata": {},
   "outputs": [
    {
     "data": {
      "text/plain": [
       "LinearRegression(copy_X=True, fit_intercept=True, n_jobs=None, normalize=False)"
      ]
     },
     "execution_count": 16,
     "metadata": {},
     "output_type": "execute_result"
    }
   ],
   "source": [
    "reg = LinearRegression()\n",
    "reg.fit(X_train,y_train)"
   ]
  },
  {
   "cell_type": "markdown",
   "metadata": {},
   "source": [
    "#### Get coefficients"
   ]
  },
  {
   "cell_type": "code",
   "execution_count": 17,
   "metadata": {},
   "outputs": [
    {
     "data": {
      "text/plain": [
       "array([-32945.44931976,  32021.12599608,  85387.3306987 ,   5150.08565499,\n",
       "         2873.93479931,  52295.31681942,  40555.58301067,  18479.38801625,\n",
       "       111624.76307035,  79890.68757578,  27772.34713157, -77390.14692002,\n",
       "         7160.01906823, -30447.25933837,  83511.5921715 , -30827.51081959,\n",
       "        13055.43755106,  -9638.66689396])"
      ]
     },
     "execution_count": 17,
     "metadata": {},
     "output_type": "execute_result"
    }
   ],
   "source": [
    "reg.coef_"
   ]
  },
  {
   "cell_type": "markdown",
   "metadata": {},
   "source": [
    "#### Get intercept"
   ]
  },
  {
   "cell_type": "code",
   "execution_count": 18,
   "metadata": {},
   "outputs": [
    {
     "data": {
      "text/plain": [
       "540154.2645224854"
      ]
     },
     "execution_count": 18,
     "metadata": {},
     "output_type": "execute_result"
    }
   ],
   "source": [
    "reg.intercept_"
   ]
  },
  {
   "cell_type": "markdown",
   "metadata": {},
   "source": [
    "#### Feature summary and weights"
   ]
  },
  {
   "cell_type": "code",
   "execution_count": 19,
   "metadata": {},
   "outputs": [
    {
     "data": {
      "text/html": [
       "<div>\n",
       "<style scoped>\n",
       "    .dataframe tbody tr th:only-of-type {\n",
       "        vertical-align: middle;\n",
       "    }\n",
       "\n",
       "    .dataframe tbody tr th {\n",
       "        vertical-align: top;\n",
       "    }\n",
       "\n",
       "    .dataframe thead th {\n",
       "        text-align: right;\n",
       "    }\n",
       "</style>\n",
       "<table border=\"1\" class=\"dataframe\">\n",
       "  <thead>\n",
       "    <tr style=\"text-align: right;\">\n",
       "      <th></th>\n",
       "      <th>Features</th>\n",
       "    </tr>\n",
       "  </thead>\n",
       "  <tbody>\n",
       "    <tr>\n",
       "      <td>0</td>\n",
       "      <td>bedrooms</td>\n",
       "    </tr>\n",
       "    <tr>\n",
       "      <td>1</td>\n",
       "      <td>bathrooms</td>\n",
       "    </tr>\n",
       "    <tr>\n",
       "      <td>2</td>\n",
       "      <td>sqft_living</td>\n",
       "    </tr>\n",
       "    <tr>\n",
       "      <td>3</td>\n",
       "      <td>sqft_lot</td>\n",
       "    </tr>\n",
       "    <tr>\n",
       "      <td>4</td>\n",
       "      <td>floors</td>\n",
       "    </tr>\n",
       "    <tr>\n",
       "      <td>5</td>\n",
       "      <td>waterfront</td>\n",
       "    </tr>\n",
       "    <tr>\n",
       "      <td>6</td>\n",
       "      <td>view</td>\n",
       "    </tr>\n",
       "    <tr>\n",
       "      <td>7</td>\n",
       "      <td>condition</td>\n",
       "    </tr>\n",
       "    <tr>\n",
       "      <td>8</td>\n",
       "      <td>grade</td>\n",
       "    </tr>\n",
       "    <tr>\n",
       "      <td>9</td>\n",
       "      <td>sqft_above</td>\n",
       "    </tr>\n",
       "    <tr>\n",
       "      <td>10</td>\n",
       "      <td>sqft_basement</td>\n",
       "    </tr>\n",
       "    <tr>\n",
       "      <td>11</td>\n",
       "      <td>yr_built</td>\n",
       "    </tr>\n",
       "    <tr>\n",
       "      <td>12</td>\n",
       "      <td>yr_renovated</td>\n",
       "    </tr>\n",
       "    <tr>\n",
       "      <td>13</td>\n",
       "      <td>zipcode</td>\n",
       "    </tr>\n",
       "    <tr>\n",
       "      <td>14</td>\n",
       "      <td>lat</td>\n",
       "    </tr>\n",
       "    <tr>\n",
       "      <td>15</td>\n",
       "      <td>long</td>\n",
       "    </tr>\n",
       "    <tr>\n",
       "      <td>16</td>\n",
       "      <td>sqft_living15</td>\n",
       "    </tr>\n",
       "    <tr>\n",
       "      <td>17</td>\n",
       "      <td>sqft_lot15</td>\n",
       "    </tr>\n",
       "  </tbody>\n",
       "</table>\n",
       "</div>"
      ],
      "text/plain": [
       "         Features\n",
       "0        bedrooms\n",
       "1       bathrooms\n",
       "2     sqft_living\n",
       "3        sqft_lot\n",
       "4          floors\n",
       "5      waterfront\n",
       "6            view\n",
       "7       condition\n",
       "8           grade\n",
       "9      sqft_above\n",
       "10  sqft_basement\n",
       "11       yr_built\n",
       "12   yr_renovated\n",
       "13        zipcode\n",
       "14            lat\n",
       "15           long\n",
       "16  sqft_living15\n",
       "17     sqft_lot15"
      ]
     },
     "execution_count": 19,
     "metadata": {},
     "output_type": "execute_result"
    }
   ],
   "source": [
    "features_df = pd.DataFrame(data = features.columns.values, columns=['Features'])\n",
    "features_df"
   ]
  },
  {
   "cell_type": "code",
   "execution_count": 20,
   "metadata": {},
   "outputs": [
    {
     "data": {
      "text/plain": [
       "array([1.10680784e-301, 0.00000000e+000, 0.00000000e+000, 8.41668610e-024,\n",
       "       4.15765685e-208, 1.94648933e-238, 0.00000000e+000, 2.37560983e-007,\n",
       "       0.00000000e+000, 0.00000000e+000, 0.00000000e+000, 5.33231772e-011,\n",
       "       4.01878922e-043, 2.97836695e-010, 8.58462842e-285, 9.98917315e-003,\n",
       "       0.00000000e+000, 1.17572027e-019])"
      ]
     },
     "execution_count": 20,
     "metadata": {},
     "output_type": "execute_result"
    }
   ],
   "source": [
    "p_values = f_regression(X_train,y_train)[1]\n",
    "p_values"
   ]
  },
  {
   "cell_type": "code",
   "execution_count": 21,
   "metadata": {},
   "outputs": [
    {
     "data": {
      "text/html": [
       "<div>\n",
       "<style scoped>\n",
       "    .dataframe tbody tr th:only-of-type {\n",
       "        vertical-align: middle;\n",
       "    }\n",
       "\n",
       "    .dataframe tbody tr th {\n",
       "        vertical-align: top;\n",
       "    }\n",
       "\n",
       "    .dataframe thead th {\n",
       "        text-align: right;\n",
       "    }\n",
       "</style>\n",
       "<table border=\"1\" class=\"dataframe\">\n",
       "  <thead>\n",
       "    <tr style=\"text-align: right;\">\n",
       "      <th></th>\n",
       "      <th>Features</th>\n",
       "      <th>Weights</th>\n",
       "      <th>P Values</th>\n",
       "    </tr>\n",
       "  </thead>\n",
       "  <tbody>\n",
       "    <tr>\n",
       "      <td>8</td>\n",
       "      <td>grade</td>\n",
       "      <td>111624.763</td>\n",
       "      <td>0.000</td>\n",
       "    </tr>\n",
       "    <tr>\n",
       "      <td>2</td>\n",
       "      <td>sqft_living</td>\n",
       "      <td>85387.331</td>\n",
       "      <td>0.000</td>\n",
       "    </tr>\n",
       "    <tr>\n",
       "      <td>14</td>\n",
       "      <td>lat</td>\n",
       "      <td>83511.592</td>\n",
       "      <td>0.000</td>\n",
       "    </tr>\n",
       "    <tr>\n",
       "      <td>9</td>\n",
       "      <td>sqft_above</td>\n",
       "      <td>79890.688</td>\n",
       "      <td>0.000</td>\n",
       "    </tr>\n",
       "    <tr>\n",
       "      <td>5</td>\n",
       "      <td>waterfront</td>\n",
       "      <td>52295.317</td>\n",
       "      <td>0.000</td>\n",
       "    </tr>\n",
       "    <tr>\n",
       "      <td>6</td>\n",
       "      <td>view</td>\n",
       "      <td>40555.583</td>\n",
       "      <td>0.000</td>\n",
       "    </tr>\n",
       "    <tr>\n",
       "      <td>1</td>\n",
       "      <td>bathrooms</td>\n",
       "      <td>32021.126</td>\n",
       "      <td>0.000</td>\n",
       "    </tr>\n",
       "    <tr>\n",
       "      <td>10</td>\n",
       "      <td>sqft_basement</td>\n",
       "      <td>27772.347</td>\n",
       "      <td>0.000</td>\n",
       "    </tr>\n",
       "    <tr>\n",
       "      <td>7</td>\n",
       "      <td>condition</td>\n",
       "      <td>18479.388</td>\n",
       "      <td>0.000</td>\n",
       "    </tr>\n",
       "    <tr>\n",
       "      <td>16</td>\n",
       "      <td>sqft_living15</td>\n",
       "      <td>13055.438</td>\n",
       "      <td>0.000</td>\n",
       "    </tr>\n",
       "    <tr>\n",
       "      <td>12</td>\n",
       "      <td>yr_renovated</td>\n",
       "      <td>7160.019</td>\n",
       "      <td>0.000</td>\n",
       "    </tr>\n",
       "    <tr>\n",
       "      <td>3</td>\n",
       "      <td>sqft_lot</td>\n",
       "      <td>5150.086</td>\n",
       "      <td>0.000</td>\n",
       "    </tr>\n",
       "    <tr>\n",
       "      <td>4</td>\n",
       "      <td>floors</td>\n",
       "      <td>2873.935</td>\n",
       "      <td>0.000</td>\n",
       "    </tr>\n",
       "    <tr>\n",
       "      <td>17</td>\n",
       "      <td>sqft_lot15</td>\n",
       "      <td>-9638.667</td>\n",
       "      <td>0.000</td>\n",
       "    </tr>\n",
       "    <tr>\n",
       "      <td>13</td>\n",
       "      <td>zipcode</td>\n",
       "      <td>-30447.259</td>\n",
       "      <td>0.000</td>\n",
       "    </tr>\n",
       "    <tr>\n",
       "      <td>15</td>\n",
       "      <td>long</td>\n",
       "      <td>-30827.511</td>\n",
       "      <td>0.010</td>\n",
       "    </tr>\n",
       "    <tr>\n",
       "      <td>0</td>\n",
       "      <td>bedrooms</td>\n",
       "      <td>-32945.449</td>\n",
       "      <td>0.000</td>\n",
       "    </tr>\n",
       "    <tr>\n",
       "      <td>11</td>\n",
       "      <td>yr_built</td>\n",
       "      <td>-77390.147</td>\n",
       "      <td>0.000</td>\n",
       "    </tr>\n",
       "  </tbody>\n",
       "</table>\n",
       "</div>"
      ],
      "text/plain": [
       "         Features    Weights  P Values\n",
       "8           grade 111624.763     0.000\n",
       "2     sqft_living  85387.331     0.000\n",
       "14            lat  83511.592     0.000\n",
       "9      sqft_above  79890.688     0.000\n",
       "5      waterfront  52295.317     0.000\n",
       "6            view  40555.583     0.000\n",
       "1       bathrooms  32021.126     0.000\n",
       "10  sqft_basement  27772.347     0.000\n",
       "7       condition  18479.388     0.000\n",
       "16  sqft_living15  13055.438     0.000\n",
       "12   yr_renovated   7160.019     0.000\n",
       "3        sqft_lot   5150.086     0.000\n",
       "4          floors   2873.935     0.000\n",
       "17     sqft_lot15  -9638.667     0.000\n",
       "13        zipcode -30447.259     0.000\n",
       "15           long -30827.511     0.010\n",
       "0        bedrooms -32945.449     0.000\n",
       "11       yr_built -77390.147     0.000"
      ]
     },
     "execution_count": 21,
     "metadata": {},
     "output_type": "execute_result"
    }
   ],
   "source": [
    "features_df['Weights'] = reg.coef_\n",
    "features_df['P Values'] = p_values.round(3)\n",
    "features_df.sort_values(['Weights'], ascending=False)"
   ]
  },
  {
   "cell_type": "markdown",
   "metadata": {},
   "source": [
    "#### Get r^2 score and adjusted r^2 score"
   ]
  },
  {
   "cell_type": "code",
   "execution_count": 22,
   "metadata": {},
   "outputs": [
    {
     "data": {
      "text/plain": [
       "0.6970071254200643"
      ]
     },
     "execution_count": 22,
     "metadata": {},
     "output_type": "execute_result"
    }
   ],
   "source": [
    "r2_train = reg.score(X_train, y_train)\n",
    "r2_train"
   ]
  },
  {
   "cell_type": "code",
   "execution_count": 23,
   "metadata": {},
   "outputs": [
    {
     "data": {
      "text/plain": [
       "0.696612289269884"
      ]
     },
     "execution_count": 23,
     "metadata": {},
     "output_type": "execute_result"
    }
   ],
   "source": [
    "n = X_train.shape[0]\n",
    "p = X_train.shape[1]\n",
    "\n",
    "adjusted_r2_train = 1-(1-r2_train)*(n-1)/(n-p-1)\n",
    "adjusted_r2_train"
   ]
  },
  {
   "cell_type": "markdown",
   "metadata": {},
   "source": [
    "#### Get error"
   ]
  },
  {
   "cell_type": "code",
   "execution_count": 24,
   "metadata": {},
   "outputs": [],
   "source": [
    "y_train_pred = reg.predict(X_train)"
   ]
  },
  {
   "cell_type": "code",
   "execution_count": 25,
   "metadata": {},
   "outputs": [
    {
     "name": "stdout",
     "output_type": "stream",
     "text": [
      "Mean Absolute Error: 127865.68450146986\n",
      "Mean Squared Error: 42696724677.65793\n",
      "Root Mean Squared Error: 206631.8578478593\n"
     ]
    }
   ],
   "source": [
    "train_mae = metrics.mean_absolute_error(y_train, y_train_pred)\n",
    "train_mse = metrics.mean_squared_error(y_train, y_train_pred)\n",
    "train_rmse = np.sqrt(metrics.mean_squared_error(y_train, y_train_pred))\n",
    "\n",
    "print('Mean Absolute Error:', train_mae )\n",
    "print('Mean Squared Error:',  train_mse)\n",
    "print('Root Mean Squared Error:' , train_rmse)"
   ]
  },
  {
   "cell_type": "code",
   "execution_count": 26,
   "metadata": {},
   "outputs": [
    {
     "name": "stdout",
     "output_type": "stream",
     "text": [
      "Mean Absolute Error: 0.3425105386547823\n",
      "Root Mean Squared Error: 0.5534994725961455\n"
     ]
    }
   ],
   "source": [
    "price_std = target.std()\n",
    "\n",
    "print('Mean Absolute Error:', train_mae/price_std )\n",
    "print('Root Mean Squared Error:' , train_rmse/price_std)"
   ]
  },
  {
   "cell_type": "markdown",
   "metadata": {},
   "source": [
    "#### Test Data"
   ]
  },
  {
   "cell_type": "code",
   "execution_count": 27,
   "metadata": {},
   "outputs": [
    {
     "data": {
      "text/plain": [
       "0.7027786929887427"
      ]
     },
     "execution_count": 27,
     "metadata": {},
     "output_type": "execute_result"
    }
   ],
   "source": [
    "reg.score(X_test, y_test)"
   ]
  },
  {
   "cell_type": "code",
   "execution_count": 28,
   "metadata": {},
   "outputs": [
    {
     "data": {
      "text/plain": [
       "0.7012230129869391"
      ]
     },
     "execution_count": 28,
     "metadata": {},
     "output_type": "execute_result"
    }
   ],
   "source": [
    "r2_test = reg.score(X_test, y_test)\n",
    "n = X_test.shape[0]\n",
    "p = X_test.shape[1]\n",
    "\n",
    "adjusted_r2_test = 1-(1-r2_test)*(n-1)/(n-p-1)\n",
    "adjusted_r2_test"
   ]
  },
  {
   "cell_type": "code",
   "execution_count": 29,
   "metadata": {},
   "outputs": [],
   "source": [
    "y_test_pred = reg.predict(X_test)"
   ]
  },
  {
   "cell_type": "code",
   "execution_count": 30,
   "metadata": {},
   "outputs": [
    {
     "name": "stdout",
     "output_type": "stream",
     "text": [
      "Mean Absolute Error: 123704.29845359181\n",
      "Mean Squared Error: 39547299966.78129\n",
      "Root Mean Squared Error: 198865.02952198833\n"
     ]
    }
   ],
   "source": [
    "test_mae = metrics.mean_absolute_error(y_test, y_test_pred)\n",
    "test_mse = metrics.mean_squared_error(y_test, y_test_pred)\n",
    "test_rmse = np.sqrt(metrics.mean_squared_error(y_test, y_test_pred))\n",
    "\n",
    "print('Mean Absolute Error:', test_mae )\n",
    "print('Mean Squared Error:',  test_mse)\n",
    "print('Root Mean Squared Error:' , test_rmse)"
   ]
  },
  {
   "cell_type": "code",
   "execution_count": 31,
   "metadata": {},
   "outputs": [
    {
     "name": "stdout",
     "output_type": "stream",
     "text": [
      "Mean Absolute Error  Z: 0.3313635402840598\n",
      "Root Mean Squared Error Z: 0.5326946682117235\n"
     ]
    }
   ],
   "source": [
    "print('Mean Absolute Error  Z:', test_mae/price_std )\n",
    "print('Root Mean Squared Error Z:' , test_rmse/price_std)"
   ]
  },
  {
   "cell_type": "code",
   "execution_count": 32,
   "metadata": {},
   "outputs": [
    {
     "data": {
      "text/plain": [
       "Text(0, 0.5, 'Predictions')"
      ]
     },
     "execution_count": 32,
     "metadata": {},
     "output_type": "execute_result"
    },
    {
     "data": {
      "image/png": "[encoded data removed]",
      "text/plain": [
       "<Figure size 432x288 with 1 Axes>"
      ]
     },
     "metadata": {
      "needs_background": "light"
     },
     "output_type": "display_data"
    }
   ],
   "source": [
    "plt.scatter(y_test, y_test_pred, alpha=0.3)\n",
    "plt.xlabel(\"True Values\")\n",
    "plt.ylabel(\"Predictions\")"
   ]
  },
  {
   "cell_type": "code",
   "execution_count": 33,
   "metadata": {},
   "outputs": [
    {
     "data": {
      "text/plain": [
       "<matplotlib.axes._subplots.AxesSubplot at 0x1c2418e110>"
      ]
     },
     "execution_count": 33,
     "metadata": {},
     "output_type": "execute_result"
    },
    {
     "data": {
      "image/png": "[encoded data removed]",
      "text/plain": [
       "<Figure size 432x288 with 1 Axes>"
      ]
     },
     "metadata": {
      "needs_background": "light"
     },
     "output_type": "display_data"
    }
   ],
   "source": [
    "sns.residplot(y_test_pred, y_test, lowess=True, color=\"g\")"
   ]
  },
  {
   "cell_type": "code",
   "execution_count": 34,
   "metadata": {},
   "outputs": [
    {
     "data": {
      "text/html": [
       "<div>\n",
       "<style scoped>\n",
       "    .dataframe tbody tr th:only-of-type {\n",
       "        vertical-align: middle;\n",
       "    }\n",
       "\n",
       "    .dataframe tbody tr th {\n",
       "        vertical-align: top;\n",
       "    }\n",
       "\n",
       "    .dataframe thead th {\n",
       "        text-align: right;\n",
       "    }\n",
       "</style>\n",
       "<table border=\"1\" class=\"dataframe\">\n",
       "  <thead>\n",
       "    <tr style=\"text-align: right;\">\n",
       "      <th></th>\n",
       "      <th>Model</th>\n",
       "      <th>Description</th>\n",
       "      <th>Root Mean Squared Error (RMSE)</th>\n",
       "      <th>R-squared (training)</th>\n",
       "      <th>Adjusted R-squared (training)</th>\n",
       "      <th>R-squared (test)</th>\n",
       "      <th>Adjusted R-squared (test)</th>\n",
       "      <th>5-fold Cross Validation</th>\n",
       "    </tr>\n",
       "  </thead>\n",
       "  <tbody>\n",
       "  </tbody>\n",
       "</table>\n",
       "</div>"
      ],
      "text/plain": [
       "Empty DataFrame\n",
       "Columns: [Model, Description, Root Mean Squared Error (RMSE), R-squared (training), Adjusted R-squared (training), R-squared (test), Adjusted R-squared (test), 5-fold Cross Validation]\n",
       "Index: []"
      ]
     },
     "execution_count": 34,
     "metadata": {},
     "output_type": "execute_result"
    }
   ],
   "source": [
    "summary_df = pd.DataFrame(columns=['Model', 'Description','Root Mean Squared Error (RMSE)', 'R-squared (training)', 'Adjusted R-squared (training)','R-squared (test)', 'Adjusted R-squared (test)', '5-fold Cross Validation'])\n",
    "summary_df"
   ]
  },
  {
   "cell_type": "code",
   "execution_count": 35,
   "metadata": {},
   "outputs": [
    {
     "data": {
      "text/plain": [
       "0.7027786929887427"
      ]
     },
     "execution_count": 35,
     "metadata": {},
     "output_type": "execute_result"
    }
   ],
   "source": [
    "r2_test"
   ]
  },
  {
   "cell_type": "markdown",
   "metadata": {},
   "source": [
    "#### Updated summary table of all models"
   ]
  },
  {
   "cell_type": "code",
   "execution_count": 36,
   "metadata": {
    "scrolled": true
   },
   "outputs": [
    {
     "data": {
      "text/html": [
       "<div>\n",
       "<style scoped>\n",
       "    .dataframe tbody tr th:only-of-type {\n",
       "        vertical-align: middle;\n",
       "    }\n",
       "\n",
       "    .dataframe tbody tr th {\n",
       "        vertical-align: top;\n",
       "    }\n",
       "\n",
       "    .dataframe thead th {\n",
       "        text-align: right;\n",
       "    }\n",
       "</style>\n",
       "<table border=\"1\" class=\"dataframe\">\n",
       "  <thead>\n",
       "    <tr style=\"text-align: right;\">\n",
       "      <th></th>\n",
       "      <th>Model</th>\n",
       "      <th>Description</th>\n",
       "      <th>Root Mean Squared Error (RMSE)</th>\n",
       "      <th>R-squared (training)</th>\n",
       "      <th>Adjusted R-squared (training)</th>\n",
       "      <th>R-squared (test)</th>\n",
       "      <th>Adjusted R-squared (test)</th>\n",
       "      <th>5-fold Cross Validation</th>\n",
       "    </tr>\n",
       "  </thead>\n",
       "  <tbody>\n",
       "    <tr>\n",
       "      <td>0</td>\n",
       "      <td>Multiple Regression-1</td>\n",
       "      <td>All features, no pre-processing</td>\n",
       "      <td>206631.858</td>\n",
       "      <td>0.697</td>\n",
       "      <td>0.697</td>\n",
       "      <td>0.703</td>\n",
       "      <td>0.701</td>\n",
       "      <td>nan</td>\n",
       "    </tr>\n",
       "  </tbody>\n",
       "</table>\n",
       "</div>"
      ],
      "text/plain": [
       "                   Model                      Description  \\\n",
       "0  Multiple Regression-1  All features, no pre-processing   \n",
       "\n",
       "   Root Mean Squared Error (RMSE)  R-squared (training)  \\\n",
       "0                      206631.858                 0.697   \n",
       "\n",
       "   Adjusted R-squared (training)  R-squared (test)  Adjusted R-squared (test)  \\\n",
       "0                          0.697             0.703                      0.701   \n",
       "\n",
       "   5-fold Cross Validation  \n",
       "0                      nan  "
      ]
     },
     "execution_count": 36,
     "metadata": {},
     "output_type": "execute_result"
    }
   ],
   "source": [
    "summary_df = summary_df.append({'Model' : 'Multiple Regression-1', 'Description' : 'All features, no pre-processing' , 'Root Mean Squared Error (RMSE)' : train_rmse, 'R-squared (training)' : r2_train, 'Adjusted R-squared (training)': adjusted_r2_train, 'R-squared (test)' : r2_test, 'Adjusted R-squared (test)' : adjusted_r2_test} , ignore_index=True)\n",
    "summary_df"
   ]
  },
  {
   "cell_type": "code",
   "execution_count": 37,
   "metadata": {},
   "outputs": [
    {
     "data": {
      "text/html": [
       "<table class=\"simpletable\">\n",
       "<caption>OLS Regression Results</caption>\n",
       "<tr>\n",
       "  <th>Dep. Variable:</th>          <td>price</td>      <th>  R-squared (uncentered):</th>       <td>   0.903</td>  \n",
       "</tr>\n",
       "<tr>\n",
       "  <th>Model:</th>                   <td>OLS</td>       <th>  Adj. R-squared (uncentered):</th>  <td>   0.902</td>  \n",
       "</tr>\n",
       "<tr>\n",
       "  <th>Method:</th>             <td>Least Squares</td>  <th>  F-statistic:       </th>           <td>   9413.</td>  \n",
       "</tr>\n",
       "<tr>\n",
       "  <th>Date:</th>             <td>Thu, 19 Mar 2020</td> <th>  Prob (F-statistic):</th>            <td>  0.00</td>   \n",
       "</tr>\n",
       "<tr>\n",
       "  <th>Time:</th>                 <td>18:04:33</td>     <th>  Log-Likelihood:    </th>          <td>-2.3601e+05</td>\n",
       "</tr>\n",
       "<tr>\n",
       "  <th>No. Observations:</th>      <td> 17290</td>      <th>  AIC:               </th>           <td>4.721e+05</td> \n",
       "</tr>\n",
       "<tr>\n",
       "  <th>Df Residuals:</th>          <td> 17273</td>      <th>  BIC:               </th>           <td>4.722e+05</td> \n",
       "</tr>\n",
       "<tr>\n",
       "  <th>Df Model:</th>              <td>    17</td>      <th>                     </th>               <td> </td>     \n",
       "</tr>\n",
       "<tr>\n",
       "  <th>Covariance Type:</th>      <td>nonrobust</td>    <th>                     </th>               <td> </td>     \n",
       "</tr>\n",
       "</table>\n",
       "<table class=\"simpletable\">\n",
       "<tr>\n",
       "        <td></td>           <th>coef</th>     <th>std err</th>      <th>t</th>      <th>P>|t|</th>  <th>[0.025</th>    <th>0.975]</th>  \n",
       "</tr>\n",
       "<tr>\n",
       "  <th>bedrooms</th>      <td>-3.611e+04</td> <td> 2113.128</td> <td>  -17.086</td> <td> 0.000</td> <td>-4.02e+04</td> <td> -3.2e+04</td>\n",
       "</tr>\n",
       "<tr>\n",
       "  <th>bathrooms</th>     <td> 4.119e+04</td> <td> 3700.276</td> <td>   11.131</td> <td> 0.000</td> <td> 3.39e+04</td> <td> 4.84e+04</td>\n",
       "</tr>\n",
       "<tr>\n",
       "  <th>sqft_living</th>   <td>  114.1225</td> <td>    2.573</td> <td>   44.362</td> <td> 0.000</td> <td>  109.080</td> <td>  119.165</td>\n",
       "</tr>\n",
       "<tr>\n",
       "  <th>sqft_lot</th>      <td>    0.1076</td> <td>    0.052</td> <td>    2.062</td> <td> 0.039</td> <td>    0.005</td> <td>    0.210</td>\n",
       "</tr>\n",
       "<tr>\n",
       "  <th>floors</th>        <td> 4631.0071</td> <td> 4033.232</td> <td>    1.148</td> <td> 0.251</td> <td>-3274.536</td> <td> 1.25e+04</td>\n",
       "</tr>\n",
       "<tr>\n",
       "  <th>waterfront</th>    <td> 5.949e+05</td> <td> 1.93e+04</td> <td>   30.811</td> <td> 0.000</td> <td> 5.57e+05</td> <td> 6.33e+05</td>\n",
       "</tr>\n",
       "<tr>\n",
       "  <th>view</th>          <td> 5.216e+04</td> <td> 2401.836</td> <td>   21.718</td> <td> 0.000</td> <td> 4.75e+04</td> <td> 5.69e+04</td>\n",
       "</tr>\n",
       "<tr>\n",
       "  <th>condition</th>     <td> 2.681e+04</td> <td> 2640.670</td> <td>   10.154</td> <td> 0.000</td> <td> 2.16e+04</td> <td>  3.2e+04</td>\n",
       "</tr>\n",
       "<tr>\n",
       "  <th>grade</th>         <td>   9.5e+04</td> <td> 2451.049</td> <td>   38.758</td> <td> 0.000</td> <td> 9.02e+04</td> <td> 9.98e+04</td>\n",
       "</tr>\n",
       "<tr>\n",
       "  <th>sqft_above</th>    <td>   73.5538</td> <td>    2.559</td> <td>   28.743</td> <td> 0.000</td> <td>   68.538</td> <td>   78.570</td>\n",
       "</tr>\n",
       "<tr>\n",
       "  <th>sqft_basement</th> <td>   40.5688</td> <td>    2.983</td> <td>   13.599</td> <td> 0.000</td> <td>   34.721</td> <td>   46.416</td>\n",
       "</tr>\n",
       "<tr>\n",
       "  <th>yr_built</th>      <td>-2614.0677</td> <td>   77.361</td> <td>  -33.791</td> <td> 0.000</td> <td>-2765.703</td> <td>-2462.433</td>\n",
       "</tr>\n",
       "<tr>\n",
       "  <th>yr_renovated</th>  <td>   17.8591</td> <td>    4.164</td> <td>    4.289</td> <td> 0.000</td> <td>    9.697</td> <td>   26.021</td>\n",
       "</tr>\n",
       "<tr>\n",
       "  <th>zipcode</th>       <td> -524.0343</td> <td>   20.215</td> <td>  -25.923</td> <td> 0.000</td> <td> -563.658</td> <td> -484.411</td>\n",
       "</tr>\n",
       "<tr>\n",
       "  <th>lat</th>           <td> 6.017e+05</td> <td> 1.22e+04</td> <td>   49.201</td> <td> 0.000</td> <td> 5.78e+05</td> <td> 6.26e+05</td>\n",
       "</tr>\n",
       "<tr>\n",
       "  <th>long</th>          <td>-2.229e+05</td> <td> 1.48e+04</td> <td>  -15.047</td> <td> 0.000</td> <td>-2.52e+05</td> <td>-1.94e+05</td>\n",
       "</tr>\n",
       "<tr>\n",
       "  <th>sqft_living15</th> <td>   22.9995</td> <td>    3.870</td> <td>    5.942</td> <td> 0.000</td> <td>   15.413</td> <td>   30.586</td>\n",
       "</tr>\n",
       "<tr>\n",
       "  <th>sqft_lot15</th>    <td>   -0.3157</td> <td>    0.082</td> <td>   -3.858</td> <td> 0.000</td> <td>   -0.476</td> <td>   -0.155</td>\n",
       "</tr>\n",
       "</table>\n",
       "<table class=\"simpletable\">\n",
       "<tr>\n",
       "  <th>Omnibus:</th>       <td>15326.214</td> <th>  Durbin-Watson:     </th>  <td>   1.997</td>  \n",
       "</tr>\n",
       "<tr>\n",
       "  <th>Prob(Omnibus):</th>  <td> 0.000</td>   <th>  Jarque-Bera (JB):  </th> <td>1735225.168</td>\n",
       "</tr>\n",
       "<tr>\n",
       "  <th>Skew:</th>           <td> 3.784</td>   <th>  Prob(JB):          </th>  <td>    0.00</td>  \n",
       "</tr>\n",
       "<tr>\n",
       "  <th>Kurtosis:</th>       <td>51.491</td>   <th>  Cond. No.          </th>  <td>4.76e+17</td>  \n",
       "</tr>\n",
       "</table><br/><br/>Warnings:<br/>[1] Standard Errors assume that the covariance matrix of the errors is correctly specified.<br/>[2] The smallest eigenvalue is 7.75e-22. This might indicate that there are<br/>strong multicollinearity problems or that the design matrix is singular."
      ],
      "text/plain": [
       "<class 'statsmodels.iolib.summary.Summary'>\n",
       "\"\"\"\n",
       "                                 OLS Regression Results                                \n",
       "=======================================================================================\n",
       "Dep. Variable:                  price   R-squared (uncentered):                   0.903\n",
       "Model:                            OLS   Adj. R-squared (uncentered):              0.902\n",
       "Method:                 Least Squares   F-statistic:                              9413.\n",
       "Date:                Thu, 19 Mar 2020   Prob (F-statistic):                        0.00\n",
       "Time:                        18:04:33   Log-Likelihood:                     -2.3601e+05\n",
       "No. Observations:               17290   AIC:                                  4.721e+05\n",
       "Df Residuals:                   17273   BIC:                                  4.722e+05\n",
       "Df Model:                          17                                                  \n",
       "Covariance Type:            nonrobust                                                  \n",
       "=================================================================================\n",
       "                    coef    std err          t      P>|t|      [0.025      0.975]\n",
       "---------------------------------------------------------------------------------\n",
       "bedrooms      -3.611e+04   2113.128    -17.086      0.000   -4.02e+04    -3.2e+04\n",
       "bathrooms      4.119e+04   3700.276     11.131      0.000    3.39e+04    4.84e+04\n",
       "sqft_living     114.1225      2.573     44.362      0.000     109.080     119.165\n",
       "sqft_lot          0.1076      0.052      2.062      0.039       0.005       0.210\n",
       "floors         4631.0071   4033.232      1.148      0.251   -3274.536    1.25e+04\n",
       "waterfront     5.949e+05   1.93e+04     30.811      0.000    5.57e+05    6.33e+05\n",
       "view           5.216e+04   2401.836     21.718      0.000    4.75e+04    5.69e+04\n",
       "condition      2.681e+04   2640.670     10.154      0.000    2.16e+04     3.2e+04\n",
       "grade            9.5e+04   2451.049     38.758      0.000    9.02e+04    9.98e+04\n",
       "sqft_above       73.5538      2.559     28.743      0.000      68.538      78.570\n",
       "sqft_basement    40.5688      2.983     13.599      0.000      34.721      46.416\n",
       "yr_built      -2614.0677     77.361    -33.791      0.000   -2765.703   -2462.433\n",
       "yr_renovated     17.8591      4.164      4.289      0.000       9.697      26.021\n",
       "zipcode        -524.0343     20.215    -25.923      0.000    -563.658    -484.411\n",
       "lat            6.017e+05   1.22e+04     49.201      0.000    5.78e+05    6.26e+05\n",
       "long          -2.229e+05   1.48e+04    -15.047      0.000   -2.52e+05   -1.94e+05\n",
       "sqft_living15    22.9995      3.870      5.942      0.000      15.413      30.586\n",
       "sqft_lot15       -0.3157      0.082     -3.858      0.000      -0.476      -0.155\n",
       "==============================================================================\n",
       "Omnibus:                    15326.214   Durbin-Watson:                   1.997\n",
       "Prob(Omnibus):                  0.000   Jarque-Bera (JB):          1735225.168\n",
       "Skew:                           3.784   Prob(JB):                         0.00\n",
       "Kurtosis:                      51.491   Cond. No.                     4.76e+17\n",
       "==============================================================================\n",
       "\n",
       "Warnings:\n",
       "[1] Standard Errors assume that the covariance matrix of the errors is correctly specified.\n",
       "[2] The smallest eigenvalue is 7.75e-22. This might indicate that there are\n",
       "strong multicollinearity problems or that the design matrix is singular.\n",
       "\"\"\""
      ]
     },
     "execution_count": 37,
     "metadata": {},
     "output_type": "execute_result"
    }
   ],
   "source": [
    "model = sm.OLS(target, features)\n",
    "results = model.fit()\n",
    "results.summary()"
   ]
  },
  {
   "cell_type": "markdown",
   "metadata": {},
   "source": [
    "### Multiple Regression - 2 (without sqft_above)"
   ]
  },
  {
   "cell_type": "code",
   "execution_count": 38,
   "metadata": {},
   "outputs": [],
   "source": [
    "target = df['price']\n",
    "features2 = df[['bedrooms', 'bathrooms', 'sqft_living', 'sqft_lot', 'floors', 'waterfront', 'view' , 'condition', 'grade', 'sqft_basement', 'yr_built', 'yr_renovated',\n",
    "       'zipcode', 'lat', 'long', 'sqft_living15', 'sqft_lot15']]"
   ]
  },
  {
   "cell_type": "code",
   "execution_count": 39,
   "metadata": {},
   "outputs": [
    {
     "data": {
      "text/plain": [
       "StandardScaler(copy=True, with_mean=True, with_std=True)"
      ]
     },
     "execution_count": 39,
     "metadata": {},
     "output_type": "execute_result"
    }
   ],
   "source": [
    "scaler.fit(features2)"
   ]
  },
  {
   "cell_type": "code",
   "execution_count": 40,
   "metadata": {},
   "outputs": [
    {
     "data": {
      "text/plain": [
       "array([[ 0.66806994,  0.17918873, -0.01246164, ...,  0.37101341,\n",
       "         0.58706685, -0.19001514],\n",
       "       [ 1.73267171,  1.15264072,  0.88972019, ..., -0.50223539,\n",
       "         0.55786051, -0.24205974],\n",
       "       [ 0.66806994,  0.50367273,  1.83538065, ...,  0.60529967,\n",
       "         2.51468528, -0.11710863],\n",
       "       ...,\n",
       "       [-0.39653183, -1.44323124, -1.12116701, ..., -0.33894497,\n",
       "        -0.33293285, -0.12746613],\n",
       "       [-0.39653183, -0.79426325, -0.19724586, ...,  1.59214181,\n",
       "         0.13436859,  3.49490383],\n",
       "       [-0.39653183, -0.79426325, -0.81681651, ..., -0.74362124,\n",
       "        -0.97547232, -0.21903083]])"
      ]
     },
     "execution_count": 40,
     "metadata": {},
     "output_type": "execute_result"
    }
   ],
   "source": [
    "features_scaled = scaler.transform(features2)\n",
    "features_scaled\n"
   ]
  },
  {
   "cell_type": "markdown",
   "metadata": {},
   "source": [
    "#### Training data"
   ]
  },
  {
   "cell_type": "code",
   "execution_count": 41,
   "metadata": {},
   "outputs": [
    {
     "name": "stdout",
     "output_type": "stream",
     "text": [
      "Training set - Features:  (13832, 17) Target:  (13832,)\n",
      "Training set - Features:  (3458, 17) Target:  (3458,)\n"
     ]
    }
   ],
   "source": [
    "# call train_test_split on the data and capture the results\n",
    "X_train, X_test, y_train, y_test = train_test_split(features_scaled, target, random_state=42,test_size=0.2)\n",
    "\n",
    "#check the shape of the results\n",
    "print(\"Training set - Features: \", X_train.shape, \"Target: \", y_train.shape)\n",
    "print(\"Training set - Features: \", X_test.shape, \"Target: \",y_test.shape)\n"
   ]
  },
  {
   "cell_type": "code",
   "execution_count": 42,
   "metadata": {},
   "outputs": [
    {
     "data": {
      "text/plain": [
       "LinearRegression(copy_X=True, fit_intercept=True, n_jobs=None, normalize=False)"
      ]
     },
     "execution_count": 42,
     "metadata": {},
     "output_type": "execute_result"
    }
   ],
   "source": [
    "reg = LinearRegression()\n",
    "reg.fit(X_train,y_train)"
   ]
  },
  {
   "cell_type": "markdown",
   "metadata": {},
   "source": [
    "#### Get coefficients"
   ]
  },
  {
   "cell_type": "code",
   "execution_count": 43,
   "metadata": {},
   "outputs": [
    {
     "data": {
      "text/plain": [
       "array([-32945.44931976,  32021.12599608, 174021.125938  ,   5150.08565499,\n",
       "         2873.93479931,  52295.31681942,  40555.58301067,  18479.38801625,\n",
       "       111624.76307035, -14920.52352248, -77390.14692002,   7160.01906823,\n",
       "       -30447.25933837,  83511.5921715 , -30827.51081959,  13055.43755106,\n",
       "        -9638.66689396])"
      ]
     },
     "execution_count": 43,
     "metadata": {},
     "output_type": "execute_result"
    }
   ],
   "source": [
    "reg.coef_"
   ]
  },
  {
   "cell_type": "markdown",
   "metadata": {},
   "source": [
    "#### Get intercept"
   ]
  },
  {
   "cell_type": "code",
   "execution_count": 44,
   "metadata": {},
   "outputs": [
    {
     "data": {
      "text/plain": [
       "540154.2645224856"
      ]
     },
     "execution_count": 44,
     "metadata": {},
     "output_type": "execute_result"
    }
   ],
   "source": [
    "reg.intercept_"
   ]
  },
  {
   "cell_type": "markdown",
   "metadata": {},
   "source": [
    "#### Feature summary and weights"
   ]
  },
  {
   "cell_type": "code",
   "execution_count": 45,
   "metadata": {},
   "outputs": [
    {
     "data": {
      "text/html": [
       "<div>\n",
       "<style scoped>\n",
       "    .dataframe tbody tr th:only-of-type {\n",
       "        vertical-align: middle;\n",
       "    }\n",
       "\n",
       "    .dataframe tbody tr th {\n",
       "        vertical-align: top;\n",
       "    }\n",
       "\n",
       "    .dataframe thead th {\n",
       "        text-align: right;\n",
       "    }\n",
       "</style>\n",
       "<table border=\"1\" class=\"dataframe\">\n",
       "  <thead>\n",
       "    <tr style=\"text-align: right;\">\n",
       "      <th></th>\n",
       "      <th>Features</th>\n",
       "    </tr>\n",
       "  </thead>\n",
       "  <tbody>\n",
       "    <tr>\n",
       "      <td>0</td>\n",
       "      <td>bedrooms</td>\n",
       "    </tr>\n",
       "    <tr>\n",
       "      <td>1</td>\n",
       "      <td>bathrooms</td>\n",
       "    </tr>\n",
       "    <tr>\n",
       "      <td>2</td>\n",
       "      <td>sqft_living</td>\n",
       "    </tr>\n",
       "    <tr>\n",
       "      <td>3</td>\n",
       "      <td>sqft_lot</td>\n",
       "    </tr>\n",
       "    <tr>\n",
       "      <td>4</td>\n",
       "      <td>floors</td>\n",
       "    </tr>\n",
       "    <tr>\n",
       "      <td>5</td>\n",
       "      <td>waterfront</td>\n",
       "    </tr>\n",
       "    <tr>\n",
       "      <td>6</td>\n",
       "      <td>view</td>\n",
       "    </tr>\n",
       "    <tr>\n",
       "      <td>7</td>\n",
       "      <td>condition</td>\n",
       "    </tr>\n",
       "    <tr>\n",
       "      <td>8</td>\n",
       "      <td>grade</td>\n",
       "    </tr>\n",
       "    <tr>\n",
       "      <td>9</td>\n",
       "      <td>sqft_basement</td>\n",
       "    </tr>\n",
       "    <tr>\n",
       "      <td>10</td>\n",
       "      <td>yr_built</td>\n",
       "    </tr>\n",
       "    <tr>\n",
       "      <td>11</td>\n",
       "      <td>yr_renovated</td>\n",
       "    </tr>\n",
       "    <tr>\n",
       "      <td>12</td>\n",
       "      <td>zipcode</td>\n",
       "    </tr>\n",
       "    <tr>\n",
       "      <td>13</td>\n",
       "      <td>lat</td>\n",
       "    </tr>\n",
       "    <tr>\n",
       "      <td>14</td>\n",
       "      <td>long</td>\n",
       "    </tr>\n",
       "    <tr>\n",
       "      <td>15</td>\n",
       "      <td>sqft_living15</td>\n",
       "    </tr>\n",
       "    <tr>\n",
       "      <td>16</td>\n",
       "      <td>sqft_lot15</td>\n",
       "    </tr>\n",
       "  </tbody>\n",
       "</table>\n",
       "</div>"
      ],
      "text/plain": [
       "         Features\n",
       "0        bedrooms\n",
       "1       bathrooms\n",
       "2     sqft_living\n",
       "3        sqft_lot\n",
       "4          floors\n",
       "5      waterfront\n",
       "6            view\n",
       "7       condition\n",
       "8           grade\n",
       "9   sqft_basement\n",
       "10       yr_built\n",
       "11   yr_renovated\n",
       "12        zipcode\n",
       "13            lat\n",
       "14           long\n",
       "15  sqft_living15\n",
       "16     sqft_lot15"
      ]
     },
     "execution_count": 45,
     "metadata": {},
     "output_type": "execute_result"
    }
   ],
   "source": [
    "features2_df = pd.DataFrame(data = features2.columns.values, columns=['Features'])\n",
    "features2_df"
   ]
  },
  {
   "cell_type": "code",
   "execution_count": 46,
   "metadata": {},
   "outputs": [
    {
     "data": {
      "text/plain": [
       "array([1.10680784e-301, 0.00000000e+000, 0.00000000e+000, 8.41668610e-024,\n",
       "       4.15765685e-208, 1.94648933e-238, 0.00000000e+000, 2.37560983e-007,\n",
       "       0.00000000e+000, 0.00000000e+000, 5.33231772e-011, 4.01878922e-043,\n",
       "       2.97836695e-010, 8.58462842e-285, 9.98917315e-003, 0.00000000e+000,\n",
       "       1.17572027e-019])"
      ]
     },
     "execution_count": 46,
     "metadata": {},
     "output_type": "execute_result"
    }
   ],
   "source": [
    "p_values = f_regression(X_train,y_train)[1]\n",
    "p_values"
   ]
  },
  {
   "cell_type": "code",
   "execution_count": 47,
   "metadata": {},
   "outputs": [
    {
     "data": {
      "text/html": [
       "<div>\n",
       "<style scoped>\n",
       "    .dataframe tbody tr th:only-of-type {\n",
       "        vertical-align: middle;\n",
       "    }\n",
       "\n",
       "    .dataframe tbody tr th {\n",
       "        vertical-align: top;\n",
       "    }\n",
       "\n",
       "    .dataframe thead th {\n",
       "        text-align: right;\n",
       "    }\n",
       "</style>\n",
       "<table border=\"1\" class=\"dataframe\">\n",
       "  <thead>\n",
       "    <tr style=\"text-align: right;\">\n",
       "      <th></th>\n",
       "      <th>Features</th>\n",
       "      <th>Weights</th>\n",
       "      <th>P Values</th>\n",
       "    </tr>\n",
       "  </thead>\n",
       "  <tbody>\n",
       "    <tr>\n",
       "      <td>2</td>\n",
       "      <td>sqft_living</td>\n",
       "      <td>174021.126</td>\n",
       "      <td>0.000</td>\n",
       "    </tr>\n",
       "    <tr>\n",
       "      <td>8</td>\n",
       "      <td>grade</td>\n",
       "      <td>111624.763</td>\n",
       "      <td>0.000</td>\n",
       "    </tr>\n",
       "    <tr>\n",
       "      <td>13</td>\n",
       "      <td>lat</td>\n",
       "      <td>83511.592</td>\n",
       "      <td>0.000</td>\n",
       "    </tr>\n",
       "    <tr>\n",
       "      <td>5</td>\n",
       "      <td>waterfront</td>\n",
       "      <td>52295.317</td>\n",
       "      <td>0.000</td>\n",
       "    </tr>\n",
       "    <tr>\n",
       "      <td>6</td>\n",
       "      <td>view</td>\n",
       "      <td>40555.583</td>\n",
       "      <td>0.000</td>\n",
       "    </tr>\n",
       "    <tr>\n",
       "      <td>1</td>\n",
       "      <td>bathrooms</td>\n",
       "      <td>32021.126</td>\n",
       "      <td>0.000</td>\n",
       "    </tr>\n",
       "    <tr>\n",
       "      <td>7</td>\n",
       "      <td>condition</td>\n",
       "      <td>18479.388</td>\n",
       "      <td>0.000</td>\n",
       "    </tr>\n",
       "    <tr>\n",
       "      <td>15</td>\n",
       "      <td>sqft_living15</td>\n",
       "      <td>13055.438</td>\n",
       "      <td>0.000</td>\n",
       "    </tr>\n",
       "    <tr>\n",
       "      <td>11</td>\n",
       "      <td>yr_renovated</td>\n",
       "      <td>7160.019</td>\n",
       "      <td>0.000</td>\n",
       "    </tr>\n",
       "    <tr>\n",
       "      <td>3</td>\n",
       "      <td>sqft_lot</td>\n",
       "      <td>5150.086</td>\n",
       "      <td>0.000</td>\n",
       "    </tr>\n",
       "    <tr>\n",
       "      <td>4</td>\n",
       "      <td>floors</td>\n",
       "      <td>2873.935</td>\n",
       "      <td>0.000</td>\n",
       "    </tr>\n",
       "    <tr>\n",
       "      <td>16</td>\n",
       "      <td>sqft_lot15</td>\n",
       "      <td>-9638.667</td>\n",
       "      <td>0.000</td>\n",
       "    </tr>\n",
       "    <tr>\n",
       "      <td>9</td>\n",
       "      <td>sqft_basement</td>\n",
       "      <td>-14920.524</td>\n",
       "      <td>0.000</td>\n",
       "    </tr>\n",
       "    <tr>\n",
       "      <td>12</td>\n",
       "      <td>zipcode</td>\n",
       "      <td>-30447.259</td>\n",
       "      <td>0.000</td>\n",
       "    </tr>\n",
       "    <tr>\n",
       "      <td>14</td>\n",
       "      <td>long</td>\n",
       "      <td>-30827.511</td>\n",
       "      <td>0.010</td>\n",
       "    </tr>\n",
       "    <tr>\n",
       "      <td>0</td>\n",
       "      <td>bedrooms</td>\n",
       "      <td>-32945.449</td>\n",
       "      <td>0.000</td>\n",
       "    </tr>\n",
       "    <tr>\n",
       "      <td>10</td>\n",
       "      <td>yr_built</td>\n",
       "      <td>-77390.147</td>\n",
       "      <td>0.000</td>\n",
       "    </tr>\n",
       "  </tbody>\n",
       "</table>\n",
       "</div>"
      ],
      "text/plain": [
       "         Features    Weights  P Values\n",
       "2     sqft_living 174021.126     0.000\n",
       "8           grade 111624.763     0.000\n",
       "13            lat  83511.592     0.000\n",
       "5      waterfront  52295.317     0.000\n",
       "6            view  40555.583     0.000\n",
       "1       bathrooms  32021.126     0.000\n",
       "7       condition  18479.388     0.000\n",
       "15  sqft_living15  13055.438     0.000\n",
       "11   yr_renovated   7160.019     0.000\n",
       "3        sqft_lot   5150.086     0.000\n",
       "4          floors   2873.935     0.000\n",
       "16     sqft_lot15  -9638.667     0.000\n",
       "9   sqft_basement -14920.524     0.000\n",
       "12        zipcode -30447.259     0.000\n",
       "14           long -30827.511     0.010\n",
       "0        bedrooms -32945.449     0.000\n",
       "10       yr_built -77390.147     0.000"
      ]
     },
     "execution_count": 47,
     "metadata": {},
     "output_type": "execute_result"
    }
   ],
   "source": [
    "features2_df['Weights'] = reg.coef_\n",
    "features2_df['P Values'] = p_values.round(3)\n",
    "features2_df.sort_values(['Weights'], ascending=False)"
   ]
  },
  {
   "cell_type": "markdown",
   "metadata": {},
   "source": [
    "#### Get r^2 score and adjusted r^2 score"
   ]
  },
  {
   "cell_type": "code",
   "execution_count": 48,
   "metadata": {},
   "outputs": [
    {
     "data": {
      "text/plain": [
       "0.6970071254200643"
      ]
     },
     "execution_count": 48,
     "metadata": {},
     "output_type": "execute_result"
    }
   ],
   "source": [
    "r2_train = reg.score(X_train, y_train)\n",
    "r2_train"
   ]
  },
  {
   "cell_type": "code",
   "execution_count": 49,
   "metadata": {},
   "outputs": [
    {
     "data": {
      "text/plain": [
       "0.6966342516059729"
      ]
     },
     "execution_count": 49,
     "metadata": {},
     "output_type": "execute_result"
    }
   ],
   "source": [
    "n = X_train.shape[0]\n",
    "p = X_train.shape[1]\n",
    "\n",
    "adjusted_r2_train = 1-(1-r2_train)*(n-1)/(n-p-1)\n",
    "adjusted_r2_train"
   ]
  },
  {
   "cell_type": "markdown",
   "metadata": {},
   "source": [
    "#### Get error"
   ]
  },
  {
   "cell_type": "code",
   "execution_count": 50,
   "metadata": {},
   "outputs": [],
   "source": [
    "y_train_pred = reg.predict(X_train)"
   ]
  },
  {
   "cell_type": "code",
   "execution_count": 51,
   "metadata": {},
   "outputs": [
    {
     "name": "stdout",
     "output_type": "stream",
     "text": [
      "Mean Absolute Error: 127865.68450146989\n",
      "Mean Squared Error: 42696724677.65793\n",
      "Root Mean Squared Error: 206631.8578478593\n"
     ]
    }
   ],
   "source": [
    "train_mae = metrics.mean_absolute_error(y_train, y_train_pred)\n",
    "train_mse = metrics.mean_squared_error(y_train, y_train_pred)\n",
    "train_rmse = np.sqrt(metrics.mean_squared_error(y_train, y_train_pred))\n",
    "\n",
    "print('Mean Absolute Error:', train_mae )\n",
    "print('Mean Squared Error:',  train_mse)\n",
    "print('Root Mean Squared Error:' , train_rmse)"
   ]
  },
  {
   "cell_type": "code",
   "execution_count": 52,
   "metadata": {},
   "outputs": [
    {
     "name": "stdout",
     "output_type": "stream",
     "text": [
      "Mean Absolute Error: 0.3425105386547824\n",
      "Root Mean Squared Error: 0.5534994725961455\n"
     ]
    }
   ],
   "source": [
    "price_std = target.std()\n",
    "\n",
    "print('Mean Absolute Error:', train_mae/price_std )\n",
    "print('Root Mean Squared Error:' , train_rmse/price_std)"
   ]
  },
  {
   "cell_type": "markdown",
   "metadata": {},
   "source": [
    "#### Test Data"
   ]
  },
  {
   "cell_type": "code",
   "execution_count": 53,
   "metadata": {},
   "outputs": [
    {
     "data": {
      "text/plain": [
       "0.7027786929887427"
      ]
     },
     "execution_count": 53,
     "metadata": {},
     "output_type": "execute_result"
    }
   ],
   "source": [
    "reg.score(X_test, y_test)"
   ]
  },
  {
   "cell_type": "code",
   "execution_count": 54,
   "metadata": {},
   "outputs": [
    {
     "data": {
      "text/plain": [
       "0.7013098667622336"
      ]
     },
     "execution_count": 54,
     "metadata": {},
     "output_type": "execute_result"
    }
   ],
   "source": [
    "r2_test = reg.score(X_test, y_test)\n",
    "n = X_test.shape[0]\n",
    "p = X_test.shape[1]\n",
    "\n",
    "adjusted_r2_test = 1-(1-r2_test)*(n-1)/(n-p-1)\n",
    "adjusted_r2_test"
   ]
  },
  {
   "cell_type": "code",
   "execution_count": 55,
   "metadata": {},
   "outputs": [],
   "source": [
    "y_test_pred = reg.predict(X_test)"
   ]
  },
  {
   "cell_type": "code",
   "execution_count": 56,
   "metadata": {},
   "outputs": [
    {
     "name": "stdout",
     "output_type": "stream",
     "text": [
      "Mean Absolute Error: 123704.29845359182\n",
      "Mean Squared Error: 39547299966.78128\n",
      "Root Mean Squared Error: 198865.0295219883\n"
     ]
    }
   ],
   "source": [
    "test_mae = metrics.mean_absolute_error(y_test, y_test_pred)\n",
    "test_mse = metrics.mean_squared_error(y_test, y_test_pred)\n",
    "test_rmse = np.sqrt(metrics.mean_squared_error(y_test, y_test_pred))\n",
    "\n",
    "print('Mean Absolute Error:', test_mae )\n",
    "print('Mean Squared Error:',  test_mse)\n",
    "print('Root Mean Squared Error:' , test_rmse)"
   ]
  },
  {
   "cell_type": "code",
   "execution_count": 57,
   "metadata": {},
   "outputs": [
    {
     "name": "stdout",
     "output_type": "stream",
     "text": [
      "Mean Absolute Error  Z: 0.33136354028405984\n",
      "Root Mean Squared Error Z: 0.5326946682117235\n"
     ]
    }
   ],
   "source": [
    "print('Mean Absolute Error  Z:', test_mae/price_std )\n",
    "print('Root Mean Squared Error Z:' , test_rmse/price_std)"
   ]
  },
  {
   "cell_type": "code",
   "execution_count": 58,
   "metadata": {},
   "outputs": [
    {
     "data": {
      "text/plain": [
       "Text(0, 0.5, 'Predictions')"
      ]
     },
     "execution_count": 58,
     "metadata": {},
     "output_type": "execute_result"
    },
    {
     "data": {
      "image/png": "[encoded data removed]",
      "text/plain": [
       "<Figure size 432x288 with 1 Axes>"
      ]
     },
     "metadata": {
      "needs_background": "light"
     },
     "output_type": "display_data"
    }
   ],
   "source": [
    "plt.scatter(y_test, y_test_pred, alpha=0.3)\n",
    "plt.xlabel(\"True Values\")\n",
    "plt.ylabel(\"Predictions\")"
   ]
  },
  {
   "cell_type": "code",
   "execution_count": 59,
   "metadata": {},
   "outputs": [
    {
     "data": {
      "text/plain": [
       "0.7027786929887427"
      ]
     },
     "execution_count": 59,
     "metadata": {},
     "output_type": "execute_result"
    }
   ],
   "source": [
    "r2_test"
   ]
  },
  {
   "cell_type": "code",
   "execution_count": 60,
   "metadata": {},
   "outputs": [
    {
     "data": {
      "text/plain": [
       "<matplotlib.axes._subplots.AxesSubplot at 0x1c2862c7d0>"
      ]
     },
     "execution_count": 60,
     "metadata": {},
     "output_type": "execute_result"
    },
    {
     "data": {
      "image/png": "[encoded data removed]",
      "text/plain": [
       "<Figure size 432x288 with 1 Axes>"
      ]
     },
     "metadata": {
      "needs_background": "light"
     },
     "output_type": "display_data"
    }
   ],
   "source": [
    "sns.residplot(y_test_pred, y_test, lowess=True, color=\"g\")"
   ]
  },
  {
   "cell_type": "markdown",
   "metadata": {},
   "source": [
    "#### Updated summary table of all models"
   ]
  },
  {
   "cell_type": "code",
   "execution_count": 61,
   "metadata": {},
   "outputs": [
    {
     "data": {
      "text/html": [
       "<div>\n",
       "<style scoped>\n",
       "    .dataframe tbody tr th:only-of-type {\n",
       "        vertical-align: middle;\n",
       "    }\n",
       "\n",
       "    .dataframe tbody tr th {\n",
       "        vertical-align: top;\n",
       "    }\n",
       "\n",
       "    .dataframe thead th {\n",
       "        text-align: right;\n",
       "    }\n",
       "</style>\n",
       "<table border=\"1\" class=\"dataframe\">\n",
       "  <thead>\n",
       "    <tr style=\"text-align: right;\">\n",
       "      <th></th>\n",
       "      <th>Model</th>\n",
       "      <th>Description</th>\n",
       "      <th>Root Mean Squared Error (RMSE)</th>\n",
       "      <th>R-squared (training)</th>\n",
       "      <th>Adjusted R-squared (training)</th>\n",
       "      <th>R-squared (test)</th>\n",
       "      <th>Adjusted R-squared (test)</th>\n",
       "      <th>5-fold Cross Validation</th>\n",
       "    </tr>\n",
       "  </thead>\n",
       "  <tbody>\n",
       "    <tr>\n",
       "      <td>0</td>\n",
       "      <td>Multiple Regression-1</td>\n",
       "      <td>All features, no pre-processing</td>\n",
       "      <td>206631.858</td>\n",
       "      <td>0.697</td>\n",
       "      <td>0.697</td>\n",
       "      <td>0.703</td>\n",
       "      <td>0.701</td>\n",
       "      <td>nan</td>\n",
       "    </tr>\n",
       "    <tr>\n",
       "      <td>1</td>\n",
       "      <td>Multiple Regression-2</td>\n",
       "      <td>Minus sqft_above</td>\n",
       "      <td>206631.858</td>\n",
       "      <td>0.697</td>\n",
       "      <td>0.697</td>\n",
       "      <td>0.703</td>\n",
       "      <td>0.701</td>\n",
       "      <td>nan</td>\n",
       "    </tr>\n",
       "  </tbody>\n",
       "</table>\n",
       "</div>"
      ],
      "text/plain": [
       "                   Model                      Description  \\\n",
       "0  Multiple Regression-1  All features, no pre-processing   \n",
       "1  Multiple Regression-2                 Minus sqft_above   \n",
       "\n",
       "   Root Mean Squared Error (RMSE)  R-squared (training)  \\\n",
       "0                      206631.858                 0.697   \n",
       "1                      206631.858                 0.697   \n",
       "\n",
       "   Adjusted R-squared (training)  R-squared (test)  Adjusted R-squared (test)  \\\n",
       "0                          0.697             0.703                      0.701   \n",
       "1                          0.697             0.703                      0.701   \n",
       "\n",
       "   5-fold Cross Validation  \n",
       "0                      nan  \n",
       "1                      nan  "
      ]
     },
     "execution_count": 61,
     "metadata": {},
     "output_type": "execute_result"
    }
   ],
   "source": [
    "summary_df = summary_df.append({'Model' : 'Multiple Regression-2', 'Description' : 'Minus sqft_above' , 'Root Mean Squared Error (RMSE)' : train_rmse, 'R-squared (training)' : r2_train, 'Adjusted R-squared (training)': adjusted_r2_train, 'R-squared (test)' : r2_test, 'Adjusted R-squared (test)' : adjusted_r2_test} , ignore_index=True)\n",
    "summary_df"
   ]
  },
  {
   "cell_type": "code",
   "execution_count": null,
   "metadata": {},
   "outputs": [],
   "source": []
  },
  {
   "cell_type": "markdown",
   "metadata": {},
   "source": [
    "### Multiple Regression - 3 (all features polynomial 1st degree)"
   ]
  },
  {
   "cell_type": "code",
   "execution_count": 62,
   "metadata": {},
   "outputs": [],
   "source": [
    "target = df['price']\n",
    "features2 = df[['bedrooms', 'bathrooms', 'sqft_living', 'sqft_lot', 'floors', 'waterfront', 'view' , 'condition', 'grade', 'sqft_above', 'sqft_basement', 'yr_built', 'yr_renovated',\n",
    "       'zipcode', 'lat', 'long', 'sqft_living15', 'sqft_lot15']]"
   ]
  },
  {
   "cell_type": "code",
   "execution_count": 63,
   "metadata": {},
   "outputs": [
    {
     "data": {
      "text/plain": [
       "StandardScaler(copy=True, with_mean=True, with_std=True)"
      ]
     },
     "execution_count": 63,
     "metadata": {},
     "output_type": "execute_result"
    }
   ],
   "source": [
    "scaler.fit(features2)"
   ]
  },
  {
   "cell_type": "code",
   "execution_count": 64,
   "metadata": {},
   "outputs": [
    {
     "data": {
      "text/plain": [
       "array([[ 0.66806994,  0.17918873, -0.01246164, ...,  0.37101341,\n",
       "         0.58706685, -0.19001514],\n",
       "       [ 1.73267171,  1.15264072,  0.88972019, ..., -0.50223539,\n",
       "         0.55786051, -0.24205974],\n",
       "       [ 0.66806994,  0.50367273,  1.83538065, ...,  0.60529967,\n",
       "         2.51468528, -0.11710863],\n",
       "       ...,\n",
       "       [-0.39653183, -1.44323124, -1.12116701, ..., -0.33894497,\n",
       "        -0.33293285, -0.12746613],\n",
       "       [-0.39653183, -0.79426325, -0.19724586, ...,  1.59214181,\n",
       "         0.13436859,  3.49490383],\n",
       "       [-0.39653183, -0.79426325, -0.81681651, ..., -0.74362124,\n",
       "        -0.97547232, -0.21903083]])"
      ]
     },
     "execution_count": 64,
     "metadata": {},
     "output_type": "execute_result"
    }
   ],
   "source": [
    "features_scaled = scaler.transform(features2)\n",
    "features_scaled\n"
   ]
  },
  {
   "cell_type": "markdown",
   "metadata": {},
   "source": [
    "#### Training data"
   ]
  },
  {
   "cell_type": "code",
   "execution_count": 65,
   "metadata": {},
   "outputs": [
    {
     "name": "stdout",
     "output_type": "stream",
     "text": [
      "Training set - Features:  (13832, 18) Target:  (13832,)\n",
      "Training set - Features:  (3458, 18) Target:  (3458,)\n"
     ]
    }
   ],
   "source": [
    "# call train_test_split on the data and capture the results\n",
    "X_train, X_test, y_train, y_test = train_test_split(features_scaled, target, random_state=42,test_size=0.2)\n",
    "\n",
    "#check the shape of the results\n",
    "print(\"Training set - Features: \", X_train.shape, \"Target: \", y_train.shape)\n",
    "print(\"Training set - Features: \", X_test.shape, \"Target: \",y_test.shape)\n"
   ]
  },
  {
   "cell_type": "code",
   "execution_count": 66,
   "metadata": {},
   "outputs": [],
   "source": [
    "poly = PolynomialFeatures(1)\n",
    "X_train = poly.fit_transform(X_train)\n",
    "X_test = poly.fit_transform(X_test)"
   ]
  },
  {
   "cell_type": "code",
   "execution_count": 67,
   "metadata": {},
   "outputs": [
    {
     "data": {
      "text/plain": [
       "LinearRegression(copy_X=True, fit_intercept=True, n_jobs=None, normalize=False)"
      ]
     },
     "execution_count": 67,
     "metadata": {},
     "output_type": "execute_result"
    }
   ],
   "source": [
    "reg = LinearRegression()\n",
    "reg.fit(X_train,y_train)"
   ]
  },
  {
   "cell_type": "markdown",
   "metadata": {},
   "source": [
    "#### Get coefficients"
   ]
  },
  {
   "cell_type": "code",
   "execution_count": 68,
   "metadata": {},
   "outputs": [
    {
     "data": {
      "text/plain": [
       "array([     0.        , -32945.44931976,  32021.12599608,  85387.3306987 ,\n",
       "         5150.08565499,   2873.93479931,  52295.31681942,  40555.58301067,\n",
       "        18479.38801625, 111624.76307035,  79890.68757578,  27772.34713157,\n",
       "       -77390.14692002,   7160.01906823, -30447.25933837,  83511.5921715 ,\n",
       "       -30827.51081959,  13055.43755106,  -9638.66689396])"
      ]
     },
     "execution_count": 68,
     "metadata": {},
     "output_type": "execute_result"
    }
   ],
   "source": [
    "reg.coef_"
   ]
  },
  {
   "cell_type": "markdown",
   "metadata": {},
   "source": [
    "#### Get intercept"
   ]
  },
  {
   "cell_type": "code",
   "execution_count": 69,
   "metadata": {},
   "outputs": [
    {
     "data": {
      "text/plain": [
       "540154.2645224856"
      ]
     },
     "execution_count": 69,
     "metadata": {},
     "output_type": "execute_result"
    }
   ],
   "source": [
    "reg.intercept_"
   ]
  },
  {
   "cell_type": "markdown",
   "metadata": {},
   "source": [
    "#### Feature summary and weights"
   ]
  },
  {
   "cell_type": "code",
   "execution_count": 70,
   "metadata": {},
   "outputs": [
    {
     "data": {
      "text/html": [
       "<div>\n",
       "<style scoped>\n",
       "    .dataframe tbody tr th:only-of-type {\n",
       "        vertical-align: middle;\n",
       "    }\n",
       "\n",
       "    .dataframe tbody tr th {\n",
       "        vertical-align: top;\n",
       "    }\n",
       "\n",
       "    .dataframe thead th {\n",
       "        text-align: right;\n",
       "    }\n",
       "</style>\n",
       "<table border=\"1\" class=\"dataframe\">\n",
       "  <thead>\n",
       "    <tr style=\"text-align: right;\">\n",
       "      <th></th>\n",
       "      <th>Features</th>\n",
       "    </tr>\n",
       "  </thead>\n",
       "  <tbody>\n",
       "    <tr>\n",
       "      <td>0</td>\n",
       "      <td>bedrooms</td>\n",
       "    </tr>\n",
       "    <tr>\n",
       "      <td>1</td>\n",
       "      <td>bathrooms</td>\n",
       "    </tr>\n",
       "    <tr>\n",
       "      <td>2</td>\n",
       "      <td>sqft_living</td>\n",
       "    </tr>\n",
       "    <tr>\n",
       "      <td>3</td>\n",
       "      <td>sqft_lot</td>\n",
       "    </tr>\n",
       "    <tr>\n",
       "      <td>4</td>\n",
       "      <td>floors</td>\n",
       "    </tr>\n",
       "    <tr>\n",
       "      <td>5</td>\n",
       "      <td>waterfront</td>\n",
       "    </tr>\n",
       "    <tr>\n",
       "      <td>6</td>\n",
       "      <td>view</td>\n",
       "    </tr>\n",
       "    <tr>\n",
       "      <td>7</td>\n",
       "      <td>condition</td>\n",
       "    </tr>\n",
       "    <tr>\n",
       "      <td>8</td>\n",
       "      <td>grade</td>\n",
       "    </tr>\n",
       "    <tr>\n",
       "      <td>9</td>\n",
       "      <td>sqft_above</td>\n",
       "    </tr>\n",
       "    <tr>\n",
       "      <td>10</td>\n",
       "      <td>sqft_basement</td>\n",
       "    </tr>\n",
       "    <tr>\n",
       "      <td>11</td>\n",
       "      <td>yr_built</td>\n",
       "    </tr>\n",
       "    <tr>\n",
       "      <td>12</td>\n",
       "      <td>yr_renovated</td>\n",
       "    </tr>\n",
       "    <tr>\n",
       "      <td>13</td>\n",
       "      <td>zipcode</td>\n",
       "    </tr>\n",
       "    <tr>\n",
       "      <td>14</td>\n",
       "      <td>lat</td>\n",
       "    </tr>\n",
       "    <tr>\n",
       "      <td>15</td>\n",
       "      <td>long</td>\n",
       "    </tr>\n",
       "    <tr>\n",
       "      <td>16</td>\n",
       "      <td>sqft_living15</td>\n",
       "    </tr>\n",
       "    <tr>\n",
       "      <td>17</td>\n",
       "      <td>sqft_lot15</td>\n",
       "    </tr>\n",
       "  </tbody>\n",
       "</table>\n",
       "</div>"
      ],
      "text/plain": [
       "         Features\n",
       "0        bedrooms\n",
       "1       bathrooms\n",
       "2     sqft_living\n",
       "3        sqft_lot\n",
       "4          floors\n",
       "5      waterfront\n",
       "6            view\n",
       "7       condition\n",
       "8           grade\n",
       "9      sqft_above\n",
       "10  sqft_basement\n",
       "11       yr_built\n",
       "12   yr_renovated\n",
       "13        zipcode\n",
       "14            lat\n",
       "15           long\n",
       "16  sqft_living15\n",
       "17     sqft_lot15"
      ]
     },
     "execution_count": 70,
     "metadata": {},
     "output_type": "execute_result"
    }
   ],
   "source": [
    "features2_df = pd.DataFrame(data = features2.columns.values, columns=['Features'])\n",
    "features2_df"
   ]
  },
  {
   "cell_type": "code",
   "execution_count": 71,
   "metadata": {},
   "outputs": [
    {
     "data": {
      "text/plain": [
       "array([            nan, 1.10680784e-301, 0.00000000e+000, 0.00000000e+000,\n",
       "       8.41668610e-024, 4.15765685e-208, 1.94648933e-238, 0.00000000e+000,\n",
       "       2.37560983e-007, 0.00000000e+000, 0.00000000e+000, 0.00000000e+000,\n",
       "       5.33231772e-011, 4.01878922e-043, 2.97836695e-010, 8.58462842e-285,\n",
       "       9.98917315e-003, 0.00000000e+000, 1.17572027e-019])"
      ]
     },
     "execution_count": 71,
     "metadata": {},
     "output_type": "execute_result"
    }
   ],
   "source": [
    "p_values = f_regression(X_train,y_train)[1]\n",
    "p_values"
   ]
  },
  {
   "cell_type": "markdown",
   "metadata": {},
   "source": [
    "#### Get r^2 score and adjusted r^2 score"
   ]
  },
  {
   "cell_type": "code",
   "execution_count": 72,
   "metadata": {},
   "outputs": [
    {
     "data": {
      "text/plain": [
       "0.6970071254200643"
      ]
     },
     "execution_count": 72,
     "metadata": {},
     "output_type": "execute_result"
    }
   ],
   "source": [
    "r2_train = reg.score(X_train, y_train)\n",
    "r2_train"
   ]
  },
  {
   "cell_type": "code",
   "execution_count": 73,
   "metadata": {},
   "outputs": [
    {
     "data": {
      "text/plain": [
       "0.6965903237536135"
      ]
     },
     "execution_count": 73,
     "metadata": {},
     "output_type": "execute_result"
    }
   ],
   "source": [
    "n = X_train.shape[0]\n",
    "p = X_train.shape[1]\n",
    "\n",
    "adjusted_r2_train = 1-(1-r2_train)*(n-1)/(n-p-1)\n",
    "adjusted_r2_train"
   ]
  },
  {
   "cell_type": "markdown",
   "metadata": {},
   "source": [
    "#### Get error"
   ]
  },
  {
   "cell_type": "code",
   "execution_count": 74,
   "metadata": {},
   "outputs": [],
   "source": [
    "y_train_pred = reg.predict(X_train)"
   ]
  },
  {
   "cell_type": "code",
   "execution_count": 75,
   "metadata": {},
   "outputs": [
    {
     "name": "stdout",
     "output_type": "stream",
     "text": [
      "Mean Absolute Error: 127865.68450146986\n",
      "Mean Squared Error: 42696724677.65793\n",
      "Root Mean Squared Error: 206631.8578478593\n"
     ]
    }
   ],
   "source": [
    "train_mae = metrics.mean_absolute_error(y_train, y_train_pred)\n",
    "train_mse = metrics.mean_squared_error(y_train, y_train_pred)\n",
    "train_rmse = np.sqrt(metrics.mean_squared_error(y_train, y_train_pred))\n",
    "\n",
    "print('Mean Absolute Error:', train_mae )\n",
    "print('Mean Squared Error:',  train_mse)\n",
    "print('Root Mean Squared Error:' , train_rmse)"
   ]
  },
  {
   "cell_type": "code",
   "execution_count": 76,
   "metadata": {},
   "outputs": [
    {
     "name": "stdout",
     "output_type": "stream",
     "text": [
      "Mean Absolute Error: 0.3425105386547823\n",
      "Root Mean Squared Error: 0.5534994725961455\n"
     ]
    }
   ],
   "source": [
    "price_std = target.std()\n",
    "\n",
    "print('Mean Absolute Error:', train_mae/price_std )\n",
    "print('Root Mean Squared Error:' , train_rmse/price_std)"
   ]
  },
  {
   "cell_type": "markdown",
   "metadata": {},
   "source": [
    "#### Test Data"
   ]
  },
  {
   "cell_type": "code",
   "execution_count": 77,
   "metadata": {},
   "outputs": [
    {
     "data": {
      "text/plain": [
       "0.7027786929887428"
      ]
     },
     "execution_count": 77,
     "metadata": {},
     "output_type": "execute_result"
    }
   ],
   "source": [
    "reg.score(X_test, y_test)"
   ]
  },
  {
   "cell_type": "code",
   "execution_count": 78,
   "metadata": {},
   "outputs": [
    {
     "data": {
      "text/plain": [
       "0.7011361086858883"
      ]
     },
     "execution_count": 78,
     "metadata": {},
     "output_type": "execute_result"
    }
   ],
   "source": [
    "r2_test = reg.score(X_test, y_test)\n",
    "n = X_test.shape[0]\n",
    "p = X_test.shape[1]\n",
    "\n",
    "adjusted_r2_test = 1-(1-r2_test)*(n-1)/(n-p-1)\n",
    "adjusted_r2_test"
   ]
  },
  {
   "cell_type": "code",
   "execution_count": 79,
   "metadata": {},
   "outputs": [],
   "source": [
    "y_test_pred = reg.predict(X_test)"
   ]
  },
  {
   "cell_type": "code",
   "execution_count": 80,
   "metadata": {},
   "outputs": [
    {
     "name": "stdout",
     "output_type": "stream",
     "text": [
      "Mean Absolute Error: 123704.29845359176\n",
      "Mean Squared Error: 39547299966.78128\n",
      "Root Mean Squared Error: 198865.0295219883\n"
     ]
    }
   ],
   "source": [
    "test_mae = metrics.mean_absolute_error(y_test, y_test_pred)\n",
    "test_mse = metrics.mean_squared_error(y_test, y_test_pred)\n",
    "test_rmse = np.sqrt(metrics.mean_squared_error(y_test, y_test_pred))\n",
    "\n",
    "print('Mean Absolute Error:', test_mae )\n",
    "print('Mean Squared Error:',  test_mse)\n",
    "print('Root Mean Squared Error:' , test_rmse)"
   ]
  },
  {
   "cell_type": "code",
   "execution_count": 81,
   "metadata": {},
   "outputs": [
    {
     "name": "stdout",
     "output_type": "stream",
     "text": [
      "Mean Absolute Error  Z: 0.3313635402840597\n",
      "Root Mean Squared Error Z: 0.5326946682117235\n"
     ]
    }
   ],
   "source": [
    "print('Mean Absolute Error  Z:', test_mae/price_std )\n",
    "print('Root Mean Squared Error Z:' , test_rmse/price_std)"
   ]
  },
  {
   "cell_type": "code",
   "execution_count": 82,
   "metadata": {},
   "outputs": [
    {
     "data": {
      "text/plain": [
       "Text(0, 0.5, 'Predictions')"
      ]
     },
     "execution_count": 82,
     "metadata": {},
     "output_type": "execute_result"
    },
    {
     "data": {
      "image/png": "[encoded data removed]",
      "text/plain": [
       "<Figure size 432x288 with 1 Axes>"
      ]
     },
     "metadata": {
      "needs_background": "light"
     },
     "output_type": "display_data"
    }
   ],
   "source": [
    "plt.scatter(y_test, y_test_pred, alpha=0.3)\n",
    "plt.xlabel(\"True Values\")\n",
    "plt.ylabel(\"Predictions\")"
   ]
  },
  {
   "cell_type": "code",
   "execution_count": 83,
   "metadata": {},
   "outputs": [
    {
     "data": {
      "text/plain": [
       "0.7027786929887428"
      ]
     },
     "execution_count": 83,
     "metadata": {},
     "output_type": "execute_result"
    }
   ],
   "source": [
    "r2_test"
   ]
  },
  {
   "cell_type": "code",
   "execution_count": 84,
   "metadata": {},
   "outputs": [
    {
     "data": {
      "text/plain": [
       "<matplotlib.axes._subplots.AxesSubplot at 0x1c28844fd0>"
      ]
     },
     "execution_count": 84,
     "metadata": {},
     "output_type": "execute_result"
    },
    {
     "data": {
      "image/png": "[encoded data removed]",
      "text/plain": [
       "<Figure size 432x288 with 1 Axes>"
      ]
     },
     "metadata": {
      "needs_background": "light"
     },
     "output_type": "display_data"
    }
   ],
   "source": [
    "sns.residplot(y_test_pred, y_test, lowess=True, color=\"g\")"
   ]
  },
  {
   "cell_type": "markdown",
   "metadata": {},
   "source": [
    "#### Updated summary table of all models"
   ]
  },
  {
   "cell_type": "code",
   "execution_count": 85,
   "metadata": {},
   "outputs": [
    {
     "data": {
      "text/html": [
       "<div>\n",
       "<style scoped>\n",
       "    .dataframe tbody tr th:only-of-type {\n",
       "        vertical-align: middle;\n",
       "    }\n",
       "\n",
       "    .dataframe tbody tr th {\n",
       "        vertical-align: top;\n",
       "    }\n",
       "\n",
       "    .dataframe thead th {\n",
       "        text-align: right;\n",
       "    }\n",
       "</style>\n",
       "<table border=\"1\" class=\"dataframe\">\n",
       "  <thead>\n",
       "    <tr style=\"text-align: right;\">\n",
       "      <th></th>\n",
       "      <th>Model</th>\n",
       "      <th>Description</th>\n",
       "      <th>Root Mean Squared Error (RMSE)</th>\n",
       "      <th>R-squared (training)</th>\n",
       "      <th>Adjusted R-squared (training)</th>\n",
       "      <th>R-squared (test)</th>\n",
       "      <th>Adjusted R-squared (test)</th>\n",
       "      <th>5-fold Cross Validation</th>\n",
       "    </tr>\n",
       "  </thead>\n",
       "  <tbody>\n",
       "    <tr>\n",
       "      <td>0</td>\n",
       "      <td>Multiple Regression-1</td>\n",
       "      <td>All features, no pre-processing</td>\n",
       "      <td>206631.858</td>\n",
       "      <td>0.697</td>\n",
       "      <td>0.697</td>\n",
       "      <td>0.703</td>\n",
       "      <td>0.701</td>\n",
       "      <td>nan</td>\n",
       "    </tr>\n",
       "    <tr>\n",
       "      <td>1</td>\n",
       "      <td>Multiple Regression-2</td>\n",
       "      <td>Minus sqft_above</td>\n",
       "      <td>206631.858</td>\n",
       "      <td>0.697</td>\n",
       "      <td>0.697</td>\n",
       "      <td>0.703</td>\n",
       "      <td>0.701</td>\n",
       "      <td>nan</td>\n",
       "    </tr>\n",
       "    <tr>\n",
       "      <td>2</td>\n",
       "      <td>Multiple Regression-3</td>\n",
       "      <td>All features 1st degree polynomial</td>\n",
       "      <td>206631.858</td>\n",
       "      <td>0.697</td>\n",
       "      <td>0.697</td>\n",
       "      <td>0.703</td>\n",
       "      <td>0.701</td>\n",
       "      <td>nan</td>\n",
       "    </tr>\n",
       "  </tbody>\n",
       "</table>\n",
       "</div>"
      ],
      "text/plain": [
       "                   Model                         Description  \\\n",
       "0  Multiple Regression-1     All features, no pre-processing   \n",
       "1  Multiple Regression-2                    Minus sqft_above   \n",
       "2  Multiple Regression-3  All features 1st degree polynomial   \n",
       "\n",
       "   Root Mean Squared Error (RMSE)  R-squared (training)  \\\n",
       "0                      206631.858                 0.697   \n",
       "1                      206631.858                 0.697   \n",
       "2                      206631.858                 0.697   \n",
       "\n",
       "   Adjusted R-squared (training)  R-squared (test)  Adjusted R-squared (test)  \\\n",
       "0                          0.697             0.703                      0.701   \n",
       "1                          0.697             0.703                      0.701   \n",
       "2                          0.697             0.703                      0.701   \n",
       "\n",
       "   5-fold Cross Validation  \n",
       "0                      nan  \n",
       "1                      nan  \n",
       "2                      nan  "
      ]
     },
     "execution_count": 85,
     "metadata": {},
     "output_type": "execute_result"
    }
   ],
   "source": [
    "summary_df = summary_df.append({'Model' : 'Multiple Regression-3', 'Description' : 'All features 1st degree polynomial' , 'Root Mean Squared Error (RMSE)' : train_rmse, 'R-squared (training)' : r2_train, 'Adjusted R-squared (training)': adjusted_r2_train, 'R-squared (test)' : r2_test, 'Adjusted R-squared (test)' : adjusted_r2_test} , ignore_index=True)\n",
    "summary_df"
   ]
  },
  {
   "cell_type": "code",
   "execution_count": null,
   "metadata": {},
   "outputs": [],
   "source": []
  },
  {
   "cell_type": "markdown",
   "metadata": {},
   "source": [
    "### Multiple Regression - 4 (all features polynomial 2nd degree)"
   ]
  },
  {
   "cell_type": "code",
   "execution_count": 86,
   "metadata": {},
   "outputs": [],
   "source": [
    "target = df['price']\n",
    "features2 = df[['bedrooms', 'bathrooms', 'sqft_living', 'sqft_lot', 'floors', 'waterfront', 'view' , 'condition', 'grade', 'sqft_above', 'sqft_basement', 'yr_built', 'yr_renovated',\n",
    "       'zipcode', 'lat', 'long', 'sqft_living15', 'sqft_lot15']]"
   ]
  },
  {
   "cell_type": "code",
   "execution_count": 87,
   "metadata": {},
   "outputs": [
    {
     "data": {
      "text/plain": [
       "StandardScaler(copy=True, with_mean=True, with_std=True)"
      ]
     },
     "execution_count": 87,
     "metadata": {},
     "output_type": "execute_result"
    }
   ],
   "source": [
    "scaler.fit(features2)"
   ]
  },
  {
   "cell_type": "code",
   "execution_count": 88,
   "metadata": {},
   "outputs": [
    {
     "data": {
      "text/plain": [
       "array([[ 0.66806994,  0.17918873, -0.01246164, ...,  0.37101341,\n",
       "         0.58706685, -0.19001514],\n",
       "       [ 1.73267171,  1.15264072,  0.88972019, ..., -0.50223539,\n",
       "         0.55786051, -0.24205974],\n",
       "       [ 0.66806994,  0.50367273,  1.83538065, ...,  0.60529967,\n",
       "         2.51468528, -0.11710863],\n",
       "       ...,\n",
       "       [-0.39653183, -1.44323124, -1.12116701, ..., -0.33894497,\n",
       "        -0.33293285, -0.12746613],\n",
       "       [-0.39653183, -0.79426325, -0.19724586, ...,  1.59214181,\n",
       "         0.13436859,  3.49490383],\n",
       "       [-0.39653183, -0.79426325, -0.81681651, ..., -0.74362124,\n",
       "        -0.97547232, -0.21903083]])"
      ]
     },
     "execution_count": 88,
     "metadata": {},
     "output_type": "execute_result"
    }
   ],
   "source": [
    "features_scaled = scaler.transform(features2)\n",
    "features_scaled\n"
   ]
  },
  {
   "cell_type": "markdown",
   "metadata": {},
   "source": [
    "#### Training data"
   ]
  },
  {
   "cell_type": "code",
   "execution_count": 89,
   "metadata": {},
   "outputs": [
    {
     "name": "stdout",
     "output_type": "stream",
     "text": [
      "Training set - Features:  (13832, 18) Target:  (13832,)\n",
      "Training set - Features:  (3458, 18) Target:  (3458,)\n"
     ]
    }
   ],
   "source": [
    "# call train_test_split on the data and capture the results\n",
    "X_train, X_test, y_train, y_test = train_test_split(features_scaled, target, random_state=42,test_size=0.2)\n",
    "\n",
    "#check the shape of the results\n",
    "print(\"Training set - Features: \", X_train.shape, \"Target: \", y_train.shape)\n",
    "print(\"Training set - Features: \", X_test.shape, \"Target: \",y_test.shape)\n"
   ]
  },
  {
   "cell_type": "code",
   "execution_count": 90,
   "metadata": {},
   "outputs": [],
   "source": [
    "poly = PolynomialFeatures(2)\n",
    "X_train = poly.fit_transform(X_train)\n",
    "X_test = poly.fit_transform(X_test)"
   ]
  },
  {
   "cell_type": "code",
   "execution_count": 91,
   "metadata": {},
   "outputs": [
    {
     "data": {
      "text/plain": [
       "LinearRegression(copy_X=True, fit_intercept=True, n_jobs=None, normalize=False)"
      ]
     },
     "execution_count": 91,
     "metadata": {},
     "output_type": "execute_result"
    }
   ],
   "source": [
    "reg = LinearRegression()\n",
    "reg.fit(X_train,y_train)"
   ]
  },
  {
   "cell_type": "markdown",
   "metadata": {},
   "source": [
    "#### Get coefficients"
   ]
  },
  {
   "cell_type": "code",
   "execution_count": 92,
   "metadata": {},
   "outputs": [
    {
     "data": {
      "text/plain": [
       "array([ 6.33294913e+11, -3.92233919e+03,  1.45159218e+04,  1.47475344e+15,\n",
       "        1.65290699e+04, -1.24398033e+04,  1.34087838e+14,  1.21099472e+04,\n",
       "        2.77951195e+04,  8.76677656e+04, -1.32927927e+15, -7.10354981e+14,\n",
       "       -1.82523438e+04, -8.67838883e+05, -4.96907656e+04,  7.72036719e+04,\n",
       "       -5.86958750e+04,  4.31341016e+04, -2.06935000e+04,  8.92156250e+02,\n",
       "        3.11414844e+03, -2.43332879e+14, -2.39720703e+03,  9.80142773e+03,\n",
       "        5.24757812e+02, -8.57375000e+02, -2.72494531e+03, -2.83281250e+03,\n",
       "        2.19329782e+14,  1.17207879e+14, -5.21742969e+03, -2.42868359e+03,\n",
       "        1.69888281e+03, -4.39989062e+03,  7.49640625e+03,  9.69863281e+03,\n",
       "        7.82525781e+03,  5.48687500e+02, -3.78751868e+14, -1.72744453e+04,\n",
       "       -1.41288672e+04,  2.43685938e+03,  5.36506250e+03, -4.39045508e+03,\n",
       "        1.41790781e+04,  3.41390629e+14,  1.82436106e+14,  3.05411719e+03,\n",
       "       -7.78789844e+03, -3.63660156e+03,  1.06160234e+04, -9.29071875e+03,\n",
       "       -1.49656250e+02,  4.78117969e+03,  1.17097235e+15,  6.51955345e+13,\n",
       "        7.04034890e+14, -8.90003196e+14,  4.19438307e+14, -1.34430449e+14,\n",
       "       -1.62232968e+15, -8.11369264e+14,  3.02105682e+15, -6.49925023e+14,\n",
       "       -1.12226557e+14,  1.21961188e+13, -4.05764324e+13, -1.03452627e+14,\n",
       "       -2.21341550e+14,  1.63529939e+13, -3.82875000e+02,  9.31706836e+03,\n",
       "       -4.21663281e+03,  3.70292969e+02,  4.19765039e+03,  1.30178711e+04,\n",
       "       -5.87644483e+13, -3.14031969e+13,  1.07089551e+04, -5.45695508e+03,\n",
       "        6.80204688e+03, -9.53339844e+02,  8.52418750e+03, -6.91579590e+03,\n",
       "        8.31718750e+02,  7.75130566e+03, -7.31205469e+03, -5.32998047e+03,\n",
       "        9.10236914e+03,  3.73863281e+02, -6.34586743e+14, -3.39117494e+14,\n",
       "        8.71835938e+01,  1.40812823e+03,  1.88669609e+04, -8.81621875e+03,\n",
       "        1.08147500e+04,  5.82819141e+03, -2.26418164e+03, -1.21249481e+13,\n",
       "        2.57831250e+03,  9.60676270e+02, -7.40170312e+03,  8.02210568e+14,\n",
       "        4.28694170e+14, -1.66750781e+03, -2.90760938e+03, -3.04992578e+03,\n",
       "        1.28027109e+04,  1.86335547e+04,  1.71862500e+03,  7.77075000e+03,\n",
       "        4.31140625e+03,  3.55254590e+03,  3.69531250e+01, -3.78063634e+14,\n",
       "       -2.02033833e+14,  5.62464258e+03, -1.82895312e+03, -1.43009375e+03,\n",
       "        5.57136719e+02, -5.66273828e+03, -1.37607812e+03, -7.39087109e+03,\n",
       "       -2.74085156e+03, -3.24127930e+02,  1.21169820e+14,  6.47520705e+13,\n",
       "       -3.25334766e+03, -5.24294580e+03, -2.82832031e+02, -2.70703906e+03,\n",
       "       -2.77538281e+03,  1.39594062e+04, -2.93153857e+03, -4.46451562e+03,\n",
       "        1.46229814e+15,  7.81439079e+14, -8.21415820e+03,  3.49288281e+03,\n",
       "       -7.54178516e+03,  2.29531445e+04, -2.51477812e+04, -2.89564062e+03,\n",
       "       -1.00422695e+04, -2.20016550e+14, -3.34901833e+15,  5.85814439e+14,\n",
       "        1.01156187e+14, -1.09930565e+13,  3.65738495e+13,  9.32477448e+13,\n",
       "        1.99507745e+14, -1.47398847e+13, -1.72685455e+15,  3.13054009e+14,\n",
       "        5.40569640e+13, -5.87459129e+12,  1.95447389e+13,  4.98307629e+13,\n",
       "        1.06615159e+14, -7.87686290e+12,  2.07022812e+04, -2.08584375e+03,\n",
       "        1.57736094e+04, -1.96613594e+04,  2.72825312e+04, -3.22845391e+04,\n",
       "        6.74396826e+03,  1.93228938e+05, -6.49469531e+03, -6.54222852e+03,\n",
       "        1.56169922e+03,  7.29664258e+03,  1.37322070e+03,  7.09557422e+03,\n",
       "       -2.06917188e+03,  7.82879688e+03,  5.28738477e+03, -4.39866406e+03,\n",
       "       -4.88238203e+04, -3.25656562e+04,  3.74225195e+03, -1.36997559e+04,\n",
       "        4.48625000e+03,  8.62597412e+03,  2.94671875e+03,  1.24232109e+04,\n",
       "        2.04600781e+03,  7.09500000e+02])"
      ]
     },
     "execution_count": 92,
     "metadata": {},
     "output_type": "execute_result"
    }
   ],
   "source": [
    "reg.coef_"
   ]
  },
  {
   "cell_type": "markdown",
   "metadata": {},
   "source": [
    "#### Get intercept"
   ]
  },
  {
   "cell_type": "code",
   "execution_count": 93,
   "metadata": {},
   "outputs": [
    {
     "data": {
      "text/plain": [
       "11491653500754.25"
      ]
     },
     "execution_count": 93,
     "metadata": {},
     "output_type": "execute_result"
    }
   ],
   "source": [
    "reg.intercept_"
   ]
  },
  {
   "cell_type": "markdown",
   "metadata": {},
   "source": [
    "#### Feature summary and weights"
   ]
  },
  {
   "cell_type": "code",
   "execution_count": 94,
   "metadata": {},
   "outputs": [
    {
     "data": {
      "text/html": [
       "<div>\n",
       "<style scoped>\n",
       "    .dataframe tbody tr th:only-of-type {\n",
       "        vertical-align: middle;\n",
       "    }\n",
       "\n",
       "    .dataframe tbody tr th {\n",
       "        vertical-align: top;\n",
       "    }\n",
       "\n",
       "    .dataframe thead th {\n",
       "        text-align: right;\n",
       "    }\n",
       "</style>\n",
       "<table border=\"1\" class=\"dataframe\">\n",
       "  <thead>\n",
       "    <tr style=\"text-align: right;\">\n",
       "      <th></th>\n",
       "      <th>Features</th>\n",
       "    </tr>\n",
       "  </thead>\n",
       "  <tbody>\n",
       "    <tr>\n",
       "      <td>0</td>\n",
       "      <td>bedrooms</td>\n",
       "    </tr>\n",
       "    <tr>\n",
       "      <td>1</td>\n",
       "      <td>bathrooms</td>\n",
       "    </tr>\n",
       "    <tr>\n",
       "      <td>2</td>\n",
       "      <td>sqft_living</td>\n",
       "    </tr>\n",
       "    <tr>\n",
       "      <td>3</td>\n",
       "      <td>sqft_lot</td>\n",
       "    </tr>\n",
       "    <tr>\n",
       "      <td>4</td>\n",
       "      <td>floors</td>\n",
       "    </tr>\n",
       "    <tr>\n",
       "      <td>5</td>\n",
       "      <td>waterfront</td>\n",
       "    </tr>\n",
       "    <tr>\n",
       "      <td>6</td>\n",
       "      <td>view</td>\n",
       "    </tr>\n",
       "    <tr>\n",
       "      <td>7</td>\n",
       "      <td>condition</td>\n",
       "    </tr>\n",
       "    <tr>\n",
       "      <td>8</td>\n",
       "      <td>grade</td>\n",
       "    </tr>\n",
       "    <tr>\n",
       "      <td>9</td>\n",
       "      <td>sqft_above</td>\n",
       "    </tr>\n",
       "    <tr>\n",
       "      <td>10</td>\n",
       "      <td>sqft_basement</td>\n",
       "    </tr>\n",
       "    <tr>\n",
       "      <td>11</td>\n",
       "      <td>yr_built</td>\n",
       "    </tr>\n",
       "    <tr>\n",
       "      <td>12</td>\n",
       "      <td>yr_renovated</td>\n",
       "    </tr>\n",
       "    <tr>\n",
       "      <td>13</td>\n",
       "      <td>zipcode</td>\n",
       "    </tr>\n",
       "    <tr>\n",
       "      <td>14</td>\n",
       "      <td>lat</td>\n",
       "    </tr>\n",
       "    <tr>\n",
       "      <td>15</td>\n",
       "      <td>long</td>\n",
       "    </tr>\n",
       "    <tr>\n",
       "      <td>16</td>\n",
       "      <td>sqft_living15</td>\n",
       "    </tr>\n",
       "    <tr>\n",
       "      <td>17</td>\n",
       "      <td>sqft_lot15</td>\n",
       "    </tr>\n",
       "  </tbody>\n",
       "</table>\n",
       "</div>"
      ],
      "text/plain": [
       "         Features\n",
       "0        bedrooms\n",
       "1       bathrooms\n",
       "2     sqft_living\n",
       "3        sqft_lot\n",
       "4          floors\n",
       "5      waterfront\n",
       "6            view\n",
       "7       condition\n",
       "8           grade\n",
       "9      sqft_above\n",
       "10  sqft_basement\n",
       "11       yr_built\n",
       "12   yr_renovated\n",
       "13        zipcode\n",
       "14            lat\n",
       "15           long\n",
       "16  sqft_living15\n",
       "17     sqft_lot15"
      ]
     },
     "execution_count": 94,
     "metadata": {},
     "output_type": "execute_result"
    }
   ],
   "source": [
    "features2_df = pd.DataFrame(data = features2.columns.values, columns=['Features'])\n",
    "features2_df"
   ]
  },
  {
   "cell_type": "code",
   "execution_count": 95,
   "metadata": {},
   "outputs": [
    {
     "data": {
      "text/plain": [
       "array([            nan, 1.10680784e-301, 0.00000000e+000, 0.00000000e+000,\n",
       "       8.41668610e-024, 4.15765685e-208, 1.94648933e-238, 0.00000000e+000,\n",
       "       2.37560983e-007, 0.00000000e+000, 0.00000000e+000, 0.00000000e+000,\n",
       "       5.33231772e-011, 4.01878922e-043, 2.97836695e-010, 8.58462842e-285,\n",
       "       9.98917315e-003, 0.00000000e+000, 1.17572027e-019, 2.32603421e-003,\n",
       "       1.00092091e-203, 0.00000000e+000, 1.67519591e-003, 1.15884563e-036,\n",
       "       4.32547935e-035, 8.37522008e-122, 1.98548415e-001, 3.09178183e-272,\n",
       "       0.00000000e+000, 2.15962016e-102, 6.57745225e-005, 7.58380412e-015,\n",
       "       8.30332384e-003, 2.87527791e-031, 1.19828520e-002, 6.26728740e-227,\n",
       "       3.58596558e-004, 0.00000000e+000, 0.00000000e+000, 3.40974913e-025,\n",
       "       1.74516701e-096, 3.84718547e-245, 0.00000000e+000, 1.49518956e-001,\n",
       "       0.00000000e+000, 0.00000000e+000, 0.00000000e+000, 6.09979276e-002,\n",
       "       6.87778777e-064, 2.10162534e-008, 1.49321412e-058, 5.72694131e-002,\n",
       "       0.00000000e+000, 2.02471087e-022, 0.00000000e+000, 2.02641546e-037,\n",
       "       4.56063232e-296, 0.00000000e+000, 0.00000000e+000, 5.14038014e-001,\n",
       "       0.00000000e+000, 0.00000000e+000, 0.00000000e+000, 4.98931948e-022,\n",
       "       7.65537679e-116, 1.25823205e-055, 8.26164305e-111, 3.05211094e-002,\n",
       "       0.00000000e+000, 5.47633216e-031, 2.78276879e-004, 9.81337366e-010,\n",
       "       3.25024619e-021, 1.92982556e-003, 1.18993496e-004, 4.84789647e-028,\n",
       "       5.47612347e-038, 2.69474935e-001, 1.73114360e-014, 1.54220032e-001,\n",
       "       2.79221947e-007, 3.53329750e-001, 3.93561804e-008, 5.68237047e-019,\n",
       "       1.29500936e-006, 1.06590845e-011, 7.15577490e-037, 3.29727871e-054,\n",
       "       2.26071912e-002, 3.69753991e-235, 0.00000000e+000, 1.57225977e-010,\n",
       "       4.11427372e-018, 1.55167267e-009, 8.61306508e-004, 3.41516318e-003,\n",
       "       1.29094734e-003, 1.38411830e-090, 4.38009899e-009, 1.94648933e-238,\n",
       "       2.41691213e-226, 1.25357152e-001, 1.12546668e-271, 1.36708075e-290,\n",
       "       2.44794781e-218, 4.89068791e-003, 3.52709758e-035, 2.19076799e-001,\n",
       "       4.87437115e-013, 5.35557618e-002, 1.06625278e-269, 5.12197129e-016,\n",
       "       0.00000000e+000, 1.18535437e-014, 0.00000000e+000, 0.00000000e+000,\n",
       "       0.00000000e+000, 4.03157892e-001, 3.58958017e-044, 1.26550010e-001,\n",
       "       2.00562501e-023, 6.58979582e-027, 0.00000000e+000, 2.25756525e-004,\n",
       "       1.11519441e-005, 1.79787699e-001, 7.31855728e-015, 8.83426730e-027,\n",
       "       3.33898176e-042, 1.33591314e-008, 8.64709355e-017, 2.28140179e-006,\n",
       "       4.03552861e-025, 4.99070243e-004, 2.17790940e-007, 0.00000000e+000,\n",
       "       0.00000000e+000, 0.00000000e+000, 2.13126298e-021, 2.82895619e-052,\n",
       "       3.12836424e-037, 1.16964265e-049, 1.20860638e-004, 0.00000000e+000,\n",
       "       3.02219409e-032, 0.00000000e+000, 1.29453939e-274, 2.23174321e-050,\n",
       "       8.99733861e-066, 2.55046388e-054, 3.29374144e-094, 1.96073673e-009,\n",
       "       0.00000000e+000, 1.34141863e-030, 0.00000000e+000, 1.14951146e-013,\n",
       "       1.37503416e-085, 3.36963843e-007, 3.29481526e-011, 8.78772108e-014,\n",
       "       3.98104408e-311, 8.08729781e-002, 7.51026342e-047, 1.43610568e-029,\n",
       "       2.83780329e-013, 1.51123816e-009, 6.51678011e-021, 1.82777567e-014,\n",
       "       6.24287598e-022, 1.99708554e-043, 7.86217080e-002, 6.07997404e-004,\n",
       "       4.33013814e-017, 4.61059155e-032, 5.31236955e-001, 5.17878997e-010,\n",
       "       2.44834475e-056, 1.73443074e-001, 1.11264240e-074, 2.29141102e-007,\n",
       "       7.97353704e-249, 2.43406425e-001, 8.35381092e-045, 4.93523005e-001,\n",
       "       1.34936988e-005, 2.42371316e-016, 2.14402588e-006, 0.00000000e+000,\n",
       "       1.63956947e-023, 2.20866158e-004])"
      ]
     },
     "execution_count": 95,
     "metadata": {},
     "output_type": "execute_result"
    }
   ],
   "source": [
    "p_values = f_regression(X_train,y_train)[1]\n",
    "p_values"
   ]
  },
  {
   "cell_type": "markdown",
   "metadata": {},
   "source": [
    "#### Get r^2 score and adjusted r^2 score"
   ]
  },
  {
   "cell_type": "code",
   "execution_count": 96,
   "metadata": {},
   "outputs": [
    {
     "data": {
      "text/plain": [
       "0.8356315083586707"
      ]
     },
     "execution_count": 96,
     "metadata": {},
     "output_type": "execute_result"
    }
   ],
   "source": [
    "r2_train = reg.score(X_train, y_train)\n",
    "r2_train"
   ]
  },
  {
   "cell_type": "code",
   "execution_count": 97,
   "metadata": {},
   "outputs": [
    {
     "data": {
      "text/plain": [
       "0.8333420857788121"
      ]
     },
     "execution_count": 97,
     "metadata": {},
     "output_type": "execute_result"
    }
   ],
   "source": [
    "n = X_train.shape[0]\n",
    "p = X_train.shape[1]\n",
    "\n",
    "adjusted_r2_train = 1-(1-r2_train)*(n-1)/(n-p-1)\n",
    "adjusted_r2_train"
   ]
  },
  {
   "cell_type": "markdown",
   "metadata": {},
   "source": [
    "#### Get error"
   ]
  },
  {
   "cell_type": "code",
   "execution_count": 98,
   "metadata": {},
   "outputs": [],
   "source": [
    "y_train_pred = reg.predict(X_train)"
   ]
  },
  {
   "cell_type": "code",
   "execution_count": 99,
   "metadata": {},
   "outputs": [
    {
     "name": "stdout",
     "output_type": "stream",
     "text": [
      "Mean Absolute Error: 98911.49306592616\n",
      "Mean Squared Error: 23162248429.179684\n",
      "Root Mean Squared Error: 152191.48606009365\n"
     ]
    }
   ],
   "source": [
    "train_mae = metrics.mean_absolute_error(y_train, y_train_pred)\n",
    "train_mse = metrics.mean_squared_error(y_train, y_train_pred)\n",
    "train_rmse = np.sqrt(metrics.mean_squared_error(y_train, y_train_pred))\n",
    "\n",
    "print('Mean Absolute Error:', train_mae )\n",
    "print('Mean Squared Error:',  train_mse)\n",
    "print('Root Mean Squared Error:' , train_rmse)"
   ]
  },
  {
   "cell_type": "code",
   "execution_count": 100,
   "metadata": {},
   "outputs": [
    {
     "name": "stdout",
     "output_type": "stream",
     "text": [
      "Mean Absolute Error: 0.26495168661744967\n",
      "Root Mean Squared Error: 0.40767144110909015\n"
     ]
    }
   ],
   "source": [
    "price_std = target.std()\n",
    "\n",
    "print('Mean Absolute Error:', train_mae/price_std )\n",
    "print('Root Mean Squared Error:' , train_rmse/price_std)"
   ]
  },
  {
   "cell_type": "markdown",
   "metadata": {},
   "source": [
    "#### Test Data"
   ]
  },
  {
   "cell_type": "code",
   "execution_count": 101,
   "metadata": {},
   "outputs": [
    {
     "data": {
      "text/plain": [
       "0.8122092443481933"
      ]
     },
     "execution_count": 101,
     "metadata": {},
     "output_type": "execute_result"
    }
   ],
   "source": [
    "reg.score(X_test, y_test)"
   ]
  },
  {
   "cell_type": "code",
   "execution_count": 102,
   "metadata": {},
   "outputs": [
    {
     "data": {
      "text/plain": [
       "0.8012878352346815"
      ]
     },
     "execution_count": 102,
     "metadata": {},
     "output_type": "execute_result"
    }
   ],
   "source": [
    "r2_test = reg.score(X_test, y_test)\n",
    "n = X_test.shape[0]\n",
    "p = X_test.shape[1]\n",
    "\n",
    "adjusted_r2_test = 1-(1-r2_test)*(n-1)/(n-p-1)\n",
    "adjusted_r2_test"
   ]
  },
  {
   "cell_type": "code",
   "execution_count": 103,
   "metadata": {},
   "outputs": [],
   "source": [
    "y_test_pred = reg.predict(X_test)"
   ]
  },
  {
   "cell_type": "code",
   "execution_count": 104,
   "metadata": {},
   "outputs": [
    {
     "name": "stdout",
     "output_type": "stream",
     "text": [
      "Mean Absolute Error: 100726.86880173691\n",
      "Mean Squared Error: 24986826884.75374\n",
      "Root Mean Squared Error: 158072.2204713837\n"
     ]
    }
   ],
   "source": [
    "test_mae = metrics.mean_absolute_error(y_test, y_test_pred)\n",
    "test_mse = metrics.mean_squared_error(y_test, y_test_pred)\n",
    "test_rmse = np.sqrt(metrics.mean_squared_error(y_test, y_test_pred))\n",
    "\n",
    "print('Mean Absolute Error:', test_mae )\n",
    "print('Mean Squared Error:',  test_mse)\n",
    "print('Root Mean Squared Error:' , test_rmse)"
   ]
  },
  {
   "cell_type": "code",
   "execution_count": 105,
   "metadata": {},
   "outputs": [
    {
     "name": "stdout",
     "output_type": "stream",
     "text": [
      "Mean Absolute Error  Z: 0.2698144871691193\n",
      "Root Mean Squared Error Z: 0.42342401396512896\n"
     ]
    }
   ],
   "source": [
    "print('Mean Absolute Error  Z:', test_mae/price_std )\n",
    "print('Root Mean Squared Error Z:' , test_rmse/price_std)"
   ]
  },
  {
   "cell_type": "code",
   "execution_count": 106,
   "metadata": {},
   "outputs": [
    {
     "data": {
      "text/plain": [
       "Text(0, 0.5, 'Predictions')"
      ]
     },
     "execution_count": 106,
     "metadata": {},
     "output_type": "execute_result"
    },
    {
     "data": {
      "image/png": "[encoded data removed]",
      "text/plain": [
       "<Figure size 432x288 with 1 Axes>"
      ]
     },
     "metadata": {
      "needs_background": "light"
     },
     "output_type": "display_data"
    }
   ],
   "source": [
    "plt.scatter(y_test, y_test_pred, alpha=0.3)\n",
    "plt.xlabel(\"True Values\")\n",
    "plt.ylabel(\"Predictions\")"
   ]
  },
  {
   "cell_type": "code",
   "execution_count": 107,
   "metadata": {},
   "outputs": [
    {
     "data": {
      "text/plain": [
       "0.8122092443481933"
      ]
     },
     "execution_count": 107,
     "metadata": {},
     "output_type": "execute_result"
    }
   ],
   "source": [
    "r2_test"
   ]
  },
  {
   "cell_type": "code",
   "execution_count": 108,
   "metadata": {},
   "outputs": [
    {
     "data": {
      "text/plain": [
       "<matplotlib.axes._subplots.AxesSubplot at 0x1c28671090>"
      ]
     },
     "execution_count": 108,
     "metadata": {},
     "output_type": "execute_result"
    },
    {
     "data": {
      "image/png": "[encoded data removed]",
      "text/plain": [
       "<Figure size 432x288 with 1 Axes>"
      ]
     },
     "metadata": {
      "needs_background": "light"
     },
     "output_type": "display_data"
    }
   ],
   "source": [
    "sns.residplot(y_test_pred, y_test, lowess=True, color=\"g\")"
   ]
  },
  {
   "cell_type": "markdown",
   "metadata": {},
   "source": [
    "#### Updated summary table of all models"
   ]
  },
  {
   "cell_type": "code",
   "execution_count": 109,
   "metadata": {
    "scrolled": false
   },
   "outputs": [
    {
     "data": {
      "text/html": [
       "<div>\n",
       "<style scoped>\n",
       "    .dataframe tbody tr th:only-of-type {\n",
       "        vertical-align: middle;\n",
       "    }\n",
       "\n",
       "    .dataframe tbody tr th {\n",
       "        vertical-align: top;\n",
       "    }\n",
       "\n",
       "    .dataframe thead th {\n",
       "        text-align: right;\n",
       "    }\n",
       "</style>\n",
       "<table border=\"1\" class=\"dataframe\">\n",
       "  <thead>\n",
       "    <tr style=\"text-align: right;\">\n",
       "      <th></th>\n",
       "      <th>Model</th>\n",
       "      <th>Description</th>\n",
       "      <th>Root Mean Squared Error (RMSE)</th>\n",
       "      <th>R-squared (training)</th>\n",
       "      <th>Adjusted R-squared (training)</th>\n",
       "      <th>R-squared (test)</th>\n",
       "      <th>Adjusted R-squared (test)</th>\n",
       "      <th>5-fold Cross Validation</th>\n",
       "    </tr>\n",
       "  </thead>\n",
       "  <tbody>\n",
       "    <tr>\n",
       "      <td>0</td>\n",
       "      <td>Multiple Regression-1</td>\n",
       "      <td>All features, no pre-processing</td>\n",
       "      <td>206631.858</td>\n",
       "      <td>0.697</td>\n",
       "      <td>0.697</td>\n",
       "      <td>0.703</td>\n",
       "      <td>0.701</td>\n",
       "      <td>nan</td>\n",
       "    </tr>\n",
       "    <tr>\n",
       "      <td>1</td>\n",
       "      <td>Multiple Regression-2</td>\n",
       "      <td>Minus sqft_above</td>\n",
       "      <td>206631.858</td>\n",
       "      <td>0.697</td>\n",
       "      <td>0.697</td>\n",
       "      <td>0.703</td>\n",
       "      <td>0.701</td>\n",
       "      <td>nan</td>\n",
       "    </tr>\n",
       "    <tr>\n",
       "      <td>2</td>\n",
       "      <td>Multiple Regression-3</td>\n",
       "      <td>All features 1st degree polynomial</td>\n",
       "      <td>206631.858</td>\n",
       "      <td>0.697</td>\n",
       "      <td>0.697</td>\n",
       "      <td>0.703</td>\n",
       "      <td>0.701</td>\n",
       "      <td>nan</td>\n",
       "    </tr>\n",
       "    <tr>\n",
       "      <td>3</td>\n",
       "      <td>Multiple Regression-4</td>\n",
       "      <td>All features, 2nd degree polynomial</td>\n",
       "      <td>152191.486</td>\n",
       "      <td>0.836</td>\n",
       "      <td>0.833</td>\n",
       "      <td>0.812</td>\n",
       "      <td>0.801</td>\n",
       "      <td>nan</td>\n",
       "    </tr>\n",
       "  </tbody>\n",
       "</table>\n",
       "</div>"
      ],
      "text/plain": [
       "                   Model                          Description  \\\n",
       "0  Multiple Regression-1      All features, no pre-processing   \n",
       "1  Multiple Regression-2                     Minus sqft_above   \n",
       "2  Multiple Regression-3   All features 1st degree polynomial   \n",
       "3  Multiple Regression-4  All features, 2nd degree polynomial   \n",
       "\n",
       "   Root Mean Squared Error (RMSE)  R-squared (training)  \\\n",
       "0                      206631.858                 0.697   \n",
       "1                      206631.858                 0.697   \n",
       "2                      206631.858                 0.697   \n",
       "3                      152191.486                 0.836   \n",
       "\n",
       "   Adjusted R-squared (training)  R-squared (test)  Adjusted R-squared (test)  \\\n",
       "0                          0.697             0.703                      0.701   \n",
       "1                          0.697             0.703                      0.701   \n",
       "2                          0.697             0.703                      0.701   \n",
       "3                          0.833             0.812                      0.801   \n",
       "\n",
       "   5-fold Cross Validation  \n",
       "0                      nan  \n",
       "1                      nan  \n",
       "2                      nan  \n",
       "3                      nan  "
      ]
     },
     "execution_count": 109,
     "metadata": {},
     "output_type": "execute_result"
    }
   ],
   "source": [
    "summary_df = summary_df.append({'Model' : 'Multiple Regression-4', 'Description' : 'All features, 2nd degree polynomial' , 'Root Mean Squared Error (RMSE)' : train_rmse, 'R-squared (training)' : r2_train, 'Adjusted R-squared (training)': adjusted_r2_train, 'R-squared (test)' : r2_test, 'Adjusted R-squared (test)' : adjusted_r2_test} , ignore_index=True)\n",
    "summary_df"
   ]
  },
  {
   "cell_type": "markdown",
   "metadata": {},
   "source": [
    "### Multiple Regression - 5 (minus sqft_above, polynomial 1st degree)"
   ]
  },
  {
   "cell_type": "code",
   "execution_count": 110,
   "metadata": {},
   "outputs": [],
   "source": [
    "target = df['price']\n",
    "features2 = df[['bedrooms', 'bathrooms', 'sqft_living', 'sqft_lot', 'floors', 'waterfront', 'view' , 'condition', 'grade', 'sqft_basement', 'yr_built', 'yr_renovated',\n",
    "       'zipcode', 'lat', 'long', 'sqft_living15', 'sqft_lot15']]"
   ]
  },
  {
   "cell_type": "code",
   "execution_count": 111,
   "metadata": {},
   "outputs": [
    {
     "data": {
      "text/plain": [
       "StandardScaler(copy=True, with_mean=True, with_std=True)"
      ]
     },
     "execution_count": 111,
     "metadata": {},
     "output_type": "execute_result"
    }
   ],
   "source": [
    "scaler.fit(features2)"
   ]
  },
  {
   "cell_type": "code",
   "execution_count": 112,
   "metadata": {},
   "outputs": [
    {
     "data": {
      "text/plain": [
       "array([[ 0.66806994,  0.17918873, -0.01246164, ...,  0.37101341,\n",
       "         0.58706685, -0.19001514],\n",
       "       [ 1.73267171,  1.15264072,  0.88972019, ..., -0.50223539,\n",
       "         0.55786051, -0.24205974],\n",
       "       [ 0.66806994,  0.50367273,  1.83538065, ...,  0.60529967,\n",
       "         2.51468528, -0.11710863],\n",
       "       ...,\n",
       "       [-0.39653183, -1.44323124, -1.12116701, ..., -0.33894497,\n",
       "        -0.33293285, -0.12746613],\n",
       "       [-0.39653183, -0.79426325, -0.19724586, ...,  1.59214181,\n",
       "         0.13436859,  3.49490383],\n",
       "       [-0.39653183, -0.79426325, -0.81681651, ..., -0.74362124,\n",
       "        -0.97547232, -0.21903083]])"
      ]
     },
     "execution_count": 112,
     "metadata": {},
     "output_type": "execute_result"
    }
   ],
   "source": [
    "features_scaled = scaler.transform(features2)\n",
    "features_scaled\n"
   ]
  },
  {
   "cell_type": "markdown",
   "metadata": {},
   "source": [
    "#### Training data"
   ]
  },
  {
   "cell_type": "code",
   "execution_count": 113,
   "metadata": {},
   "outputs": [
    {
     "name": "stdout",
     "output_type": "stream",
     "text": [
      "Training set - Features:  (13832, 17) Target:  (13832,)\n",
      "Training set - Features:  (3458, 17) Target:  (3458,)\n"
     ]
    }
   ],
   "source": [
    "# call train_test_split on the data and capture the results\n",
    "X_train, X_test, y_train, y_test = train_test_split(features_scaled, target, random_state=42,test_size=0.2)\n",
    "\n",
    "#check the shape of the results\n",
    "print(\"Training set - Features: \", X_train.shape, \"Target: \", y_train.shape)\n",
    "print(\"Training set - Features: \", X_test.shape, \"Target: \",y_test.shape)\n"
   ]
  },
  {
   "cell_type": "code",
   "execution_count": 114,
   "metadata": {},
   "outputs": [],
   "source": [
    "poly = PolynomialFeatures(1)\n",
    "X_train = poly.fit_transform(X_train)\n",
    "X_test = poly.fit_transform(X_test)"
   ]
  },
  {
   "cell_type": "code",
   "execution_count": 115,
   "metadata": {},
   "outputs": [
    {
     "data": {
      "text/plain": [
       "LinearRegression(copy_X=True, fit_intercept=True, n_jobs=None, normalize=False)"
      ]
     },
     "execution_count": 115,
     "metadata": {},
     "output_type": "execute_result"
    }
   ],
   "source": [
    "reg = LinearRegression()\n",
    "reg.fit(X_train,y_train)"
   ]
  },
  {
   "cell_type": "markdown",
   "metadata": {},
   "source": [
    "#### Get coefficients"
   ]
  },
  {
   "cell_type": "code",
   "execution_count": 116,
   "metadata": {},
   "outputs": [
    {
     "data": {
      "text/plain": [
       "array([     0.        , -32945.44931976,  32021.12599608, 174021.125938  ,\n",
       "         5150.08565499,   2873.93479931,  52295.31681942,  40555.58301067,\n",
       "        18479.38801625, 111624.76307035, -14920.52352248, -77390.14692002,\n",
       "         7160.01906823, -30447.25933837,  83511.5921715 , -30827.51081959,\n",
       "        13055.43755106,  -9638.66689396])"
      ]
     },
     "execution_count": 116,
     "metadata": {},
     "output_type": "execute_result"
    }
   ],
   "source": [
    "reg.coef_"
   ]
  },
  {
   "cell_type": "markdown",
   "metadata": {},
   "source": [
    "#### Get intercept"
   ]
  },
  {
   "cell_type": "code",
   "execution_count": 117,
   "metadata": {},
   "outputs": [
    {
     "data": {
      "text/plain": [
       "540154.2645224856"
      ]
     },
     "execution_count": 117,
     "metadata": {},
     "output_type": "execute_result"
    }
   ],
   "source": [
    "reg.intercept_"
   ]
  },
  {
   "cell_type": "markdown",
   "metadata": {},
   "source": [
    "#### Feature summary and weights"
   ]
  },
  {
   "cell_type": "code",
   "execution_count": 118,
   "metadata": {},
   "outputs": [
    {
     "data": {
      "text/html": [
       "<div>\n",
       "<style scoped>\n",
       "    .dataframe tbody tr th:only-of-type {\n",
       "        vertical-align: middle;\n",
       "    }\n",
       "\n",
       "    .dataframe tbody tr th {\n",
       "        vertical-align: top;\n",
       "    }\n",
       "\n",
       "    .dataframe thead th {\n",
       "        text-align: right;\n",
       "    }\n",
       "</style>\n",
       "<table border=\"1\" class=\"dataframe\">\n",
       "  <thead>\n",
       "    <tr style=\"text-align: right;\">\n",
       "      <th></th>\n",
       "      <th>Features</th>\n",
       "    </tr>\n",
       "  </thead>\n",
       "  <tbody>\n",
       "    <tr>\n",
       "      <td>0</td>\n",
       "      <td>bedrooms</td>\n",
       "    </tr>\n",
       "    <tr>\n",
       "      <td>1</td>\n",
       "      <td>bathrooms</td>\n",
       "    </tr>\n",
       "    <tr>\n",
       "      <td>2</td>\n",
       "      <td>sqft_living</td>\n",
       "    </tr>\n",
       "    <tr>\n",
       "      <td>3</td>\n",
       "      <td>sqft_lot</td>\n",
       "    </tr>\n",
       "    <tr>\n",
       "      <td>4</td>\n",
       "      <td>floors</td>\n",
       "    </tr>\n",
       "    <tr>\n",
       "      <td>5</td>\n",
       "      <td>waterfront</td>\n",
       "    </tr>\n",
       "    <tr>\n",
       "      <td>6</td>\n",
       "      <td>view</td>\n",
       "    </tr>\n",
       "    <tr>\n",
       "      <td>7</td>\n",
       "      <td>condition</td>\n",
       "    </tr>\n",
       "    <tr>\n",
       "      <td>8</td>\n",
       "      <td>grade</td>\n",
       "    </tr>\n",
       "    <tr>\n",
       "      <td>9</td>\n",
       "      <td>sqft_basement</td>\n",
       "    </tr>\n",
       "    <tr>\n",
       "      <td>10</td>\n",
       "      <td>yr_built</td>\n",
       "    </tr>\n",
       "    <tr>\n",
       "      <td>11</td>\n",
       "      <td>yr_renovated</td>\n",
       "    </tr>\n",
       "    <tr>\n",
       "      <td>12</td>\n",
       "      <td>zipcode</td>\n",
       "    </tr>\n",
       "    <tr>\n",
       "      <td>13</td>\n",
       "      <td>lat</td>\n",
       "    </tr>\n",
       "    <tr>\n",
       "      <td>14</td>\n",
       "      <td>long</td>\n",
       "    </tr>\n",
       "    <tr>\n",
       "      <td>15</td>\n",
       "      <td>sqft_living15</td>\n",
       "    </tr>\n",
       "    <tr>\n",
       "      <td>16</td>\n",
       "      <td>sqft_lot15</td>\n",
       "    </tr>\n",
       "  </tbody>\n",
       "</table>\n",
       "</div>"
      ],
      "text/plain": [
       "         Features\n",
       "0        bedrooms\n",
       "1       bathrooms\n",
       "2     sqft_living\n",
       "3        sqft_lot\n",
       "4          floors\n",
       "5      waterfront\n",
       "6            view\n",
       "7       condition\n",
       "8           grade\n",
       "9   sqft_basement\n",
       "10       yr_built\n",
       "11   yr_renovated\n",
       "12        zipcode\n",
       "13            lat\n",
       "14           long\n",
       "15  sqft_living15\n",
       "16     sqft_lot15"
      ]
     },
     "execution_count": 118,
     "metadata": {},
     "output_type": "execute_result"
    }
   ],
   "source": [
    "features2_df = pd.DataFrame(data = features2.columns.values, columns=['Features'])\n",
    "features2_df"
   ]
  },
  {
   "cell_type": "code",
   "execution_count": 119,
   "metadata": {},
   "outputs": [
    {
     "data": {
      "text/plain": [
       "array([            nan, 1.10680784e-301, 0.00000000e+000, 0.00000000e+000,\n",
       "       8.41668610e-024, 4.15765685e-208, 1.94648933e-238, 0.00000000e+000,\n",
       "       2.37560983e-007, 0.00000000e+000, 0.00000000e+000, 5.33231772e-011,\n",
       "       4.01878922e-043, 2.97836695e-010, 8.58462842e-285, 9.98917315e-003,\n",
       "       0.00000000e+000, 1.17572027e-019])"
      ]
     },
     "execution_count": 119,
     "metadata": {},
     "output_type": "execute_result"
    }
   ],
   "source": [
    "p_values = f_regression(X_train,y_train)[1]\n",
    "p_values"
   ]
  },
  {
   "cell_type": "markdown",
   "metadata": {},
   "source": [
    "#### Get r^2 score and adjusted r^2 score"
   ]
  },
  {
   "cell_type": "code",
   "execution_count": 120,
   "metadata": {},
   "outputs": [
    {
     "data": {
      "text/plain": [
       "0.6970071254200643"
      ]
     },
     "execution_count": 120,
     "metadata": {},
     "output_type": "execute_result"
    }
   ],
   "source": [
    "r2_train = reg.score(X_train, y_train)\n",
    "r2_train"
   ]
  },
  {
   "cell_type": "code",
   "execution_count": 121,
   "metadata": {},
   "outputs": [
    {
     "data": {
      "text/plain": [
       "0.696612289269884"
      ]
     },
     "execution_count": 121,
     "metadata": {},
     "output_type": "execute_result"
    }
   ],
   "source": [
    "n = X_train.shape[0]\n",
    "p = X_train.shape[1]\n",
    "\n",
    "adjusted_r2_train = 1-(1-r2_train)*(n-1)/(n-p-1)\n",
    "adjusted_r2_train"
   ]
  },
  {
   "cell_type": "markdown",
   "metadata": {},
   "source": [
    "#### Get error"
   ]
  },
  {
   "cell_type": "code",
   "execution_count": 122,
   "metadata": {},
   "outputs": [],
   "source": [
    "y_train_pred = reg.predict(X_train)"
   ]
  },
  {
   "cell_type": "code",
   "execution_count": 123,
   "metadata": {},
   "outputs": [
    {
     "name": "stdout",
     "output_type": "stream",
     "text": [
      "Mean Absolute Error: 127865.68450146986\n",
      "Mean Squared Error: 42696724677.65793\n",
      "Root Mean Squared Error: 206631.8578478593\n"
     ]
    }
   ],
   "source": [
    "train_mae = metrics.mean_absolute_error(y_train, y_train_pred)\n",
    "train_mse = metrics.mean_squared_error(y_train, y_train_pred)\n",
    "train_rmse = np.sqrt(metrics.mean_squared_error(y_train, y_train_pred))\n",
    "\n",
    "print('Mean Absolute Error:', train_mae )\n",
    "print('Mean Squared Error:',  train_mse)\n",
    "print('Root Mean Squared Error:' , train_rmse)"
   ]
  },
  {
   "cell_type": "code",
   "execution_count": 124,
   "metadata": {},
   "outputs": [
    {
     "name": "stdout",
     "output_type": "stream",
     "text": [
      "Mean Absolute Error: 0.3425105386547823\n",
      "Root Mean Squared Error: 0.5534994725961455\n"
     ]
    }
   ],
   "source": [
    "price_std = target.std()\n",
    "\n",
    "print('Mean Absolute Error:', train_mae/price_std )\n",
    "print('Root Mean Squared Error:' , train_rmse/price_std)"
   ]
  },
  {
   "cell_type": "markdown",
   "metadata": {},
   "source": [
    "#### Test Data"
   ]
  },
  {
   "cell_type": "code",
   "execution_count": 125,
   "metadata": {},
   "outputs": [
    {
     "data": {
      "text/plain": [
       "0.7027786929887427"
      ]
     },
     "execution_count": 125,
     "metadata": {},
     "output_type": "execute_result"
    }
   ],
   "source": [
    "reg.score(X_test, y_test)"
   ]
  },
  {
   "cell_type": "code",
   "execution_count": 126,
   "metadata": {},
   "outputs": [
    {
     "data": {
      "text/plain": [
       "0.7012230129869391"
      ]
     },
     "execution_count": 126,
     "metadata": {},
     "output_type": "execute_result"
    }
   ],
   "source": [
    "r2_test = reg.score(X_test, y_test)\n",
    "n = X_test.shape[0]\n",
    "p = X_test.shape[1]\n",
    "\n",
    "adjusted_r2_test = 1-(1-r2_test)*(n-1)/(n-p-1)\n",
    "adjusted_r2_test"
   ]
  },
  {
   "cell_type": "code",
   "execution_count": 127,
   "metadata": {},
   "outputs": [],
   "source": [
    "y_test_pred = reg.predict(X_test)"
   ]
  },
  {
   "cell_type": "code",
   "execution_count": 128,
   "metadata": {},
   "outputs": [
    {
     "name": "stdout",
     "output_type": "stream",
     "text": [
      "Mean Absolute Error: 123704.29845359178\n",
      "Mean Squared Error: 39547299966.78129\n",
      "Root Mean Squared Error: 198865.02952198833\n"
     ]
    }
   ],
   "source": [
    "test_mae = metrics.mean_absolute_error(y_test, y_test_pred)\n",
    "test_mse = metrics.mean_squared_error(y_test, y_test_pred)\n",
    "test_rmse = np.sqrt(metrics.mean_squared_error(y_test, y_test_pred))\n",
    "\n",
    "print('Mean Absolute Error:', test_mae )\n",
    "print('Mean Squared Error:',  test_mse)\n",
    "print('Root Mean Squared Error:' , test_rmse)"
   ]
  },
  {
   "cell_type": "code",
   "execution_count": 129,
   "metadata": {},
   "outputs": [
    {
     "name": "stdout",
     "output_type": "stream",
     "text": [
      "Mean Absolute Error  Z: 0.3313635402840597\n",
      "Root Mean Squared Error Z: 0.5326946682117235\n"
     ]
    }
   ],
   "source": [
    "print('Mean Absolute Error  Z:', test_mae/price_std )\n",
    "print('Root Mean Squared Error Z:' , test_rmse/price_std)"
   ]
  },
  {
   "cell_type": "code",
   "execution_count": 130,
   "metadata": {},
   "outputs": [
    {
     "data": {
      "text/plain": [
       "Text(0, 0.5, 'Predictions')"
      ]
     },
     "execution_count": 130,
     "metadata": {},
     "output_type": "execute_result"
    },
    {
     "data": {
      "image/png": "[encoded data removed]",
      "text/plain": [
       "<Figure size 432x288 with 1 Axes>"
      ]
     },
     "metadata": {
      "needs_background": "light"
     },
     "output_type": "display_data"
    }
   ],
   "source": [
    "plt.scatter(y_test, y_test_pred, alpha=0.3)\n",
    "plt.xlabel(\"True Values\")\n",
    "plt.ylabel(\"Predictions\")"
   ]
  },
  {
   "cell_type": "code",
   "execution_count": 131,
   "metadata": {},
   "outputs": [
    {
     "data": {
      "text/plain": [
       "0.7027786929887427"
      ]
     },
     "execution_count": 131,
     "metadata": {},
     "output_type": "execute_result"
    }
   ],
   "source": [
    "r2_test"
   ]
  },
  {
   "cell_type": "code",
   "execution_count": 132,
   "metadata": {},
   "outputs": [
    {
     "data": {
      "text/plain": [
       "<matplotlib.axes._subplots.AxesSubplot at 0x1c286acc10>"
      ]
     },
     "execution_count": 132,
     "metadata": {},
     "output_type": "execute_result"
    },
    {
     "data": {
      "image/png": "[encoded data removed]",
      "text/plain": [
       "<Figure size 432x288 with 1 Axes>"
      ]
     },
     "metadata": {
      "needs_background": "light"
     },
     "output_type": "display_data"
    }
   ],
   "source": [
    "sns.residplot(y_test_pred, y_test, lowess=True, color=\"g\")"
   ]
  },
  {
   "cell_type": "markdown",
   "metadata": {},
   "source": [
    "#### Updated summary table of all models"
   ]
  },
  {
   "cell_type": "code",
   "execution_count": 133,
   "metadata": {},
   "outputs": [
    {
     "data": {
      "text/html": [
       "<div>\n",
       "<style scoped>\n",
       "    .dataframe tbody tr th:only-of-type {\n",
       "        vertical-align: middle;\n",
       "    }\n",
       "\n",
       "    .dataframe tbody tr th {\n",
       "        vertical-align: top;\n",
       "    }\n",
       "\n",
       "    .dataframe thead th {\n",
       "        text-align: right;\n",
       "    }\n",
       "</style>\n",
       "<table border=\"1\" class=\"dataframe\">\n",
       "  <thead>\n",
       "    <tr style=\"text-align: right;\">\n",
       "      <th></th>\n",
       "      <th>Model</th>\n",
       "      <th>Description</th>\n",
       "      <th>Root Mean Squared Error (RMSE)</th>\n",
       "      <th>R-squared (training)</th>\n",
       "      <th>Adjusted R-squared (training)</th>\n",
       "      <th>R-squared (test)</th>\n",
       "      <th>Adjusted R-squared (test)</th>\n",
       "      <th>5-fold Cross Validation</th>\n",
       "    </tr>\n",
       "  </thead>\n",
       "  <tbody>\n",
       "    <tr>\n",
       "      <td>0</td>\n",
       "      <td>Multiple Regression-1</td>\n",
       "      <td>All features, no pre-processing</td>\n",
       "      <td>206631.858</td>\n",
       "      <td>0.697</td>\n",
       "      <td>0.697</td>\n",
       "      <td>0.703</td>\n",
       "      <td>0.701</td>\n",
       "      <td>nan</td>\n",
       "    </tr>\n",
       "    <tr>\n",
       "      <td>1</td>\n",
       "      <td>Multiple Regression-2</td>\n",
       "      <td>Minus sqft_above</td>\n",
       "      <td>206631.858</td>\n",
       "      <td>0.697</td>\n",
       "      <td>0.697</td>\n",
       "      <td>0.703</td>\n",
       "      <td>0.701</td>\n",
       "      <td>nan</td>\n",
       "    </tr>\n",
       "    <tr>\n",
       "      <td>2</td>\n",
       "      <td>Multiple Regression-3</td>\n",
       "      <td>All features 1st degree polynomial</td>\n",
       "      <td>206631.858</td>\n",
       "      <td>0.697</td>\n",
       "      <td>0.697</td>\n",
       "      <td>0.703</td>\n",
       "      <td>0.701</td>\n",
       "      <td>nan</td>\n",
       "    </tr>\n",
       "    <tr>\n",
       "      <td>3</td>\n",
       "      <td>Multiple Regression-4</td>\n",
       "      <td>All features, 2nd degree polynomial</td>\n",
       "      <td>152191.486</td>\n",
       "      <td>0.836</td>\n",
       "      <td>0.833</td>\n",
       "      <td>0.812</td>\n",
       "      <td>0.801</td>\n",
       "      <td>nan</td>\n",
       "    </tr>\n",
       "    <tr>\n",
       "      <td>4</td>\n",
       "      <td>Multiple Regression-5</td>\n",
       "      <td>minus sqft_above 1st degree polynomial</td>\n",
       "      <td>206631.858</td>\n",
       "      <td>0.697</td>\n",
       "      <td>0.697</td>\n",
       "      <td>0.703</td>\n",
       "      <td>0.701</td>\n",
       "      <td>nan</td>\n",
       "    </tr>\n",
       "  </tbody>\n",
       "</table>\n",
       "</div>"
      ],
      "text/plain": [
       "                   Model                             Description  \\\n",
       "0  Multiple Regression-1         All features, no pre-processing   \n",
       "1  Multiple Regression-2                        Minus sqft_above   \n",
       "2  Multiple Regression-3      All features 1st degree polynomial   \n",
       "3  Multiple Regression-4     All features, 2nd degree polynomial   \n",
       "4  Multiple Regression-5  minus sqft_above 1st degree polynomial   \n",
       "\n",
       "   Root Mean Squared Error (RMSE)  R-squared (training)  \\\n",
       "0                      206631.858                 0.697   \n",
       "1                      206631.858                 0.697   \n",
       "2                      206631.858                 0.697   \n",
       "3                      152191.486                 0.836   \n",
       "4                      206631.858                 0.697   \n",
       "\n",
       "   Adjusted R-squared (training)  R-squared (test)  Adjusted R-squared (test)  \\\n",
       "0                          0.697             0.703                      0.701   \n",
       "1                          0.697             0.703                      0.701   \n",
       "2                          0.697             0.703                      0.701   \n",
       "3                          0.833             0.812                      0.801   \n",
       "4                          0.697             0.703                      0.701   \n",
       "\n",
       "   5-fold Cross Validation  \n",
       "0                      nan  \n",
       "1                      nan  \n",
       "2                      nan  \n",
       "3                      nan  \n",
       "4                      nan  "
      ]
     },
     "execution_count": 133,
     "metadata": {},
     "output_type": "execute_result"
    }
   ],
   "source": [
    "summary_df = summary_df.append({'Model' : 'Multiple Regression-5', 'Description' : 'minus sqft_above 1st degree polynomial' , 'Root Mean Squared Error (RMSE)' : train_rmse, 'R-squared (training)' : r2_train, 'Adjusted R-squared (training)': adjusted_r2_train, 'R-squared (test)' : r2_test, 'Adjusted R-squared (test)' : adjusted_r2_test} , ignore_index=True)\n",
    "summary_df"
   ]
  },
  {
   "cell_type": "code",
   "execution_count": null,
   "metadata": {},
   "outputs": [],
   "source": []
  },
  {
   "cell_type": "markdown",
   "metadata": {},
   "source": [
    "### Multiple Regression - 6 (minus sft_above, polynomial 2nd degree)"
   ]
  },
  {
   "cell_type": "code",
   "execution_count": 134,
   "metadata": {},
   "outputs": [],
   "source": [
    "target = df['price']\n",
    "features2 = df[['bedrooms', 'bathrooms', 'sqft_living', 'sqft_lot', 'floors', 'waterfront', 'view' , 'condition', 'grade', 'sqft_basement', 'yr_built', 'yr_renovated',\n",
    "       'zipcode', 'lat', 'long', 'sqft_living15', 'sqft_lot15']]"
   ]
  },
  {
   "cell_type": "code",
   "execution_count": 135,
   "metadata": {},
   "outputs": [
    {
     "data": {
      "text/plain": [
       "StandardScaler(copy=True, with_mean=True, with_std=True)"
      ]
     },
     "execution_count": 135,
     "metadata": {},
     "output_type": "execute_result"
    }
   ],
   "source": [
    "scaler.fit(features2)"
   ]
  },
  {
   "cell_type": "code",
   "execution_count": 136,
   "metadata": {},
   "outputs": [
    {
     "data": {
      "text/plain": [
       "array([[ 0.66806994,  0.17918873, -0.01246164, ...,  0.37101341,\n",
       "         0.58706685, -0.19001514],\n",
       "       [ 1.73267171,  1.15264072,  0.88972019, ..., -0.50223539,\n",
       "         0.55786051, -0.24205974],\n",
       "       [ 0.66806994,  0.50367273,  1.83538065, ...,  0.60529967,\n",
       "         2.51468528, -0.11710863],\n",
       "       ...,\n",
       "       [-0.39653183, -1.44323124, -1.12116701, ..., -0.33894497,\n",
       "        -0.33293285, -0.12746613],\n",
       "       [-0.39653183, -0.79426325, -0.19724586, ...,  1.59214181,\n",
       "         0.13436859,  3.49490383],\n",
       "       [-0.39653183, -0.79426325, -0.81681651, ..., -0.74362124,\n",
       "        -0.97547232, -0.21903083]])"
      ]
     },
     "execution_count": 136,
     "metadata": {},
     "output_type": "execute_result"
    }
   ],
   "source": [
    "features_scaled = scaler.transform(features2)\n",
    "features_scaled\n"
   ]
  },
  {
   "cell_type": "markdown",
   "metadata": {},
   "source": [
    "#### Training data"
   ]
  },
  {
   "cell_type": "code",
   "execution_count": 137,
   "metadata": {},
   "outputs": [
    {
     "name": "stdout",
     "output_type": "stream",
     "text": [
      "Training set - Features:  (13832, 17) Target:  (13832,)\n",
      "Training set - Features:  (3458, 17) Target:  (3458,)\n"
     ]
    }
   ],
   "source": [
    "# call train_test_split on the data and capture the results\n",
    "X_train, X_test, y_train, y_test = train_test_split(features_scaled, target, random_state=42,test_size=0.2)\n",
    "\n",
    "#check the shape of the results\n",
    "print(\"Training set - Features: \", X_train.shape, \"Target: \", y_train.shape)\n",
    "print(\"Training set - Features: \", X_test.shape, \"Target: \",y_test.shape)\n"
   ]
  },
  {
   "cell_type": "code",
   "execution_count": 138,
   "metadata": {},
   "outputs": [],
   "source": [
    "poly = PolynomialFeatures(2)\n",
    "X_train = poly.fit_transform(X_train)\n",
    "X_test = poly.fit_transform(X_test)"
   ]
  },
  {
   "cell_type": "code",
   "execution_count": 139,
   "metadata": {},
   "outputs": [
    {
     "data": {
      "text/plain": [
       "LinearRegression(copy_X=True, fit_intercept=True, n_jobs=None, normalize=False)"
      ]
     },
     "execution_count": 139,
     "metadata": {},
     "output_type": "execute_result"
    }
   ],
   "source": [
    "reg = LinearRegression()\n",
    "reg.fit(X_train,y_train)"
   ]
  },
  {
   "cell_type": "markdown",
   "metadata": {},
   "source": [
    "#### Get coefficients"
   ]
  },
  {
   "cell_type": "code",
   "execution_count": 140,
   "metadata": {},
   "outputs": [
    {
     "data": {
      "text/plain": [
       "array([-5.81795614e+09, -3.93015722e+03,  1.45191988e+04,  1.09041118e+05,\n",
       "        1.65290035e+04, -1.24328090e+04, -7.35142419e+14,  1.21085644e+04,\n",
       "        2.77965967e+04,  8.76631094e+04, -1.27655332e+04, -1.82532969e+04,\n",
       "       -8.67814703e+05, -4.96910742e+04,  7.72038594e+04, -5.86973281e+04,\n",
       "        4.31345938e+04, -2.06870117e+04,  8.91750000e+02,  3.11521484e+03,\n",
       "       -2.21425142e+04, -2.39989746e+03,  9.80003516e+03,  5.25335938e+02,\n",
       "       -8.57277344e+02, -2.72416406e+03, -2.83520312e+03,  1.58596875e+03,\n",
       "       -5.21666992e+03, -2.42824023e+03,  1.69746240e+03, -4.39863281e+03,\n",
       "        7.49677344e+03,  9.69824805e+03,  7.82872705e+03,  5.50563477e+02,\n",
       "        1.78867227e+04, -1.72734219e+04, -1.41289141e+04,  2.43651562e+03,\n",
       "        5.36450391e+03, -4.39035547e+03,  1.41792295e+04, -1.43307500e+04,\n",
       "        3.05367993e+03, -7.78629102e+03, -3.63531055e+03,  1.06155265e+04,\n",
       "       -9.29125781e+03, -1.47269531e+02,  4.78001562e+03,  1.10760156e+04,\n",
       "       -1.41553652e+04, -1.12068481e+04,  1.77833828e+04,  1.05312928e+04,\n",
       "        5.31412500e+03,  4.45216094e+04, -2.71188892e+03,  2.51081738e+03,\n",
       "        9.35267188e+03, -4.20555586e+04,  3.18946328e+04, -4.33139717e+04,\n",
       "       -2.37657500e+04, -6.61246094e+02, -3.82656250e+02,  9.31595654e+03,\n",
       "       -4.21812500e+03,  3.71337891e+02,  4.19670703e+03,  1.30181211e+04,\n",
       "        4.40193970e+03,  1.07092188e+04, -5.45686584e+03,  6.80196094e+03,\n",
       "       -9.53007812e+02,  8.52395654e+03, -6.91565820e+03,  8.31437500e+02,\n",
       "        7.75193359e+03, -7.31274609e+03, -5.32993750e+03,  9.10270117e+03,\n",
       "        3.73394531e+02,  5.62982812e+03,  8.46875000e+01,  1.40725781e+03,\n",
       "        1.88661094e+04, -8.81593750e+03,  1.08141523e+04,  5.82813281e+03,\n",
       "       -2.26439966e+03,  6.64755565e+13,  2.57798877e+03,  9.60083984e+02,\n",
       "       -7.40270898e+03, -4.22603125e+03, -1.66690576e+03, -2.90761914e+03,\n",
       "       -3.04952539e+03,  1.28027808e+04,  1.86337061e+04,  1.71873438e+03,\n",
       "        7.77048633e+03,  4.31163672e+03,  3.55278125e+03,  3.87265625e+01,\n",
       "       -1.24453203e+04,  5.62478125e+03, -1.82874170e+03, -1.43017383e+03,\n",
       "        5.56353516e+02, -5.66270312e+03, -1.37624609e+03, -7.39128906e+03,\n",
       "       -2.74017188e+03, -3.24753906e+02,  6.62883252e+03, -3.25310156e+03,\n",
       "       -5.24251172e+03, -2.83039062e+02, -2.70661328e+03, -2.77367969e+03,\n",
       "        1.39594062e+04, -2.93090234e+03, -4.46432812e+03, -4.23927344e+03,\n",
       "       -8.21342969e+03,  3.49297070e+03, -7.54069922e+03,  2.29526250e+04,\n",
       "       -2.51476836e+04, -2.89453125e+03, -1.00424062e+04, -7.98285156e+03,\n",
       "        1.24727344e+03,  3.70966797e+03,  1.74318789e+04, -6.49485938e+03,\n",
       "        7.05822266e+03,  1.86031484e+04, -3.01656445e+03,  2.07011641e+04,\n",
       "       -2.08535156e+03,  1.57747773e+04, -1.96637969e+04,  2.72818516e+04,\n",
       "       -3.22855859e+04,  6.74582031e+03,  1.93223969e+05, -6.49474512e+03,\n",
       "       -6.54194629e+03,  1.56143848e+03,  7.29580273e+03,  1.37335181e+03,\n",
       "        7.09512500e+03, -2.06754297e+03,  7.83042969e+03,  5.28682422e+03,\n",
       "       -4.39938672e+03, -4.88239844e+04, -3.25670000e+04,  3.74273828e+03,\n",
       "       -1.36996328e+04,  4.48515625e+03,  8.62578906e+03,  2.94747656e+03,\n",
       "        1.24238281e+04,  2.04591016e+03,  7.09562500e+02])"
      ]
     },
     "execution_count": 140,
     "metadata": {},
     "output_type": "execute_result"
    }
   ],
   "source": [
    "reg.coef_"
   ]
  },
  {
   "cell_type": "markdown",
   "metadata": {},
   "source": [
    "#### Get intercept"
   ]
  },
  {
   "cell_type": "code",
   "execution_count": 141,
   "metadata": {},
   "outputs": [
    {
     "data": {
      "text/plain": [
       "-66469738254134.445"
      ]
     },
     "execution_count": 141,
     "metadata": {},
     "output_type": "execute_result"
    }
   ],
   "source": [
    "reg.intercept_"
   ]
  },
  {
   "cell_type": "markdown",
   "metadata": {},
   "source": [
    "#### Feature summary and weights"
   ]
  },
  {
   "cell_type": "code",
   "execution_count": 142,
   "metadata": {},
   "outputs": [
    {
     "data": {
      "text/html": [
       "<div>\n",
       "<style scoped>\n",
       "    .dataframe tbody tr th:only-of-type {\n",
       "        vertical-align: middle;\n",
       "    }\n",
       "\n",
       "    .dataframe tbody tr th {\n",
       "        vertical-align: top;\n",
       "    }\n",
       "\n",
       "    .dataframe thead th {\n",
       "        text-align: right;\n",
       "    }\n",
       "</style>\n",
       "<table border=\"1\" class=\"dataframe\">\n",
       "  <thead>\n",
       "    <tr style=\"text-align: right;\">\n",
       "      <th></th>\n",
       "      <th>Features</th>\n",
       "    </tr>\n",
       "  </thead>\n",
       "  <tbody>\n",
       "    <tr>\n",
       "      <td>0</td>\n",
       "      <td>bedrooms</td>\n",
       "    </tr>\n",
       "    <tr>\n",
       "      <td>1</td>\n",
       "      <td>bathrooms</td>\n",
       "    </tr>\n",
       "    <tr>\n",
       "      <td>2</td>\n",
       "      <td>sqft_living</td>\n",
       "    </tr>\n",
       "    <tr>\n",
       "      <td>3</td>\n",
       "      <td>sqft_lot</td>\n",
       "    </tr>\n",
       "    <tr>\n",
       "      <td>4</td>\n",
       "      <td>floors</td>\n",
       "    </tr>\n",
       "    <tr>\n",
       "      <td>5</td>\n",
       "      <td>waterfront</td>\n",
       "    </tr>\n",
       "    <tr>\n",
       "      <td>6</td>\n",
       "      <td>view</td>\n",
       "    </tr>\n",
       "    <tr>\n",
       "      <td>7</td>\n",
       "      <td>condition</td>\n",
       "    </tr>\n",
       "    <tr>\n",
       "      <td>8</td>\n",
       "      <td>grade</td>\n",
       "    </tr>\n",
       "    <tr>\n",
       "      <td>9</td>\n",
       "      <td>sqft_basement</td>\n",
       "    </tr>\n",
       "    <tr>\n",
       "      <td>10</td>\n",
       "      <td>yr_built</td>\n",
       "    </tr>\n",
       "    <tr>\n",
       "      <td>11</td>\n",
       "      <td>yr_renovated</td>\n",
       "    </tr>\n",
       "    <tr>\n",
       "      <td>12</td>\n",
       "      <td>zipcode</td>\n",
       "    </tr>\n",
       "    <tr>\n",
       "      <td>13</td>\n",
       "      <td>lat</td>\n",
       "    </tr>\n",
       "    <tr>\n",
       "      <td>14</td>\n",
       "      <td>long</td>\n",
       "    </tr>\n",
       "    <tr>\n",
       "      <td>15</td>\n",
       "      <td>sqft_living15</td>\n",
       "    </tr>\n",
       "    <tr>\n",
       "      <td>16</td>\n",
       "      <td>sqft_lot15</td>\n",
       "    </tr>\n",
       "  </tbody>\n",
       "</table>\n",
       "</div>"
      ],
      "text/plain": [
       "         Features\n",
       "0        bedrooms\n",
       "1       bathrooms\n",
       "2     sqft_living\n",
       "3        sqft_lot\n",
       "4          floors\n",
       "5      waterfront\n",
       "6            view\n",
       "7       condition\n",
       "8           grade\n",
       "9   sqft_basement\n",
       "10       yr_built\n",
       "11   yr_renovated\n",
       "12        zipcode\n",
       "13            lat\n",
       "14           long\n",
       "15  sqft_living15\n",
       "16     sqft_lot15"
      ]
     },
     "execution_count": 142,
     "metadata": {},
     "output_type": "execute_result"
    }
   ],
   "source": [
    "features2_df = pd.DataFrame(data = features2.columns.values, columns=['Features'])\n",
    "features2_df"
   ]
  },
  {
   "cell_type": "code",
   "execution_count": 143,
   "metadata": {},
   "outputs": [
    {
     "data": {
      "text/plain": [
       "array([            nan, 1.10680784e-301, 0.00000000e+000, 0.00000000e+000,\n",
       "       8.41668610e-024, 4.15765685e-208, 1.94648933e-238, 0.00000000e+000,\n",
       "       2.37560983e-007, 0.00000000e+000, 0.00000000e+000, 5.33231772e-011,\n",
       "       4.01878922e-043, 2.97836695e-010, 8.58462842e-285, 9.98917315e-003,\n",
       "       0.00000000e+000, 1.17572027e-019, 2.32603421e-003, 1.00092091e-203,\n",
       "       0.00000000e+000, 1.67519591e-003, 1.15884563e-036, 4.32547935e-035,\n",
       "       8.37522008e-122, 1.98548415e-001, 3.09178183e-272, 2.15962016e-102,\n",
       "       6.57745225e-005, 7.58380412e-015, 8.30332384e-003, 2.87527791e-031,\n",
       "       1.19828520e-002, 6.26728740e-227, 3.58596558e-004, 0.00000000e+000,\n",
       "       0.00000000e+000, 3.40974913e-025, 1.74516701e-096, 3.84718547e-245,\n",
       "       0.00000000e+000, 1.49518956e-001, 0.00000000e+000, 0.00000000e+000,\n",
       "       6.09979276e-002, 6.87778777e-064, 2.10162534e-008, 1.49321412e-058,\n",
       "       5.72694131e-002, 0.00000000e+000, 2.02471087e-022, 0.00000000e+000,\n",
       "       2.02641546e-037, 4.56063232e-296, 0.00000000e+000, 0.00000000e+000,\n",
       "       5.14038014e-001, 0.00000000e+000, 0.00000000e+000, 4.98931948e-022,\n",
       "       7.65537679e-116, 1.25823205e-055, 8.26164305e-111, 3.05211094e-002,\n",
       "       0.00000000e+000, 5.47633216e-031, 2.78276879e-004, 9.81337366e-010,\n",
       "       3.25024619e-021, 1.92982556e-003, 1.18993496e-004, 4.84789647e-028,\n",
       "       2.69474935e-001, 1.73114360e-014, 1.54220032e-001, 2.79221947e-007,\n",
       "       3.53329750e-001, 3.93561804e-008, 5.68237047e-019, 1.29500936e-006,\n",
       "       1.06590845e-011, 7.15577490e-037, 3.29727871e-054, 2.26071912e-002,\n",
       "       3.69753991e-235, 1.57225977e-010, 4.11427372e-018, 1.55167267e-009,\n",
       "       8.61306508e-004, 3.41516318e-003, 1.29094734e-003, 1.38411830e-090,\n",
       "       4.38009899e-009, 1.94648933e-238, 2.41691213e-226, 1.25357152e-001,\n",
       "       1.12546668e-271, 2.44794781e-218, 4.89068791e-003, 3.52709758e-035,\n",
       "       2.19076799e-001, 4.87437115e-013, 5.35557618e-002, 1.06625278e-269,\n",
       "       5.12197129e-016, 0.00000000e+000, 1.18535437e-014, 0.00000000e+000,\n",
       "       0.00000000e+000, 4.03157892e-001, 3.58958017e-044, 1.26550010e-001,\n",
       "       2.00562501e-023, 6.58979582e-027, 0.00000000e+000, 2.25756525e-004,\n",
       "       1.11519441e-005, 1.79787699e-001, 8.83426730e-027, 3.33898176e-042,\n",
       "       1.33591314e-008, 8.64709355e-017, 2.28140179e-006, 4.03552861e-025,\n",
       "       4.99070243e-004, 2.17790940e-007, 0.00000000e+000, 0.00000000e+000,\n",
       "       2.13126298e-021, 2.82895619e-052, 3.12836424e-037, 1.16964265e-049,\n",
       "       1.20860638e-004, 0.00000000e+000, 3.02219409e-032, 0.00000000e+000,\n",
       "       1.14951146e-013, 1.37503416e-085, 3.36963843e-007, 3.29481526e-011,\n",
       "       8.78772108e-014, 3.98104408e-311, 8.08729781e-002, 7.51026342e-047,\n",
       "       1.43610568e-029, 2.83780329e-013, 1.51123816e-009, 6.51678011e-021,\n",
       "       1.82777567e-014, 6.24287598e-022, 1.99708554e-043, 7.86217080e-002,\n",
       "       6.07997404e-004, 4.33013814e-017, 4.61059155e-032, 5.31236955e-001,\n",
       "       5.17878997e-010, 2.44834475e-056, 1.73443074e-001, 1.11264240e-074,\n",
       "       2.29141102e-007, 7.97353704e-249, 2.43406425e-001, 8.35381092e-045,\n",
       "       4.93523005e-001, 1.34936988e-005, 2.42371316e-016, 2.14402588e-006,\n",
       "       0.00000000e+000, 1.63956947e-023, 2.20866158e-004])"
      ]
     },
     "execution_count": 143,
     "metadata": {},
     "output_type": "execute_result"
    }
   ],
   "source": [
    "p_values = f_regression(X_train,y_train)[1]\n",
    "p_values"
   ]
  },
  {
   "cell_type": "markdown",
   "metadata": {},
   "source": [
    "#### Get r^2 score and adjusted r^2 score"
   ]
  },
  {
   "cell_type": "code",
   "execution_count": 144,
   "metadata": {},
   "outputs": [
    {
     "data": {
      "text/plain": [
       "0.8356320287718904"
      ]
     },
     "execution_count": 144,
     "metadata": {},
     "output_type": "execute_result"
    }
   ],
   "source": [
    "r2_train = reg.score(X_train, y_train)\n",
    "r2_train"
   ]
  },
  {
   "cell_type": "code",
   "execution_count": 145,
   "metadata": {},
   "outputs": [
    {
     "data": {
      "text/plain": [
       "0.8335744209329441"
      ]
     },
     "execution_count": 145,
     "metadata": {},
     "output_type": "execute_result"
    }
   ],
   "source": [
    "n = X_train.shape[0]\n",
    "p = X_train.shape[1]\n",
    "\n",
    "adjusted_r2_train = 1-(1-r2_train)*(n-1)/(n-p-1)\n",
    "adjusted_r2_train"
   ]
  },
  {
   "cell_type": "markdown",
   "metadata": {},
   "source": [
    "#### Get error"
   ]
  },
  {
   "cell_type": "code",
   "execution_count": 146,
   "metadata": {},
   "outputs": [],
   "source": [
    "y_train_pred = reg.predict(X_train)"
   ]
  },
  {
   "cell_type": "code",
   "execution_count": 147,
   "metadata": {},
   "outputs": [
    {
     "name": "stdout",
     "output_type": "stream",
     "text": [
      "Mean Absolute Error: 98896.97666755531\n",
      "Mean Squared Error: 23162175094.31994\n",
      "Root Mean Squared Error: 152191.24513032916\n"
     ]
    }
   ],
   "source": [
    "train_mae = metrics.mean_absolute_error(y_train, y_train_pred)\n",
    "train_mse = metrics.mean_squared_error(y_train, y_train_pred)\n",
    "train_rmse = np.sqrt(metrics.mean_squared_error(y_train, y_train_pred))\n",
    "\n",
    "print('Mean Absolute Error:', train_mae )\n",
    "print('Mean Squared Error:',  train_mse)\n",
    "print('Root Mean Squared Error:' , train_rmse)"
   ]
  },
  {
   "cell_type": "code",
   "execution_count": 148,
   "metadata": {},
   "outputs": [
    {
     "name": "stdout",
     "output_type": "stream",
     "text": [
      "Mean Absolute Error: 0.26491280191241945\n",
      "Root Mean Squared Error: 0.4076707957366923\n"
     ]
    }
   ],
   "source": [
    "price_std = target.std()\n",
    "\n",
    "print('Mean Absolute Error:', train_mae/price_std )\n",
    "print('Root Mean Squared Error:' , train_rmse/price_std)"
   ]
  },
  {
   "cell_type": "markdown",
   "metadata": {},
   "source": [
    "#### Test Data"
   ]
  },
  {
   "cell_type": "code",
   "execution_count": 149,
   "metadata": {},
   "outputs": [
    {
     "data": {
      "text/plain": [
       "0.8122088588456771"
      ]
     },
     "execution_count": 149,
     "metadata": {},
     "output_type": "execute_result"
    }
   ],
   "source": [
    "reg.score(X_test, y_test)"
   ]
  },
  {
   "cell_type": "code",
   "execution_count": 150,
   "metadata": {},
   "outputs": [
    {
     "data": {
      "text/plain": [
       "0.8024364044520711"
      ]
     },
     "execution_count": 150,
     "metadata": {},
     "output_type": "execute_result"
    }
   ],
   "source": [
    "r2_test = reg.score(X_test, y_test)\n",
    "n = X_test.shape[0]\n",
    "p = X_test.shape[1]\n",
    "\n",
    "adjusted_r2_test = 1-(1-r2_test)*(n-1)/(n-p-1)\n",
    "adjusted_r2_test"
   ]
  },
  {
   "cell_type": "code",
   "execution_count": 151,
   "metadata": {},
   "outputs": [],
   "source": [
    "y_test_pred = reg.predict(X_test)"
   ]
  },
  {
   "cell_type": "code",
   "execution_count": 152,
   "metadata": {},
   "outputs": [
    {
     "name": "stdout",
     "output_type": "stream",
     "text": [
      "Mean Absolute Error: 100709.39806698236\n",
      "Mean Squared Error: 24986878178.46415\n",
      "Root Mean Squared Error: 158072.38271900677\n"
     ]
    }
   ],
   "source": [
    "test_mae = metrics.mean_absolute_error(y_test, y_test_pred)\n",
    "test_mse = metrics.mean_squared_error(y_test, y_test_pred)\n",
    "test_rmse = np.sqrt(metrics.mean_squared_error(y_test, y_test_pred))\n",
    "\n",
    "print('Mean Absolute Error:', test_mae )\n",
    "print('Mean Squared Error:',  test_mse)\n",
    "print('Root Mean Squared Error:' , test_rmse)"
   ]
  },
  {
   "cell_type": "code",
   "execution_count": 153,
   "metadata": {},
   "outputs": [
    {
     "name": "stdout",
     "output_type": "stream",
     "text": [
      "Mean Absolute Error  Z: 0.2697676887587811\n",
      "Root Mean Squared Error Z: 0.423424448573687\n"
     ]
    }
   ],
   "source": [
    "print('Mean Absolute Error  Z:', test_mae/price_std )\n",
    "print('Root Mean Squared Error Z:' , test_rmse/price_std)"
   ]
  },
  {
   "cell_type": "code",
   "execution_count": 154,
   "metadata": {},
   "outputs": [
    {
     "data": {
      "text/plain": [
       "Text(0, 0.5, 'Predictions')"
      ]
     },
     "execution_count": 154,
     "metadata": {},
     "output_type": "execute_result"
    },
    {
     "data": {
      "image/png": "[encoded data removed]",
      "text/plain": [
       "<Figure size 432x288 with 1 Axes>"
      ]
     },
     "metadata": {
      "needs_background": "light"
     },
     "output_type": "display_data"
    }
   ],
   "source": [
    "plt.scatter(y_test, y_test_pred, alpha=0.3)\n",
    "plt.xlabel(\"True Values\")\n",
    "plt.ylabel(\"Predictions\")"
   ]
  },
  {
   "cell_type": "code",
   "execution_count": 155,
   "metadata": {},
   "outputs": [
    {
     "data": {
      "text/plain": [
       "0.8122088588456771"
      ]
     },
     "execution_count": 155,
     "metadata": {},
     "output_type": "execute_result"
    }
   ],
   "source": [
    "r2_test"
   ]
  },
  {
   "cell_type": "code",
   "execution_count": 156,
   "metadata": {},
   "outputs": [
    {
     "data": {
      "text/plain": [
       "<matplotlib.axes._subplots.AxesSubplot at 0x1c2a95c510>"
      ]
     },
     "execution_count": 156,
     "metadata": {},
     "output_type": "execute_result"
    },
    {
     "data": {
      "image/png": "[encoded data removed]",
      "text/plain": [
       "<Figure size 432x288 with 1 Axes>"
      ]
     },
     "metadata": {
      "needs_background": "light"
     },
     "output_type": "display_data"
    }
   ],
   "source": [
    "sns.residplot(y_test_pred, y_test, lowess=True, color=\"g\")"
   ]
  },
  {
   "cell_type": "markdown",
   "metadata": {},
   "source": [
    "#### Updated summary table of all models"
   ]
  },
  {
   "cell_type": "code",
   "execution_count": 157,
   "metadata": {
    "scrolled": false
   },
   "outputs": [
    {
     "data": {
      "text/html": [
       "<div>\n",
       "<style scoped>\n",
       "    .dataframe tbody tr th:only-of-type {\n",
       "        vertical-align: middle;\n",
       "    }\n",
       "\n",
       "    .dataframe tbody tr th {\n",
       "        vertical-align: top;\n",
       "    }\n",
       "\n",
       "    .dataframe thead th {\n",
       "        text-align: right;\n",
       "    }\n",
       "</style>\n",
       "<table border=\"1\" class=\"dataframe\">\n",
       "  <thead>\n",
       "    <tr style=\"text-align: right;\">\n",
       "      <th></th>\n",
       "      <th>Model</th>\n",
       "      <th>Description</th>\n",
       "      <th>Root Mean Squared Error (RMSE)</th>\n",
       "      <th>R-squared (training)</th>\n",
       "      <th>Adjusted R-squared (training)</th>\n",
       "      <th>R-squared (test)</th>\n",
       "      <th>Adjusted R-squared (test)</th>\n",
       "      <th>5-fold Cross Validation</th>\n",
       "    </tr>\n",
       "  </thead>\n",
       "  <tbody>\n",
       "    <tr>\n",
       "      <td>0</td>\n",
       "      <td>Multiple Regression-1</td>\n",
       "      <td>All features, no pre-processing</td>\n",
       "      <td>206631.858</td>\n",
       "      <td>0.697</td>\n",
       "      <td>0.697</td>\n",
       "      <td>0.703</td>\n",
       "      <td>0.701</td>\n",
       "      <td>nan</td>\n",
       "    </tr>\n",
       "    <tr>\n",
       "      <td>1</td>\n",
       "      <td>Multiple Regression-2</td>\n",
       "      <td>Minus sqft_above</td>\n",
       "      <td>206631.858</td>\n",
       "      <td>0.697</td>\n",
       "      <td>0.697</td>\n",
       "      <td>0.703</td>\n",
       "      <td>0.701</td>\n",
       "      <td>nan</td>\n",
       "    </tr>\n",
       "    <tr>\n",
       "      <td>2</td>\n",
       "      <td>Multiple Regression-3</td>\n",
       "      <td>All features 1st degree polynomial</td>\n",
       "      <td>206631.858</td>\n",
       "      <td>0.697</td>\n",
       "      <td>0.697</td>\n",
       "      <td>0.703</td>\n",
       "      <td>0.701</td>\n",
       "      <td>nan</td>\n",
       "    </tr>\n",
       "    <tr>\n",
       "      <td>3</td>\n",
       "      <td>Multiple Regression-4</td>\n",
       "      <td>All features, 2nd degree polynomial</td>\n",
       "      <td>152191.486</td>\n",
       "      <td>0.836</td>\n",
       "      <td>0.833</td>\n",
       "      <td>0.812</td>\n",
       "      <td>0.801</td>\n",
       "      <td>nan</td>\n",
       "    </tr>\n",
       "    <tr>\n",
       "      <td>4</td>\n",
       "      <td>Multiple Regression-5</td>\n",
       "      <td>minus sqft_above 1st degree polynomial</td>\n",
       "      <td>206631.858</td>\n",
       "      <td>0.697</td>\n",
       "      <td>0.697</td>\n",
       "      <td>0.703</td>\n",
       "      <td>0.701</td>\n",
       "      <td>nan</td>\n",
       "    </tr>\n",
       "    <tr>\n",
       "      <td>5</td>\n",
       "      <td>Multiple Regression-6</td>\n",
       "      <td>minus sqft_above, 2nd degree polynomial</td>\n",
       "      <td>152191.245</td>\n",
       "      <td>0.836</td>\n",
       "      <td>0.834</td>\n",
       "      <td>0.812</td>\n",
       "      <td>0.802</td>\n",
       "      <td>nan</td>\n",
       "    </tr>\n",
       "  </tbody>\n",
       "</table>\n",
       "</div>"
      ],
      "text/plain": [
       "                   Model                              Description  \\\n",
       "0  Multiple Regression-1          All features, no pre-processing   \n",
       "1  Multiple Regression-2                         Minus sqft_above   \n",
       "2  Multiple Regression-3       All features 1st degree polynomial   \n",
       "3  Multiple Regression-4      All features, 2nd degree polynomial   \n",
       "4  Multiple Regression-5   minus sqft_above 1st degree polynomial   \n",
       "5  Multiple Regression-6  minus sqft_above, 2nd degree polynomial   \n",
       "\n",
       "   Root Mean Squared Error (RMSE)  R-squared (training)  \\\n",
       "0                      206631.858                 0.697   \n",
       "1                      206631.858                 0.697   \n",
       "2                      206631.858                 0.697   \n",
       "3                      152191.486                 0.836   \n",
       "4                      206631.858                 0.697   \n",
       "5                      152191.245                 0.836   \n",
       "\n",
       "   Adjusted R-squared (training)  R-squared (test)  Adjusted R-squared (test)  \\\n",
       "0                          0.697             0.703                      0.701   \n",
       "1                          0.697             0.703                      0.701   \n",
       "2                          0.697             0.703                      0.701   \n",
       "3                          0.833             0.812                      0.801   \n",
       "4                          0.697             0.703                      0.701   \n",
       "5                          0.834             0.812                      0.802   \n",
       "\n",
       "   5-fold Cross Validation  \n",
       "0                      nan  \n",
       "1                      nan  \n",
       "2                      nan  \n",
       "3                      nan  \n",
       "4                      nan  \n",
       "5                      nan  "
      ]
     },
     "execution_count": 157,
     "metadata": {},
     "output_type": "execute_result"
    }
   ],
   "source": [
    "summary_df = summary_df.append({'Model' : 'Multiple Regression-6', 'Description' : 'minus sqft_above, 2nd degree polynomial' , 'Root Mean Squared Error (RMSE)' : train_rmse, 'R-squared (training)' : r2_train, 'Adjusted R-squared (training)': adjusted_r2_train, 'R-squared (test)' : r2_test, 'Adjusted R-squared (test)' : adjusted_r2_test} , ignore_index=True)\n",
    "summary_df"
   ]
  },
  {
   "cell_type": "markdown",
   "metadata": {},
   "source": [
    "### Multiple Regression - 7 (all features, no outliers)"
   ]
  },
  {
   "cell_type": "markdown",
   "metadata": {},
   "source": [
    "#### Clean data of outliers"
   ]
  },
  {
   "cell_type": "code",
   "execution_count": 158,
   "metadata": {},
   "outputs": [
    {
     "data": {
      "text/html": [
       "<div>\n",
       "<style scoped>\n",
       "    .dataframe tbody tr th:only-of-type {\n",
       "        vertical-align: middle;\n",
       "    }\n",
       "\n",
       "    .dataframe tbody tr th {\n",
       "        vertical-align: top;\n",
       "    }\n",
       "\n",
       "    .dataframe thead th {\n",
       "        text-align: right;\n",
       "    }\n",
       "</style>\n",
       "<table border=\"1\" class=\"dataframe\">\n",
       "  <thead>\n",
       "    <tr style=\"text-align: right;\">\n",
       "      <th></th>\n",
       "      <th>Unnamed: 0</th>\n",
       "      <th>id</th>\n",
       "      <th>price</th>\n",
       "      <th>bedrooms</th>\n",
       "      <th>bathrooms</th>\n",
       "      <th>sqft_living</th>\n",
       "      <th>sqft_lot</th>\n",
       "      <th>floors</th>\n",
       "      <th>waterfront</th>\n",
       "      <th>view</th>\n",
       "      <th>...</th>\n",
       "      <th>grade</th>\n",
       "      <th>sqft_above</th>\n",
       "      <th>sqft_basement</th>\n",
       "      <th>yr_built</th>\n",
       "      <th>yr_renovated</th>\n",
       "      <th>zipcode</th>\n",
       "      <th>lat</th>\n",
       "      <th>long</th>\n",
       "      <th>sqft_living15</th>\n",
       "      <th>sqft_lot15</th>\n",
       "    </tr>\n",
       "  </thead>\n",
       "  <tbody>\n",
       "    <tr>\n",
       "      <td>count</td>\n",
       "      <td>16686.000</td>\n",
       "      <td>16686.000</td>\n",
       "      <td>16686.000</td>\n",
       "      <td>16686.000</td>\n",
       "      <td>16686.000</td>\n",
       "      <td>16686.000</td>\n",
       "      <td>16686.000</td>\n",
       "      <td>16686.000</td>\n",
       "      <td>16686.000</td>\n",
       "      <td>16686.000</td>\n",
       "      <td>...</td>\n",
       "      <td>16686.000</td>\n",
       "      <td>16686.000</td>\n",
       "      <td>16686.000</td>\n",
       "      <td>16686.000</td>\n",
       "      <td>16686.000</td>\n",
       "      <td>16686.000</td>\n",
       "      <td>16686.000</td>\n",
       "      <td>16686.000</td>\n",
       "      <td>16686.000</td>\n",
       "      <td>16686.000</td>\n",
       "    </tr>\n",
       "    <tr>\n",
       "      <td>mean</td>\n",
       "      <td>8651.582</td>\n",
       "      <td>4601812007.583</td>\n",
       "      <td>513685.418</td>\n",
       "      <td>3.316</td>\n",
       "      <td>2.076</td>\n",
       "      <td>2026.835</td>\n",
       "      <td>11952.503</td>\n",
       "      <td>1.484</td>\n",
       "      <td>0.006</td>\n",
       "      <td>0.213</td>\n",
       "      <td>...</td>\n",
       "      <td>7.612</td>\n",
       "      <td>1749.481</td>\n",
       "      <td>277.353</td>\n",
       "      <td>1970.785</td>\n",
       "      <td>80.378</td>\n",
       "      <td>98078.634</td>\n",
       "      <td>47.560</td>\n",
       "      <td>-122.215</td>\n",
       "      <td>1965.263</td>\n",
       "      <td>11269.308</td>\n",
       "    </tr>\n",
       "    <tr>\n",
       "      <td>std</td>\n",
       "      <td>4991.902</td>\n",
       "      <td>2875028928.551</td>\n",
       "      <td>281390.094</td>\n",
       "      <td>0.830</td>\n",
       "      <td>0.728</td>\n",
       "      <td>835.617</td>\n",
       "      <td>19326.123</td>\n",
       "      <td>0.539</td>\n",
       "      <td>0.075</td>\n",
       "      <td>0.725</td>\n",
       "      <td>...</td>\n",
       "      <td>1.126</td>\n",
       "      <td>775.911</td>\n",
       "      <td>420.214</td>\n",
       "      <td>29.296</td>\n",
       "      <td>392.401</td>\n",
       "      <td>53.705</td>\n",
       "      <td>0.139</td>\n",
       "      <td>0.140</td>\n",
       "      <td>663.493</td>\n",
       "      <td>19835.739</td>\n",
       "    </tr>\n",
       "    <tr>\n",
       "      <td>min</td>\n",
       "      <td>0.000</td>\n",
       "      <td>1200019.000</td>\n",
       "      <td>75000.000</td>\n",
       "      <td>0.000</td>\n",
       "      <td>0.000</td>\n",
       "      <td>290.000</td>\n",
       "      <td>572.000</td>\n",
       "      <td>1.000</td>\n",
       "      <td>0.000</td>\n",
       "      <td>0.000</td>\n",
       "      <td>...</td>\n",
       "      <td>1.000</td>\n",
       "      <td>290.000</td>\n",
       "      <td>0.000</td>\n",
       "      <td>1900.000</td>\n",
       "      <td>0.000</td>\n",
       "      <td>98001.000</td>\n",
       "      <td>47.156</td>\n",
       "      <td>-122.512</td>\n",
       "      <td>399.000</td>\n",
       "      <td>659.000</td>\n",
       "    </tr>\n",
       "    <tr>\n",
       "      <td>25%</td>\n",
       "      <td>4336.250</td>\n",
       "      <td>2130826778.750</td>\n",
       "      <td>319000.000</td>\n",
       "      <td>3.000</td>\n",
       "      <td>1.500</td>\n",
       "      <td>1410.000</td>\n",
       "      <td>5029.250</td>\n",
       "      <td>1.000</td>\n",
       "      <td>0.000</td>\n",
       "      <td>0.000</td>\n",
       "      <td>...</td>\n",
       "      <td>7.000</td>\n",
       "      <td>1180.000</td>\n",
       "      <td>0.000</td>\n",
       "      <td>1951.000</td>\n",
       "      <td>0.000</td>\n",
       "      <td>98033.000</td>\n",
       "      <td>47.470</td>\n",
       "      <td>-122.330</td>\n",
       "      <td>1480.000</td>\n",
       "      <td>5100.000</td>\n",
       "    </tr>\n",
       "    <tr>\n",
       "      <td>50%</td>\n",
       "      <td>8661.500</td>\n",
       "      <td>3943600105.000</td>\n",
       "      <td>445000.000</td>\n",
       "      <td>3.000</td>\n",
       "      <td>2.250</td>\n",
       "      <td>1890.000</td>\n",
       "      <td>7560.000</td>\n",
       "      <td>1.000</td>\n",
       "      <td>0.000</td>\n",
       "      <td>0.000</td>\n",
       "      <td>...</td>\n",
       "      <td>7.000</td>\n",
       "      <td>1540.000</td>\n",
       "      <td>0.000</td>\n",
       "      <td>1974.000</td>\n",
       "      <td>0.000</td>\n",
       "      <td>98065.000</td>\n",
       "      <td>47.571</td>\n",
       "      <td>-122.232</td>\n",
       "      <td>1820.000</td>\n",
       "      <td>7561.500</td>\n",
       "    </tr>\n",
       "    <tr>\n",
       "      <td>75%</td>\n",
       "      <td>12969.750</td>\n",
       "      <td>7335400275.000</td>\n",
       "      <td>630000.000</td>\n",
       "      <td>4.000</td>\n",
       "      <td>2.500</td>\n",
       "      <td>2490.000</td>\n",
       "      <td>10400.000</td>\n",
       "      <td>2.000</td>\n",
       "      <td>0.000</td>\n",
       "      <td>0.000</td>\n",
       "      <td>...</td>\n",
       "      <td>8.000</td>\n",
       "      <td>2160.000</td>\n",
       "      <td>530.000</td>\n",
       "      <td>1996.000</td>\n",
       "      <td>0.000</td>\n",
       "      <td>98118.000</td>\n",
       "      <td>47.679</td>\n",
       "      <td>-122.127</td>\n",
       "      <td>2330.000</td>\n",
       "      <td>9967.250</td>\n",
       "    </tr>\n",
       "    <tr>\n",
       "      <td>max</td>\n",
       "      <td>17289.000</td>\n",
       "      <td>9900000190.000</td>\n",
       "      <td>1990000.000</td>\n",
       "      <td>5.000</td>\n",
       "      <td>6.000</td>\n",
       "      <td>7620.000</td>\n",
       "      <td>212639.000</td>\n",
       "      <td>3.500</td>\n",
       "      <td>1.000</td>\n",
       "      <td>4.000</td>\n",
       "      <td>...</td>\n",
       "      <td>12.000</td>\n",
       "      <td>6640.000</td>\n",
       "      <td>3260.000</td>\n",
       "      <td>2015.000</td>\n",
       "      <td>2015.000</td>\n",
       "      <td>98199.000</td>\n",
       "      <td>47.778</td>\n",
       "      <td>-121.315</td>\n",
       "      <td>5790.000</td>\n",
       "      <td>434728.000</td>\n",
       "    </tr>\n",
       "  </tbody>\n",
       "</table>\n",
       "<p>8 rows × 21 columns</p>\n",
       "</div>"
      ],
      "text/plain": [
       "       Unnamed: 0             id       price  bedrooms  bathrooms  \\\n",
       "count   16686.000      16686.000   16686.000 16686.000  16686.000   \n",
       "mean     8651.582 4601812007.583  513685.418     3.316      2.076   \n",
       "std      4991.902 2875028928.551  281390.094     0.830      0.728   \n",
       "min         0.000    1200019.000   75000.000     0.000      0.000   \n",
       "25%      4336.250 2130826778.750  319000.000     3.000      1.500   \n",
       "50%      8661.500 3943600105.000  445000.000     3.000      2.250   \n",
       "75%     12969.750 7335400275.000  630000.000     4.000      2.500   \n",
       "max     17289.000 9900000190.000 1990000.000     5.000      6.000   \n",
       "\n",
       "       sqft_living   sqft_lot    floors  waterfront      view  ...     grade  \\\n",
       "count    16686.000  16686.000 16686.000   16686.000 16686.000  ... 16686.000   \n",
       "mean      2026.835  11952.503     1.484       0.006     0.213  ...     7.612   \n",
       "std        835.617  19326.123     0.539       0.075     0.725  ...     1.126   \n",
       "min        290.000    572.000     1.000       0.000     0.000  ...     1.000   \n",
       "25%       1410.000   5029.250     1.000       0.000     0.000  ...     7.000   \n",
       "50%       1890.000   7560.000     1.000       0.000     0.000  ...     7.000   \n",
       "75%       2490.000  10400.000     2.000       0.000     0.000  ...     8.000   \n",
       "max       7620.000 212639.000     3.500       1.000     4.000  ...    12.000   \n",
       "\n",
       "       sqft_above  sqft_basement  yr_built  yr_renovated   zipcode       lat  \\\n",
       "count   16686.000      16686.000 16686.000     16686.000 16686.000 16686.000   \n",
       "mean     1749.481        277.353  1970.785        80.378 98078.634    47.560   \n",
       "std       775.911        420.214    29.296       392.401    53.705     0.139   \n",
       "min       290.000          0.000  1900.000         0.000 98001.000    47.156   \n",
       "25%      1180.000          0.000  1951.000         0.000 98033.000    47.470   \n",
       "50%      1540.000          0.000  1974.000         0.000 98065.000    47.571   \n",
       "75%      2160.000        530.000  1996.000         0.000 98118.000    47.679   \n",
       "max      6640.000       3260.000  2015.000      2015.000 98199.000    47.778   \n",
       "\n",
       "           long  sqft_living15  sqft_lot15  \n",
       "count 16686.000      16686.000   16686.000  \n",
       "mean   -122.215       1965.263   11269.308  \n",
       "std       0.140        663.493   19835.739  \n",
       "min    -122.512        399.000     659.000  \n",
       "25%    -122.330       1480.000    5100.000  \n",
       "50%    -122.232       1820.000    7561.500  \n",
       "75%    -122.127       2330.000    9967.250  \n",
       "max    -121.315       5790.000  434728.000  \n",
       "\n",
       "[8 rows x 21 columns]"
      ]
     },
     "execution_count": 158,
     "metadata": {},
     "output_type": "execute_result"
    }
   ],
   "source": [
    "q = df['price'].quantile(0.99)\n",
    "w = df['sqft_lot'].quantile(0.99)\n",
    "e = df['bedrooms'].quantile(0.99)\n",
    "clean_df = df[(df['price']<q) & (df['sqft_lot']<w) & (df['bedrooms'] < e)] \n",
    "\n",
    "clean_df.describe()"
   ]
  },
  {
   "cell_type": "code",
   "execution_count": 159,
   "metadata": {},
   "outputs": [
    {
     "data": {
      "text/html": [
       "<div>\n",
       "<style scoped>\n",
       "    .dataframe tbody tr th:only-of-type {\n",
       "        vertical-align: middle;\n",
       "    }\n",
       "\n",
       "    .dataframe tbody tr th {\n",
       "        vertical-align: top;\n",
       "    }\n",
       "\n",
       "    .dataframe thead th {\n",
       "        text-align: right;\n",
       "    }\n",
       "</style>\n",
       "<table border=\"1\" class=\"dataframe\">\n",
       "  <thead>\n",
       "    <tr style=\"text-align: right;\">\n",
       "      <th></th>\n",
       "      <th>Unnamed: 0</th>\n",
       "      <th>id</th>\n",
       "      <th>price</th>\n",
       "      <th>bedrooms</th>\n",
       "      <th>bathrooms</th>\n",
       "      <th>sqft_living</th>\n",
       "      <th>sqft_lot</th>\n",
       "      <th>floors</th>\n",
       "      <th>waterfront</th>\n",
       "      <th>view</th>\n",
       "      <th>...</th>\n",
       "      <th>grade</th>\n",
       "      <th>sqft_above</th>\n",
       "      <th>sqft_basement</th>\n",
       "      <th>yr_built</th>\n",
       "      <th>yr_renovated</th>\n",
       "      <th>zipcode</th>\n",
       "      <th>lat</th>\n",
       "      <th>long</th>\n",
       "      <th>sqft_living15</th>\n",
       "      <th>sqft_lot15</th>\n",
       "    </tr>\n",
       "  </thead>\n",
       "  <tbody>\n",
       "    <tr>\n",
       "      <td>count</td>\n",
       "      <td>17290.000</td>\n",
       "      <td>17290.000</td>\n",
       "      <td>17290.000</td>\n",
       "      <td>17290.000</td>\n",
       "      <td>17290.000</td>\n",
       "      <td>17290.000</td>\n",
       "      <td>17290.000</td>\n",
       "      <td>17290.000</td>\n",
       "      <td>17290.000</td>\n",
       "      <td>17290.000</td>\n",
       "      <td>...</td>\n",
       "      <td>17290.000</td>\n",
       "      <td>17290.000</td>\n",
       "      <td>17290.000</td>\n",
       "      <td>17290.000</td>\n",
       "      <td>17290.000</td>\n",
       "      <td>17290.000</td>\n",
       "      <td>17290.000</td>\n",
       "      <td>17290.000</td>\n",
       "      <td>17290.000</td>\n",
       "      <td>17290.000</td>\n",
       "    </tr>\n",
       "    <tr>\n",
       "      <td>mean</td>\n",
       "      <td>8644.500</td>\n",
       "      <td>4565501756.437</td>\n",
       "      <td>540739.549</td>\n",
       "      <td>3.372</td>\n",
       "      <td>2.112</td>\n",
       "      <td>2081.465</td>\n",
       "      <td>15243.400</td>\n",
       "      <td>1.490</td>\n",
       "      <td>0.008</td>\n",
       "      <td>0.239</td>\n",
       "      <td>...</td>\n",
       "      <td>7.654</td>\n",
       "      <td>1789.306</td>\n",
       "      <td>292.159</td>\n",
       "      <td>1970.792</td>\n",
       "      <td>83.806</td>\n",
       "      <td>98078.193</td>\n",
       "      <td>47.560</td>\n",
       "      <td>-122.214</td>\n",
       "      <td>1987.987</td>\n",
       "      <td>12873.476</td>\n",
       "    </tr>\n",
       "    <tr>\n",
       "      <td>std</td>\n",
       "      <td>4991.337</td>\n",
       "      <td>2874655595.362</td>\n",
       "      <td>373318.979</td>\n",
       "      <td>0.939</td>\n",
       "      <td>0.770</td>\n",
       "      <td>920.019</td>\n",
       "      <td>42304.624</td>\n",
       "      <td>0.539</td>\n",
       "      <td>0.089</td>\n",
       "      <td>0.775</td>\n",
       "      <td>...</td>\n",
       "      <td>1.175</td>\n",
       "      <td>829.265</td>\n",
       "      <td>443.152</td>\n",
       "      <td>29.344</td>\n",
       "      <td>400.329</td>\n",
       "      <td>53.608</td>\n",
       "      <td>0.138</td>\n",
       "      <td>0.141</td>\n",
       "      <td>684.803</td>\n",
       "      <td>27227.438</td>\n",
       "    </tr>\n",
       "    <tr>\n",
       "      <td>min</td>\n",
       "      <td>0.000</td>\n",
       "      <td>1000102.000</td>\n",
       "      <td>75000.000</td>\n",
       "      <td>0.000</td>\n",
       "      <td>0.000</td>\n",
       "      <td>290.000</td>\n",
       "      <td>572.000</td>\n",
       "      <td>1.000</td>\n",
       "      <td>0.000</td>\n",
       "      <td>0.000</td>\n",
       "      <td>...</td>\n",
       "      <td>1.000</td>\n",
       "      <td>290.000</td>\n",
       "      <td>0.000</td>\n",
       "      <td>1900.000</td>\n",
       "      <td>0.000</td>\n",
       "      <td>98001.000</td>\n",
       "      <td>47.156</td>\n",
       "      <td>-122.519</td>\n",
       "      <td>399.000</td>\n",
       "      <td>659.000</td>\n",
       "    </tr>\n",
       "    <tr>\n",
       "      <td>25%</td>\n",
       "      <td>4322.250</td>\n",
       "      <td>2114700558.750</td>\n",
       "      <td>321000.000</td>\n",
       "      <td>3.000</td>\n",
       "      <td>1.500</td>\n",
       "      <td>1430.000</td>\n",
       "      <td>5081.250</td>\n",
       "      <td>1.000</td>\n",
       "      <td>0.000</td>\n",
       "      <td>0.000</td>\n",
       "      <td>...</td>\n",
       "      <td>7.000</td>\n",
       "      <td>1200.000</td>\n",
       "      <td>0.000</td>\n",
       "      <td>1951.000</td>\n",
       "      <td>0.000</td>\n",
       "      <td>98033.000</td>\n",
       "      <td>47.471</td>\n",
       "      <td>-122.329</td>\n",
       "      <td>1490.000</td>\n",
       "      <td>5111.250</td>\n",
       "    </tr>\n",
       "    <tr>\n",
       "      <td>50%</td>\n",
       "      <td>8644.500</td>\n",
       "      <td>3903650042.500</td>\n",
       "      <td>450000.000</td>\n",
       "      <td>3.000</td>\n",
       "      <td>2.250</td>\n",
       "      <td>1920.000</td>\n",
       "      <td>7642.000</td>\n",
       "      <td>1.500</td>\n",
       "      <td>0.000</td>\n",
       "      <td>0.000</td>\n",
       "      <td>...</td>\n",
       "      <td>7.000</td>\n",
       "      <td>1560.000</td>\n",
       "      <td>0.000</td>\n",
       "      <td>1974.000</td>\n",
       "      <td>0.000</td>\n",
       "      <td>98065.000</td>\n",
       "      <td>47.572</td>\n",
       "      <td>-122.230</td>\n",
       "      <td>1840.000</td>\n",
       "      <td>7622.500</td>\n",
       "    </tr>\n",
       "    <tr>\n",
       "      <td>75%</td>\n",
       "      <td>12966.750</td>\n",
       "      <td>7301150051.500</td>\n",
       "      <td>645000.000</td>\n",
       "      <td>4.000</td>\n",
       "      <td>2.500</td>\n",
       "      <td>2550.000</td>\n",
       "      <td>10725.750</td>\n",
       "      <td>2.000</td>\n",
       "      <td>0.000</td>\n",
       "      <td>0.000</td>\n",
       "      <td>...</td>\n",
       "      <td>8.000</td>\n",
       "      <td>2214.500</td>\n",
       "      <td>560.000</td>\n",
       "      <td>1996.000</td>\n",
       "      <td>0.000</td>\n",
       "      <td>98118.000</td>\n",
       "      <td>47.678</td>\n",
       "      <td>-122.126</td>\n",
       "      <td>2360.000</td>\n",
       "      <td>10101.750</td>\n",
       "    </tr>\n",
       "    <tr>\n",
       "      <td>max</td>\n",
       "      <td>17289.000</td>\n",
       "      <td>9900000190.000</td>\n",
       "      <td>7700000.000</td>\n",
       "      <td>33.000</td>\n",
       "      <td>8.000</td>\n",
       "      <td>13540.000</td>\n",
       "      <td>1651359.000</td>\n",
       "      <td>3.500</td>\n",
       "      <td>1.000</td>\n",
       "      <td>4.000</td>\n",
       "      <td>...</td>\n",
       "      <td>13.000</td>\n",
       "      <td>9410.000</td>\n",
       "      <td>4820.000</td>\n",
       "      <td>2015.000</td>\n",
       "      <td>2015.000</td>\n",
       "      <td>98199.000</td>\n",
       "      <td>47.778</td>\n",
       "      <td>-121.315</td>\n",
       "      <td>6210.000</td>\n",
       "      <td>858132.000</td>\n",
       "    </tr>\n",
       "  </tbody>\n",
       "</table>\n",
       "<p>8 rows × 21 columns</p>\n",
       "</div>"
      ],
      "text/plain": [
       "       Unnamed: 0             id       price  bedrooms  bathrooms  \\\n",
       "count   17290.000      17290.000   17290.000 17290.000  17290.000   \n",
       "mean     8644.500 4565501756.437  540739.549     3.372      2.112   \n",
       "std      4991.337 2874655595.362  373318.979     0.939      0.770   \n",
       "min         0.000    1000102.000   75000.000     0.000      0.000   \n",
       "25%      4322.250 2114700558.750  321000.000     3.000      1.500   \n",
       "50%      8644.500 3903650042.500  450000.000     3.000      2.250   \n",
       "75%     12966.750 7301150051.500  645000.000     4.000      2.500   \n",
       "max     17289.000 9900000190.000 7700000.000    33.000      8.000   \n",
       "\n",
       "       sqft_living    sqft_lot    floors  waterfront      view  ...     grade  \\\n",
       "count    17290.000   17290.000 17290.000   17290.000 17290.000  ... 17290.000   \n",
       "mean      2081.465   15243.400     1.490       0.008     0.239  ...     7.654   \n",
       "std        920.019   42304.624     0.539       0.089     0.775  ...     1.175   \n",
       "min        290.000     572.000     1.000       0.000     0.000  ...     1.000   \n",
       "25%       1430.000    5081.250     1.000       0.000     0.000  ...     7.000   \n",
       "50%       1920.000    7642.000     1.500       0.000     0.000  ...     7.000   \n",
       "75%       2550.000   10725.750     2.000       0.000     0.000  ...     8.000   \n",
       "max      13540.000 1651359.000     3.500       1.000     4.000  ...    13.000   \n",
       "\n",
       "       sqft_above  sqft_basement  yr_built  yr_renovated   zipcode       lat  \\\n",
       "count   17290.000      17290.000 17290.000     17290.000 17290.000 17290.000   \n",
       "mean     1789.306        292.159  1970.792        83.806 98078.193    47.560   \n",
       "std       829.265        443.152    29.344       400.329    53.608     0.138   \n",
       "min       290.000          0.000  1900.000         0.000 98001.000    47.156   \n",
       "25%      1200.000          0.000  1951.000         0.000 98033.000    47.471   \n",
       "50%      1560.000          0.000  1974.000         0.000 98065.000    47.572   \n",
       "75%      2214.500        560.000  1996.000         0.000 98118.000    47.678   \n",
       "max      9410.000       4820.000  2015.000      2015.000 98199.000    47.778   \n",
       "\n",
       "           long  sqft_living15  sqft_lot15  \n",
       "count 17290.000      17290.000   17290.000  \n",
       "mean   -122.214       1987.987   12873.476  \n",
       "std       0.141        684.803   27227.438  \n",
       "min    -122.519        399.000     659.000  \n",
       "25%    -122.329       1490.000    5111.250  \n",
       "50%    -122.230       1840.000    7622.500  \n",
       "75%    -122.126       2360.000   10101.750  \n",
       "max    -121.315       6210.000  858132.000  \n",
       "\n",
       "[8 rows x 21 columns]"
      ]
     },
     "execution_count": 159,
     "metadata": {},
     "output_type": "execute_result"
    }
   ],
   "source": [
    "df.describe()"
   ]
  },
  {
   "cell_type": "code",
   "execution_count": 160,
   "metadata": {},
   "outputs": [],
   "source": [
    "target = clean_df['price']\n",
    "features2 = clean_df[['bedrooms', 'bathrooms', 'sqft_living', 'sqft_lot', 'floors', 'waterfront', 'view' , 'condition', 'grade', 'sqft_above', 'sqft_basement', 'yr_built', 'yr_renovated',\n",
    "       'zipcode', 'lat', 'long', 'sqft_living15', 'sqft_lot15']]"
   ]
  },
  {
   "cell_type": "code",
   "execution_count": 161,
   "metadata": {},
   "outputs": [
    {
     "data": {
      "text/plain": [
       "StandardScaler(copy=True, with_mean=True, with_std=True)"
      ]
     },
     "execution_count": 161,
     "metadata": {},
     "output_type": "execute_result"
    }
   ],
   "source": [
    "scaler.fit(features2)"
   ]
  },
  {
   "cell_type": "code",
   "execution_count": 162,
   "metadata": {},
   "outputs": [
    {
     "data": {
      "text/plain": [
       "array([[ 0.82436176,  0.23865046,  0.05165853, ...,  0.38073594,\n",
       "         0.64017253, -0.17994866],\n",
       "       [ 2.0291704 ,  1.2687759 ,  1.04496597, ..., -0.4968541 ,\n",
       "         0.61002811, -0.25138751],\n",
       "       [ 0.82436176,  0.58202561,  2.08614364, ...,  0.61618692,\n",
       "         2.62970386, -0.07987376],\n",
       "       ...,\n",
       "       [-0.38044689, -1.47822528, -1.16903254, ..., -0.33275189,\n",
       "        -0.30937652, -0.09409095],\n",
       "       [-0.38044689, -0.79147498, -0.15178998, ...,  1.60793501,\n",
       "         0.17293411,  4.87814392],\n",
       "       [-0.38044689, -0.79147498, -0.83394087, ..., -0.73943996,\n",
       "        -0.97255362, -0.21977695]])"
      ]
     },
     "execution_count": 162,
     "metadata": {},
     "output_type": "execute_result"
    }
   ],
   "source": [
    "features_scaled = scaler.transform(features2)\n",
    "features_scaled\n"
   ]
  },
  {
   "cell_type": "markdown",
   "metadata": {},
   "source": [
    "#### Training data"
   ]
  },
  {
   "cell_type": "code",
   "execution_count": 163,
   "metadata": {},
   "outputs": [
    {
     "name": "stdout",
     "output_type": "stream",
     "text": [
      "Training set - Features:  (13348, 18) Target:  (13348,)\n",
      "Training set - Features:  (3338, 18) Target:  (3338,)\n"
     ]
    }
   ],
   "source": [
    "# call train_test_split on the data and capture the results\n",
    "X_train, X_test, y_train, y_test = train_test_split(features_scaled, target, random_state=42,test_size=0.2)\n",
    "\n",
    "#check the shape of the results\n",
    "print(\"Training set - Features: \", X_train.shape, \"Target: \", y_train.shape)\n",
    "print(\"Training set - Features: \", X_test.shape, \"Target: \",y_test.shape)\n"
   ]
  },
  {
   "cell_type": "code",
   "execution_count": 164,
   "metadata": {},
   "outputs": [],
   "source": [
    "# poly = PolynomialFeatures(2)\n",
    "# X_train = poly.fit_transform(X_train)\n",
    "# X_test = poly.fit_transform(X_test)"
   ]
  },
  {
   "cell_type": "code",
   "execution_count": 165,
   "metadata": {},
   "outputs": [
    {
     "data": {
      "text/plain": [
       "LinearRegression(copy_X=True, fit_intercept=True, n_jobs=None, normalize=False)"
      ]
     },
     "execution_count": 165,
     "metadata": {},
     "output_type": "execute_result"
    }
   ],
   "source": [
    "reg = LinearRegression()\n",
    "reg.fit(X_train,y_train)"
   ]
  },
  {
   "cell_type": "markdown",
   "metadata": {},
   "source": [
    "#### Get coefficients"
   ]
  },
  {
   "cell_type": "code",
   "execution_count": 166,
   "metadata": {},
   "outputs": [
    {
     "data": {
      "text/plain": [
       "array([-15918.25344351,  24361.20445266,  46354.85581123,   -624.62127538,\n",
       "        14592.70152759,  20776.60425813,  30736.40057324,  19297.40198164,\n",
       "       101137.53953007,  40111.77196779,  18114.0176455 , -66626.30576686,\n",
       "         9198.28441941, -22046.76344374,  80515.94839363, -19212.44422669,\n",
       "        34253.19048253,  -3778.17941642])"
      ]
     },
     "execution_count": 166,
     "metadata": {},
     "output_type": "execute_result"
    }
   ],
   "source": [
    "reg.coef_"
   ]
  },
  {
   "cell_type": "markdown",
   "metadata": {},
   "source": [
    "#### Get intercept"
   ]
  },
  {
   "cell_type": "code",
   "execution_count": 167,
   "metadata": {},
   "outputs": [
    {
     "data": {
      "text/plain": [
       "513529.99927240843"
      ]
     },
     "execution_count": 167,
     "metadata": {},
     "output_type": "execute_result"
    }
   ],
   "source": [
    "reg.intercept_"
   ]
  },
  {
   "cell_type": "markdown",
   "metadata": {},
   "source": [
    "#### Feature summary and weights"
   ]
  },
  {
   "cell_type": "code",
   "execution_count": 168,
   "metadata": {},
   "outputs": [
    {
     "data": {
      "text/html": [
       "<div>\n",
       "<style scoped>\n",
       "    .dataframe tbody tr th:only-of-type {\n",
       "        vertical-align: middle;\n",
       "    }\n",
       "\n",
       "    .dataframe tbody tr th {\n",
       "        vertical-align: top;\n",
       "    }\n",
       "\n",
       "    .dataframe thead th {\n",
       "        text-align: right;\n",
       "    }\n",
       "</style>\n",
       "<table border=\"1\" class=\"dataframe\">\n",
       "  <thead>\n",
       "    <tr style=\"text-align: right;\">\n",
       "      <th></th>\n",
       "      <th>Features</th>\n",
       "    </tr>\n",
       "  </thead>\n",
       "  <tbody>\n",
       "    <tr>\n",
       "      <td>0</td>\n",
       "      <td>bedrooms</td>\n",
       "    </tr>\n",
       "    <tr>\n",
       "      <td>1</td>\n",
       "      <td>bathrooms</td>\n",
       "    </tr>\n",
       "    <tr>\n",
       "      <td>2</td>\n",
       "      <td>sqft_living</td>\n",
       "    </tr>\n",
       "    <tr>\n",
       "      <td>3</td>\n",
       "      <td>sqft_lot</td>\n",
       "    </tr>\n",
       "    <tr>\n",
       "      <td>4</td>\n",
       "      <td>floors</td>\n",
       "    </tr>\n",
       "    <tr>\n",
       "      <td>5</td>\n",
       "      <td>waterfront</td>\n",
       "    </tr>\n",
       "    <tr>\n",
       "      <td>6</td>\n",
       "      <td>view</td>\n",
       "    </tr>\n",
       "    <tr>\n",
       "      <td>7</td>\n",
       "      <td>condition</td>\n",
       "    </tr>\n",
       "    <tr>\n",
       "      <td>8</td>\n",
       "      <td>grade</td>\n",
       "    </tr>\n",
       "    <tr>\n",
       "      <td>9</td>\n",
       "      <td>sqft_above</td>\n",
       "    </tr>\n",
       "    <tr>\n",
       "      <td>10</td>\n",
       "      <td>sqft_basement</td>\n",
       "    </tr>\n",
       "    <tr>\n",
       "      <td>11</td>\n",
       "      <td>yr_built</td>\n",
       "    </tr>\n",
       "    <tr>\n",
       "      <td>12</td>\n",
       "      <td>yr_renovated</td>\n",
       "    </tr>\n",
       "    <tr>\n",
       "      <td>13</td>\n",
       "      <td>zipcode</td>\n",
       "    </tr>\n",
       "    <tr>\n",
       "      <td>14</td>\n",
       "      <td>lat</td>\n",
       "    </tr>\n",
       "    <tr>\n",
       "      <td>15</td>\n",
       "      <td>long</td>\n",
       "    </tr>\n",
       "    <tr>\n",
       "      <td>16</td>\n",
       "      <td>sqft_living15</td>\n",
       "    </tr>\n",
       "    <tr>\n",
       "      <td>17</td>\n",
       "      <td>sqft_lot15</td>\n",
       "    </tr>\n",
       "  </tbody>\n",
       "</table>\n",
       "</div>"
      ],
      "text/plain": [
       "         Features\n",
       "0        bedrooms\n",
       "1       bathrooms\n",
       "2     sqft_living\n",
       "3        sqft_lot\n",
       "4          floors\n",
       "5      waterfront\n",
       "6            view\n",
       "7       condition\n",
       "8           grade\n",
       "9      sqft_above\n",
       "10  sqft_basement\n",
       "11       yr_built\n",
       "12   yr_renovated\n",
       "13        zipcode\n",
       "14            lat\n",
       "15           long\n",
       "16  sqft_living15\n",
       "17     sqft_lot15"
      ]
     },
     "execution_count": 168,
     "metadata": {},
     "output_type": "execute_result"
    }
   ],
   "source": [
    "features2_df = pd.DataFrame(data = features2.columns.values, columns=['Features'])\n",
    "features2_df"
   ]
  },
  {
   "cell_type": "code",
   "execution_count": 169,
   "metadata": {},
   "outputs": [
    {
     "data": {
      "text/plain": [
       "array([9.88131292e-324, 0.00000000e+000, 0.00000000e+000, 9.51187862e-034,\n",
       "       6.05311246e-237, 1.97362934e-072, 0.00000000e+000, 8.97890098e-007,\n",
       "       0.00000000e+000, 0.00000000e+000, 3.86471407e-221, 2.20560993e-014,\n",
       "       1.42931198e-040, 2.08305515e-006, 0.00000000e+000, 1.42215619e-004,\n",
       "       0.00000000e+000, 9.94523040e-020])"
      ]
     },
     "execution_count": 169,
     "metadata": {},
     "output_type": "execute_result"
    }
   ],
   "source": [
    "p_values = f_regression(X_train,y_train)[1]\n",
    "p_values"
   ]
  },
  {
   "cell_type": "markdown",
   "metadata": {},
   "source": [
    "#### Get r^2 score and adjusted r^2 score"
   ]
  },
  {
   "cell_type": "code",
   "execution_count": 170,
   "metadata": {},
   "outputs": [
    {
     "data": {
      "text/plain": [
       "0.7137607527144614"
      ]
     },
     "execution_count": 170,
     "metadata": {},
     "output_type": "execute_result"
    }
   ],
   "source": [
    "r2_train = reg.score(X_train, y_train)\n",
    "r2_train"
   ]
  },
  {
   "cell_type": "code",
   "execution_count": 171,
   "metadata": {},
   "outputs": [
    {
     "data": {
      "text/plain": [
       "0.713374204102327"
      ]
     },
     "execution_count": 171,
     "metadata": {},
     "output_type": "execute_result"
    }
   ],
   "source": [
    "n = X_train.shape[0]\n",
    "p = X_train.shape[1]\n",
    "\n",
    "adjusted_r2_train = 1-(1-r2_train)*(n-1)/(n-p-1)\n",
    "adjusted_r2_train"
   ]
  },
  {
   "cell_type": "markdown",
   "metadata": {},
   "source": [
    "#### Get error"
   ]
  },
  {
   "cell_type": "code",
   "execution_count": 172,
   "metadata": {},
   "outputs": [],
   "source": [
    "y_train_pred = reg.predict(X_train)"
   ]
  },
  {
   "cell_type": "code",
   "execution_count": 173,
   "metadata": {},
   "outputs": [
    {
     "name": "stdout",
     "output_type": "stream",
     "text": [
      "Mean Absolute Error: 105307.76929750388\n",
      "Mean Squared Error: 22631673214.90909\n",
      "Root Mean Squared Error: 150438.27044641628\n"
     ]
    }
   ],
   "source": [
    "train_mae = metrics.mean_absolute_error(y_train, y_train_pred)\n",
    "train_mse = metrics.mean_squared_error(y_train, y_train_pred)\n",
    "train_rmse = np.sqrt(metrics.mean_squared_error(y_train, y_train_pred))\n",
    "\n",
    "print('Mean Absolute Error:', train_mae )\n",
    "print('Mean Squared Error:',  train_mse)\n",
    "print('Root Mean Squared Error:' , train_rmse)"
   ]
  },
  {
   "cell_type": "code",
   "execution_count": 174,
   "metadata": {},
   "outputs": [
    {
     "name": "stdout",
     "output_type": "stream",
     "text": [
      "Mean Absolute Error: 0.3742412101973631\n",
      "Root Mean Squared Error: 0.5346253250585142\n"
     ]
    }
   ],
   "source": [
    "price_std = target.std()\n",
    "\n",
    "print('Mean Absolute Error:', train_mae/price_std )\n",
    "print('Root Mean Squared Error:' , train_rmse/price_std)"
   ]
  },
  {
   "cell_type": "markdown",
   "metadata": {},
   "source": [
    "#### Test Data"
   ]
  },
  {
   "cell_type": "code",
   "execution_count": 175,
   "metadata": {},
   "outputs": [
    {
     "data": {
      "text/plain": [
       "0.7097865055781146"
      ]
     },
     "execution_count": 175,
     "metadata": {},
     "output_type": "execute_result"
    }
   ],
   "source": [
    "reg.score(X_test, y_test)"
   ]
  },
  {
   "cell_type": "code",
   "execution_count": 176,
   "metadata": {},
   "outputs": [
    {
     "data": {
      "text/plain": [
       "0.7082125848491017"
      ]
     },
     "execution_count": 176,
     "metadata": {},
     "output_type": "execute_result"
    }
   ],
   "source": [
    "r2_test = reg.score(X_test, y_test)\n",
    "n = X_test.shape[0]\n",
    "p = X_test.shape[1]\n",
    "\n",
    "adjusted_r2_test = 1-(1-r2_test)*(n-1)/(n-p-1)\n",
    "adjusted_r2_test"
   ]
  },
  {
   "cell_type": "code",
   "execution_count": 177,
   "metadata": {},
   "outputs": [],
   "source": [
    "y_test_pred = reg.predict(X_test)"
   ]
  },
  {
   "cell_type": "code",
   "execution_count": 178,
   "metadata": {},
   "outputs": [
    {
     "name": "stdout",
     "output_type": "stream",
     "text": [
      "Mean Absolute Error: 105368.4299375808\n",
      "Mean Squared Error: 23100722760.026073\n",
      "Root Mean Squared Error: 151989.21922302936\n"
     ]
    }
   ],
   "source": [
    "test_mae = metrics.mean_absolute_error(y_test, y_test_pred)\n",
    "test_mse = metrics.mean_squared_error(y_test, y_test_pred)\n",
    "test_rmse = np.sqrt(metrics.mean_squared_error(y_test, y_test_pred))\n",
    "\n",
    "print('Mean Absolute Error:', test_mae )\n",
    "print('Mean Squared Error:',  test_mse)\n",
    "print('Root Mean Squared Error:' , test_rmse)"
   ]
  },
  {
   "cell_type": "code",
   "execution_count": 179,
   "metadata": {},
   "outputs": [
    {
     "name": "stdout",
     "output_type": "stream",
     "text": [
      "Mean Absolute Error  Z: 0.37445678509278796\n",
      "Root Mean Squared Error Z: 0.5401370641351823\n"
     ]
    }
   ],
   "source": [
    "print('Mean Absolute Error  Z:', test_mae/price_std )\n",
    "print('Root Mean Squared Error Z:' , test_rmse/price_std)"
   ]
  },
  {
   "cell_type": "code",
   "execution_count": 180,
   "metadata": {},
   "outputs": [
    {
     "data": {
      "text/plain": [
       "Text(0, 0.5, 'Predictions')"
      ]
     },
     "execution_count": 180,
     "metadata": {},
     "output_type": "execute_result"
    },
    {
     "data": {
      "image/png": "[encoded data removed]",
      "text/plain": [
       "<Figure size 432x288 with 1 Axes>"
      ]
     },
     "metadata": {
      "needs_background": "light"
     },
     "output_type": "display_data"
    }
   ],
   "source": [
    "plt.scatter(y_test, y_test_pred, alpha=0.3)\n",
    "plt.xlabel(\"True Values\")\n",
    "plt.ylabel(\"Predictions\")"
   ]
  },
  {
   "cell_type": "code",
   "execution_count": 181,
   "metadata": {},
   "outputs": [
    {
     "data": {
      "text/plain": [
       "0.7097865055781146"
      ]
     },
     "execution_count": 181,
     "metadata": {},
     "output_type": "execute_result"
    }
   ],
   "source": [
    "r2_test"
   ]
  },
  {
   "cell_type": "code",
   "execution_count": 182,
   "metadata": {},
   "outputs": [
    {
     "data": {
      "text/plain": [
       "<matplotlib.axes._subplots.AxesSubplot at 0x1c24411b90>"
      ]
     },
     "execution_count": 182,
     "metadata": {},
     "output_type": "execute_result"
    },
    {
     "data": {
      "image/png": "[encoded data removed]",
      "text/plain": [
       "<Figure size 432x288 with 1 Axes>"
      ]
     },
     "metadata": {
      "needs_background": "light"
     },
     "output_type": "display_data"
    }
   ],
   "source": [
    "sns.residplot(y_test_pred, y_test, lowess=True, color=\"g\")"
   ]
  },
  {
   "cell_type": "markdown",
   "metadata": {},
   "source": [
    "#### Updated summary table of all models"
   ]
  },
  {
   "cell_type": "code",
   "execution_count": 183,
   "metadata": {
    "scrolled": false
   },
   "outputs": [
    {
     "data": {
      "text/html": [
       "<div>\n",
       "<style scoped>\n",
       "    .dataframe tbody tr th:only-of-type {\n",
       "        vertical-align: middle;\n",
       "    }\n",
       "\n",
       "    .dataframe tbody tr th {\n",
       "        vertical-align: top;\n",
       "    }\n",
       "\n",
       "    .dataframe thead th {\n",
       "        text-align: right;\n",
       "    }\n",
       "</style>\n",
       "<table border=\"1\" class=\"dataframe\">\n",
       "  <thead>\n",
       "    <tr style=\"text-align: right;\">\n",
       "      <th></th>\n",
       "      <th>Model</th>\n",
       "      <th>Description</th>\n",
       "      <th>Root Mean Squared Error (RMSE)</th>\n",
       "      <th>R-squared (training)</th>\n",
       "      <th>Adjusted R-squared (training)</th>\n",
       "      <th>R-squared (test)</th>\n",
       "      <th>Adjusted R-squared (test)</th>\n",
       "      <th>5-fold Cross Validation</th>\n",
       "    </tr>\n",
       "  </thead>\n",
       "  <tbody>\n",
       "    <tr>\n",
       "      <td>0</td>\n",
       "      <td>Multiple Regression-1</td>\n",
       "      <td>All features, no pre-processing</td>\n",
       "      <td>206631.858</td>\n",
       "      <td>0.697</td>\n",
       "      <td>0.697</td>\n",
       "      <td>0.703</td>\n",
       "      <td>0.701</td>\n",
       "      <td>nan</td>\n",
       "    </tr>\n",
       "    <tr>\n",
       "      <td>1</td>\n",
       "      <td>Multiple Regression-2</td>\n",
       "      <td>Minus sqft_above</td>\n",
       "      <td>206631.858</td>\n",
       "      <td>0.697</td>\n",
       "      <td>0.697</td>\n",
       "      <td>0.703</td>\n",
       "      <td>0.701</td>\n",
       "      <td>nan</td>\n",
       "    </tr>\n",
       "    <tr>\n",
       "      <td>2</td>\n",
       "      <td>Multiple Regression-3</td>\n",
       "      <td>All features 1st degree polynomial</td>\n",
       "      <td>206631.858</td>\n",
       "      <td>0.697</td>\n",
       "      <td>0.697</td>\n",
       "      <td>0.703</td>\n",
       "      <td>0.701</td>\n",
       "      <td>nan</td>\n",
       "    </tr>\n",
       "    <tr>\n",
       "      <td>3</td>\n",
       "      <td>Multiple Regression-4</td>\n",
       "      <td>All features, 2nd degree polynomial</td>\n",
       "      <td>152191.486</td>\n",
       "      <td>0.836</td>\n",
       "      <td>0.833</td>\n",
       "      <td>0.812</td>\n",
       "      <td>0.801</td>\n",
       "      <td>nan</td>\n",
       "    </tr>\n",
       "    <tr>\n",
       "      <td>4</td>\n",
       "      <td>Multiple Regression-5</td>\n",
       "      <td>minus sqft_above 1st degree polynomial</td>\n",
       "      <td>206631.858</td>\n",
       "      <td>0.697</td>\n",
       "      <td>0.697</td>\n",
       "      <td>0.703</td>\n",
       "      <td>0.701</td>\n",
       "      <td>nan</td>\n",
       "    </tr>\n",
       "    <tr>\n",
       "      <td>5</td>\n",
       "      <td>Multiple Regression-6</td>\n",
       "      <td>minus sqft_above, 2nd degree polynomial</td>\n",
       "      <td>152191.245</td>\n",
       "      <td>0.836</td>\n",
       "      <td>0.834</td>\n",
       "      <td>0.812</td>\n",
       "      <td>0.802</td>\n",
       "      <td>nan</td>\n",
       "    </tr>\n",
       "    <tr>\n",
       "      <td>6</td>\n",
       "      <td>Multiple Regression-7</td>\n",
       "      <td>all features: minus outliers</td>\n",
       "      <td>150438.270</td>\n",
       "      <td>0.714</td>\n",
       "      <td>0.713</td>\n",
       "      <td>0.710</td>\n",
       "      <td>0.708</td>\n",
       "      <td>nan</td>\n",
       "    </tr>\n",
       "  </tbody>\n",
       "</table>\n",
       "</div>"
      ],
      "text/plain": [
       "                   Model                              Description  \\\n",
       "0  Multiple Regression-1          All features, no pre-processing   \n",
       "1  Multiple Regression-2                         Minus sqft_above   \n",
       "2  Multiple Regression-3       All features 1st degree polynomial   \n",
       "3  Multiple Regression-4      All features, 2nd degree polynomial   \n",
       "4  Multiple Regression-5   minus sqft_above 1st degree polynomial   \n",
       "5  Multiple Regression-6  minus sqft_above, 2nd degree polynomial   \n",
       "6  Multiple Regression-7             all features: minus outliers   \n",
       "\n",
       "   Root Mean Squared Error (RMSE)  R-squared (training)  \\\n",
       "0                      206631.858                 0.697   \n",
       "1                      206631.858                 0.697   \n",
       "2                      206631.858                 0.697   \n",
       "3                      152191.486                 0.836   \n",
       "4                      206631.858                 0.697   \n",
       "5                      152191.245                 0.836   \n",
       "6                      150438.270                 0.714   \n",
       "\n",
       "   Adjusted R-squared (training)  R-squared (test)  Adjusted R-squared (test)  \\\n",
       "0                          0.697             0.703                      0.701   \n",
       "1                          0.697             0.703                      0.701   \n",
       "2                          0.697             0.703                      0.701   \n",
       "3                          0.833             0.812                      0.801   \n",
       "4                          0.697             0.703                      0.701   \n",
       "5                          0.834             0.812                      0.802   \n",
       "6                          0.713             0.710                      0.708   \n",
       "\n",
       "   5-fold Cross Validation  \n",
       "0                      nan  \n",
       "1                      nan  \n",
       "2                      nan  \n",
       "3                      nan  \n",
       "4                      nan  \n",
       "5                      nan  \n",
       "6                      nan  "
      ]
     },
     "execution_count": 183,
     "metadata": {},
     "output_type": "execute_result"
    }
   ],
   "source": [
    "summary_df = summary_df.append({'Model' : 'Multiple Regression-7', 'Description' : 'all features: minus outliers' , 'Root Mean Squared Error (RMSE)' : train_rmse, 'R-squared (training)' : r2_train, 'Adjusted R-squared (training)': adjusted_r2_train, 'R-squared (test)' : r2_test, 'Adjusted R-squared (test)' : adjusted_r2_test} , ignore_index=True)\n",
    "summary_df"
   ]
  },
  {
   "cell_type": "code",
   "execution_count": null,
   "metadata": {},
   "outputs": [],
   "source": []
  },
  {
   "cell_type": "markdown",
   "metadata": {},
   "source": [
    "### Multiple Regression - 8 (all features, no outliers, 2nd degree polynomial)"
   ]
  },
  {
   "cell_type": "markdown",
   "metadata": {},
   "source": [
    "#### Clean data of outliers"
   ]
  },
  {
   "cell_type": "code",
   "execution_count": 184,
   "metadata": {},
   "outputs": [],
   "source": [
    "# q = df['price'].quantile(0.99)\n",
    "# clean_df = df[df['price']<q]\n",
    "# clean_df.describe()\n",
    "\n",
    "# q = clean_df['sqft_lot'].quantile(0.99)\n",
    "# clean_df = clean_df[clean_df['sqft_lot']<q]\n",
    "# clean_df.describe()"
   ]
  },
  {
   "cell_type": "code",
   "execution_count": 185,
   "metadata": {},
   "outputs": [],
   "source": [
    "target = clean_df['price']\n",
    "features2 = clean_df[['bedrooms', 'bathrooms', 'sqft_living', 'sqft_lot', 'floors', 'waterfront', 'view' , 'condition', 'grade', 'sqft_above', 'sqft_basement', 'yr_built', 'yr_renovated',\n",
    "       'zipcode', 'lat', 'long', 'sqft_living15', 'sqft_lot15']]"
   ]
  },
  {
   "cell_type": "code",
   "execution_count": 186,
   "metadata": {},
   "outputs": [
    {
     "data": {
      "text/plain": [
       "StandardScaler(copy=True, with_mean=True, with_std=True)"
      ]
     },
     "execution_count": 186,
     "metadata": {},
     "output_type": "execute_result"
    }
   ],
   "source": [
    "scaler.fit(features2)"
   ]
  },
  {
   "cell_type": "code",
   "execution_count": 187,
   "metadata": {},
   "outputs": [
    {
     "data": {
      "text/plain": [
       "array([[ 0.82436176,  0.23865046,  0.05165853, ...,  0.38073594,\n",
       "         0.64017253, -0.17994866],\n",
       "       [ 2.0291704 ,  1.2687759 ,  1.04496597, ..., -0.4968541 ,\n",
       "         0.61002811, -0.25138751],\n",
       "       [ 0.82436176,  0.58202561,  2.08614364, ...,  0.61618692,\n",
       "         2.62970386, -0.07987376],\n",
       "       ...,\n",
       "       [-0.38044689, -1.47822528, -1.16903254, ..., -0.33275189,\n",
       "        -0.30937652, -0.09409095],\n",
       "       [-0.38044689, -0.79147498, -0.15178998, ...,  1.60793501,\n",
       "         0.17293411,  4.87814392],\n",
       "       [-0.38044689, -0.79147498, -0.83394087, ..., -0.73943996,\n",
       "        -0.97255362, -0.21977695]])"
      ]
     },
     "execution_count": 187,
     "metadata": {},
     "output_type": "execute_result"
    }
   ],
   "source": [
    "features_scaled = scaler.transform(features2)\n",
    "features_scaled\n"
   ]
  },
  {
   "cell_type": "markdown",
   "metadata": {},
   "source": [
    "#### Training data"
   ]
  },
  {
   "cell_type": "code",
   "execution_count": 188,
   "metadata": {},
   "outputs": [
    {
     "name": "stdout",
     "output_type": "stream",
     "text": [
      "Training set - Features:  (13348, 18) Target:  (13348,)\n",
      "Training set - Features:  (3338, 18) Target:  (3338,)\n"
     ]
    }
   ],
   "source": [
    "# call train_test_split on the data and capture the results\n",
    "X_train, X_test, y_train, y_test = train_test_split(features_scaled, target, random_state=42,test_size=0.2)\n",
    "\n",
    "#check the shape of the results\n",
    "print(\"Training set - Features: \", X_train.shape, \"Target: \", y_train.shape)\n",
    "print(\"Training set - Features: \", X_test.shape, \"Target: \",y_test.shape)\n"
   ]
  },
  {
   "cell_type": "code",
   "execution_count": 189,
   "metadata": {},
   "outputs": [],
   "source": [
    "poly = PolynomialFeatures(2)\n",
    "X_train = poly.fit_transform(X_train)\n",
    "X_test = poly.fit_transform(X_test)"
   ]
  },
  {
   "cell_type": "code",
   "execution_count": 190,
   "metadata": {},
   "outputs": [
    {
     "data": {
      "text/plain": [
       "LinearRegression(copy_X=True, fit_intercept=True, n_jobs=None, normalize=False)"
      ]
     },
     "execution_count": 190,
     "metadata": {},
     "output_type": "execute_result"
    }
   ],
   "source": [
    "reg = LinearRegression()\n",
    "reg.fit(X_train,y_train)"
   ]
  },
  {
   "cell_type": "markdown",
   "metadata": {},
   "source": [
    "#### Get coefficients"
   ]
  },
  {
   "cell_type": "code",
   "execution_count": 191,
   "metadata": {},
   "outputs": [
    {
     "data": {
      "text/plain": [
       "array([-2.40006134e+11, -4.56297004e+03,  1.64511324e+04,  1.57025745e+17,\n",
       "        3.22807798e+02, -4.09770526e+03, -5.14333202e+16,  2.10390747e+04,\n",
       "        2.08936468e+04,  8.17845000e+04, -1.45805941e+17, -7.89648728e+16,\n",
       "       -2.65175000e+04, -6.80485000e+05, -4.66860000e+04,  7.38880000e+04,\n",
       "       -5.04160000e+04,  3.73060000e+04, -1.18170000e+04, -2.22600000e+03,\n",
       "        6.62000000e+03, -2.21733544e+15, -2.91000000e+02,  8.65600000e+03,\n",
       "        1.02650000e+03, -9.66000000e+02, -1.79600000e+03,  1.98200000e+03,\n",
       "        2.05890238e+15,  1.11505034e+15, -1.32860000e+04, -1.86300000e+03,\n",
       "       -4.81500000e+03, -3.51800000e+03,  6.77500000e+02,  8.18400000e+03,\n",
       "        1.44300000e+03,  4.18000000e+02,  5.43330893e+15,  1.93000000e+03,\n",
       "       -9.03400000e+03,  5.23650000e+03, -2.02800000e+03, -3.57400000e+03,\n",
       "        1.12960000e+04, -5.04508813e+15, -2.73229430e+15, -1.62875000e+03,\n",
       "       -2.62850000e+03, -5.10000000e+02,  5.44000000e+03,  5.92500000e+02,\n",
       "       -2.22600000e+03, -1.23800000e+03, -2.74348833e+15,  1.88786367e+16,\n",
       "        2.97289604e+15, -1.27888739e+16, -1.81393355e+16, -1.25736613e+16,\n",
       "        3.57927284e+15,  2.32948966e+16,  4.66492616e+15, -1.68385524e+16,\n",
       "       -6.47527610e+14, -3.28618300e+15,  4.32472638e+15, -6.83774749e+15,\n",
       "        3.14803912e+16,  3.14520085e+15,  4.98000000e+02, -4.02600000e+03,\n",
       "        7.30500000e+02, -2.81825000e+03,  1.94200000e+03, -5.05000000e+03,\n",
       "       -1.75297203e+16, -9.49366068e+15,  7.81700000e+03, -4.63475000e+03,\n",
       "        6.23875000e+03, -4.28175000e+03,  5.95550000e+03,  1.14000000e+02,\n",
       "        8.00000000e+00,  7.97000000e+03, -6.57975000e+03, -2.12000000e+02,\n",
       "        6.90900000e+03, -7.34000000e+02, -2.76047667e+15, -1.49500553e+15,\n",
       "       -2.51100000e+03, -3.87200000e+03,  8.97000000e+03, -4.00000000e+03,\n",
       "        6.90000000e+02,  7.19200000e+03,  3.18600000e+03,  3.89337788e+15,\n",
       "        3.54000000e+03,  2.88900000e+03, -3.36900000e+03,  1.18750832e+16,\n",
       "        6.43124984e+15,  2.46600000e+03, -1.53600000e+03,  7.88000000e+02,\n",
       "        1.01467500e+04,  1.32355000e+04, -4.18500000e+02,  1.87000000e+03,\n",
       "       -4.10500000e+02,  3.43400000e+03,  6.21200000e+03,  1.68432437e+16,\n",
       "        9.12188201e+15,  3.41200000e+03,  2.40250000e+03, -3.72000000e+02,\n",
       "       -4.63900000e+03, -1.23500000e+03,  2.27000000e+03, -4.44875000e+02,\n",
       "        7.00000000e+00, -1.77600000e+03,  1.16752480e+16,  6.32302406e+15,\n",
       "       -6.04500000e+03, -4.74250000e+03,  5.34000000e+02, -2.81800000e+03,\n",
       "        8.95000000e+02,  1.31960000e+04, -1.15600000e+03,  1.32000000e+03,\n",
       "       -3.32352664e+15, -1.79993940e+15, -6.52450000e+03,  3.20700000e+03,\n",
       "       -1.11142500e+04,  2.21610000e+04, -2.07125000e+04, -1.01560000e+04,\n",
       "       -1.78800000e+03, -1.92649902e+16, -1.34839844e+16,  1.56354041e+16,\n",
       "        6.01260466e+14,  3.05137865e+15, -4.01571603e+15,  6.34917675e+15,\n",
       "       -2.92310542e+16, -2.92046996e+15, -1.65209914e+15,  8.46774614e+15,\n",
       "        3.25627720e+14,  1.65255081e+15, -2.17481196e+15,  3.43855627e+15,\n",
       "       -1.58308122e+16, -1.58165392e+15,  1.64000000e+04,  1.30950000e+03,\n",
       "        1.68260000e+04, -1.90255000e+04,  2.25850000e+04, -3.35290000e+04,\n",
       "        5.69600000e+03,  1.48276000e+05, -7.32750000e+03, -4.77100000e+03,\n",
       "       -2.62200000e+03,  1.68287500e+03,  3.60675000e+03,  8.06400000e+03,\n",
       "        1.93800000e+03, -3.76000000e+02, -1.34000000e+03, -1.62812500e+03,\n",
       "       -4.73910000e+04, -2.46560000e+04,  4.47850000e+03, -6.77850000e+03,\n",
       "        3.95600000e+03,  1.34000000e+02, -1.62050000e+03,  1.40360000e+04,\n",
       "        4.08900000e+03,  5.76000000e+02])"
      ]
     },
     "execution_count": 191,
     "metadata": {},
     "output_type": "execute_result"
    }
   ],
   "source": [
    "reg.coef_"
   ]
  },
  {
   "cell_type": "markdown",
   "metadata": {},
   "source": [
    "#### Get intercept"
   ]
  },
  {
   "cell_type": "code",
   "execution_count": 192,
   "metadata": {},
   "outputs": [
    {
     "data": {
      "text/plain": [
       "-3893137875194326.5"
      ]
     },
     "execution_count": 192,
     "metadata": {},
     "output_type": "execute_result"
    }
   ],
   "source": [
    "reg.intercept_"
   ]
  },
  {
   "cell_type": "markdown",
   "metadata": {},
   "source": [
    "#### Feature summary and weights"
   ]
  },
  {
   "cell_type": "code",
   "execution_count": 193,
   "metadata": {},
   "outputs": [
    {
     "data": {
      "text/html": [
       "<div>\n",
       "<style scoped>\n",
       "    .dataframe tbody tr th:only-of-type {\n",
       "        vertical-align: middle;\n",
       "    }\n",
       "\n",
       "    .dataframe tbody tr th {\n",
       "        vertical-align: top;\n",
       "    }\n",
       "\n",
       "    .dataframe thead th {\n",
       "        text-align: right;\n",
       "    }\n",
       "</style>\n",
       "<table border=\"1\" class=\"dataframe\">\n",
       "  <thead>\n",
       "    <tr style=\"text-align: right;\">\n",
       "      <th></th>\n",
       "      <th>Features</th>\n",
       "    </tr>\n",
       "  </thead>\n",
       "  <tbody>\n",
       "    <tr>\n",
       "      <td>0</td>\n",
       "      <td>bedrooms</td>\n",
       "    </tr>\n",
       "    <tr>\n",
       "      <td>1</td>\n",
       "      <td>bathrooms</td>\n",
       "    </tr>\n",
       "    <tr>\n",
       "      <td>2</td>\n",
       "      <td>sqft_living</td>\n",
       "    </tr>\n",
       "    <tr>\n",
       "      <td>3</td>\n",
       "      <td>sqft_lot</td>\n",
       "    </tr>\n",
       "    <tr>\n",
       "      <td>4</td>\n",
       "      <td>floors</td>\n",
       "    </tr>\n",
       "    <tr>\n",
       "      <td>5</td>\n",
       "      <td>waterfront</td>\n",
       "    </tr>\n",
       "    <tr>\n",
       "      <td>6</td>\n",
       "      <td>view</td>\n",
       "    </tr>\n",
       "    <tr>\n",
       "      <td>7</td>\n",
       "      <td>condition</td>\n",
       "    </tr>\n",
       "    <tr>\n",
       "      <td>8</td>\n",
       "      <td>grade</td>\n",
       "    </tr>\n",
       "    <tr>\n",
       "      <td>9</td>\n",
       "      <td>sqft_above</td>\n",
       "    </tr>\n",
       "    <tr>\n",
       "      <td>10</td>\n",
       "      <td>sqft_basement</td>\n",
       "    </tr>\n",
       "    <tr>\n",
       "      <td>11</td>\n",
       "      <td>yr_built</td>\n",
       "    </tr>\n",
       "    <tr>\n",
       "      <td>12</td>\n",
       "      <td>yr_renovated</td>\n",
       "    </tr>\n",
       "    <tr>\n",
       "      <td>13</td>\n",
       "      <td>zipcode</td>\n",
       "    </tr>\n",
       "    <tr>\n",
       "      <td>14</td>\n",
       "      <td>lat</td>\n",
       "    </tr>\n",
       "    <tr>\n",
       "      <td>15</td>\n",
       "      <td>long</td>\n",
       "    </tr>\n",
       "    <tr>\n",
       "      <td>16</td>\n",
       "      <td>sqft_living15</td>\n",
       "    </tr>\n",
       "    <tr>\n",
       "      <td>17</td>\n",
       "      <td>sqft_lot15</td>\n",
       "    </tr>\n",
       "  </tbody>\n",
       "</table>\n",
       "</div>"
      ],
      "text/plain": [
       "         Features\n",
       "0        bedrooms\n",
       "1       bathrooms\n",
       "2     sqft_living\n",
       "3        sqft_lot\n",
       "4          floors\n",
       "5      waterfront\n",
       "6            view\n",
       "7       condition\n",
       "8           grade\n",
       "9      sqft_above\n",
       "10  sqft_basement\n",
       "11       yr_built\n",
       "12   yr_renovated\n",
       "13        zipcode\n",
       "14            lat\n",
       "15           long\n",
       "16  sqft_living15\n",
       "17     sqft_lot15"
      ]
     },
     "execution_count": 193,
     "metadata": {},
     "output_type": "execute_result"
    }
   ],
   "source": [
    "features2_df = pd.DataFrame(data = features2.columns.values, columns=['Features'])\n",
    "features2_df"
   ]
  },
  {
   "cell_type": "code",
   "execution_count": 194,
   "metadata": {},
   "outputs": [
    {
     "data": {
      "text/plain": [
       "array([            nan, 9.88131292e-324, 0.00000000e+000, 0.00000000e+000,\n",
       "       9.51187862e-034, 6.05311246e-237, 1.97362934e-072, 0.00000000e+000,\n",
       "       8.97890098e-007, 0.00000000e+000, 0.00000000e+000, 3.86471407e-221,\n",
       "       2.20560993e-014, 1.42931198e-040, 2.08305515e-006, 0.00000000e+000,\n",
       "       1.42215619e-004, 0.00000000e+000, 9.94523040e-020, 8.99189300e-008,\n",
       "       2.68996453e-043, 4.37935229e-135, 8.38067908e-005, 3.78971442e-013,\n",
       "       5.03024983e-004, 6.66450163e-017, 2.55785192e-001, 1.24476089e-096,\n",
       "       5.98136740e-123, 1.47166697e-010, 3.91306392e-001, 2.82671802e-008,\n",
       "       9.02248337e-003, 5.49815769e-027, 3.31381199e-003, 3.06365400e-113,\n",
       "       1.76967250e-005, 3.93772740e-146, 0.00000000e+000, 8.73021188e-035,\n",
       "       3.59189319e-020, 5.23113371e-015, 3.81438562e-110, 3.10617765e-003,\n",
       "       3.36162265e-320, 1.97626258e-323, 1.64673718e-049, 1.23376388e-002,\n",
       "       1.00617026e-022, 1.73727546e-001, 4.67930650e-025, 1.11702187e-005,\n",
       "       1.49662288e-233, 1.11995790e-025, 0.00000000e+000, 2.55833467e-051,\n",
       "       4.97375096e-129, 8.47523062e-031, 4.25543040e-190, 2.93321293e-006,\n",
       "       0.00000000e+000, 0.00000000e+000, 3.63424250e-088, 1.04045730e-053,\n",
       "       3.65440412e-021, 7.56461996e-028, 2.49990521e-040, 1.15074281e-029,\n",
       "       0.00000000e+000, 1.18514621e-037, 1.99666434e-008, 2.93564332e-009,\n",
       "       3.56210715e-009, 3.66752723e-001, 2.43811565e-005, 6.45099840e-050,\n",
       "       5.70535833e-062, 3.41851673e-003, 3.41878426e-046, 5.20800376e-002,\n",
       "       1.42536119e-018, 2.68781341e-001, 2.19187586e-012, 9.36699872e-052,\n",
       "       7.37844473e-007, 1.89304323e-008, 8.34445195e-005, 1.31234652e-005,\n",
       "       1.25149170e-001, 1.47809750e-139, 3.47997643e-230, 8.48762645e-009,\n",
       "       8.41582263e-006, 8.02750435e-005, 4.71109005e-003, 2.95406528e-001,\n",
       "       5.71991880e-001, 2.35417509e-052, 4.29592061e-009, 1.97362934e-072,\n",
       "       2.20675384e-069, 3.17411645e-003, 8.83392176e-028, 6.63380859e-015,\n",
       "       2.09176986e-018, 1.00956700e-003, 1.04109833e-014, 3.29236363e-013,\n",
       "       8.77668340e-003, 4.58816610e-007, 8.01287734e-042, 6.24420038e-008,\n",
       "       7.44393617e-314, 1.23521215e-014, 2.48382079e-189, 3.34617185e-074,\n",
       "       1.57264155e-167, 2.86951139e-005, 8.69733847e-028, 1.02551056e-012,\n",
       "       1.11723109e-002, 5.30909100e-034, 2.55568733e-205, 3.01104266e-001,\n",
       "       7.55062548e-006, 2.50622114e-008, 1.72858376e-039, 2.45466358e-029,\n",
       "       5.98667683e-048, 6.93395142e-012, 1.10618882e-012, 3.32026193e-007,\n",
       "       4.05837646e-033, 9.66194774e-001, 1.75747570e-005, 0.00000000e+000,\n",
       "       0.00000000e+000, 9.52437476e-041, 6.34192064e-038, 2.18738200e-011,\n",
       "       1.69170432e-028, 2.65559001e-017, 2.63451090e-032, 0.00000000e+000,\n",
       "       1.54426777e-039, 0.00000000e+000, 1.59151174e-001, 2.82671172e-111,\n",
       "       1.46112797e-006, 1.39876524e-046, 5.76196685e-043, 1.31448677e-065,\n",
       "       0.00000000e+000, 5.91118462e-047, 2.58902184e-241, 6.83853755e-022,\n",
       "       3.52346644e-023, 2.47040666e-002, 4.32947129e-001, 4.08545713e-023,\n",
       "       1.50839291e-045, 3.89707788e-002, 1.05196391e-050, 1.35098920e-028,\n",
       "       3.04879408e-008, 2.80665038e-010, 1.03960805e-040, 8.67962141e-040,\n",
       "       4.95699402e-033, 6.42251531e-041, 7.16218673e-006, 1.69119857e-002,\n",
       "       3.32844509e-026, 4.19106704e-004, 3.12194331e-002, 3.82560259e-020,\n",
       "       2.30170579e-073, 4.11188513e-005, 3.92439551e-078, 4.73213136e-012,\n",
       "       0.00000000e+000, 1.70311223e-002, 1.52824032e-021, 2.10152218e-001,\n",
       "       2.25484206e-003, 6.06481189e-078, 7.26934006e-007, 0.00000000e+000,\n",
       "       1.61283588e-047, 5.37537449e-002])"
      ]
     },
     "execution_count": 194,
     "metadata": {},
     "output_type": "execute_result"
    }
   ],
   "source": [
    "p_values = f_regression(X_train,y_train)[1]\n",
    "p_values"
   ]
  },
  {
   "cell_type": "markdown",
   "metadata": {},
   "source": [
    "#### Get r^2 score and adjusted r^2 score"
   ]
  },
  {
   "cell_type": "code",
   "execution_count": 195,
   "metadata": {},
   "outputs": [
    {
     "data": {
      "text/plain": [
       "0.8023010927077964"
      ]
     },
     "execution_count": 195,
     "metadata": {},
     "output_type": "execute_result"
    }
   ],
   "source": [
    "r2_train = reg.score(X_train, y_train)\n",
    "r2_train"
   ]
  },
  {
   "cell_type": "code",
   "execution_count": 196,
   "metadata": {},
   "outputs": [
    {
     "data": {
      "text/plain": [
       "0.7994461263487845"
      ]
     },
     "execution_count": 196,
     "metadata": {},
     "output_type": "execute_result"
    }
   ],
   "source": [
    "n = X_train.shape[0]\n",
    "p = X_train.shape[1]\n",
    "\n",
    "adjusted_r2_train = 1-(1-r2_train)*(n-1)/(n-p-1)\n",
    "adjusted_r2_train"
   ]
  },
  {
   "cell_type": "markdown",
   "metadata": {},
   "source": [
    "#### Get error"
   ]
  },
  {
   "cell_type": "code",
   "execution_count": 197,
   "metadata": {},
   "outputs": [],
   "source": [
    "y_train_pred = reg.predict(X_train)"
   ]
  },
  {
   "cell_type": "code",
   "execution_count": 198,
   "metadata": {},
   "outputs": [
    {
     "name": "stdout",
     "output_type": "stream",
     "text": [
      "Mean Absolute Error: 87755.21692388372\n",
      "Mean Squared Error: 15631179536.740654\n",
      "Root Mean Squared Error: 125024.71570349862\n"
     ]
    }
   ],
   "source": [
    "train_mae = metrics.mean_absolute_error(y_train, y_train_pred)\n",
    "train_mse = metrics.mean_squared_error(y_train, y_train_pred)\n",
    "train_rmse = np.sqrt(metrics.mean_squared_error(y_train, y_train_pred))\n",
    "\n",
    "print('Mean Absolute Error:', train_mae )\n",
    "print('Mean Squared Error:',  train_mse)\n",
    "print('Root Mean Squared Error:' , train_rmse)"
   ]
  },
  {
   "cell_type": "code",
   "execution_count": 199,
   "metadata": {},
   "outputs": [
    {
     "name": "stdout",
     "output_type": "stream",
     "text": [
      "Mean Absolute Error: 0.3118632063124028\n",
      "Root Mean Squared Error: 0.44431100593608\n"
     ]
    }
   ],
   "source": [
    "price_std = target.std()\n",
    "\n",
    "print('Mean Absolute Error:', train_mae/price_std )\n",
    "print('Root Mean Squared Error:' , train_rmse/price_std)"
   ]
  },
  {
   "cell_type": "markdown",
   "metadata": {},
   "source": [
    "#### Test Data"
   ]
  },
  {
   "cell_type": "code",
   "execution_count": 200,
   "metadata": {},
   "outputs": [
    {
     "data": {
      "text/plain": [
       "0.7884216485597213"
      ]
     },
     "execution_count": 200,
     "metadata": {},
     "output_type": "execute_result"
    }
   ],
   "source": [
    "reg.score(X_test, y_test)"
   ]
  },
  {
   "cell_type": "code",
   "execution_count": 201,
   "metadata": {},
   "outputs": [
    {
     "data": {
      "text/plain": [
       "0.7756476139954847"
      ]
     },
     "execution_count": 201,
     "metadata": {},
     "output_type": "execute_result"
    }
   ],
   "source": [
    "r2_test = reg.score(X_test, y_test)\n",
    "n = X_test.shape[0]\n",
    "p = X_test.shape[1]\n",
    "\n",
    "adjusted_r2_test = 1-(1-r2_test)*(n-1)/(n-p-1)\n",
    "adjusted_r2_test"
   ]
  },
  {
   "cell_type": "code",
   "execution_count": 202,
   "metadata": {},
   "outputs": [],
   "source": [
    "y_test_pred = reg.predict(X_test)"
   ]
  },
  {
   "cell_type": "code",
   "execution_count": 203,
   "metadata": {},
   "outputs": [
    {
     "name": "stdout",
     "output_type": "stream",
     "text": [
      "Mean Absolute Error: 90190.88031755542\n",
      "Mean Squared Error: 16841438915.104628\n",
      "Root Mean Squared Error: 129774.5696009223\n"
     ]
    }
   ],
   "source": [
    "test_mae = metrics.mean_absolute_error(y_test, y_test_pred)\n",
    "test_mse = metrics.mean_squared_error(y_test, y_test_pred)\n",
    "test_rmse = np.sqrt(metrics.mean_squared_error(y_test, y_test_pred))\n",
    "\n",
    "print('Mean Absolute Error:', test_mae )\n",
    "print('Mean Squared Error:',  test_mse)\n",
    "print('Root Mean Squared Error:' , test_rmse)"
   ]
  },
  {
   "cell_type": "code",
   "execution_count": 204,
   "metadata": {},
   "outputs": [
    {
     "name": "stdout",
     "output_type": "stream",
     "text": [
      "Mean Absolute Error  Z: 0.320519031254492\n",
      "Root Mean Squared Error Z: 0.4611909672408404\n"
     ]
    }
   ],
   "source": [
    "print('Mean Absolute Error  Z:', test_mae/price_std )\n",
    "print('Root Mean Squared Error Z:' , test_rmse/price_std)"
   ]
  },
  {
   "cell_type": "code",
   "execution_count": 205,
   "metadata": {},
   "outputs": [
    {
     "data": {
      "text/plain": [
       "Text(0, 0.5, 'Predictions')"
      ]
     },
     "execution_count": 205,
     "metadata": {},
     "output_type": "execute_result"
    },
    {
     "data": {
      "image/png": "[encoded data removed]",
      "text/plain": [
       "<Figure size 432x288 with 1 Axes>"
      ]
     },
     "metadata": {
      "needs_background": "light"
     },
     "output_type": "display_data"
    }
   ],
   "source": [
    "plt.scatter(y_test, y_test_pred, alpha=0.3)\n",
    "plt.xlabel(\"True Values\")\n",
    "plt.ylabel(\"Predictions\")"
   ]
  },
  {
   "cell_type": "code",
   "execution_count": 206,
   "metadata": {},
   "outputs": [
    {
     "data": {
      "text/plain": [
       "0.7884216485597213"
      ]
     },
     "execution_count": 206,
     "metadata": {},
     "output_type": "execute_result"
    }
   ],
   "source": [
    "r2_test"
   ]
  },
  {
   "cell_type": "code",
   "execution_count": 207,
   "metadata": {},
   "outputs": [
    {
     "data": {
      "text/plain": [
       "<matplotlib.axes._subplots.AxesSubplot at 0x1c289133d0>"
      ]
     },
     "execution_count": 207,
     "metadata": {},
     "output_type": "execute_result"
    },
    {
     "data": {
      "image/png": "[encoded data removed]",
      "text/plain": [
       "<Figure size 432x288 with 1 Axes>"
      ]
     },
     "metadata": {
      "needs_background": "light"
     },
     "output_type": "display_data"
    }
   ],
   "source": [
    "sns.residplot(y_test_pred, y_test, lowess=True, color=\"g\")"
   ]
  },
  {
   "cell_type": "markdown",
   "metadata": {},
   "source": [
    "#### Updated summary table of all models"
   ]
  },
  {
   "cell_type": "code",
   "execution_count": 208,
   "metadata": {
    "scrolled": false
   },
   "outputs": [
    {
     "data": {
      "text/html": [
       "<div>\n",
       "<style scoped>\n",
       "    .dataframe tbody tr th:only-of-type {\n",
       "        vertical-align: middle;\n",
       "    }\n",
       "\n",
       "    .dataframe tbody tr th {\n",
       "        vertical-align: top;\n",
       "    }\n",
       "\n",
       "    .dataframe thead th {\n",
       "        text-align: right;\n",
       "    }\n",
       "</style>\n",
       "<table border=\"1\" class=\"dataframe\">\n",
       "  <thead>\n",
       "    <tr style=\"text-align: right;\">\n",
       "      <th></th>\n",
       "      <th>Model</th>\n",
       "      <th>Description</th>\n",
       "      <th>Root Mean Squared Error (RMSE)</th>\n",
       "      <th>R-squared (training)</th>\n",
       "      <th>Adjusted R-squared (training)</th>\n",
       "      <th>R-squared (test)</th>\n",
       "      <th>Adjusted R-squared (test)</th>\n",
       "      <th>5-fold Cross Validation</th>\n",
       "    </tr>\n",
       "  </thead>\n",
       "  <tbody>\n",
       "    <tr>\n",
       "      <td>0</td>\n",
       "      <td>Multiple Regression-1</td>\n",
       "      <td>All features, no pre-processing</td>\n",
       "      <td>206631.858</td>\n",
       "      <td>0.697</td>\n",
       "      <td>0.697</td>\n",
       "      <td>0.703</td>\n",
       "      <td>0.701</td>\n",
       "      <td>nan</td>\n",
       "    </tr>\n",
       "    <tr>\n",
       "      <td>1</td>\n",
       "      <td>Multiple Regression-2</td>\n",
       "      <td>Minus sqft_above</td>\n",
       "      <td>206631.858</td>\n",
       "      <td>0.697</td>\n",
       "      <td>0.697</td>\n",
       "      <td>0.703</td>\n",
       "      <td>0.701</td>\n",
       "      <td>nan</td>\n",
       "    </tr>\n",
       "    <tr>\n",
       "      <td>2</td>\n",
       "      <td>Multiple Regression-3</td>\n",
       "      <td>All features 1st degree polynomial</td>\n",
       "      <td>206631.858</td>\n",
       "      <td>0.697</td>\n",
       "      <td>0.697</td>\n",
       "      <td>0.703</td>\n",
       "      <td>0.701</td>\n",
       "      <td>nan</td>\n",
       "    </tr>\n",
       "    <tr>\n",
       "      <td>3</td>\n",
       "      <td>Multiple Regression-4</td>\n",
       "      <td>All features, 2nd degree polynomial</td>\n",
       "      <td>152191.486</td>\n",
       "      <td>0.836</td>\n",
       "      <td>0.833</td>\n",
       "      <td>0.812</td>\n",
       "      <td>0.801</td>\n",
       "      <td>nan</td>\n",
       "    </tr>\n",
       "    <tr>\n",
       "      <td>4</td>\n",
       "      <td>Multiple Regression-5</td>\n",
       "      <td>minus sqft_above 1st degree polynomial</td>\n",
       "      <td>206631.858</td>\n",
       "      <td>0.697</td>\n",
       "      <td>0.697</td>\n",
       "      <td>0.703</td>\n",
       "      <td>0.701</td>\n",
       "      <td>nan</td>\n",
       "    </tr>\n",
       "    <tr>\n",
       "      <td>5</td>\n",
       "      <td>Multiple Regression-6</td>\n",
       "      <td>minus sqft_above, 2nd degree polynomial</td>\n",
       "      <td>152191.245</td>\n",
       "      <td>0.836</td>\n",
       "      <td>0.834</td>\n",
       "      <td>0.812</td>\n",
       "      <td>0.802</td>\n",
       "      <td>nan</td>\n",
       "    </tr>\n",
       "    <tr>\n",
       "      <td>6</td>\n",
       "      <td>Multiple Regression-7</td>\n",
       "      <td>all features: minus outliers</td>\n",
       "      <td>150438.270</td>\n",
       "      <td>0.714</td>\n",
       "      <td>0.713</td>\n",
       "      <td>0.710</td>\n",
       "      <td>0.708</td>\n",
       "      <td>nan</td>\n",
       "    </tr>\n",
       "    <tr>\n",
       "      <td>7</td>\n",
       "      <td>Multiple Regression-8</td>\n",
       "      <td>all features, no outliers, 2nd degree polynomial</td>\n",
       "      <td>125024.716</td>\n",
       "      <td>0.802</td>\n",
       "      <td>0.799</td>\n",
       "      <td>0.788</td>\n",
       "      <td>0.776</td>\n",
       "      <td>nan</td>\n",
       "    </tr>\n",
       "  </tbody>\n",
       "</table>\n",
       "</div>"
      ],
      "text/plain": [
       "                   Model                                       Description  \\\n",
       "0  Multiple Regression-1                   All features, no pre-processing   \n",
       "1  Multiple Regression-2                                  Minus sqft_above   \n",
       "2  Multiple Regression-3                All features 1st degree polynomial   \n",
       "3  Multiple Regression-4               All features, 2nd degree polynomial   \n",
       "4  Multiple Regression-5            minus sqft_above 1st degree polynomial   \n",
       "5  Multiple Regression-6           minus sqft_above, 2nd degree polynomial   \n",
       "6  Multiple Regression-7                      all features: minus outliers   \n",
       "7  Multiple Regression-8  all features, no outliers, 2nd degree polynomial   \n",
       "\n",
       "   Root Mean Squared Error (RMSE)  R-squared (training)  \\\n",
       "0                      206631.858                 0.697   \n",
       "1                      206631.858                 0.697   \n",
       "2                      206631.858                 0.697   \n",
       "3                      152191.486                 0.836   \n",
       "4                      206631.858                 0.697   \n",
       "5                      152191.245                 0.836   \n",
       "6                      150438.270                 0.714   \n",
       "7                      125024.716                 0.802   \n",
       "\n",
       "   Adjusted R-squared (training)  R-squared (test)  Adjusted R-squared (test)  \\\n",
       "0                          0.697             0.703                      0.701   \n",
       "1                          0.697             0.703                      0.701   \n",
       "2                          0.697             0.703                      0.701   \n",
       "3                          0.833             0.812                      0.801   \n",
       "4                          0.697             0.703                      0.701   \n",
       "5                          0.834             0.812                      0.802   \n",
       "6                          0.713             0.710                      0.708   \n",
       "7                          0.799             0.788                      0.776   \n",
       "\n",
       "   5-fold Cross Validation  \n",
       "0                      nan  \n",
       "1                      nan  \n",
       "2                      nan  \n",
       "3                      nan  \n",
       "4                      nan  \n",
       "5                      nan  \n",
       "6                      nan  \n",
       "7                      nan  "
      ]
     },
     "execution_count": 208,
     "metadata": {},
     "output_type": "execute_result"
    }
   ],
   "source": [
    "summary_df = summary_df.append({'Model' : 'Multiple Regression-8', 'Description' : 'all features, no outliers, 2nd degree polynomial' , 'Root Mean Squared Error (RMSE)' : train_rmse, 'R-squared (training)' : r2_train, 'Adjusted R-squared (training)': adjusted_r2_train, 'R-squared (test)' : r2_test, 'Adjusted R-squared (test)' : adjusted_r2_test} , ignore_index=True)\n",
    "summary_df"
   ]
  }
 ],
 "metadata": {
  "kernelspec": {
   "display_name": "Python 3",
   "language": "python",
   "name": "python3"
  },
  "language_info": {
   "codemirror_mode": {
    "name": "ipython",
    "version": 3
   },
   "file_extension": ".py",
   "mimetype": "text/x-python",
   "name": "python",
   "nbconvert_exporter": "python",
   "pygments_lexer": "ipython3",
   "version": "3.7.4"
  }
 },
 "nbformat": 4,
 "nbformat_minor": 2
}
