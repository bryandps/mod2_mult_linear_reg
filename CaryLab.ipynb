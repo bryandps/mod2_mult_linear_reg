{
 "cells": [
  {
   "cell_type": "code",
   "execution_count": 1,
   "metadata": {},
   "outputs": [],
   "source": [
    "#Import libraries\n",
    "from datetime import datetime\n",
    "import pandas as pd\n",
    "import numpy as np\n",
    "import statsmodels.api as sm\n",
    "from statsmodels.formula.api import ols\n",
    "import matplotlib.pyplot as plt\n",
    "import seaborn as sns\n",
    "from scipy.stats import pearsonr\n",
    "from scipy.stats import norm\n",
    "from scipy import stats\n",
    "import scipy as sp\n",
    "import warnings\n",
    "from sklearn.model_selection import train_test_split\n",
    "from sklearn.linear_model import LinearRegression\n",
    "from sklearn import metrics\n",
    "from sklearn.model_selection import cross_val_score\n",
    "from sklearn.feature_selection import f_regression\n",
    "sns.set()\n",
    "from sklearn.preprocessing import StandardScaler\n",
    "from sklearn.preprocessing import PolynomialFeatures\n",
    "from sklearn.metrics import mean_squared_error, r2_score\n",
    "warnings.filterwarnings(\"ignore\")\n",
    "plt.style.use('seaborn')\n",
    "%matplotlib inline\n",
    "pd.set_option('display.max_columns', 300)"
   ]
  },
  {
   "cell_type": "markdown",
   "metadata": {},
   "source": [
    "## Read and explore data "
   ]
  },
  {
   "cell_type": "code",
   "execution_count": 2,
   "metadata": {},
   "outputs": [],
   "source": [
    "#read in housedata data\n",
    "df = pd.read_csv('kc_house_data_train.csv', index_col=0)\n"
   ]
  },
  {
   "cell_type": "code",
   "execution_count": 3,
   "metadata": {
    "scrolled": true
   },
   "outputs": [
    {
     "data": {
      "text/html": [
       "<div>\n",
       "<style scoped>\n",
       "    .dataframe tbody tr th:only-of-type {\n",
       "        vertical-align: middle;\n",
       "    }\n",
       "\n",
       "    .dataframe tbody tr th {\n",
       "        vertical-align: top;\n",
       "    }\n",
       "\n",
       "    .dataframe thead th {\n",
       "        text-align: right;\n",
       "    }\n",
       "</style>\n",
       "<table border=\"1\" class=\"dataframe\">\n",
       "  <thead>\n",
       "    <tr style=\"text-align: right;\">\n",
       "      <th></th>\n",
       "      <th>id</th>\n",
       "      <th>date</th>\n",
       "      <th>price</th>\n",
       "      <th>bedrooms</th>\n",
       "      <th>bathrooms</th>\n",
       "      <th>sqft_living</th>\n",
       "      <th>sqft_lot</th>\n",
       "      <th>floors</th>\n",
       "      <th>waterfront</th>\n",
       "      <th>view</th>\n",
       "      <th>condition</th>\n",
       "      <th>grade</th>\n",
       "      <th>sqft_above</th>\n",
       "      <th>sqft_basement</th>\n",
       "      <th>yr_built</th>\n",
       "      <th>yr_renovated</th>\n",
       "      <th>zipcode</th>\n",
       "      <th>lat</th>\n",
       "      <th>long</th>\n",
       "      <th>sqft_living15</th>\n",
       "      <th>sqft_lot15</th>\n",
       "    </tr>\n",
       "  </thead>\n",
       "  <tbody>\n",
       "    <tr>\n",
       "      <td>0</td>\n",
       "      <td>2591820310</td>\n",
       "      <td>20141006T000000</td>\n",
       "      <td>365000.0</td>\n",
       "      <td>4</td>\n",
       "      <td>2.25</td>\n",
       "      <td>2070</td>\n",
       "      <td>8893</td>\n",
       "      <td>2.0</td>\n",
       "      <td>0</td>\n",
       "      <td>0</td>\n",
       "      <td>4</td>\n",
       "      <td>8</td>\n",
       "      <td>2070</td>\n",
       "      <td>0</td>\n",
       "      <td>1986</td>\n",
       "      <td>0</td>\n",
       "      <td>98058</td>\n",
       "      <td>47.4388</td>\n",
       "      <td>-122.162</td>\n",
       "      <td>2390</td>\n",
       "      <td>7700</td>\n",
       "    </tr>\n",
       "    <tr>\n",
       "      <td>1</td>\n",
       "      <td>7974200820</td>\n",
       "      <td>20140821T000000</td>\n",
       "      <td>865000.0</td>\n",
       "      <td>5</td>\n",
       "      <td>3.00</td>\n",
       "      <td>2900</td>\n",
       "      <td>6730</td>\n",
       "      <td>1.0</td>\n",
       "      <td>0</td>\n",
       "      <td>0</td>\n",
       "      <td>5</td>\n",
       "      <td>8</td>\n",
       "      <td>1830</td>\n",
       "      <td>1070</td>\n",
       "      <td>1977</td>\n",
       "      <td>0</td>\n",
       "      <td>98115</td>\n",
       "      <td>47.6784</td>\n",
       "      <td>-122.285</td>\n",
       "      <td>2370</td>\n",
       "      <td>6283</td>\n",
       "    </tr>\n",
       "    <tr>\n",
       "      <td>2</td>\n",
       "      <td>7701450110</td>\n",
       "      <td>20140815T000000</td>\n",
       "      <td>1038000.0</td>\n",
       "      <td>4</td>\n",
       "      <td>2.50</td>\n",
       "      <td>3770</td>\n",
       "      <td>10893</td>\n",
       "      <td>2.0</td>\n",
       "      <td>0</td>\n",
       "      <td>2</td>\n",
       "      <td>3</td>\n",
       "      <td>11</td>\n",
       "      <td>3770</td>\n",
       "      <td>0</td>\n",
       "      <td>1997</td>\n",
       "      <td>0</td>\n",
       "      <td>98006</td>\n",
       "      <td>47.5646</td>\n",
       "      <td>-122.129</td>\n",
       "      <td>3710</td>\n",
       "      <td>9685</td>\n",
       "    </tr>\n",
       "    <tr>\n",
       "      <td>3</td>\n",
       "      <td>9522300010</td>\n",
       "      <td>20150331T000000</td>\n",
       "      <td>1490000.0</td>\n",
       "      <td>3</td>\n",
       "      <td>3.50</td>\n",
       "      <td>4560</td>\n",
       "      <td>14608</td>\n",
       "      <td>2.0</td>\n",
       "      <td>0</td>\n",
       "      <td>2</td>\n",
       "      <td>3</td>\n",
       "      <td>12</td>\n",
       "      <td>4560</td>\n",
       "      <td>0</td>\n",
       "      <td>1990</td>\n",
       "      <td>0</td>\n",
       "      <td>98034</td>\n",
       "      <td>47.6995</td>\n",
       "      <td>-122.228</td>\n",
       "      <td>4050</td>\n",
       "      <td>14226</td>\n",
       "    </tr>\n",
       "    <tr>\n",
       "      <td>4</td>\n",
       "      <td>9510861140</td>\n",
       "      <td>20140714T000000</td>\n",
       "      <td>711000.0</td>\n",
       "      <td>3</td>\n",
       "      <td>2.50</td>\n",
       "      <td>2550</td>\n",
       "      <td>5376</td>\n",
       "      <td>2.0</td>\n",
       "      <td>0</td>\n",
       "      <td>0</td>\n",
       "      <td>3</td>\n",
       "      <td>9</td>\n",
       "      <td>2550</td>\n",
       "      <td>0</td>\n",
       "      <td>2004</td>\n",
       "      <td>0</td>\n",
       "      <td>98052</td>\n",
       "      <td>47.6647</td>\n",
       "      <td>-122.083</td>\n",
       "      <td>2250</td>\n",
       "      <td>4050</td>\n",
       "    </tr>\n",
       "  </tbody>\n",
       "</table>\n",
       "</div>"
      ],
      "text/plain": [
       "           id             date      price  bedrooms  bathrooms  sqft_living  \\\n",
       "0  2591820310  20141006T000000   365000.0         4       2.25         2070   \n",
       "1  7974200820  20140821T000000   865000.0         5       3.00         2900   \n",
       "2  7701450110  20140815T000000  1038000.0         4       2.50         3770   \n",
       "3  9522300010  20150331T000000  1490000.0         3       3.50         4560   \n",
       "4  9510861140  20140714T000000   711000.0         3       2.50         2550   \n",
       "\n",
       "   sqft_lot  floors  waterfront  view  condition  grade  sqft_above  \\\n",
       "0      8893     2.0           0     0          4      8        2070   \n",
       "1      6730     1.0           0     0          5      8        1830   \n",
       "2     10893     2.0           0     2          3     11        3770   \n",
       "3     14608     2.0           0     2          3     12        4560   \n",
       "4      5376     2.0           0     0          3      9        2550   \n",
       "\n",
       "   sqft_basement  yr_built  yr_renovated  zipcode      lat     long  \\\n",
       "0              0      1986             0    98058  47.4388 -122.162   \n",
       "1           1070      1977             0    98115  47.6784 -122.285   \n",
       "2              0      1997             0    98006  47.5646 -122.129   \n",
       "3              0      1990             0    98034  47.6995 -122.228   \n",
       "4              0      2004             0    98052  47.6647 -122.083   \n",
       "\n",
       "   sqft_living15  sqft_lot15  \n",
       "0           2390        7700  \n",
       "1           2370        6283  \n",
       "2           3710        9685  \n",
       "3           4050       14226  \n",
       "4           2250        4050  "
      ]
     },
     "execution_count": 3,
     "metadata": {},
     "output_type": "execute_result"
    }
   ],
   "source": [
    "df.head()"
   ]
  },
  {
   "cell_type": "markdown",
   "metadata": {},
   "source": [
    "df.shape"
   ]
  },
  {
   "cell_type": "code",
   "execution_count": 4,
   "metadata": {},
   "outputs": [
    {
     "data": {
      "text/plain": [
       "count    17290.000000\n",
       "mean        83.806304\n",
       "std        400.329376\n",
       "min          0.000000\n",
       "25%          0.000000\n",
       "50%          0.000000\n",
       "75%          0.000000\n",
       "max       2015.000000\n",
       "Name: yr_renovated, dtype: float64"
      ]
     },
     "execution_count": 4,
     "metadata": {},
     "output_type": "execute_result"
    }
   ],
   "source": [
    "df['yr_renovated'].describe()"
   ]
  },
  {
   "cell_type": "code",
   "execution_count": 5,
   "metadata": {},
   "outputs": [
    {
     "data": {
      "text/plain": [
       "id                 int64\n",
       "date              object\n",
       "price            float64\n",
       "bedrooms           int64\n",
       "bathrooms        float64\n",
       "sqft_living        int64\n",
       "sqft_lot           int64\n",
       "floors           float64\n",
       "waterfront         int64\n",
       "view               int64\n",
       "condition          int64\n",
       "grade              int64\n",
       "sqft_above         int64\n",
       "sqft_basement      int64\n",
       "yr_built           int64\n",
       "yr_renovated       int64\n",
       "zipcode            int64\n",
       "lat              float64\n",
       "long             float64\n",
       "sqft_living15      int64\n",
       "sqft_lot15         int64\n",
       "dtype: object"
      ]
     },
     "execution_count": 5,
     "metadata": {},
     "output_type": "execute_result"
    }
   ],
   "source": [
    "df.dtypes"
   ]
  },
  {
   "cell_type": "code",
   "execution_count": 6,
   "metadata": {},
   "outputs": [
    {
     "data": {
      "text/plain": [
       "0        20141006T000000\n",
       "1        20140821T000000\n",
       "2        20140815T000000\n",
       "3        20150331T000000\n",
       "4        20140714T000000\n",
       "              ...       \n",
       "17285    20150303T000000\n",
       "17286    20140520T000000\n",
       "17287    20140514T000000\n",
       "17288    20141204T000000\n",
       "17289    20150116T000000\n",
       "Name: date, Length: 17290, dtype: object"
      ]
     },
     "execution_count": 6,
     "metadata": {},
     "output_type": "execute_result"
    }
   ],
   "source": [
    "df['date']"
   ]
  },
  {
   "cell_type": "markdown",
   "metadata": {},
   "source": [
    "Convert date to yyyy-mm-dd"
   ]
  },
  {
   "cell_type": "code",
   "execution_count": 7,
   "metadata": {},
   "outputs": [],
   "source": [
    "df['date'] = df['date'].str[:8]"
   ]
  },
  {
   "cell_type": "code",
   "execution_count": 8,
   "metadata": {},
   "outputs": [],
   "source": [
    "df[\"date\"]= pd.to_datetime(df[\"date\"]) "
   ]
  },
  {
   "cell_type": "code",
   "execution_count": 9,
   "metadata": {},
   "outputs": [
    {
     "data": {
      "text/plain": [
       "0       2014-10-06\n",
       "1       2014-08-21\n",
       "2       2014-08-15\n",
       "3       2015-03-31\n",
       "4       2014-07-14\n",
       "           ...    \n",
       "17285   2015-03-03\n",
       "17286   2014-05-20\n",
       "17287   2014-05-14\n",
       "17288   2014-12-04\n",
       "17289   2015-01-16\n",
       "Name: date, Length: 17290, dtype: datetime64[ns]"
      ]
     },
     "execution_count": 9,
     "metadata": {},
     "output_type": "execute_result"
    }
   ],
   "source": [
    "df['date']"
   ]
  },
  {
   "cell_type": "code",
   "execution_count": 10,
   "metadata": {},
   "outputs": [
    {
     "data": {
      "text/html": [
       "<div>\n",
       "<style scoped>\n",
       "    .dataframe tbody tr th:only-of-type {\n",
       "        vertical-align: middle;\n",
       "    }\n",
       "\n",
       "    .dataframe tbody tr th {\n",
       "        vertical-align: top;\n",
       "    }\n",
       "\n",
       "    .dataframe thead th {\n",
       "        text-align: right;\n",
       "    }\n",
       "</style>\n",
       "<table border=\"1\" class=\"dataframe\">\n",
       "  <thead>\n",
       "    <tr style=\"text-align: right;\">\n",
       "      <th></th>\n",
       "      <th>id</th>\n",
       "      <th>date</th>\n",
       "      <th>price</th>\n",
       "      <th>bedrooms</th>\n",
       "      <th>bathrooms</th>\n",
       "      <th>sqft_living</th>\n",
       "      <th>sqft_lot</th>\n",
       "      <th>floors</th>\n",
       "      <th>waterfront</th>\n",
       "      <th>view</th>\n",
       "      <th>condition</th>\n",
       "      <th>grade</th>\n",
       "      <th>sqft_above</th>\n",
       "      <th>sqft_basement</th>\n",
       "      <th>yr_built</th>\n",
       "      <th>yr_renovated</th>\n",
       "      <th>zipcode</th>\n",
       "      <th>lat</th>\n",
       "      <th>long</th>\n",
       "      <th>sqft_living15</th>\n",
       "      <th>sqft_lot15</th>\n",
       "    </tr>\n",
       "  </thead>\n",
       "  <tbody>\n",
       "    <tr>\n",
       "      <td>0</td>\n",
       "      <td>False</td>\n",
       "      <td>False</td>\n",
       "      <td>False</td>\n",
       "      <td>False</td>\n",
       "      <td>False</td>\n",
       "      <td>False</td>\n",
       "      <td>False</td>\n",
       "      <td>False</td>\n",
       "      <td>False</td>\n",
       "      <td>False</td>\n",
       "      <td>False</td>\n",
       "      <td>False</td>\n",
       "      <td>False</td>\n",
       "      <td>False</td>\n",
       "      <td>False</td>\n",
       "      <td>False</td>\n",
       "      <td>False</td>\n",
       "      <td>False</td>\n",
       "      <td>False</td>\n",
       "      <td>False</td>\n",
       "      <td>False</td>\n",
       "    </tr>\n",
       "    <tr>\n",
       "      <td>1</td>\n",
       "      <td>False</td>\n",
       "      <td>False</td>\n",
       "      <td>False</td>\n",
       "      <td>False</td>\n",
       "      <td>False</td>\n",
       "      <td>False</td>\n",
       "      <td>False</td>\n",
       "      <td>False</td>\n",
       "      <td>False</td>\n",
       "      <td>False</td>\n",
       "      <td>False</td>\n",
       "      <td>False</td>\n",
       "      <td>False</td>\n",
       "      <td>False</td>\n",
       "      <td>False</td>\n",
       "      <td>False</td>\n",
       "      <td>False</td>\n",
       "      <td>False</td>\n",
       "      <td>False</td>\n",
       "      <td>False</td>\n",
       "      <td>False</td>\n",
       "    </tr>\n",
       "    <tr>\n",
       "      <td>2</td>\n",
       "      <td>False</td>\n",
       "      <td>False</td>\n",
       "      <td>False</td>\n",
       "      <td>False</td>\n",
       "      <td>False</td>\n",
       "      <td>False</td>\n",
       "      <td>False</td>\n",
       "      <td>False</td>\n",
       "      <td>False</td>\n",
       "      <td>False</td>\n",
       "      <td>False</td>\n",
       "      <td>False</td>\n",
       "      <td>False</td>\n",
       "      <td>False</td>\n",
       "      <td>False</td>\n",
       "      <td>False</td>\n",
       "      <td>False</td>\n",
       "      <td>False</td>\n",
       "      <td>False</td>\n",
       "      <td>False</td>\n",
       "      <td>False</td>\n",
       "    </tr>\n",
       "    <tr>\n",
       "      <td>3</td>\n",
       "      <td>False</td>\n",
       "      <td>False</td>\n",
       "      <td>False</td>\n",
       "      <td>False</td>\n",
       "      <td>False</td>\n",
       "      <td>False</td>\n",
       "      <td>False</td>\n",
       "      <td>False</td>\n",
       "      <td>False</td>\n",
       "      <td>False</td>\n",
       "      <td>False</td>\n",
       "      <td>False</td>\n",
       "      <td>False</td>\n",
       "      <td>False</td>\n",
       "      <td>False</td>\n",
       "      <td>False</td>\n",
       "      <td>False</td>\n",
       "      <td>False</td>\n",
       "      <td>False</td>\n",
       "      <td>False</td>\n",
       "      <td>False</td>\n",
       "    </tr>\n",
       "    <tr>\n",
       "      <td>4</td>\n",
       "      <td>False</td>\n",
       "      <td>False</td>\n",
       "      <td>False</td>\n",
       "      <td>False</td>\n",
       "      <td>False</td>\n",
       "      <td>False</td>\n",
       "      <td>False</td>\n",
       "      <td>False</td>\n",
       "      <td>False</td>\n",
       "      <td>False</td>\n",
       "      <td>False</td>\n",
       "      <td>False</td>\n",
       "      <td>False</td>\n",
       "      <td>False</td>\n",
       "      <td>False</td>\n",
       "      <td>False</td>\n",
       "      <td>False</td>\n",
       "      <td>False</td>\n",
       "      <td>False</td>\n",
       "      <td>False</td>\n",
       "      <td>False</td>\n",
       "    </tr>\n",
       "  </tbody>\n",
       "</table>\n",
       "</div>"
      ],
      "text/plain": [
       "      id   date  price  bedrooms  bathrooms  sqft_living  sqft_lot  floors  \\\n",
       "0  False  False  False     False      False        False     False   False   \n",
       "1  False  False  False     False      False        False     False   False   \n",
       "2  False  False  False     False      False        False     False   False   \n",
       "3  False  False  False     False      False        False     False   False   \n",
       "4  False  False  False     False      False        False     False   False   \n",
       "\n",
       "   waterfront   view  condition  grade  sqft_above  sqft_basement  yr_built  \\\n",
       "0       False  False      False  False       False          False     False   \n",
       "1       False  False      False  False       False          False     False   \n",
       "2       False  False      False  False       False          False     False   \n",
       "3       False  False      False  False       False          False     False   \n",
       "4       False  False      False  False       False          False     False   \n",
       "\n",
       "   yr_renovated  zipcode    lat   long  sqft_living15  sqft_lot15  \n",
       "0         False    False  False  False          False       False  \n",
       "1         False    False  False  False          False       False  \n",
       "2         False    False  False  False          False       False  \n",
       "3         False    False  False  False          False       False  \n",
       "4         False    False  False  False          False       False  "
      ]
     },
     "execution_count": 10,
     "metadata": {},
     "output_type": "execute_result"
    }
   ],
   "source": [
    "#Data is all present\n",
    "df.isna().head()"
   ]
  },
  {
   "cell_type": "markdown",
   "metadata": {},
   "source": [
    "Explore price as outcome variable. I decided to trim some of the extreme outlier points, anywhere price was in the 99th %tile"
   ]
  },
  {
   "cell_type": "code",
   "execution_count": 11,
   "metadata": {},
   "outputs": [
    {
     "data": {
      "text/plain": [
       "array([[<matplotlib.axes._subplots.AxesSubplot object at 0x1c1ab7b6d0>]],\n",
       "      dtype=object)"
      ]
     },
     "execution_count": 11,
     "metadata": {},
     "output_type": "execute_result"
    },
    {
     "data": {
      "image/png": "[encoded data removed]",
      "text/plain": [
       "<Figure size 432x288 with 1 Axes>"
      ]
     },
     "metadata": {
      "needs_background": "light"
     },
     "output_type": "display_data"
    }
   ],
   "source": [
    "df.hist(column=['price'], bins=30)"
   ]
  },
  {
   "cell_type": "code",
   "execution_count": 12,
   "metadata": {},
   "outputs": [
    {
     "data": {
      "text/html": [
       "<div>\n",
       "<style scoped>\n",
       "    .dataframe tbody tr th:only-of-type {\n",
       "        vertical-align: middle;\n",
       "    }\n",
       "\n",
       "    .dataframe tbody tr th {\n",
       "        vertical-align: top;\n",
       "    }\n",
       "\n",
       "    .dataframe thead th {\n",
       "        text-align: right;\n",
       "    }\n",
       "</style>\n",
       "<table border=\"1\" class=\"dataframe\">\n",
       "  <thead>\n",
       "    <tr style=\"text-align: right;\">\n",
       "      <th></th>\n",
       "      <th>id</th>\n",
       "      <th>date</th>\n",
       "      <th>price</th>\n",
       "      <th>bedrooms</th>\n",
       "      <th>bathrooms</th>\n",
       "      <th>sqft_living</th>\n",
       "      <th>sqft_lot</th>\n",
       "      <th>floors</th>\n",
       "      <th>waterfront</th>\n",
       "      <th>view</th>\n",
       "      <th>condition</th>\n",
       "      <th>grade</th>\n",
       "      <th>sqft_above</th>\n",
       "      <th>sqft_basement</th>\n",
       "      <th>yr_built</th>\n",
       "      <th>yr_renovated</th>\n",
       "      <th>zipcode</th>\n",
       "      <th>lat</th>\n",
       "      <th>long</th>\n",
       "      <th>sqft_living15</th>\n",
       "      <th>sqft_lot15</th>\n",
       "    </tr>\n",
       "  </thead>\n",
       "  <tbody>\n",
       "    <tr>\n",
       "      <td>0</td>\n",
       "      <td>2591820310</td>\n",
       "      <td>2014-10-06</td>\n",
       "      <td>365000.0</td>\n",
       "      <td>4</td>\n",
       "      <td>2.25</td>\n",
       "      <td>2070</td>\n",
       "      <td>8893</td>\n",
       "      <td>2.0</td>\n",
       "      <td>0</td>\n",
       "      <td>0</td>\n",
       "      <td>4</td>\n",
       "      <td>8</td>\n",
       "      <td>2070</td>\n",
       "      <td>0</td>\n",
       "      <td>1986</td>\n",
       "      <td>0</td>\n",
       "      <td>98058</td>\n",
       "      <td>47.4388</td>\n",
       "      <td>-122.162</td>\n",
       "      <td>2390</td>\n",
       "      <td>7700</td>\n",
       "    </tr>\n",
       "    <tr>\n",
       "      <td>1</td>\n",
       "      <td>7974200820</td>\n",
       "      <td>2014-08-21</td>\n",
       "      <td>865000.0</td>\n",
       "      <td>5</td>\n",
       "      <td>3.00</td>\n",
       "      <td>2900</td>\n",
       "      <td>6730</td>\n",
       "      <td>1.0</td>\n",
       "      <td>0</td>\n",
       "      <td>0</td>\n",
       "      <td>5</td>\n",
       "      <td>8</td>\n",
       "      <td>1830</td>\n",
       "      <td>1070</td>\n",
       "      <td>1977</td>\n",
       "      <td>0</td>\n",
       "      <td>98115</td>\n",
       "      <td>47.6784</td>\n",
       "      <td>-122.285</td>\n",
       "      <td>2370</td>\n",
       "      <td>6283</td>\n",
       "    </tr>\n",
       "    <tr>\n",
       "      <td>2</td>\n",
       "      <td>7701450110</td>\n",
       "      <td>2014-08-15</td>\n",
       "      <td>1038000.0</td>\n",
       "      <td>4</td>\n",
       "      <td>2.50</td>\n",
       "      <td>3770</td>\n",
       "      <td>10893</td>\n",
       "      <td>2.0</td>\n",
       "      <td>0</td>\n",
       "      <td>2</td>\n",
       "      <td>3</td>\n",
       "      <td>11</td>\n",
       "      <td>3770</td>\n",
       "      <td>0</td>\n",
       "      <td>1997</td>\n",
       "      <td>0</td>\n",
       "      <td>98006</td>\n",
       "      <td>47.5646</td>\n",
       "      <td>-122.129</td>\n",
       "      <td>3710</td>\n",
       "      <td>9685</td>\n",
       "    </tr>\n",
       "    <tr>\n",
       "      <td>3</td>\n",
       "      <td>9522300010</td>\n",
       "      <td>2015-03-31</td>\n",
       "      <td>1490000.0</td>\n",
       "      <td>3</td>\n",
       "      <td>3.50</td>\n",
       "      <td>4560</td>\n",
       "      <td>14608</td>\n",
       "      <td>2.0</td>\n",
       "      <td>0</td>\n",
       "      <td>2</td>\n",
       "      <td>3</td>\n",
       "      <td>12</td>\n",
       "      <td>4560</td>\n",
       "      <td>0</td>\n",
       "      <td>1990</td>\n",
       "      <td>0</td>\n",
       "      <td>98034</td>\n",
       "      <td>47.6995</td>\n",
       "      <td>-122.228</td>\n",
       "      <td>4050</td>\n",
       "      <td>14226</td>\n",
       "    </tr>\n",
       "    <tr>\n",
       "      <td>4</td>\n",
       "      <td>9510861140</td>\n",
       "      <td>2014-07-14</td>\n",
       "      <td>711000.0</td>\n",
       "      <td>3</td>\n",
       "      <td>2.50</td>\n",
       "      <td>2550</td>\n",
       "      <td>5376</td>\n",
       "      <td>2.0</td>\n",
       "      <td>0</td>\n",
       "      <td>0</td>\n",
       "      <td>3</td>\n",
       "      <td>9</td>\n",
       "      <td>2550</td>\n",
       "      <td>0</td>\n",
       "      <td>2004</td>\n",
       "      <td>0</td>\n",
       "      <td>98052</td>\n",
       "      <td>47.6647</td>\n",
       "      <td>-122.083</td>\n",
       "      <td>2250</td>\n",
       "      <td>4050</td>\n",
       "    </tr>\n",
       "  </tbody>\n",
       "</table>\n",
       "</div>"
      ],
      "text/plain": [
       "           id       date      price  bedrooms  bathrooms  sqft_living  \\\n",
       "0  2591820310 2014-10-06   365000.0         4       2.25         2070   \n",
       "1  7974200820 2014-08-21   865000.0         5       3.00         2900   \n",
       "2  7701450110 2014-08-15  1038000.0         4       2.50         3770   \n",
       "3  9522300010 2015-03-31  1490000.0         3       3.50         4560   \n",
       "4  9510861140 2014-07-14   711000.0         3       2.50         2550   \n",
       "\n",
       "   sqft_lot  floors  waterfront  view  condition  grade  sqft_above  \\\n",
       "0      8893     2.0           0     0          4      8        2070   \n",
       "1      6730     1.0           0     0          5      8        1830   \n",
       "2     10893     2.0           0     2          3     11        3770   \n",
       "3     14608     2.0           0     2          3     12        4560   \n",
       "4      5376     2.0           0     0          3      9        2550   \n",
       "\n",
       "   sqft_basement  yr_built  yr_renovated  zipcode      lat     long  \\\n",
       "0              0      1986             0    98058  47.4388 -122.162   \n",
       "1           1070      1977             0    98115  47.6784 -122.285   \n",
       "2              0      1997             0    98006  47.5646 -122.129   \n",
       "3              0      1990             0    98034  47.6995 -122.228   \n",
       "4              0      2004             0    98052  47.6647 -122.083   \n",
       "\n",
       "   sqft_living15  sqft_lot15  \n",
       "0           2390        7700  \n",
       "1           2370        6283  \n",
       "2           3710        9685  \n",
       "3           4050       14226  \n",
       "4           2250        4050  "
      ]
     },
     "execution_count": 12,
     "metadata": {},
     "output_type": "execute_result"
    }
   ],
   "source": [
    "df.head()"
   ]
  },
  {
   "cell_type": "code",
   "execution_count": 13,
   "metadata": {},
   "outputs": [
    {
     "name": "stdout",
     "output_type": "stream",
     "text": [
      "973303.7500000012\n",
      "1150000.0\n",
      "1484977.4999999998\n",
      "1990880.0000000047\n"
     ]
    }
   ],
   "source": [
    "print(df.price.quantile(.925))\n",
    "print(df.price.quantile(.95))\n",
    "print(df.price.quantile(.975))\n",
    "print(df.price.quantile(.99))"
   ]
  },
  {
   "cell_type": "markdown",
   "metadata": {},
   "source": [
    "## Dropping some columns"
   ]
  },
  {
   "cell_type": "markdown",
   "metadata": {},
   "source": [
    "Here is my initial column drop, I decided to drop latitude, longitude, and the sqft of closest 15 neighbors. All four of these should be encompassed within zipcode as a variable so I felt comfortable dropping these right away."
   ]
  },
  {
   "cell_type": "code",
   "execution_count": 14,
   "metadata": {},
   "outputs": [],
   "source": [
    "df2 = df.copy()\n",
    "df2_tgt = df.price"
   ]
  },
  {
   "cell_type": "code",
   "execution_count": 15,
   "metadata": {},
   "outputs": [],
   "source": [
    "df.drop(columns=['lat', 'long','sqft_living15','sqft_lot15'], inplace=True)"
   ]
  },
  {
   "cell_type": "code",
   "execution_count": 16,
   "metadata": {},
   "outputs": [
    {
     "data": {
      "text/html": [
       "<div>\n",
       "<style scoped>\n",
       "    .dataframe tbody tr th:only-of-type {\n",
       "        vertical-align: middle;\n",
       "    }\n",
       "\n",
       "    .dataframe tbody tr th {\n",
       "        vertical-align: top;\n",
       "    }\n",
       "\n",
       "    .dataframe thead th {\n",
       "        text-align: right;\n",
       "    }\n",
       "</style>\n",
       "<table border=\"1\" class=\"dataframe\">\n",
       "  <thead>\n",
       "    <tr style=\"text-align: right;\">\n",
       "      <th></th>\n",
       "      <th>id</th>\n",
       "      <th>date</th>\n",
       "      <th>price</th>\n",
       "      <th>bedrooms</th>\n",
       "      <th>bathrooms</th>\n",
       "      <th>sqft_living</th>\n",
       "      <th>sqft_lot</th>\n",
       "      <th>floors</th>\n",
       "      <th>waterfront</th>\n",
       "      <th>view</th>\n",
       "      <th>condition</th>\n",
       "      <th>grade</th>\n",
       "      <th>sqft_above</th>\n",
       "      <th>sqft_basement</th>\n",
       "      <th>yr_built</th>\n",
       "      <th>yr_renovated</th>\n",
       "      <th>zipcode</th>\n",
       "    </tr>\n",
       "  </thead>\n",
       "  <tbody>\n",
       "    <tr>\n",
       "      <td>0</td>\n",
       "      <td>2591820310</td>\n",
       "      <td>2014-10-06</td>\n",
       "      <td>365000.0</td>\n",
       "      <td>4</td>\n",
       "      <td>2.25</td>\n",
       "      <td>2070</td>\n",
       "      <td>8893</td>\n",
       "      <td>2.0</td>\n",
       "      <td>0</td>\n",
       "      <td>0</td>\n",
       "      <td>4</td>\n",
       "      <td>8</td>\n",
       "      <td>2070</td>\n",
       "      <td>0</td>\n",
       "      <td>1986</td>\n",
       "      <td>0</td>\n",
       "      <td>98058</td>\n",
       "    </tr>\n",
       "    <tr>\n",
       "      <td>1</td>\n",
       "      <td>7974200820</td>\n",
       "      <td>2014-08-21</td>\n",
       "      <td>865000.0</td>\n",
       "      <td>5</td>\n",
       "      <td>3.00</td>\n",
       "      <td>2900</td>\n",
       "      <td>6730</td>\n",
       "      <td>1.0</td>\n",
       "      <td>0</td>\n",
       "      <td>0</td>\n",
       "      <td>5</td>\n",
       "      <td>8</td>\n",
       "      <td>1830</td>\n",
       "      <td>1070</td>\n",
       "      <td>1977</td>\n",
       "      <td>0</td>\n",
       "      <td>98115</td>\n",
       "    </tr>\n",
       "    <tr>\n",
       "      <td>2</td>\n",
       "      <td>7701450110</td>\n",
       "      <td>2014-08-15</td>\n",
       "      <td>1038000.0</td>\n",
       "      <td>4</td>\n",
       "      <td>2.50</td>\n",
       "      <td>3770</td>\n",
       "      <td>10893</td>\n",
       "      <td>2.0</td>\n",
       "      <td>0</td>\n",
       "      <td>2</td>\n",
       "      <td>3</td>\n",
       "      <td>11</td>\n",
       "      <td>3770</td>\n",
       "      <td>0</td>\n",
       "      <td>1997</td>\n",
       "      <td>0</td>\n",
       "      <td>98006</td>\n",
       "    </tr>\n",
       "    <tr>\n",
       "      <td>3</td>\n",
       "      <td>9522300010</td>\n",
       "      <td>2015-03-31</td>\n",
       "      <td>1490000.0</td>\n",
       "      <td>3</td>\n",
       "      <td>3.50</td>\n",
       "      <td>4560</td>\n",
       "      <td>14608</td>\n",
       "      <td>2.0</td>\n",
       "      <td>0</td>\n",
       "      <td>2</td>\n",
       "      <td>3</td>\n",
       "      <td>12</td>\n",
       "      <td>4560</td>\n",
       "      <td>0</td>\n",
       "      <td>1990</td>\n",
       "      <td>0</td>\n",
       "      <td>98034</td>\n",
       "    </tr>\n",
       "    <tr>\n",
       "      <td>4</td>\n",
       "      <td>9510861140</td>\n",
       "      <td>2014-07-14</td>\n",
       "      <td>711000.0</td>\n",
       "      <td>3</td>\n",
       "      <td>2.50</td>\n",
       "      <td>2550</td>\n",
       "      <td>5376</td>\n",
       "      <td>2.0</td>\n",
       "      <td>0</td>\n",
       "      <td>0</td>\n",
       "      <td>3</td>\n",
       "      <td>9</td>\n",
       "      <td>2550</td>\n",
       "      <td>0</td>\n",
       "      <td>2004</td>\n",
       "      <td>0</td>\n",
       "      <td>98052</td>\n",
       "    </tr>\n",
       "  </tbody>\n",
       "</table>\n",
       "</div>"
      ],
      "text/plain": [
       "           id       date      price  bedrooms  bathrooms  sqft_living  \\\n",
       "0  2591820310 2014-10-06   365000.0         4       2.25         2070   \n",
       "1  7974200820 2014-08-21   865000.0         5       3.00         2900   \n",
       "2  7701450110 2014-08-15  1038000.0         4       2.50         3770   \n",
       "3  9522300010 2015-03-31  1490000.0         3       3.50         4560   \n",
       "4  9510861140 2014-07-14   711000.0         3       2.50         2550   \n",
       "\n",
       "   sqft_lot  floors  waterfront  view  condition  grade  sqft_above  \\\n",
       "0      8893     2.0           0     0          4      8        2070   \n",
       "1      6730     1.0           0     0          5      8        1830   \n",
       "2     10893     2.0           0     2          3     11        3770   \n",
       "3     14608     2.0           0     2          3     12        4560   \n",
       "4      5376     2.0           0     0          3      9        2550   \n",
       "\n",
       "   sqft_basement  yr_built  yr_renovated  zipcode  \n",
       "0              0      1986             0    98058  \n",
       "1           1070      1977             0    98115  \n",
       "2              0      1997             0    98006  \n",
       "3              0      1990             0    98034  \n",
       "4              0      2004             0    98052  "
      ]
     },
     "execution_count": 16,
     "metadata": {},
     "output_type": "execute_result"
    }
   ],
   "source": [
    "df.head()"
   ]
  },
  {
   "cell_type": "code",
   "execution_count": 17,
   "metadata": {},
   "outputs": [],
   "source": [
    "df = df[df['price'] < 1990880] "
   ]
  },
  {
   "cell_type": "code",
   "execution_count": 18,
   "metadata": {},
   "outputs": [],
   "source": [
    "#sns.pairplot(df, diag_kind=\"kde\", height=5)\n",
    "#commenting this out since it takes a long time to run"
   ]
  },
  {
   "cell_type": "code",
   "execution_count": 19,
   "metadata": {},
   "outputs": [
    {
     "data": {
      "text/plain": [
       "0        0\n",
       "1        0\n",
       "2        0\n",
       "3        0\n",
       "4        0\n",
       "        ..\n",
       "17285    0\n",
       "17286    0\n",
       "17287    0\n",
       "17288    0\n",
       "17289    0\n",
       "Name: yr_renovated, Length: 17117, dtype: int64"
      ]
     },
     "execution_count": 19,
     "metadata": {},
     "output_type": "execute_result"
    }
   ],
   "source": [
    "#turning year renovated into a dummy\n",
    "df['yr_renovated'] = np.where(df['yr_renovated']>0, 1, 0)\n",
    "df['yr_renovated']"
   ]
  },
  {
   "cell_type": "code",
   "execution_count": 20,
   "metadata": {},
   "outputs": [],
   "source": [
    "df['logsqft_above'] = np.log(df['sqft_above'])\n",
    "df['logsqft_living'] = np.log(df['sqft_living'])\n",
    "df['logsqft_lot'] = np.log(df['sqft_lot'])\n"
   ]
  },
  {
   "cell_type": "markdown",
   "metadata": {},
   "source": [
    "## Creating Target and Feature DataFrames "
   ]
  },
  {
   "cell_type": "code",
   "execution_count": 21,
   "metadata": {},
   "outputs": [
    {
     "data": {
      "text/html": [
       "<div>\n",
       "<style scoped>\n",
       "    .dataframe tbody tr th:only-of-type {\n",
       "        vertical-align: middle;\n",
       "    }\n",
       "\n",
       "    .dataframe tbody tr th {\n",
       "        vertical-align: top;\n",
       "    }\n",
       "\n",
       "    .dataframe thead th {\n",
       "        text-align: right;\n",
       "    }\n",
       "</style>\n",
       "<table border=\"1\" class=\"dataframe\">\n",
       "  <thead>\n",
       "    <tr style=\"text-align: right;\">\n",
       "      <th></th>\n",
       "      <th>date</th>\n",
       "      <th>bedrooms</th>\n",
       "      <th>bathrooms</th>\n",
       "      <th>sqft_living</th>\n",
       "      <th>sqft_lot</th>\n",
       "      <th>floors</th>\n",
       "      <th>waterfront</th>\n",
       "      <th>view</th>\n",
       "      <th>condition</th>\n",
       "      <th>grade</th>\n",
       "      <th>sqft_above</th>\n",
       "      <th>sqft_basement</th>\n",
       "      <th>yr_built</th>\n",
       "      <th>yr_renovated</th>\n",
       "      <th>zipcode</th>\n",
       "      <th>logsqft_above</th>\n",
       "      <th>logsqft_living</th>\n",
       "      <th>logsqft_lot</th>\n",
       "    </tr>\n",
       "  </thead>\n",
       "  <tbody>\n",
       "    <tr>\n",
       "      <td>0</td>\n",
       "      <td>2014-10-06</td>\n",
       "      <td>4</td>\n",
       "      <td>2.25</td>\n",
       "      <td>2070</td>\n",
       "      <td>8893</td>\n",
       "      <td>2.0</td>\n",
       "      <td>0</td>\n",
       "      <td>0</td>\n",
       "      <td>4</td>\n",
       "      <td>8</td>\n",
       "      <td>2070</td>\n",
       "      <td>0</td>\n",
       "      <td>1986</td>\n",
       "      <td>0</td>\n",
       "      <td>98058</td>\n",
       "      <td>7.635304</td>\n",
       "      <td>7.635304</td>\n",
       "      <td>9.093020</td>\n",
       "    </tr>\n",
       "    <tr>\n",
       "      <td>1</td>\n",
       "      <td>2014-08-21</td>\n",
       "      <td>5</td>\n",
       "      <td>3.00</td>\n",
       "      <td>2900</td>\n",
       "      <td>6730</td>\n",
       "      <td>1.0</td>\n",
       "      <td>0</td>\n",
       "      <td>0</td>\n",
       "      <td>5</td>\n",
       "      <td>8</td>\n",
       "      <td>1830</td>\n",
       "      <td>1070</td>\n",
       "      <td>1977</td>\n",
       "      <td>0</td>\n",
       "      <td>98115</td>\n",
       "      <td>7.512071</td>\n",
       "      <td>7.972466</td>\n",
       "      <td>8.814330</td>\n",
       "    </tr>\n",
       "    <tr>\n",
       "      <td>2</td>\n",
       "      <td>2014-08-15</td>\n",
       "      <td>4</td>\n",
       "      <td>2.50</td>\n",
       "      <td>3770</td>\n",
       "      <td>10893</td>\n",
       "      <td>2.0</td>\n",
       "      <td>0</td>\n",
       "      <td>2</td>\n",
       "      <td>3</td>\n",
       "      <td>11</td>\n",
       "      <td>3770</td>\n",
       "      <td>0</td>\n",
       "      <td>1997</td>\n",
       "      <td>0</td>\n",
       "      <td>98006</td>\n",
       "      <td>8.234830</td>\n",
       "      <td>8.234830</td>\n",
       "      <td>9.295876</td>\n",
       "    </tr>\n",
       "    <tr>\n",
       "      <td>3</td>\n",
       "      <td>2015-03-31</td>\n",
       "      <td>3</td>\n",
       "      <td>3.50</td>\n",
       "      <td>4560</td>\n",
       "      <td>14608</td>\n",
       "      <td>2.0</td>\n",
       "      <td>0</td>\n",
       "      <td>2</td>\n",
       "      <td>3</td>\n",
       "      <td>12</td>\n",
       "      <td>4560</td>\n",
       "      <td>0</td>\n",
       "      <td>1990</td>\n",
       "      <td>0</td>\n",
       "      <td>98034</td>\n",
       "      <td>8.425078</td>\n",
       "      <td>8.425078</td>\n",
       "      <td>9.589325</td>\n",
       "    </tr>\n",
       "    <tr>\n",
       "      <td>4</td>\n",
       "      <td>2014-07-14</td>\n",
       "      <td>3</td>\n",
       "      <td>2.50</td>\n",
       "      <td>2550</td>\n",
       "      <td>5376</td>\n",
       "      <td>2.0</td>\n",
       "      <td>0</td>\n",
       "      <td>0</td>\n",
       "      <td>3</td>\n",
       "      <td>9</td>\n",
       "      <td>2550</td>\n",
       "      <td>0</td>\n",
       "      <td>2004</td>\n",
       "      <td>0</td>\n",
       "      <td>98052</td>\n",
       "      <td>7.843849</td>\n",
       "      <td>7.843849</td>\n",
       "      <td>8.589700</td>\n",
       "    </tr>\n",
       "  </tbody>\n",
       "</table>\n",
       "</div>"
      ],
      "text/plain": [
       "        date  bedrooms  bathrooms  sqft_living  sqft_lot  floors  waterfront  \\\n",
       "0 2014-10-06         4       2.25         2070      8893     2.0           0   \n",
       "1 2014-08-21         5       3.00         2900      6730     1.0           0   \n",
       "2 2014-08-15         4       2.50         3770     10893     2.0           0   \n",
       "3 2015-03-31         3       3.50         4560     14608     2.0           0   \n",
       "4 2014-07-14         3       2.50         2550      5376     2.0           0   \n",
       "\n",
       "   view  condition  grade  sqft_above  sqft_basement  yr_built  yr_renovated  \\\n",
       "0     0          4      8        2070              0      1986             0   \n",
       "1     0          5      8        1830           1070      1977             0   \n",
       "2     2          3     11        3770              0      1997             0   \n",
       "3     2          3     12        4560              0      1990             0   \n",
       "4     0          3      9        2550              0      2004             0   \n",
       "\n",
       "   zipcode  logsqft_above  logsqft_living  logsqft_lot  \n",
       "0    98058       7.635304        7.635304     9.093020  \n",
       "1    98115       7.512071        7.972466     8.814330  \n",
       "2    98006       8.234830        8.234830     9.295876  \n",
       "3    98034       8.425078        8.425078     9.589325  \n",
       "4    98052       7.843849        7.843849     8.589700  "
      ]
     },
     "execution_count": 21,
     "metadata": {},
     "output_type": "execute_result"
    }
   ],
   "source": [
    "df_tgt = df.price\n",
    "df_feat = df.drop(['price','id'], axis=1)\n",
    "df_feat.head()"
   ]
  },
  {
   "cell_type": "code",
   "execution_count": 22,
   "metadata": {},
   "outputs": [
    {
     "data": {
      "text/plain": [
       "(17117,)"
      ]
     },
     "execution_count": 22,
     "metadata": {},
     "output_type": "execute_result"
    }
   ],
   "source": [
    "df_tgt.shape"
   ]
  },
  {
   "cell_type": "code",
   "execution_count": 23,
   "metadata": {},
   "outputs": [
    {
     "data": {
      "text/plain": [
       "(17117, 18)"
      ]
     },
     "execution_count": 23,
     "metadata": {},
     "output_type": "execute_result"
    }
   ],
   "source": [
    "df_feat.shape"
   ]
  },
  {
   "cell_type": "code",
   "execution_count": null,
   "metadata": {},
   "outputs": [],
   "source": []
  },
  {
   "cell_type": "code",
   "execution_count": 24,
   "metadata": {},
   "outputs": [
    {
     "data": {
      "image/png": "[encoded data removed]",
      "text/plain": [
       "<Figure size 864x864 with 20 Axes>"
      ]
     },
     "metadata": {
      "needs_background": "light"
     },
     "output_type": "display_data"
    }
   ],
   "source": [
    "df_feat.hist(figsize  = [12, 12]); "
   ]
  },
  {
   "cell_type": "markdown",
   "metadata": {},
   "source": [
    "add some log columns"
   ]
  },
  {
   "cell_type": "code",
   "execution_count": null,
   "metadata": {},
   "outputs": [],
   "source": [
    "\n",
    "\n",
    "\n",
    "\n",
    "\n",
    "\n"
   ]
  },
  {
   "cell_type": "code",
   "execution_count": 25,
   "metadata": {},
   "outputs": [
    {
     "data": {
      "text/html": [
       "<div>\n",
       "<style scoped>\n",
       "    .dataframe tbody tr th:only-of-type {\n",
       "        vertical-align: middle;\n",
       "    }\n",
       "\n",
       "    .dataframe tbody tr th {\n",
       "        vertical-align: top;\n",
       "    }\n",
       "\n",
       "    .dataframe thead th {\n",
       "        text-align: right;\n",
       "    }\n",
       "</style>\n",
       "<table border=\"1\" class=\"dataframe\">\n",
       "  <thead>\n",
       "    <tr style=\"text-align: right;\">\n",
       "      <th></th>\n",
       "      <th>date</th>\n",
       "      <th>bedrooms</th>\n",
       "      <th>bathrooms</th>\n",
       "      <th>sqft_living</th>\n",
       "      <th>sqft_lot</th>\n",
       "      <th>floors</th>\n",
       "      <th>waterfront</th>\n",
       "      <th>view</th>\n",
       "      <th>condition</th>\n",
       "      <th>grade</th>\n",
       "      <th>sqft_above</th>\n",
       "      <th>sqft_basement</th>\n",
       "      <th>yr_built</th>\n",
       "      <th>yr_renovated</th>\n",
       "      <th>zipcode</th>\n",
       "      <th>logsqft_above</th>\n",
       "      <th>logsqft_living</th>\n",
       "      <th>logsqft_lot</th>\n",
       "    </tr>\n",
       "  </thead>\n",
       "  <tbody>\n",
       "    <tr>\n",
       "      <td>0</td>\n",
       "      <td>2014-10-06</td>\n",
       "      <td>4</td>\n",
       "      <td>2.25</td>\n",
       "      <td>2070</td>\n",
       "      <td>8893</td>\n",
       "      <td>2.0</td>\n",
       "      <td>0</td>\n",
       "      <td>0</td>\n",
       "      <td>4</td>\n",
       "      <td>8</td>\n",
       "      <td>2070</td>\n",
       "      <td>0</td>\n",
       "      <td>1986</td>\n",
       "      <td>0</td>\n",
       "      <td>98058</td>\n",
       "      <td>7.635304</td>\n",
       "      <td>7.635304</td>\n",
       "      <td>9.093020</td>\n",
       "    </tr>\n",
       "    <tr>\n",
       "      <td>1</td>\n",
       "      <td>2014-08-21</td>\n",
       "      <td>5</td>\n",
       "      <td>3.00</td>\n",
       "      <td>2900</td>\n",
       "      <td>6730</td>\n",
       "      <td>1.0</td>\n",
       "      <td>0</td>\n",
       "      <td>0</td>\n",
       "      <td>5</td>\n",
       "      <td>8</td>\n",
       "      <td>1830</td>\n",
       "      <td>1070</td>\n",
       "      <td>1977</td>\n",
       "      <td>0</td>\n",
       "      <td>98115</td>\n",
       "      <td>7.512071</td>\n",
       "      <td>7.972466</td>\n",
       "      <td>8.814330</td>\n",
       "    </tr>\n",
       "    <tr>\n",
       "      <td>2</td>\n",
       "      <td>2014-08-15</td>\n",
       "      <td>4</td>\n",
       "      <td>2.50</td>\n",
       "      <td>3770</td>\n",
       "      <td>10893</td>\n",
       "      <td>2.0</td>\n",
       "      <td>0</td>\n",
       "      <td>2</td>\n",
       "      <td>3</td>\n",
       "      <td>11</td>\n",
       "      <td>3770</td>\n",
       "      <td>0</td>\n",
       "      <td>1997</td>\n",
       "      <td>0</td>\n",
       "      <td>98006</td>\n",
       "      <td>8.234830</td>\n",
       "      <td>8.234830</td>\n",
       "      <td>9.295876</td>\n",
       "    </tr>\n",
       "    <tr>\n",
       "      <td>3</td>\n",
       "      <td>2015-03-31</td>\n",
       "      <td>3</td>\n",
       "      <td>3.50</td>\n",
       "      <td>4560</td>\n",
       "      <td>14608</td>\n",
       "      <td>2.0</td>\n",
       "      <td>0</td>\n",
       "      <td>2</td>\n",
       "      <td>3</td>\n",
       "      <td>12</td>\n",
       "      <td>4560</td>\n",
       "      <td>0</td>\n",
       "      <td>1990</td>\n",
       "      <td>0</td>\n",
       "      <td>98034</td>\n",
       "      <td>8.425078</td>\n",
       "      <td>8.425078</td>\n",
       "      <td>9.589325</td>\n",
       "    </tr>\n",
       "    <tr>\n",
       "      <td>4</td>\n",
       "      <td>2014-07-14</td>\n",
       "      <td>3</td>\n",
       "      <td>2.50</td>\n",
       "      <td>2550</td>\n",
       "      <td>5376</td>\n",
       "      <td>2.0</td>\n",
       "      <td>0</td>\n",
       "      <td>0</td>\n",
       "      <td>3</td>\n",
       "      <td>9</td>\n",
       "      <td>2550</td>\n",
       "      <td>0</td>\n",
       "      <td>2004</td>\n",
       "      <td>0</td>\n",
       "      <td>98052</td>\n",
       "      <td>7.843849</td>\n",
       "      <td>7.843849</td>\n",
       "      <td>8.589700</td>\n",
       "    </tr>\n",
       "    <tr>\n",
       "      <td>...</td>\n",
       "      <td>...</td>\n",
       "      <td>...</td>\n",
       "      <td>...</td>\n",
       "      <td>...</td>\n",
       "      <td>...</td>\n",
       "      <td>...</td>\n",
       "      <td>...</td>\n",
       "      <td>...</td>\n",
       "      <td>...</td>\n",
       "      <td>...</td>\n",
       "      <td>...</td>\n",
       "      <td>...</td>\n",
       "      <td>...</td>\n",
       "      <td>...</td>\n",
       "      <td>...</td>\n",
       "      <td>...</td>\n",
       "      <td>...</td>\n",
       "      <td>...</td>\n",
       "    </tr>\n",
       "    <tr>\n",
       "      <td>17285</td>\n",
       "      <td>2015-03-03</td>\n",
       "      <td>5</td>\n",
       "      <td>2.50</td>\n",
       "      <td>3240</td>\n",
       "      <td>9960</td>\n",
       "      <td>1.0</td>\n",
       "      <td>0</td>\n",
       "      <td>1</td>\n",
       "      <td>3</td>\n",
       "      <td>8</td>\n",
       "      <td>2020</td>\n",
       "      <td>1220</td>\n",
       "      <td>1958</td>\n",
       "      <td>0</td>\n",
       "      <td>98008</td>\n",
       "      <td>7.610853</td>\n",
       "      <td>8.083329</td>\n",
       "      <td>9.206332</td>\n",
       "    </tr>\n",
       "    <tr>\n",
       "      <td>17286</td>\n",
       "      <td>2014-05-20</td>\n",
       "      <td>2</td>\n",
       "      <td>1.75</td>\n",
       "      <td>1300</td>\n",
       "      <td>4000</td>\n",
       "      <td>2.0</td>\n",
       "      <td>0</td>\n",
       "      <td>0</td>\n",
       "      <td>3</td>\n",
       "      <td>7</td>\n",
       "      <td>1300</td>\n",
       "      <td>0</td>\n",
       "      <td>1948</td>\n",
       "      <td>0</td>\n",
       "      <td>98105</td>\n",
       "      <td>7.170120</td>\n",
       "      <td>7.170120</td>\n",
       "      <td>8.294050</td>\n",
       "    </tr>\n",
       "    <tr>\n",
       "      <td>17287</td>\n",
       "      <td>2014-05-14</td>\n",
       "      <td>3</td>\n",
       "      <td>1.00</td>\n",
       "      <td>1050</td>\n",
       "      <td>9876</td>\n",
       "      <td>1.0</td>\n",
       "      <td>0</td>\n",
       "      <td>0</td>\n",
       "      <td>3</td>\n",
       "      <td>7</td>\n",
       "      <td>1050</td>\n",
       "      <td>0</td>\n",
       "      <td>1953</td>\n",
       "      <td>0</td>\n",
       "      <td>98028</td>\n",
       "      <td>6.956545</td>\n",
       "      <td>6.956545</td>\n",
       "      <td>9.197863</td>\n",
       "    </tr>\n",
       "    <tr>\n",
       "      <td>17288</td>\n",
       "      <td>2014-12-04</td>\n",
       "      <td>3</td>\n",
       "      <td>1.50</td>\n",
       "      <td>1900</td>\n",
       "      <td>43186</td>\n",
       "      <td>1.5</td>\n",
       "      <td>0</td>\n",
       "      <td>0</td>\n",
       "      <td>4</td>\n",
       "      <td>7</td>\n",
       "      <td>1300</td>\n",
       "      <td>600</td>\n",
       "      <td>1971</td>\n",
       "      <td>0</td>\n",
       "      <td>98038</td>\n",
       "      <td>7.170120</td>\n",
       "      <td>7.549609</td>\n",
       "      <td>10.673272</td>\n",
       "    </tr>\n",
       "    <tr>\n",
       "      <td>17289</td>\n",
       "      <td>2015-01-16</td>\n",
       "      <td>3</td>\n",
       "      <td>1.50</td>\n",
       "      <td>1330</td>\n",
       "      <td>6768</td>\n",
       "      <td>1.0</td>\n",
       "      <td>0</td>\n",
       "      <td>0</td>\n",
       "      <td>4</td>\n",
       "      <td>7</td>\n",
       "      <td>1330</td>\n",
       "      <td>0</td>\n",
       "      <td>1952</td>\n",
       "      <td>0</td>\n",
       "      <td>98155</td>\n",
       "      <td>7.192934</td>\n",
       "      <td>7.192934</td>\n",
       "      <td>8.819961</td>\n",
       "    </tr>\n",
       "  </tbody>\n",
       "</table>\n",
       "<p>17117 rows × 18 columns</p>\n",
       "</div>"
      ],
      "text/plain": [
       "            date  bedrooms  bathrooms  sqft_living  sqft_lot  floors  \\\n",
       "0     2014-10-06         4       2.25         2070      8893     2.0   \n",
       "1     2014-08-21         5       3.00         2900      6730     1.0   \n",
       "2     2014-08-15         4       2.50         3770     10893     2.0   \n",
       "3     2015-03-31         3       3.50         4560     14608     2.0   \n",
       "4     2014-07-14         3       2.50         2550      5376     2.0   \n",
       "...          ...       ...        ...          ...       ...     ...   \n",
       "17285 2015-03-03         5       2.50         3240      9960     1.0   \n",
       "17286 2014-05-20         2       1.75         1300      4000     2.0   \n",
       "17287 2014-05-14         3       1.00         1050      9876     1.0   \n",
       "17288 2014-12-04         3       1.50         1900     43186     1.5   \n",
       "17289 2015-01-16         3       1.50         1330      6768     1.0   \n",
       "\n",
       "       waterfront  view  condition  grade  sqft_above  sqft_basement  \\\n",
       "0               0     0          4      8        2070              0   \n",
       "1               0     0          5      8        1830           1070   \n",
       "2               0     2          3     11        3770              0   \n",
       "3               0     2          3     12        4560              0   \n",
       "4               0     0          3      9        2550              0   \n",
       "...           ...   ...        ...    ...         ...            ...   \n",
       "17285           0     1          3      8        2020           1220   \n",
       "17286           0     0          3      7        1300              0   \n",
       "17287           0     0          3      7        1050              0   \n",
       "17288           0     0          4      7        1300            600   \n",
       "17289           0     0          4      7        1330              0   \n",
       "\n",
       "       yr_built  yr_renovated  zipcode  logsqft_above  logsqft_living  \\\n",
       "0          1986             0    98058       7.635304        7.635304   \n",
       "1          1977             0    98115       7.512071        7.972466   \n",
       "2          1997             0    98006       8.234830        8.234830   \n",
       "3          1990             0    98034       8.425078        8.425078   \n",
       "4          2004             0    98052       7.843849        7.843849   \n",
       "...         ...           ...      ...            ...             ...   \n",
       "17285      1958             0    98008       7.610853        8.083329   \n",
       "17286      1948             0    98105       7.170120        7.170120   \n",
       "17287      1953             0    98028       6.956545        6.956545   \n",
       "17288      1971             0    98038       7.170120        7.549609   \n",
       "17289      1952             0    98155       7.192934        7.192934   \n",
       "\n",
       "       logsqft_lot  \n",
       "0         9.093020  \n",
       "1         8.814330  \n",
       "2         9.295876  \n",
       "3         9.589325  \n",
       "4         8.589700  \n",
       "...            ...  \n",
       "17285     9.206332  \n",
       "17286     8.294050  \n",
       "17287     9.197863  \n",
       "17288    10.673272  \n",
       "17289     8.819961  \n",
       "\n",
       "[17117 rows x 18 columns]"
      ]
     },
     "execution_count": 25,
     "metadata": {},
     "output_type": "execute_result"
    }
   ],
   "source": [
    "df_feat"
   ]
  },
  {
   "cell_type": "code",
   "execution_count": 26,
   "metadata": {},
   "outputs": [
    {
     "data": {
      "text/plain": [
       "<matplotlib.axes._subplots.AxesSubplot at 0x1c1dc92b50>"
      ]
     },
     "execution_count": 26,
     "metadata": {},
     "output_type": "execute_result"
    },
    {
     "data": {
      "image/png": "[encoded data removed]",
      "text/plain": [
       "<Figure size 1152x864 with 2 Axes>"
      ]
     },
     "metadata": {
      "needs_background": "light"
     },
     "output_type": "display_data"
    }
   ],
   "source": [
    "f, ax = plt.subplots(figsize=(16, 12))\n",
    "matrix = np.triu(df_feat.corr())\n",
    "sns.heatmap(df_feat.corr(), annot = True, vmin=-1, vmax=1, center= 0, cmap= 'coolwarm', mask = matrix)\n",
    "\n",
    "\n"
   ]
  },
  {
   "cell_type": "code",
   "execution_count": 27,
   "metadata": {},
   "outputs": [
    {
     "data": {
      "image/png": "[encoded data removed]",
      "text/plain": [
       "<Figure size 864x864 with 20 Axes>"
      ]
     },
     "metadata": {
      "needs_background": "light"
     },
     "output_type": "display_data"
    }
   ],
   "source": [
    "\n",
    "warnings.filterwarnings('ignore')\n",
    "fig = plt.figure(figsize = (12,12))\n",
    "ax = fig.gca()\n",
    "df.hist(ax = ax);"
   ]
  },
  {
   "cell_type": "markdown",
   "metadata": {},
   "source": []
  },
  {
   "cell_type": "code",
   "execution_count": null,
   "metadata": {},
   "outputs": [],
   "source": []
  },
  {
   "cell_type": "markdown",
   "metadata": {},
   "source": [
    "## Regressions"
   ]
  },
  {
   "cell_type": "markdown",
   "metadata": {},
   "source": [
    "## Base Model- All features minus date"
   ]
  },
  {
   "cell_type": "code",
   "execution_count": 28,
   "metadata": {},
   "outputs": [],
   "source": [
    "df_feat_base = df_feat.drop(['date','logsqft_living','logsqft_lot','logsqft_above'], axis=1)"
   ]
  },
  {
   "cell_type": "code",
   "execution_count": 29,
   "metadata": {},
   "outputs": [
    {
     "data": {
      "text/html": [
       "<div>\n",
       "<style scoped>\n",
       "    .dataframe tbody tr th:only-of-type {\n",
       "        vertical-align: middle;\n",
       "    }\n",
       "\n",
       "    .dataframe tbody tr th {\n",
       "        vertical-align: top;\n",
       "    }\n",
       "\n",
       "    .dataframe thead th {\n",
       "        text-align: right;\n",
       "    }\n",
       "</style>\n",
       "<table border=\"1\" class=\"dataframe\">\n",
       "  <thead>\n",
       "    <tr style=\"text-align: right;\">\n",
       "      <th></th>\n",
       "      <th>bedrooms</th>\n",
       "      <th>bathrooms</th>\n",
       "      <th>sqft_living</th>\n",
       "      <th>sqft_lot</th>\n",
       "      <th>floors</th>\n",
       "      <th>waterfront</th>\n",
       "      <th>view</th>\n",
       "      <th>condition</th>\n",
       "      <th>grade</th>\n",
       "      <th>sqft_above</th>\n",
       "      <th>sqft_basement</th>\n",
       "      <th>yr_built</th>\n",
       "      <th>yr_renovated</th>\n",
       "      <th>zipcode</th>\n",
       "    </tr>\n",
       "  </thead>\n",
       "  <tbody>\n",
       "    <tr>\n",
       "      <td>0</td>\n",
       "      <td>4</td>\n",
       "      <td>2.25</td>\n",
       "      <td>2070</td>\n",
       "      <td>8893</td>\n",
       "      <td>2.0</td>\n",
       "      <td>0</td>\n",
       "      <td>0</td>\n",
       "      <td>4</td>\n",
       "      <td>8</td>\n",
       "      <td>2070</td>\n",
       "      <td>0</td>\n",
       "      <td>1986</td>\n",
       "      <td>0</td>\n",
       "      <td>98058</td>\n",
       "    </tr>\n",
       "    <tr>\n",
       "      <td>1</td>\n",
       "      <td>5</td>\n",
       "      <td>3.00</td>\n",
       "      <td>2900</td>\n",
       "      <td>6730</td>\n",
       "      <td>1.0</td>\n",
       "      <td>0</td>\n",
       "      <td>0</td>\n",
       "      <td>5</td>\n",
       "      <td>8</td>\n",
       "      <td>1830</td>\n",
       "      <td>1070</td>\n",
       "      <td>1977</td>\n",
       "      <td>0</td>\n",
       "      <td>98115</td>\n",
       "    </tr>\n",
       "    <tr>\n",
       "      <td>2</td>\n",
       "      <td>4</td>\n",
       "      <td>2.50</td>\n",
       "      <td>3770</td>\n",
       "      <td>10893</td>\n",
       "      <td>2.0</td>\n",
       "      <td>0</td>\n",
       "      <td>2</td>\n",
       "      <td>3</td>\n",
       "      <td>11</td>\n",
       "      <td>3770</td>\n",
       "      <td>0</td>\n",
       "      <td>1997</td>\n",
       "      <td>0</td>\n",
       "      <td>98006</td>\n",
       "    </tr>\n",
       "    <tr>\n",
       "      <td>3</td>\n",
       "      <td>3</td>\n",
       "      <td>3.50</td>\n",
       "      <td>4560</td>\n",
       "      <td>14608</td>\n",
       "      <td>2.0</td>\n",
       "      <td>0</td>\n",
       "      <td>2</td>\n",
       "      <td>3</td>\n",
       "      <td>12</td>\n",
       "      <td>4560</td>\n",
       "      <td>0</td>\n",
       "      <td>1990</td>\n",
       "      <td>0</td>\n",
       "      <td>98034</td>\n",
       "    </tr>\n",
       "    <tr>\n",
       "      <td>4</td>\n",
       "      <td>3</td>\n",
       "      <td>2.50</td>\n",
       "      <td>2550</td>\n",
       "      <td>5376</td>\n",
       "      <td>2.0</td>\n",
       "      <td>0</td>\n",
       "      <td>0</td>\n",
       "      <td>3</td>\n",
       "      <td>9</td>\n",
       "      <td>2550</td>\n",
       "      <td>0</td>\n",
       "      <td>2004</td>\n",
       "      <td>0</td>\n",
       "      <td>98052</td>\n",
       "    </tr>\n",
       "  </tbody>\n",
       "</table>\n",
       "</div>"
      ],
      "text/plain": [
       "   bedrooms  bathrooms  sqft_living  sqft_lot  floors  waterfront  view  \\\n",
       "0         4       2.25         2070      8893     2.0           0     0   \n",
       "1         5       3.00         2900      6730     1.0           0     0   \n",
       "2         4       2.50         3770     10893     2.0           0     2   \n",
       "3         3       3.50         4560     14608     2.0           0     2   \n",
       "4         3       2.50         2550      5376     2.0           0     0   \n",
       "\n",
       "   condition  grade  sqft_above  sqft_basement  yr_built  yr_renovated  \\\n",
       "0          4      8        2070              0      1986             0   \n",
       "1          5      8        1830           1070      1977             0   \n",
       "2          3     11        3770              0      1997             0   \n",
       "3          3     12        4560              0      1990             0   \n",
       "4          3      9        2550              0      2004             0   \n",
       "\n",
       "   zipcode  \n",
       "0    98058  \n",
       "1    98115  \n",
       "2    98006  \n",
       "3    98034  \n",
       "4    98052  "
      ]
     },
     "execution_count": 29,
     "metadata": {},
     "output_type": "execute_result"
    }
   ],
   "source": [
    "df_feat_base.head()"
   ]
  },
  {
   "cell_type": "markdown",
   "metadata": {},
   "source": [
    "## Create the train/test sets"
   ]
  },
  {
   "cell_type": "code",
   "execution_count": 30,
   "metadata": {},
   "outputs": [
    {
     "name": "stdout",
     "output_type": "stream",
     "text": [
      "Training set - Features:  (13693, 14) Target:  (13693,)\n",
      "Training set - Features:  (3424, 14) Target:  (3424,)\n"
     ]
    }
   ],
   "source": [
    "X_train, X_test, y_train, y_test = train_test_split(df_feat_base, df_tgt, random_state=13,test_size=0.2)\n",
    "\n",
    "#check the shape of the results\n",
    "print(\"Training set - Features: \", X_train.shape, \"Target: \", y_train.shape)\n",
    "print(\"Training set - Features: \", X_test.shape, \"Target: \",y_test.shape)"
   ]
  },
  {
   "cell_type": "code",
   "execution_count": 31,
   "metadata": {},
   "outputs": [
    {
     "data": {
      "text/plain": [
       "LinearRegression(copy_X=True, fit_intercept=True, n_jobs=None, normalize=False)"
      ]
     },
     "execution_count": 31,
     "metadata": {},
     "output_type": "execute_result"
    }
   ],
   "source": [
    "reg = LinearRegression()\n",
    "reg.fit(X_train,y_train)"
   ]
  },
  {
   "cell_type": "code",
   "execution_count": 32,
   "metadata": {},
   "outputs": [
    {
     "data": {
      "text/plain": [
       "array([-1.86176278e+04,  2.91449227e+04,  7.86946316e+01, -5.83274974e-02,\n",
       "        3.96060626e+04,  2.24955869e+05,  3.97277433e+04,  2.12897501e+04,\n",
       "        1.23119596e+05,  3.09610725e+01,  4.77335590e+01, -2.99713132e+03,\n",
       "        2.46794131e+04,  1.81511292e+01])"
      ]
     },
     "execution_count": 32,
     "metadata": {},
     "output_type": "execute_result"
    }
   ],
   "source": [
    "reg.coef_\n"
   ]
  },
  {
   "cell_type": "code",
   "execution_count": 33,
   "metadata": {},
   "outputs": [
    {
     "data": {
      "text/plain": [
       "3335314.0612345506"
      ]
     },
     "execution_count": 33,
     "metadata": {},
     "output_type": "execute_result"
    }
   ],
   "source": [
    "reg.intercept_"
   ]
  },
  {
   "cell_type": "code",
   "execution_count": 34,
   "metadata": {},
   "outputs": [
    {
     "data": {
      "text/html": [
       "<div>\n",
       "<style scoped>\n",
       "    .dataframe tbody tr th:only-of-type {\n",
       "        vertical-align: middle;\n",
       "    }\n",
       "\n",
       "    .dataframe tbody tr th {\n",
       "        vertical-align: top;\n",
       "    }\n",
       "\n",
       "    .dataframe thead th {\n",
       "        text-align: right;\n",
       "    }\n",
       "</style>\n",
       "<table border=\"1\" class=\"dataframe\">\n",
       "  <thead>\n",
       "    <tr style=\"text-align: right;\">\n",
       "      <th></th>\n",
       "      <th>Features</th>\n",
       "    </tr>\n",
       "  </thead>\n",
       "  <tbody>\n",
       "    <tr>\n",
       "      <td>0</td>\n",
       "      <td>bedrooms</td>\n",
       "    </tr>\n",
       "    <tr>\n",
       "      <td>1</td>\n",
       "      <td>bathrooms</td>\n",
       "    </tr>\n",
       "    <tr>\n",
       "      <td>2</td>\n",
       "      <td>sqft_living</td>\n",
       "    </tr>\n",
       "    <tr>\n",
       "      <td>3</td>\n",
       "      <td>sqft_lot</td>\n",
       "    </tr>\n",
       "    <tr>\n",
       "      <td>4</td>\n",
       "      <td>floors</td>\n",
       "    </tr>\n",
       "    <tr>\n",
       "      <td>5</td>\n",
       "      <td>waterfront</td>\n",
       "    </tr>\n",
       "    <tr>\n",
       "      <td>6</td>\n",
       "      <td>view</td>\n",
       "    </tr>\n",
       "    <tr>\n",
       "      <td>7</td>\n",
       "      <td>condition</td>\n",
       "    </tr>\n",
       "    <tr>\n",
       "      <td>8</td>\n",
       "      <td>grade</td>\n",
       "    </tr>\n",
       "    <tr>\n",
       "      <td>9</td>\n",
       "      <td>sqft_above</td>\n",
       "    </tr>\n",
       "    <tr>\n",
       "      <td>10</td>\n",
       "      <td>sqft_basement</td>\n",
       "    </tr>\n",
       "    <tr>\n",
       "      <td>11</td>\n",
       "      <td>yr_built</td>\n",
       "    </tr>\n",
       "    <tr>\n",
       "      <td>12</td>\n",
       "      <td>yr_renovated</td>\n",
       "    </tr>\n",
       "    <tr>\n",
       "      <td>13</td>\n",
       "      <td>zipcode</td>\n",
       "    </tr>\n",
       "  </tbody>\n",
       "</table>\n",
       "</div>"
      ],
      "text/plain": [
       "         Features\n",
       "0        bedrooms\n",
       "1       bathrooms\n",
       "2     sqft_living\n",
       "3        sqft_lot\n",
       "4          floors\n",
       "5      waterfront\n",
       "6            view\n",
       "7       condition\n",
       "8           grade\n",
       "9      sqft_above\n",
       "10  sqft_basement\n",
       "11       yr_built\n",
       "12   yr_renovated\n",
       "13        zipcode"
      ]
     },
     "execution_count": 34,
     "metadata": {},
     "output_type": "execute_result"
    }
   ],
   "source": [
    "df_feat_base_col = pd.DataFrame(data = df_feat_base.columns.values, columns=['Features'])\n",
    "df_feat_base_col"
   ]
  },
  {
   "cell_type": "code",
   "execution_count": 35,
   "metadata": {},
   "outputs": [
    {
     "data": {
      "text/plain": [
       "array([1.34230682e-304, 0.00000000e+000, 0.00000000e+000, 1.30303707e-028,\n",
       "       2.15399918e-234, 1.62725114e-068, 0.00000000e+000, 3.36026444e-006,\n",
       "       0.00000000e+000, 0.00000000e+000, 8.68624003e-263, 1.98809061e-014,\n",
       "       1.14293871e-041, 1.67884843e-007])"
      ]
     },
     "execution_count": 35,
     "metadata": {},
     "output_type": "execute_result"
    }
   ],
   "source": [
    "p_values = f_regression(X_train,y_train)[1]\n",
    "p_values"
   ]
  },
  {
   "cell_type": "code",
   "execution_count": null,
   "metadata": {},
   "outputs": [],
   "source": []
  },
  {
   "cell_type": "code",
   "execution_count": 36,
   "metadata": {},
   "outputs": [
    {
     "data": {
      "text/html": [
       "<div>\n",
       "<style scoped>\n",
       "    .dataframe tbody tr th:only-of-type {\n",
       "        vertical-align: middle;\n",
       "    }\n",
       "\n",
       "    .dataframe tbody tr th {\n",
       "        vertical-align: top;\n",
       "    }\n",
       "\n",
       "    .dataframe thead th {\n",
       "        text-align: right;\n",
       "    }\n",
       "</style>\n",
       "<table border=\"1\" class=\"dataframe\">\n",
       "  <thead>\n",
       "    <tr style=\"text-align: right;\">\n",
       "      <th></th>\n",
       "      <th>Features</th>\n",
       "      <th>Weights</th>\n",
       "      <th>P Values</th>\n",
       "    </tr>\n",
       "  </thead>\n",
       "  <tbody>\n",
       "    <tr>\n",
       "      <td>5</td>\n",
       "      <td>waterfront</td>\n",
       "      <td>224955.869157</td>\n",
       "      <td>0.0</td>\n",
       "    </tr>\n",
       "    <tr>\n",
       "      <td>8</td>\n",
       "      <td>grade</td>\n",
       "      <td>123119.596301</td>\n",
       "      <td>0.0</td>\n",
       "    </tr>\n",
       "    <tr>\n",
       "      <td>6</td>\n",
       "      <td>view</td>\n",
       "      <td>39727.743277</td>\n",
       "      <td>0.0</td>\n",
       "    </tr>\n",
       "    <tr>\n",
       "      <td>4</td>\n",
       "      <td>floors</td>\n",
       "      <td>39606.062572</td>\n",
       "      <td>0.0</td>\n",
       "    </tr>\n",
       "    <tr>\n",
       "      <td>1</td>\n",
       "      <td>bathrooms</td>\n",
       "      <td>29144.922699</td>\n",
       "      <td>0.0</td>\n",
       "    </tr>\n",
       "    <tr>\n",
       "      <td>12</td>\n",
       "      <td>yr_renovated</td>\n",
       "      <td>24679.413130</td>\n",
       "      <td>0.0</td>\n",
       "    </tr>\n",
       "    <tr>\n",
       "      <td>7</td>\n",
       "      <td>condition</td>\n",
       "      <td>21289.750149</td>\n",
       "      <td>0.0</td>\n",
       "    </tr>\n",
       "    <tr>\n",
       "      <td>2</td>\n",
       "      <td>sqft_living</td>\n",
       "      <td>78.694632</td>\n",
       "      <td>0.0</td>\n",
       "    </tr>\n",
       "    <tr>\n",
       "      <td>10</td>\n",
       "      <td>sqft_basement</td>\n",
       "      <td>47.733559</td>\n",
       "      <td>0.0</td>\n",
       "    </tr>\n",
       "    <tr>\n",
       "      <td>9</td>\n",
       "      <td>sqft_above</td>\n",
       "      <td>30.961073</td>\n",
       "      <td>0.0</td>\n",
       "    </tr>\n",
       "    <tr>\n",
       "      <td>13</td>\n",
       "      <td>zipcode</td>\n",
       "      <td>18.151129</td>\n",
       "      <td>0.0</td>\n",
       "    </tr>\n",
       "    <tr>\n",
       "      <td>3</td>\n",
       "      <td>sqft_lot</td>\n",
       "      <td>-0.058327</td>\n",
       "      <td>0.0</td>\n",
       "    </tr>\n",
       "    <tr>\n",
       "      <td>11</td>\n",
       "      <td>yr_built</td>\n",
       "      <td>-2997.131324</td>\n",
       "      <td>0.0</td>\n",
       "    </tr>\n",
       "    <tr>\n",
       "      <td>0</td>\n",
       "      <td>bedrooms</td>\n",
       "      <td>-18617.627782</td>\n",
       "      <td>0.0</td>\n",
       "    </tr>\n",
       "  </tbody>\n",
       "</table>\n",
       "</div>"
      ],
      "text/plain": [
       "         Features        Weights  P Values\n",
       "5      waterfront  224955.869157       0.0\n",
       "8           grade  123119.596301       0.0\n",
       "6            view   39727.743277       0.0\n",
       "4          floors   39606.062572       0.0\n",
       "1       bathrooms   29144.922699       0.0\n",
       "12   yr_renovated   24679.413130       0.0\n",
       "7       condition   21289.750149       0.0\n",
       "2     sqft_living      78.694632       0.0\n",
       "10  sqft_basement      47.733559       0.0\n",
       "9      sqft_above      30.961073       0.0\n",
       "13        zipcode      18.151129       0.0\n",
       "3        sqft_lot      -0.058327       0.0\n",
       "11       yr_built   -2997.131324       0.0\n",
       "0        bedrooms  -18617.627782       0.0"
      ]
     },
     "execution_count": 36,
     "metadata": {},
     "output_type": "execute_result"
    }
   ],
   "source": [
    "df_feat_base_col['Weights'] = reg.coef_\n",
    "df_feat_base_col['P Values'] = p_values.round(3)\n",
    "df_feat_base_col.sort_values(['Weights'], ascending=False)"
   ]
  },
  {
   "cell_type": "code",
   "execution_count": null,
   "metadata": {},
   "outputs": [],
   "source": []
  },
  {
   "cell_type": "markdown",
   "metadata": {},
   "source": [
    "r^2 values"
   ]
  },
  {
   "cell_type": "code",
   "execution_count": 37,
   "metadata": {},
   "outputs": [],
   "source": [
    "r2_train = reg.score(X_train, y_train)\n",
    "n = X_train.shape[0]\n",
    "p = X_train.shape[1]\n",
    "adjusted_r2_train = 1-(1-r2_train)*(n-1)/(n-p-1)"
   ]
  },
  {
   "cell_type": "markdown",
   "metadata": {},
   "source": [
    "Error values"
   ]
  },
  {
   "cell_type": "code",
   "execution_count": 38,
   "metadata": {},
   "outputs": [
    {
     "name": "stdout",
     "output_type": "stream",
     "text": [
      "Mean Absolute Error: 121524.74874932754\n",
      "Mean Squared Error: 28593936649.58728\n",
      "Root Mean Squared Error: 169097.4176313384\n"
     ]
    }
   ],
   "source": [
    "y_train_pred = reg.predict(X_train)\n",
    "train_mae = metrics.mean_absolute_error(y_train, y_train_pred)\n",
    "train_mse = metrics.mean_squared_error(y_train, y_train_pred)\n",
    "train_rmse = np.sqrt(metrics.mean_squared_error(y_train, y_train_pred))\n",
    "\n",
    "print('Mean Absolute Error:', train_mae )\n",
    "print('Mean Squared Error:',  train_mse)\n",
    "print('Root Mean Squared Error:' , train_rmse)\n",
    "\n",
    "\n",
    "\n"
   ]
  },
  {
   "cell_type": "code",
   "execution_count": 39,
   "metadata": {},
   "outputs": [
    {
     "name": "stdout",
     "output_type": "stream",
     "text": [
      "Mean Absolute Error: 0.427381486409672\n",
      "Root Mean Squared Error: 0.5946863205978724\n"
     ]
    }
   ],
   "source": [
    "price_std = df_tgt.std()\n",
    "\n",
    "print('Mean Absolute Error:', train_mae/price_std )\n",
    "print('Root Mean Squared Error:' , train_rmse/price_std)"
   ]
  },
  {
   "cell_type": "code",
   "execution_count": 40,
   "metadata": {},
   "outputs": [
    {
     "data": {
      "text/plain": [
       "0.63179656041394"
      ]
     },
     "execution_count": 40,
     "metadata": {},
     "output_type": "execute_result"
    }
   ],
   "source": [
    "reg.score(X_test, y_test)\n"
   ]
  },
  {
   "cell_type": "code",
   "execution_count": 41,
   "metadata": {},
   "outputs": [
    {
     "data": {
      "text/plain": [
       "0.6302844312985968"
      ]
     },
     "execution_count": 41,
     "metadata": {},
     "output_type": "execute_result"
    }
   ],
   "source": [
    "r2_test = reg.score(X_test, y_test)\n",
    "n = X_test.shape[0]\n",
    "p = X_test.shape[1]\n",
    "\n",
    "adjusted_r2_test = 1-(1-r2_test)*(n-1)/(n-p-1)\n",
    "adjusted_r2_test"
   ]
  },
  {
   "cell_type": "code",
   "execution_count": 42,
   "metadata": {},
   "outputs": [
    {
     "name": "stdout",
     "output_type": "stream",
     "text": [
      "Mean Absolute Error: 127397.95456267911\n",
      "Mean Squared Error: 32395657006.51421\n",
      "Root Mean Squared Error: 179987.93572490965\n"
     ]
    }
   ],
   "source": [
    "y_test_pred = reg.predict(X_test)\n",
    "test_mae = metrics.mean_absolute_error(y_test, y_test_pred)\n",
    "test_mse = metrics.mean_squared_error(y_test, y_test_pred)\n",
    "test_rmse = np.sqrt(metrics.mean_squared_error(y_test, y_test_pred))\n",
    "\n",
    "print('Mean Absolute Error:', test_mae )\n",
    "print('Mean Squared Error:',  test_mse)\n",
    "print('Root Mean Squared Error:' , test_rmse)"
   ]
  },
  {
   "cell_type": "code",
   "execution_count": 43,
   "metadata": {},
   "outputs": [
    {
     "name": "stdout",
     "output_type": "stream",
     "text": [
      "Mean Absolute Error  Z: 0.44803653368467417\n",
      "Root Mean Squared Error Z: 0.6329863858808928\n"
     ]
    }
   ],
   "source": [
    "\n",
    "print('Mean Absolute Error  Z:', test_mae/price_std )\n",
    "print('Root Mean Squared Error Z:' , test_rmse/price_std)"
   ]
  },
  {
   "cell_type": "code",
   "execution_count": 44,
   "metadata": {},
   "outputs": [
    {
     "data": {
      "text/plain": [
       "Text(0, 0.5, 'Predictions')"
      ]
     },
     "execution_count": 44,
     "metadata": {},
     "output_type": "execute_result"
    },
    {
     "data": {
      "image/png": "[encoded data removed]",
      "text/plain": [
       "<Figure size 432x288 with 1 Axes>"
      ]
     },
     "metadata": {
      "needs_background": "light"
     },
     "output_type": "display_data"
    }
   ],
   "source": [
    "\n",
    "plt.scatter(y_test, y_test_pred, alpha=0.3)\n",
    "plt.xlabel(\"True Values\")\n",
    "plt.ylabel(\"Predictions\")"
   ]
  },
  {
   "cell_type": "code",
   "execution_count": 45,
   "metadata": {},
   "outputs": [
    {
     "data": {
      "text/plain": [
       "0.632"
      ]
     },
     "execution_count": 45,
     "metadata": {},
     "output_type": "execute_result"
    }
   ],
   "source": [
    "\n",
    "train_rmse = round(train_rmse, 3)\n",
    "r2_train = round(r2_train, 3)\n",
    "adjusted_r2_train = round(adjusted_r2_train, 3)\n",
    "r2_test = round(r2_test, 3)\n",
    "adjusted_r2_test = round(adjusted_r2_test, 3)\n",
    "\n",
    "r2_test"
   ]
  },
  {
   "cell_type": "code",
   "execution_count": 46,
   "metadata": {},
   "outputs": [
    {
     "data": {
      "text/html": [
       "<div>\n",
       "<style scoped>\n",
       "    .dataframe tbody tr th:only-of-type {\n",
       "        vertical-align: middle;\n",
       "    }\n",
       "\n",
       "    .dataframe tbody tr th {\n",
       "        vertical-align: top;\n",
       "    }\n",
       "\n",
       "    .dataframe thead th {\n",
       "        text-align: right;\n",
       "    }\n",
       "</style>\n",
       "<table border=\"1\" class=\"dataframe\">\n",
       "  <thead>\n",
       "    <tr style=\"text-align: right;\">\n",
       "      <th></th>\n",
       "      <th>Model</th>\n",
       "      <th>Description</th>\n",
       "      <th>Root Mean Squared Error (RMSE)</th>\n",
       "      <th>R-squared (training)</th>\n",
       "      <th>Adjusted R-squared (training)</th>\n",
       "      <th>R-squared (test)</th>\n",
       "      <th>Adjusted R-squared (test)</th>\n",
       "      <th>5-fold Cross Validation</th>\n",
       "    </tr>\n",
       "  </thead>\n",
       "  <tbody>\n",
       "  </tbody>\n",
       "</table>\n",
       "</div>"
      ],
      "text/plain": [
       "Empty DataFrame\n",
       "Columns: [Model, Description, Root Mean Squared Error (RMSE), R-squared (training), Adjusted R-squared (training), R-squared (test), Adjusted R-squared (test), 5-fold Cross Validation]\n",
       "Index: []"
      ]
     },
     "execution_count": 46,
     "metadata": {},
     "output_type": "execute_result"
    }
   ],
   "source": [
    "summary_df = pd.DataFrame(columns=['Model', 'Description','Root Mean Squared Error (RMSE)', 'R-squared (training)', 'Adjusted R-squared (training)','R-squared (test)', 'Adjusted R-squared (test)', '5-fold Cross Validation'])\n",
    "summary_df"
   ]
  },
  {
   "cell_type": "code",
   "execution_count": 47,
   "metadata": {},
   "outputs": [
    {
     "data": {
      "text/html": [
       "<div>\n",
       "<style scoped>\n",
       "    .dataframe tbody tr th:only-of-type {\n",
       "        vertical-align: middle;\n",
       "    }\n",
       "\n",
       "    .dataframe tbody tr th {\n",
       "        vertical-align: top;\n",
       "    }\n",
       "\n",
       "    .dataframe thead th {\n",
       "        text-align: right;\n",
       "    }\n",
       "</style>\n",
       "<table border=\"1\" class=\"dataframe\">\n",
       "  <thead>\n",
       "    <tr style=\"text-align: right;\">\n",
       "      <th></th>\n",
       "      <th>Model</th>\n",
       "      <th>Description</th>\n",
       "      <th>Root Mean Squared Error (RMSE)</th>\n",
       "      <th>R-squared (training)</th>\n",
       "      <th>Adjusted R-squared (training)</th>\n",
       "      <th>R-squared (test)</th>\n",
       "      <th>Adjusted R-squared (test)</th>\n",
       "      <th>5-fold Cross Validation</th>\n",
       "    </tr>\n",
       "  </thead>\n",
       "  <tbody>\n",
       "    <tr>\n",
       "      <td>0</td>\n",
       "      <td>Multiple Regression-1</td>\n",
       "      <td>Cary- Base</td>\n",
       "      <td>169097.418</td>\n",
       "      <td>0.638</td>\n",
       "      <td>0.638</td>\n",
       "      <td>0.632</td>\n",
       "      <td>0.63</td>\n",
       "      <td>NaN</td>\n",
       "    </tr>\n",
       "  </tbody>\n",
       "</table>\n",
       "</div>"
      ],
      "text/plain": [
       "                   Model Description  Root Mean Squared Error (RMSE)  \\\n",
       "0  Multiple Regression-1  Cary- Base                      169097.418   \n",
       "\n",
       "   R-squared (training)  Adjusted R-squared (training)  R-squared (test)  \\\n",
       "0                 0.638                          0.638             0.632   \n",
       "\n",
       "   Adjusted R-squared (test)  5-fold Cross Validation  \n",
       "0                       0.63                      NaN  "
      ]
     },
     "execution_count": 47,
     "metadata": {},
     "output_type": "execute_result"
    }
   ],
   "source": [
    "summary_df = summary_df.append({'Model' : 'Multiple Regression-1', 'Description' : 'Cary- Base' , 'Root Mean Squared Error (RMSE)' : train_rmse, 'R-squared (training)' : r2_train, 'Adjusted R-squared (training)': adjusted_r2_train, 'R-squared (test)' : r2_test, 'Adjusted R-squared (test)' : adjusted_r2_test} , ignore_index=True)\n",
    "summary_df"
   ]
  },
  {
   "cell_type": "markdown",
   "metadata": {},
   "source": [
    "## Model with bedrooms, bathrooms, sqft_living, waterfront, view, condition"
   ]
  },
  {
   "cell_type": "code",
   "execution_count": 48,
   "metadata": {},
   "outputs": [],
   "source": [
    "df_feat_two = df_feat[['bedrooms','bathrooms','sqft_living','sqft_lot','waterfront','view','condition']]\n",
    "\n"
   ]
  },
  {
   "cell_type": "code",
   "execution_count": 49,
   "metadata": {},
   "outputs": [
    {
     "name": "stdout",
     "output_type": "stream",
     "text": [
      "Training set - Features:  (13693, 7) Target:  (13693,)\n",
      "Training set - Features:  (3424, 7) Target:  (3424,)\n"
     ]
    }
   ],
   "source": [
    "X_train, X_test, y_train, y_test = train_test_split(df_feat_two, df_tgt, random_state=13,test_size=0.2)\n",
    "\n",
    "#check the shape of the results\n",
    "print(\"Training set - Features: \", X_train.shape, \"Target: \", y_train.shape)\n",
    "print(\"Training set - Features: \", X_test.shape, \"Target: \",y_test.shape)"
   ]
  },
  {
   "cell_type": "code",
   "execution_count": 50,
   "metadata": {},
   "outputs": [
    {
     "data": {
      "text/html": [
       "<div>\n",
       "<style scoped>\n",
       "    .dataframe tbody tr th:only-of-type {\n",
       "        vertical-align: middle;\n",
       "    }\n",
       "\n",
       "    .dataframe tbody tr th {\n",
       "        vertical-align: top;\n",
       "    }\n",
       "\n",
       "    .dataframe thead th {\n",
       "        text-align: right;\n",
       "    }\n",
       "</style>\n",
       "<table border=\"1\" class=\"dataframe\">\n",
       "  <thead>\n",
       "    <tr style=\"text-align: right;\">\n",
       "      <th></th>\n",
       "      <th>Features</th>\n",
       "    </tr>\n",
       "  </thead>\n",
       "  <tbody>\n",
       "    <tr>\n",
       "      <td>0</td>\n",
       "      <td>bedrooms</td>\n",
       "    </tr>\n",
       "    <tr>\n",
       "      <td>1</td>\n",
       "      <td>bathrooms</td>\n",
       "    </tr>\n",
       "    <tr>\n",
       "      <td>2</td>\n",
       "      <td>sqft_living</td>\n",
       "    </tr>\n",
       "    <tr>\n",
       "      <td>3</td>\n",
       "      <td>sqft_lot</td>\n",
       "    </tr>\n",
       "    <tr>\n",
       "      <td>4</td>\n",
       "      <td>waterfront</td>\n",
       "    </tr>\n",
       "    <tr>\n",
       "      <td>5</td>\n",
       "      <td>view</td>\n",
       "    </tr>\n",
       "    <tr>\n",
       "      <td>6</td>\n",
       "      <td>condition</td>\n",
       "    </tr>\n",
       "  </tbody>\n",
       "</table>\n",
       "</div>"
      ],
      "text/plain": [
       "      Features\n",
       "0     bedrooms\n",
       "1    bathrooms\n",
       "2  sqft_living\n",
       "3     sqft_lot\n",
       "4   waterfront\n",
       "5         view\n",
       "6    condition"
      ]
     },
     "execution_count": 50,
     "metadata": {},
     "output_type": "execute_result"
    }
   ],
   "source": [
    "reg = LinearRegression()\n",
    "reg.fit(X_train,y_train)\n",
    "reg.coef_\n",
    "reg.intercept_\n",
    "df_feat_two_col = pd.DataFrame(data = df_feat_two.columns.values, columns=['Features'])\n",
    "df_feat_two_col\n"
   ]
  },
  {
   "cell_type": "code",
   "execution_count": 51,
   "metadata": {},
   "outputs": [
    {
     "data": {
      "text/plain": [
       "array([1.34230682e-304, 0.00000000e+000, 0.00000000e+000, 1.30303707e-028,\n",
       "       1.62725114e-068, 0.00000000e+000, 3.36026444e-006])"
      ]
     },
     "execution_count": 51,
     "metadata": {},
     "output_type": "execute_result"
    }
   ],
   "source": [
    "p_values = f_regression(X_train,y_train)[1]\n",
    "p_values"
   ]
  },
  {
   "cell_type": "code",
   "execution_count": 52,
   "metadata": {},
   "outputs": [
    {
     "data": {
      "text/html": [
       "<div>\n",
       "<style scoped>\n",
       "    .dataframe tbody tr th:only-of-type {\n",
       "        vertical-align: middle;\n",
       "    }\n",
       "\n",
       "    .dataframe tbody tr th {\n",
       "        vertical-align: top;\n",
       "    }\n",
       "\n",
       "    .dataframe thead th {\n",
       "        text-align: right;\n",
       "    }\n",
       "</style>\n",
       "<table border=\"1\" class=\"dataframe\">\n",
       "  <thead>\n",
       "    <tr style=\"text-align: right;\">\n",
       "      <th></th>\n",
       "      <th>Features</th>\n",
       "      <th>Weights</th>\n",
       "      <th>P Values</th>\n",
       "    </tr>\n",
       "  </thead>\n",
       "  <tbody>\n",
       "    <tr>\n",
       "      <td>4</td>\n",
       "      <td>waterfront</td>\n",
       "      <td>227723.823284</td>\n",
       "      <td>0.0</td>\n",
       "    </tr>\n",
       "    <tr>\n",
       "      <td>5</td>\n",
       "      <td>view</td>\n",
       "      <td>61472.492966</td>\n",
       "      <td>0.0</td>\n",
       "    </tr>\n",
       "    <tr>\n",
       "      <td>6</td>\n",
       "      <td>condition</td>\n",
       "      <td>38215.969341</td>\n",
       "      <td>0.0</td>\n",
       "    </tr>\n",
       "    <tr>\n",
       "      <td>1</td>\n",
       "      <td>bathrooms</td>\n",
       "      <td>14807.097241</td>\n",
       "      <td>0.0</td>\n",
       "    </tr>\n",
       "    <tr>\n",
       "      <td>2</td>\n",
       "      <td>sqft_living</td>\n",
       "      <td>222.590321</td>\n",
       "      <td>0.0</td>\n",
       "    </tr>\n",
       "    <tr>\n",
       "      <td>3</td>\n",
       "      <td>sqft_lot</td>\n",
       "      <td>-0.217095</td>\n",
       "      <td>0.0</td>\n",
       "    </tr>\n",
       "    <tr>\n",
       "      <td>0</td>\n",
       "      <td>bedrooms</td>\n",
       "      <td>-31702.397026</td>\n",
       "      <td>0.0</td>\n",
       "    </tr>\n",
       "  </tbody>\n",
       "</table>\n",
       "</div>"
      ],
      "text/plain": [
       "      Features        Weights  P Values\n",
       "4   waterfront  227723.823284       0.0\n",
       "5         view   61472.492966       0.0\n",
       "6    condition   38215.969341       0.0\n",
       "1    bathrooms   14807.097241       0.0\n",
       "2  sqft_living     222.590321       0.0\n",
       "3     sqft_lot      -0.217095       0.0\n",
       "0     bedrooms  -31702.397026       0.0"
      ]
     },
     "execution_count": 52,
     "metadata": {},
     "output_type": "execute_result"
    }
   ],
   "source": [
    "df_feat_two_col['Weights'] = reg.coef_\n",
    "df_feat_two_col['P Values'] = p_values.round(3)\n",
    "df_feat_two_col.sort_values(['Weights'], ascending=False)"
   ]
  },
  {
   "cell_type": "code",
   "execution_count": 53,
   "metadata": {},
   "outputs": [],
   "source": [
    "r2_train = reg.score(X_train, y_train)\n",
    "n = X_train.shape[0]\n",
    "p = X_train.shape[1]\n",
    "adjusted_r2_train = 1-(1-r2_train)*(n-1)/(n-p-1)"
   ]
  },
  {
   "cell_type": "code",
   "execution_count": 54,
   "metadata": {},
   "outputs": [
    {
     "name": "stdout",
     "output_type": "stream",
     "text": [
      "Mean Absolute Error: 144531.25836312026\n",
      "Mean Squared Error: 38514167157.1379\n",
      "Root Mean Squared Error: 196250.26664220841\n"
     ]
    }
   ],
   "source": [
    "y_train_pred = reg.predict(X_train)\n",
    "train_mae = metrics.mean_absolute_error(y_train, y_train_pred)\n",
    "train_mse = metrics.mean_squared_error(y_train, y_train_pred)\n",
    "train_rmse = np.sqrt(metrics.mean_squared_error(y_train, y_train_pred))\n",
    "\n",
    "print('Mean Absolute Error:', train_mae )\n",
    "print('Mean Squared Error:',  train_mse)\n",
    "print('Root Mean Squared Error:' , train_rmse)\n",
    "\n",
    "\n",
    "\n"
   ]
  },
  {
   "cell_type": "code",
   "execution_count": 55,
   "metadata": {},
   "outputs": [
    {
     "name": "stdout",
     "output_type": "stream",
     "text": [
      "Mean Absolute Error: 0.5082913946961152\n",
      "Root Mean Squared Error: 0.6901781861639572\n"
     ]
    }
   ],
   "source": [
    "price_std = df_tgt.std()\n",
    "\n",
    "print('Mean Absolute Error:', train_mae/price_std )\n",
    "print('Root Mean Squared Error:' , train_rmse/price_std)"
   ]
  },
  {
   "cell_type": "code",
   "execution_count": 56,
   "metadata": {},
   "outputs": [
    {
     "data": {
      "text/plain": [
       "0.5151928175180456"
      ]
     },
     "execution_count": 56,
     "metadata": {},
     "output_type": "execute_result"
    }
   ],
   "source": [
    "reg.score(X_test, y_test)\n"
   ]
  },
  {
   "cell_type": "code",
   "execution_count": 57,
   "metadata": {},
   "outputs": [
    {
     "data": {
      "text/plain": [
       "0.514199360176894"
      ]
     },
     "execution_count": 57,
     "metadata": {},
     "output_type": "execute_result"
    }
   ],
   "source": [
    "r2_test = reg.score(X_test, y_test)\n",
    "n = X_test.shape[0]\n",
    "p = X_test.shape[1]\n",
    "\n",
    "adjusted_r2_test = 1-(1-r2_test)*(n-1)/(n-p-1)\n",
    "adjusted_r2_test"
   ]
  },
  {
   "cell_type": "code",
   "execution_count": 58,
   "metadata": {},
   "outputs": [
    {
     "name": "stdout",
     "output_type": "stream",
     "text": [
      "Mean Absolute Error: 150045.4032239731\n",
      "Mean Squared Error: 42654808482.06217\n",
      "Root Mean Squared Error: 206530.40570836578\n"
     ]
    }
   ],
   "source": [
    "y_test_pred = reg.predict(X_test)\n",
    "test_mae = metrics.mean_absolute_error(y_test, y_test_pred)\n",
    "test_mse = metrics.mean_squared_error(y_test, y_test_pred)\n",
    "test_rmse = np.sqrt(metrics.mean_squared_error(y_test, y_test_pred))\n",
    "\n",
    "print('Mean Absolute Error:', test_mae )\n",
    "print('Mean Squared Error:',  test_mse)\n",
    "print('Root Mean Squared Error:' , test_rmse)"
   ]
  },
  {
   "cell_type": "code",
   "execution_count": 59,
   "metadata": {},
   "outputs": [
    {
     "name": "stdout",
     "output_type": "stream",
     "text": [
      "Mean Absolute Error  Z: 0.5276836868107909\n",
      "Root Mean Squared Error Z: 0.7263316541596422\n"
     ]
    }
   ],
   "source": [
    "\n",
    "print('Mean Absolute Error  Z:', test_mae/price_std )\n",
    "print('Root Mean Squared Error Z:' , test_rmse/price_std)"
   ]
  },
  {
   "cell_type": "code",
   "execution_count": 60,
   "metadata": {},
   "outputs": [
    {
     "data": {
      "text/plain": [
       "Text(0, 0.5, 'Predictions')"
      ]
     },
     "execution_count": 60,
     "metadata": {},
     "output_type": "execute_result"
    },
    {
     "data": {
      "image/png": "[encoded data removed]",
      "text/plain": [
       "<Figure size 432x288 with 1 Axes>"
      ]
     },
     "metadata": {
      "needs_background": "light"
     },
     "output_type": "display_data"
    }
   ],
   "source": [
    "\n",
    "plt.scatter(y_test, y_test_pred, alpha=0.3)\n",
    "plt.xlabel(\"True Values\")\n",
    "plt.ylabel(\"Predictions\")"
   ]
  },
  {
   "cell_type": "code",
   "execution_count": 61,
   "metadata": {},
   "outputs": [
    {
     "data": {
      "text/plain": [
       "0.515"
      ]
     },
     "execution_count": 61,
     "metadata": {},
     "output_type": "execute_result"
    }
   ],
   "source": [
    "\n",
    "train_rmse = round(train_rmse, 3)\n",
    "r2_train = round(r2_train, 3)\n",
    "adjusted_r2_train = round(adjusted_r2_train, 3)\n",
    "r2_test = round(r2_test, 3)\n",
    "adjusted_r2_test = round(adjusted_r2_test, 3)\n",
    "\n",
    "r2_test"
   ]
  },
  {
   "cell_type": "code",
   "execution_count": null,
   "metadata": {},
   "outputs": [],
   "source": []
  },
  {
   "cell_type": "code",
   "execution_count": 62,
   "metadata": {},
   "outputs": [
    {
     "data": {
      "text/html": [
       "<div>\n",
       "<style scoped>\n",
       "    .dataframe tbody tr th:only-of-type {\n",
       "        vertical-align: middle;\n",
       "    }\n",
       "\n",
       "    .dataframe tbody tr th {\n",
       "        vertical-align: top;\n",
       "    }\n",
       "\n",
       "    .dataframe thead th {\n",
       "        text-align: right;\n",
       "    }\n",
       "</style>\n",
       "<table border=\"1\" class=\"dataframe\">\n",
       "  <thead>\n",
       "    <tr style=\"text-align: right;\">\n",
       "      <th></th>\n",
       "      <th>Model</th>\n",
       "      <th>Description</th>\n",
       "      <th>Root Mean Squared Error (RMSE)</th>\n",
       "      <th>R-squared (training)</th>\n",
       "      <th>Adjusted R-squared (training)</th>\n",
       "      <th>R-squared (test)</th>\n",
       "      <th>Adjusted R-squared (test)</th>\n",
       "      <th>5-fold Cross Validation</th>\n",
       "    </tr>\n",
       "  </thead>\n",
       "  <tbody>\n",
       "    <tr>\n",
       "      <td>0</td>\n",
       "      <td>Multiple Regression-1</td>\n",
       "      <td>Cary- Base</td>\n",
       "      <td>169097.418</td>\n",
       "      <td>0.638</td>\n",
       "      <td>0.638</td>\n",
       "      <td>0.632</td>\n",
       "      <td>0.630</td>\n",
       "      <td>NaN</td>\n",
       "    </tr>\n",
       "    <tr>\n",
       "      <td>1</td>\n",
       "      <td>Multiple Regression-2</td>\n",
       "      <td>Cary- Two</td>\n",
       "      <td>196250.267</td>\n",
       "      <td>0.513</td>\n",
       "      <td>0.512</td>\n",
       "      <td>0.515</td>\n",
       "      <td>0.514</td>\n",
       "      <td>NaN</td>\n",
       "    </tr>\n",
       "  </tbody>\n",
       "</table>\n",
       "</div>"
      ],
      "text/plain": [
       "                   Model Description  Root Mean Squared Error (RMSE)  \\\n",
       "0  Multiple Regression-1  Cary- Base                      169097.418   \n",
       "1  Multiple Regression-2   Cary- Two                      196250.267   \n",
       "\n",
       "   R-squared (training)  Adjusted R-squared (training)  R-squared (test)  \\\n",
       "0                 0.638                          0.638             0.632   \n",
       "1                 0.513                          0.512             0.515   \n",
       "\n",
       "   Adjusted R-squared (test)  5-fold Cross Validation  \n",
       "0                      0.630                      NaN  \n",
       "1                      0.514                      NaN  "
      ]
     },
     "execution_count": 62,
     "metadata": {},
     "output_type": "execute_result"
    }
   ],
   "source": [
    "summary_df = summary_df.append({'Model' : 'Multiple Regression-2', 'Description' : 'Cary- Two' , 'Root Mean Squared Error (RMSE)' : train_rmse, 'R-squared (training)' : r2_train, 'Adjusted R-squared (training)': adjusted_r2_train, 'R-squared (test)' : r2_test, 'Adjusted R-squared (test)' : adjusted_r2_test} , ignore_index=True)\n",
    "summary_df"
   ]
  },
  {
   "cell_type": "markdown",
   "metadata": {},
   "source": [
    "## Model 3-  model 2 scaled"
   ]
  },
  {
   "cell_type": "code",
   "execution_count": 63,
   "metadata": {},
   "outputs": [
    {
     "data": {
      "text/plain": [
       "StandardScaler(copy=True, with_mean=True, with_std=True)"
      ]
     },
     "execution_count": 63,
     "metadata": {},
     "output_type": "execute_result"
    }
   ],
   "source": [
    "scaler = StandardScaler()\n",
    "scaler.fit(df_feat_two)\n"
   ]
  },
  {
   "cell_type": "code",
   "execution_count": 64,
   "metadata": {},
   "outputs": [
    {
     "data": {
      "text/plain": [
       "array([[ 0.68241456,  0.20860197,  0.02160934, ..., -0.07510054,\n",
       "        -0.29824876,  0.9114778 ],\n",
       "       [ 1.75346628,  1.21413277,  0.98802578, ..., -0.07510054,\n",
       "        -0.29824876,  2.44965837],\n",
       "       [ 0.68241456,  0.5437789 ,  2.00101649, ..., -0.07510054,\n",
       "         2.41941105, -0.62670277],\n",
       "       ...,\n",
       "       [-0.38863716, -1.46728271, -1.16603494, ..., -0.07510054,\n",
       "        -0.29824876, -0.62670277],\n",
       "       [-0.38863716, -0.79692884, -0.17633137, ..., -0.07510054,\n",
       "        -0.29824876,  0.9114778 ],\n",
       "       [-0.38863716, -0.79692884, -0.84001494, ..., -0.07510054,\n",
       "        -0.29824876,  0.9114778 ]])"
      ]
     },
     "execution_count": 64,
     "metadata": {},
     "output_type": "execute_result"
    }
   ],
   "source": [
    "df_feat_two_sc = scaler.transform(df_feat_two)\n",
    "df_feat_two_sc\n"
   ]
  },
  {
   "cell_type": "code",
   "execution_count": 65,
   "metadata": {},
   "outputs": [
    {
     "name": "stdout",
     "output_type": "stream",
     "text": [
      "Training set - Features:  (13693, 7) Target:  (13693,)\n",
      "Training set - Features:  (3424, 7) Target:  (3424,)\n"
     ]
    }
   ],
   "source": [
    "X_train, X_test, y_train, y_test = train_test_split(df_feat_two_sc, df_tgt, random_state=13,test_size=0.2)\n",
    "\n",
    "#check the shape of the results\n",
    "print(\"Training set - Features: \", X_train.shape, \"Target: \", y_train.shape)\n",
    "print(\"Training set - Features: \", X_test.shape, \"Target: \",y_test.shape)"
   ]
  },
  {
   "cell_type": "code",
   "execution_count": 66,
   "metadata": {},
   "outputs": [
    {
     "data": {
      "text/plain": [
       "array([[ 0.68241456,  0.87895584,  1.33733292, ..., -0.07510054,\n",
       "        -0.29824876, -0.62670277],\n",
       "       [-0.38863716, -0.4617519 , -0.7352228 , ..., -0.07510054,\n",
       "        -0.29824876, -0.62670277],\n",
       "       [-1.45968887, -1.46728271, -1.52698566, ..., -0.07510054,\n",
       "        -0.29824876,  0.9114778 ],\n",
       "       ...,\n",
       "       [-0.38863716,  0.20860197, -0.29276708, ..., -0.07510054,\n",
       "        -0.29824876,  0.9114778 ],\n",
       "       [-0.38863716,  0.5437789 , -0.37427208, ..., -0.07510054,\n",
       "        -0.29824876, -0.62670277],\n",
       "       [-0.38863716, -0.4617519 , -0.39755923, ..., -0.07510054,\n",
       "        -0.29824876,  0.9114778 ]])"
      ]
     },
     "execution_count": 66,
     "metadata": {},
     "output_type": "execute_result"
    }
   ],
   "source": [
    "X_train"
   ]
  },
  {
   "cell_type": "code",
   "execution_count": 67,
   "metadata": {},
   "outputs": [
    {
     "name": "stdout",
     "output_type": "stream",
     "text": [
      "[-29599.31489051  11044.23937989 191170.14252523  -9057.89884021\n",
      "  17006.26602402  45239.28474866  24844.91748291]\n",
      "516244.494388587\n"
     ]
    },
    {
     "data": {
      "text/html": [
       "<div>\n",
       "<style scoped>\n",
       "    .dataframe tbody tr th:only-of-type {\n",
       "        vertical-align: middle;\n",
       "    }\n",
       "\n",
       "    .dataframe tbody tr th {\n",
       "        vertical-align: top;\n",
       "    }\n",
       "\n",
       "    .dataframe thead th {\n",
       "        text-align: right;\n",
       "    }\n",
       "</style>\n",
       "<table border=\"1\" class=\"dataframe\">\n",
       "  <thead>\n",
       "    <tr style=\"text-align: right;\">\n",
       "      <th></th>\n",
       "      <th>Features</th>\n",
       "    </tr>\n",
       "  </thead>\n",
       "  <tbody>\n",
       "    <tr>\n",
       "      <td>0</td>\n",
       "      <td>bedrooms</td>\n",
       "    </tr>\n",
       "    <tr>\n",
       "      <td>1</td>\n",
       "      <td>bathrooms</td>\n",
       "    </tr>\n",
       "    <tr>\n",
       "      <td>2</td>\n",
       "      <td>sqft_living</td>\n",
       "    </tr>\n",
       "    <tr>\n",
       "      <td>3</td>\n",
       "      <td>sqft_lot</td>\n",
       "    </tr>\n",
       "    <tr>\n",
       "      <td>4</td>\n",
       "      <td>waterfront</td>\n",
       "    </tr>\n",
       "    <tr>\n",
       "      <td>5</td>\n",
       "      <td>view</td>\n",
       "    </tr>\n",
       "    <tr>\n",
       "      <td>6</td>\n",
       "      <td>condition</td>\n",
       "    </tr>\n",
       "  </tbody>\n",
       "</table>\n",
       "</div>"
      ],
      "text/plain": [
       "      Features\n",
       "0     bedrooms\n",
       "1    bathrooms\n",
       "2  sqft_living\n",
       "3     sqft_lot\n",
       "4   waterfront\n",
       "5         view\n",
       "6    condition"
      ]
     },
     "execution_count": 67,
     "metadata": {},
     "output_type": "execute_result"
    }
   ],
   "source": [
    "reg = LinearRegression()\n",
    "reg.fit(X_train,y_train)\n",
    "print(reg.coef_)\n",
    "print(reg.intercept_)\n",
    "df_feat_two_sc_col = pd.DataFrame(data = df_feat_two.columns.values, columns=['Features'])\n",
    "df_feat_two_sc_col\n"
   ]
  },
  {
   "cell_type": "code",
   "execution_count": 68,
   "metadata": {},
   "outputs": [
    {
     "data": {
      "text/plain": [
       "array([1.34230682e-304, 0.00000000e+000, 0.00000000e+000, 1.30303707e-028,\n",
       "       1.62725114e-068, 0.00000000e+000, 3.36026444e-006])"
      ]
     },
     "execution_count": 68,
     "metadata": {},
     "output_type": "execute_result"
    }
   ],
   "source": [
    "p_values = f_regression(X_train,y_train)[1]\n",
    "p_values"
   ]
  },
  {
   "cell_type": "code",
   "execution_count": 69,
   "metadata": {},
   "outputs": [
    {
     "data": {
      "text/html": [
       "<div>\n",
       "<style scoped>\n",
       "    .dataframe tbody tr th:only-of-type {\n",
       "        vertical-align: middle;\n",
       "    }\n",
       "\n",
       "    .dataframe tbody tr th {\n",
       "        vertical-align: top;\n",
       "    }\n",
       "\n",
       "    .dataframe thead th {\n",
       "        text-align: right;\n",
       "    }\n",
       "</style>\n",
       "<table border=\"1\" class=\"dataframe\">\n",
       "  <thead>\n",
       "    <tr style=\"text-align: right;\">\n",
       "      <th></th>\n",
       "      <th>Features</th>\n",
       "      <th>Weights</th>\n",
       "      <th>P Values</th>\n",
       "    </tr>\n",
       "  </thead>\n",
       "  <tbody>\n",
       "    <tr>\n",
       "      <td>2</td>\n",
       "      <td>sqft_living</td>\n",
       "      <td>191170.142525</td>\n",
       "      <td>0.0</td>\n",
       "    </tr>\n",
       "    <tr>\n",
       "      <td>5</td>\n",
       "      <td>view</td>\n",
       "      <td>45239.284749</td>\n",
       "      <td>0.0</td>\n",
       "    </tr>\n",
       "    <tr>\n",
       "      <td>6</td>\n",
       "      <td>condition</td>\n",
       "      <td>24844.917483</td>\n",
       "      <td>0.0</td>\n",
       "    </tr>\n",
       "    <tr>\n",
       "      <td>4</td>\n",
       "      <td>waterfront</td>\n",
       "      <td>17006.266024</td>\n",
       "      <td>0.0</td>\n",
       "    </tr>\n",
       "    <tr>\n",
       "      <td>1</td>\n",
       "      <td>bathrooms</td>\n",
       "      <td>11044.239380</td>\n",
       "      <td>0.0</td>\n",
       "    </tr>\n",
       "    <tr>\n",
       "      <td>3</td>\n",
       "      <td>sqft_lot</td>\n",
       "      <td>-9057.898840</td>\n",
       "      <td>0.0</td>\n",
       "    </tr>\n",
       "    <tr>\n",
       "      <td>0</td>\n",
       "      <td>bedrooms</td>\n",
       "      <td>-29599.314891</td>\n",
       "      <td>0.0</td>\n",
       "    </tr>\n",
       "  </tbody>\n",
       "</table>\n",
       "</div>"
      ],
      "text/plain": [
       "      Features        Weights  P Values\n",
       "2  sqft_living  191170.142525       0.0\n",
       "5         view   45239.284749       0.0\n",
       "6    condition   24844.917483       0.0\n",
       "4   waterfront   17006.266024       0.0\n",
       "1    bathrooms   11044.239380       0.0\n",
       "3     sqft_lot   -9057.898840       0.0\n",
       "0     bedrooms  -29599.314891       0.0"
      ]
     },
     "execution_count": 69,
     "metadata": {},
     "output_type": "execute_result"
    }
   ],
   "source": [
    "df_feat_two_sc_col['Weights'] = reg.coef_\n",
    "df_feat_two_sc_col['P Values'] = p_values.round(3)\n",
    "df_feat_two_sc_col.sort_values(['Weights'], ascending=False)"
   ]
  },
  {
   "cell_type": "code",
   "execution_count": 70,
   "metadata": {},
   "outputs": [
    {
     "data": {
      "text/plain": [
       "0.5126705407340736"
      ]
     },
     "execution_count": 70,
     "metadata": {},
     "output_type": "execute_result"
    }
   ],
   "source": [
    "r2_train = reg.score(X_train, y_train)\n",
    "r2_train"
   ]
  },
  {
   "cell_type": "code",
   "execution_count": 71,
   "metadata": {},
   "outputs": [
    {
     "data": {
      "text/plain": [
       "0.512421267353375"
      ]
     },
     "execution_count": 71,
     "metadata": {},
     "output_type": "execute_result"
    }
   ],
   "source": [
    "n = X_train.shape[0]\n",
    "p = X_train.shape[1]\n",
    "\n",
    "adjusted_r2_train = 1-(1-r2_train)*(n-1)/(n-p-1)\n",
    "adjusted_r2_train"
   ]
  },
  {
   "cell_type": "code",
   "execution_count": 72,
   "metadata": {},
   "outputs": [
    {
     "name": "stdout",
     "output_type": "stream",
     "text": [
      "Mean Absolute Error: 144531.25836311965\n",
      "Mean Squared Error: 38514167157.1379\n",
      "Root Mean Squared Error: 196250.26664220841\n"
     ]
    }
   ],
   "source": [
    "y_train_pred = reg.predict(X_train)\n",
    "train_mae = metrics.mean_absolute_error(y_train, y_train_pred)\n",
    "train_mse = metrics.mean_squared_error(y_train, y_train_pred)\n",
    "train_rmse = np.sqrt(metrics.mean_squared_error(y_train, y_train_pred))\n",
    "\n",
    "print('Mean Absolute Error:', train_mae )\n",
    "print('Mean Squared Error:',  train_mse)\n",
    "print('Root Mean Squared Error:' , train_rmse)"
   ]
  },
  {
   "cell_type": "code",
   "execution_count": 73,
   "metadata": {},
   "outputs": [
    {
     "name": "stdout",
     "output_type": "stream",
     "text": [
      "Mean Absolute Error: 0.5082913946961131\n",
      "Root Mean Squared Error: 0.6901781861639572\n"
     ]
    }
   ],
   "source": [
    "price_std = df_tgt.std()\n",
    "\n",
    "print('Mean Absolute Error:', train_mae/price_std )\n",
    "print('Root Mean Squared Error:' , train_rmse/price_std)"
   ]
  },
  {
   "cell_type": "code",
   "execution_count": 74,
   "metadata": {},
   "outputs": [
    {
     "data": {
      "text/plain": [
       "0.5151928175180355"
      ]
     },
     "execution_count": 74,
     "metadata": {},
     "output_type": "execute_result"
    }
   ],
   "source": [
    "reg.score(X_test, y_test)"
   ]
  },
  {
   "cell_type": "code",
   "execution_count": 75,
   "metadata": {},
   "outputs": [
    {
     "data": {
      "text/plain": [
       "0.514199360176884"
      ]
     },
     "execution_count": 75,
     "metadata": {},
     "output_type": "execute_result"
    }
   ],
   "source": [
    "r2_test = reg.score(X_test, y_test)\n",
    "n = X_test.shape[0]\n",
    "p = X_test.shape[1]\n",
    "\n",
    "adjusted_r2_test = 1-(1-r2_test)*(n-1)/(n-p-1)\n",
    "adjusted_r2_test"
   ]
  },
  {
   "cell_type": "code",
   "execution_count": 76,
   "metadata": {},
   "outputs": [
    {
     "name": "stdout",
     "output_type": "stream",
     "text": [
      "Mean Absolute Error: 150045.4032239735\n",
      "Mean Squared Error: 42654808482.063065\n",
      "Root Mean Squared Error: 206530.40570836794\n"
     ]
    }
   ],
   "source": [
    "y_test_pred = reg.predict(X_test)\n",
    "test_mae = metrics.mean_absolute_error(y_test, y_test_pred)\n",
    "test_mse = metrics.mean_squared_error(y_test, y_test_pred)\n",
    "test_rmse = np.sqrt(metrics.mean_squared_error(y_test, y_test_pred))\n",
    "\n",
    "print('Mean Absolute Error:', test_mae )\n",
    "print('Mean Squared Error:',  test_mse)\n",
    "print('Root Mean Squared Error:' , test_rmse)"
   ]
  },
  {
   "cell_type": "code",
   "execution_count": 77,
   "metadata": {},
   "outputs": [
    {
     "name": "stdout",
     "output_type": "stream",
     "text": [
      "Mean Absolute Error  Z: 0.5276836868107924\n",
      "Root Mean Squared Error Z: 0.7263316541596497\n"
     ]
    }
   ],
   "source": [
    "\n",
    "print('Mean Absolute Error  Z:', test_mae/price_std )\n",
    "print('Root Mean Squared Error Z:' , test_rmse/price_std)"
   ]
  },
  {
   "cell_type": "code",
   "execution_count": 78,
   "metadata": {},
   "outputs": [
    {
     "data": {
      "text/plain": [
       "Text(0, 0.5, 'Predictions')"
      ]
     },
     "execution_count": 78,
     "metadata": {},
     "output_type": "execute_result"
    },
    {
     "data": {
      "image/png": "[encoded data removed]",
      "text/plain": [
       "<Figure size 432x288 with 1 Axes>"
      ]
     },
     "metadata": {
      "needs_background": "light"
     },
     "output_type": "display_data"
    }
   ],
   "source": [
    "\n",
    "plt.scatter(y_test, y_test_pred, alpha=0.3)\n",
    "plt.xlabel(\"True Values\")\n",
    "plt.ylabel(\"Predictions\")"
   ]
  },
  {
   "cell_type": "code",
   "execution_count": 79,
   "metadata": {},
   "outputs": [
    {
     "data": {
      "text/plain": [
       "0.515"
      ]
     },
     "execution_count": 79,
     "metadata": {},
     "output_type": "execute_result"
    }
   ],
   "source": [
    "\n",
    "train_rmse = round(train_rmse, 3)\n",
    "r2_train = round(r2_train, 3)\n",
    "adjusted_r2_train = round(adjusted_r2_train, 3)\n",
    "r2_test = round(r2_test, 3)\n",
    "adjusted_r2_test = round(adjusted_r2_test, 3)\n",
    "\n",
    "r2_test"
   ]
  },
  {
   "cell_type": "code",
   "execution_count": 80,
   "metadata": {},
   "outputs": [
    {
     "data": {
      "text/html": [
       "<div>\n",
       "<style scoped>\n",
       "    .dataframe tbody tr th:only-of-type {\n",
       "        vertical-align: middle;\n",
       "    }\n",
       "\n",
       "    .dataframe tbody tr th {\n",
       "        vertical-align: top;\n",
       "    }\n",
       "\n",
       "    .dataframe thead th {\n",
       "        text-align: right;\n",
       "    }\n",
       "</style>\n",
       "<table border=\"1\" class=\"dataframe\">\n",
       "  <thead>\n",
       "    <tr style=\"text-align: right;\">\n",
       "      <th></th>\n",
       "      <th>Model</th>\n",
       "      <th>Description</th>\n",
       "      <th>Root Mean Squared Error (RMSE)</th>\n",
       "      <th>R-squared (training)</th>\n",
       "      <th>Adjusted R-squared (training)</th>\n",
       "      <th>R-squared (test)</th>\n",
       "      <th>Adjusted R-squared (test)</th>\n",
       "      <th>5-fold Cross Validation</th>\n",
       "    </tr>\n",
       "  </thead>\n",
       "  <tbody>\n",
       "    <tr>\n",
       "      <td>0</td>\n",
       "      <td>Multiple Regression-1</td>\n",
       "      <td>Cary- Base</td>\n",
       "      <td>169097.418</td>\n",
       "      <td>0.638</td>\n",
       "      <td>0.638</td>\n",
       "      <td>0.632</td>\n",
       "      <td>0.630</td>\n",
       "      <td>NaN</td>\n",
       "    </tr>\n",
       "    <tr>\n",
       "      <td>1</td>\n",
       "      <td>Multiple Regression-2</td>\n",
       "      <td>Cary- Two</td>\n",
       "      <td>196250.267</td>\n",
       "      <td>0.513</td>\n",
       "      <td>0.512</td>\n",
       "      <td>0.515</td>\n",
       "      <td>0.514</td>\n",
       "      <td>NaN</td>\n",
       "    </tr>\n",
       "    <tr>\n",
       "      <td>2</td>\n",
       "      <td>Multiple Regression-3</td>\n",
       "      <td>Cary- Base Scaled</td>\n",
       "      <td>196250.267</td>\n",
       "      <td>0.513</td>\n",
       "      <td>0.512</td>\n",
       "      <td>0.515</td>\n",
       "      <td>0.514</td>\n",
       "      <td>NaN</td>\n",
       "    </tr>\n",
       "  </tbody>\n",
       "</table>\n",
       "</div>"
      ],
      "text/plain": [
       "                   Model        Description  Root Mean Squared Error (RMSE)  \\\n",
       "0  Multiple Regression-1         Cary- Base                      169097.418   \n",
       "1  Multiple Regression-2          Cary- Two                      196250.267   \n",
       "2  Multiple Regression-3  Cary- Base Scaled                      196250.267   \n",
       "\n",
       "   R-squared (training)  Adjusted R-squared (training)  R-squared (test)  \\\n",
       "0                 0.638                          0.638             0.632   \n",
       "1                 0.513                          0.512             0.515   \n",
       "2                 0.513                          0.512             0.515   \n",
       "\n",
       "   Adjusted R-squared (test)  5-fold Cross Validation  \n",
       "0                      0.630                      NaN  \n",
       "1                      0.514                      NaN  \n",
       "2                      0.514                      NaN  "
      ]
     },
     "execution_count": 80,
     "metadata": {},
     "output_type": "execute_result"
    }
   ],
   "source": [
    "summary_df = summary_df.append({'Model' : 'Multiple Regression-3', 'Description' : 'Cary- Base Scaled' , 'Root Mean Squared Error (RMSE)' : train_rmse, 'R-squared (training)' : r2_train, 'Adjusted R-squared (training)': adjusted_r2_train, 'R-squared (test)' : r2_test, 'Adjusted R-squared (test)' : adjusted_r2_test} , ignore_index=True)\n",
    "summary_df"
   ]
  },
  {
   "cell_type": "markdown",
   "metadata": {},
   "source": [
    "## Model 4- No sqft lot\n",
    "It doesnt make intuitive sense that lot size would have a negative slope so removing that feature. Bedrooms also has a negative slope which doesnt seem correct so will look at that after this one"
   ]
  },
  {
   "cell_type": "code",
   "execution_count": 81,
   "metadata": {},
   "outputs": [],
   "source": [
    "df_feat_four = df_feat[['bedrooms','bathrooms','sqft_living','waterfront','view','condition','zipcode','yr_built']]\n"
   ]
  },
  {
   "cell_type": "code",
   "execution_count": 82,
   "metadata": {},
   "outputs": [
    {
     "name": "stdout",
     "output_type": "stream",
     "text": [
      "Training set - Features:  (13693, 8) Target:  (13693,)\n",
      "Training set - Features:  (3424, 8) Target:  (3424,)\n"
     ]
    }
   ],
   "source": [
    "X_train, X_test, y_train, y_test = train_test_split(df_feat_four, df_tgt, random_state=13,test_size=0.2)\n",
    "\n",
    "#check the shape of the results\n",
    "print(\"Training set - Features: \", X_train.shape, \"Target: \", y_train.shape)\n",
    "print(\"Training set - Features: \", X_test.shape, \"Target: \",y_test.shape)"
   ]
  },
  {
   "cell_type": "code",
   "execution_count": 83,
   "metadata": {},
   "outputs": [
    {
     "name": "stdout",
     "output_type": "stream",
     "text": [
      "[-3.67393762e+04  5.92938699e+04  2.20351851e+02  2.26275981e+05\n",
      "  5.07954587e+04  1.43860283e+04  1.21047632e+02 -1.92602391e+03]\n",
      "-8074328.765323863\n"
     ]
    },
    {
     "data": {
      "text/html": [
       "<div>\n",
       "<style scoped>\n",
       "    .dataframe tbody tr th:only-of-type {\n",
       "        vertical-align: middle;\n",
       "    }\n",
       "\n",
       "    .dataframe tbody tr th {\n",
       "        vertical-align: top;\n",
       "    }\n",
       "\n",
       "    .dataframe thead th {\n",
       "        text-align: right;\n",
       "    }\n",
       "</style>\n",
       "<table border=\"1\" class=\"dataframe\">\n",
       "  <thead>\n",
       "    <tr style=\"text-align: right;\">\n",
       "      <th></th>\n",
       "      <th>Features</th>\n",
       "    </tr>\n",
       "  </thead>\n",
       "  <tbody>\n",
       "    <tr>\n",
       "      <td>0</td>\n",
       "      <td>bedrooms</td>\n",
       "    </tr>\n",
       "    <tr>\n",
       "      <td>1</td>\n",
       "      <td>bathrooms</td>\n",
       "    </tr>\n",
       "    <tr>\n",
       "      <td>2</td>\n",
       "      <td>sqft_living</td>\n",
       "    </tr>\n",
       "    <tr>\n",
       "      <td>3</td>\n",
       "      <td>waterfront</td>\n",
       "    </tr>\n",
       "    <tr>\n",
       "      <td>4</td>\n",
       "      <td>view</td>\n",
       "    </tr>\n",
       "    <tr>\n",
       "      <td>5</td>\n",
       "      <td>condition</td>\n",
       "    </tr>\n",
       "    <tr>\n",
       "      <td>6</td>\n",
       "      <td>zipcode</td>\n",
       "    </tr>\n",
       "    <tr>\n",
       "      <td>7</td>\n",
       "      <td>yr_built</td>\n",
       "    </tr>\n",
       "  </tbody>\n",
       "</table>\n",
       "</div>"
      ],
      "text/plain": [
       "      Features\n",
       "0     bedrooms\n",
       "1    bathrooms\n",
       "2  sqft_living\n",
       "3   waterfront\n",
       "4         view\n",
       "5    condition\n",
       "6      zipcode\n",
       "7     yr_built"
      ]
     },
     "execution_count": 83,
     "metadata": {},
     "output_type": "execute_result"
    }
   ],
   "source": [
    "reg = LinearRegression()\n",
    "reg.fit(X_train,y_train)\n",
    "print(reg.coef_)\n",
    "print(reg.intercept_)\n",
    "df_feat_four_col = pd.DataFrame(data = df_feat_four.columns.values, columns=['Features'])\n",
    "df_feat_four_col"
   ]
  },
  {
   "cell_type": "code",
   "execution_count": 84,
   "metadata": {},
   "outputs": [
    {
     "data": {
      "text/plain": [
       "array([1.34230682e-304, 0.00000000e+000, 0.00000000e+000, 1.62725114e-068,\n",
       "       0.00000000e+000, 3.36026444e-006, 1.67884843e-007, 1.98809061e-014])"
      ]
     },
     "execution_count": 84,
     "metadata": {},
     "output_type": "execute_result"
    }
   ],
   "source": [
    "p_values = f_regression(X_train,y_train)[1]\n",
    "p_values"
   ]
  },
  {
   "cell_type": "code",
   "execution_count": 85,
   "metadata": {},
   "outputs": [
    {
     "data": {
      "text/html": [
       "<div>\n",
       "<style scoped>\n",
       "    .dataframe tbody tr th:only-of-type {\n",
       "        vertical-align: middle;\n",
       "    }\n",
       "\n",
       "    .dataframe tbody tr th {\n",
       "        vertical-align: top;\n",
       "    }\n",
       "\n",
       "    .dataframe thead th {\n",
       "        text-align: right;\n",
       "    }\n",
       "</style>\n",
       "<table border=\"1\" class=\"dataframe\">\n",
       "  <thead>\n",
       "    <tr style=\"text-align: right;\">\n",
       "      <th></th>\n",
       "      <th>Features</th>\n",
       "      <th>Weights</th>\n",
       "      <th>P Values</th>\n",
       "    </tr>\n",
       "  </thead>\n",
       "  <tbody>\n",
       "    <tr>\n",
       "      <td>3</td>\n",
       "      <td>waterfront</td>\n",
       "      <td>226275.980874</td>\n",
       "      <td>0.0</td>\n",
       "    </tr>\n",
       "    <tr>\n",
       "      <td>1</td>\n",
       "      <td>bathrooms</td>\n",
       "      <td>59293.869922</td>\n",
       "      <td>0.0</td>\n",
       "    </tr>\n",
       "    <tr>\n",
       "      <td>4</td>\n",
       "      <td>view</td>\n",
       "      <td>50795.458684</td>\n",
       "      <td>0.0</td>\n",
       "    </tr>\n",
       "    <tr>\n",
       "      <td>5</td>\n",
       "      <td>condition</td>\n",
       "      <td>14386.028281</td>\n",
       "      <td>0.0</td>\n",
       "    </tr>\n",
       "    <tr>\n",
       "      <td>2</td>\n",
       "      <td>sqft_living</td>\n",
       "      <td>220.351851</td>\n",
       "      <td>0.0</td>\n",
       "    </tr>\n",
       "    <tr>\n",
       "      <td>6</td>\n",
       "      <td>zipcode</td>\n",
       "      <td>121.047632</td>\n",
       "      <td>0.0</td>\n",
       "    </tr>\n",
       "    <tr>\n",
       "      <td>7</td>\n",
       "      <td>yr_built</td>\n",
       "      <td>-1926.023915</td>\n",
       "      <td>0.0</td>\n",
       "    </tr>\n",
       "    <tr>\n",
       "      <td>0</td>\n",
       "      <td>bedrooms</td>\n",
       "      <td>-36739.376209</td>\n",
       "      <td>0.0</td>\n",
       "    </tr>\n",
       "  </tbody>\n",
       "</table>\n",
       "</div>"
      ],
      "text/plain": [
       "      Features        Weights  P Values\n",
       "3   waterfront  226275.980874       0.0\n",
       "1    bathrooms   59293.869922       0.0\n",
       "4         view   50795.458684       0.0\n",
       "5    condition   14386.028281       0.0\n",
       "2  sqft_living     220.351851       0.0\n",
       "6      zipcode     121.047632       0.0\n",
       "7     yr_built   -1926.023915       0.0\n",
       "0     bedrooms  -36739.376209       0.0"
      ]
     },
     "execution_count": 85,
     "metadata": {},
     "output_type": "execute_result"
    }
   ],
   "source": [
    "df_feat_four_col['Weights'] = reg.coef_\n",
    "df_feat_four_col['P Values'] = p_values.round(3)\n",
    "df_feat_four_col.sort_values(['Weights'], ascending=False)"
   ]
  },
  {
   "cell_type": "code",
   "execution_count": 86,
   "metadata": {},
   "outputs": [
    {
     "data": {
      "text/plain": [
       "0.5390314326281469"
      ]
     },
     "execution_count": 86,
     "metadata": {},
     "output_type": "execute_result"
    }
   ],
   "source": [
    "r2_train = reg.score(X_train, y_train)\n",
    "r2_train"
   ]
  },
  {
   "cell_type": "code",
   "execution_count": 87,
   "metadata": {},
   "outputs": [
    {
     "data": {
      "text/plain": [
       "0.538761939165784"
      ]
     },
     "execution_count": 87,
     "metadata": {},
     "output_type": "execute_result"
    }
   ],
   "source": [
    "n = X_train.shape[0]\n",
    "p = X_train.shape[1]\n",
    "\n",
    "adjusted_r2_train = 1-(1-r2_train)*(n-1)/(n-p-1)\n",
    "adjusted_r2_train"
   ]
  },
  {
   "cell_type": "code",
   "execution_count": 88,
   "metadata": {},
   "outputs": [
    {
     "name": "stdout",
     "output_type": "stream",
     "text": [
      "Mean Absolute Error: 139814.38718880544\n",
      "Mean Squared Error: 36430837743.09242\n",
      "Root Mean Squared Error: 190868.64002002115\n"
     ]
    }
   ],
   "source": [
    "y_train_pred = reg.predict(X_train)\n",
    "train_mae = metrics.mean_absolute_error(y_train, y_train_pred)\n",
    "train_mse = metrics.mean_squared_error(y_train, y_train_pred)\n",
    "train_rmse = np.sqrt(metrics.mean_squared_error(y_train, y_train_pred))\n",
    "\n",
    "print('Mean Absolute Error:', train_mae )\n",
    "print('Mean Squared Error:',  train_mse)\n",
    "print('Root Mean Squared Error:' , train_rmse)"
   ]
  },
  {
   "cell_type": "code",
   "execution_count": 89,
   "metadata": {},
   "outputs": [
    {
     "name": "stdout",
     "output_type": "stream",
     "text": [
      "Mean Absolute Error: 0.4917029760042168\n",
      "Root Mean Squared Error: 0.6712519377350339\n"
     ]
    }
   ],
   "source": [
    "price_std = df_tgt.std()\n",
    "\n",
    "print('Mean Absolute Error:', train_mae/price_std )\n",
    "print('Root Mean Squared Error:' , train_rmse/price_std)"
   ]
  },
  {
   "cell_type": "code",
   "execution_count": 90,
   "metadata": {},
   "outputs": [
    {
     "data": {
      "text/plain": [
       "0.5420034180179695"
      ]
     },
     "execution_count": 90,
     "metadata": {},
     "output_type": "execute_result"
    }
   ],
   "source": [
    "reg.score(X_test, y_test)"
   ]
  },
  {
   "cell_type": "code",
   "execution_count": 91,
   "metadata": {},
   "outputs": [
    {
     "data": {
      "text/plain": [
       "0.5409305124086412"
      ]
     },
     "execution_count": 91,
     "metadata": {},
     "output_type": "execute_result"
    }
   ],
   "source": [
    "r2_test = reg.score(X_test, y_test)\n",
    "n = X_test.shape[0]\n",
    "p = X_test.shape[1]\n",
    "\n",
    "adjusted_r2_test = 1-(1-r2_test)*(n-1)/(n-p-1)\n",
    "adjusted_r2_test"
   ]
  },
  {
   "cell_type": "code",
   "execution_count": 92,
   "metadata": {},
   "outputs": [
    {
     "name": "stdout",
     "output_type": "stream",
     "text": [
      "Mean Absolute Error: 145849.86984076552\n",
      "Mean Squared Error: 40295930414.7887\n",
      "Root Mean Squared Error: 200738.46271900335\n"
     ]
    }
   ],
   "source": [
    "y_test_pred = reg.predict(X_test)\n",
    "test_mae = metrics.mean_absolute_error(y_test, y_test_pred)\n",
    "test_mse = metrics.mean_squared_error(y_test, y_test_pred)\n",
    "test_rmse = np.sqrt(metrics.mean_squared_error(y_test, y_test_pred))\n",
    "\n",
    "print('Mean Absolute Error:', test_mae )\n",
    "print('Mean Squared Error:',  test_mse)\n",
    "print('Root Mean Squared Error:' , test_rmse)"
   ]
  },
  {
   "cell_type": "code",
   "execution_count": 93,
   "metadata": {},
   "outputs": [
    {
     "name": "stdout",
     "output_type": "stream",
     "text": [
      "Mean Absolute Error  Z: 0.5129287228051026\n",
      "Root Mean Squared Error Z: 0.7059623941573047\n"
     ]
    }
   ],
   "source": [
    "\n",
    "print('Mean Absolute Error  Z:', test_mae/price_std )\n",
    "print('Root Mean Squared Error Z:' , test_rmse/price_std)"
   ]
  },
  {
   "cell_type": "markdown",
   "metadata": {},
   "source": [
    "## Base with sqft in log"
   ]
  },
  {
   "cell_type": "code",
   "execution_count": 94,
   "metadata": {},
   "outputs": [],
   "source": [
    "df_feat_base_log = df_feat.drop(['date','sqft_living','sqft_lot','sqft_above'], axis=1)"
   ]
  },
  {
   "cell_type": "code",
   "execution_count": 95,
   "metadata": {},
   "outputs": [
    {
     "name": "stdout",
     "output_type": "stream",
     "text": [
      "Training set - Features:  (13693, 14) Target:  (13693,)\n",
      "Training set - Features:  (3424, 14) Target:  (3424,)\n"
     ]
    }
   ],
   "source": [
    "X_train, X_test, y_train, y_test = train_test_split(df_feat_base_log, df_tgt, random_state=13,test_size=0.2)\n",
    "\n",
    "#check the shape of the results\n",
    "print(\"Training set - Features: \", X_train.shape, \"Target: \", y_train.shape)\n",
    "print(\"Training set - Features: \", X_test.shape, \"Target: \",y_test.shape)"
   ]
  },
  {
   "cell_type": "code",
   "execution_count": 96,
   "metadata": {},
   "outputs": [
    {
     "data": {
      "text/plain": [
       "LinearRegression(copy_X=True, fit_intercept=True, n_jobs=None, normalize=False)"
      ]
     },
     "execution_count": 96,
     "metadata": {},
     "output_type": "execute_result"
    }
   ],
   "source": [
    "reg = LinearRegression()\n",
    "reg.fit(X_train,y_train)"
   ]
  },
  {
   "cell_type": "code",
   "execution_count": 97,
   "metadata": {},
   "outputs": [
    {
     "data": {
      "text/plain": [
       "array([-1.55080993e+04,  3.97161012e+04,  2.52045908e+04,  2.34438142e+05,\n",
       "        3.92442536e+04,  1.89582668e+04,  1.36233904e+05,  1.57120483e+02,\n",
       "       -3.13227323e+03,  2.21325336e+04, -2.03899457e+01,  2.64558589e+05,\n",
       "       -1.08849223e+05, -1.43248788e+04])"
      ]
     },
     "execution_count": 97,
     "metadata": {},
     "output_type": "execute_result"
    }
   ],
   "source": [
    "reg.coef_"
   ]
  },
  {
   "cell_type": "code",
   "execution_count": 98,
   "metadata": {},
   "outputs": [
    {
     "data": {
      "text/plain": [
       "6458213.0439346405"
      ]
     },
     "execution_count": 98,
     "metadata": {},
     "output_type": "execute_result"
    }
   ],
   "source": [
    "reg.intercept_"
   ]
  },
  {
   "cell_type": "code",
   "execution_count": 99,
   "metadata": {},
   "outputs": [
    {
     "data": {
      "text/html": [
       "<div>\n",
       "<style scoped>\n",
       "    .dataframe tbody tr th:only-of-type {\n",
       "        vertical-align: middle;\n",
       "    }\n",
       "\n",
       "    .dataframe tbody tr th {\n",
       "        vertical-align: top;\n",
       "    }\n",
       "\n",
       "    .dataframe thead th {\n",
       "        text-align: right;\n",
       "    }\n",
       "</style>\n",
       "<table border=\"1\" class=\"dataframe\">\n",
       "  <thead>\n",
       "    <tr style=\"text-align: right;\">\n",
       "      <th></th>\n",
       "      <th>Features</th>\n",
       "    </tr>\n",
       "  </thead>\n",
       "  <tbody>\n",
       "    <tr>\n",
       "      <td>0</td>\n",
       "      <td>bedrooms</td>\n",
       "    </tr>\n",
       "    <tr>\n",
       "      <td>1</td>\n",
       "      <td>bathrooms</td>\n",
       "    </tr>\n",
       "    <tr>\n",
       "      <td>2</td>\n",
       "      <td>floors</td>\n",
       "    </tr>\n",
       "    <tr>\n",
       "      <td>3</td>\n",
       "      <td>waterfront</td>\n",
       "    </tr>\n",
       "    <tr>\n",
       "      <td>4</td>\n",
       "      <td>view</td>\n",
       "    </tr>\n",
       "    <tr>\n",
       "      <td>5</td>\n",
       "      <td>condition</td>\n",
       "    </tr>\n",
       "    <tr>\n",
       "      <td>6</td>\n",
       "      <td>grade</td>\n",
       "    </tr>\n",
       "    <tr>\n",
       "      <td>7</td>\n",
       "      <td>sqft_basement</td>\n",
       "    </tr>\n",
       "    <tr>\n",
       "      <td>8</td>\n",
       "      <td>yr_built</td>\n",
       "    </tr>\n",
       "    <tr>\n",
       "      <td>9</td>\n",
       "      <td>yr_renovated</td>\n",
       "    </tr>\n",
       "    <tr>\n",
       "      <td>10</td>\n",
       "      <td>zipcode</td>\n",
       "    </tr>\n",
       "    <tr>\n",
       "      <td>11</td>\n",
       "      <td>logsqft_above</td>\n",
       "    </tr>\n",
       "    <tr>\n",
       "      <td>12</td>\n",
       "      <td>logsqft_living</td>\n",
       "    </tr>\n",
       "    <tr>\n",
       "      <td>13</td>\n",
       "      <td>logsqft_lot</td>\n",
       "    </tr>\n",
       "  </tbody>\n",
       "</table>\n",
       "</div>"
      ],
      "text/plain": [
       "          Features\n",
       "0         bedrooms\n",
       "1        bathrooms\n",
       "2           floors\n",
       "3       waterfront\n",
       "4             view\n",
       "5        condition\n",
       "6            grade\n",
       "7    sqft_basement\n",
       "8         yr_built\n",
       "9     yr_renovated\n",
       "10         zipcode\n",
       "11   logsqft_above\n",
       "12  logsqft_living\n",
       "13     logsqft_lot"
      ]
     },
     "execution_count": 99,
     "metadata": {},
     "output_type": "execute_result"
    }
   ],
   "source": [
    "df_feat_base_log_col = pd.DataFrame(data = df_feat_base_log.columns.values, columns=['Features'])\n",
    "df_feat_base_log_col"
   ]
  },
  {
   "cell_type": "code",
   "execution_count": 100,
   "metadata": {},
   "outputs": [
    {
     "data": {
      "text/plain": [
       "array([1.34230682e-304, 0.00000000e+000, 2.15399918e-234, 1.62725114e-068,\n",
       "       0.00000000e+000, 3.36026444e-006, 0.00000000e+000, 8.68624003e-263,\n",
       "       1.98809061e-014, 1.14293871e-041, 1.67884843e-007, 0.00000000e+000,\n",
       "       0.00000000e+000, 8.26958288e-068])"
      ]
     },
     "execution_count": 100,
     "metadata": {},
     "output_type": "execute_result"
    }
   ],
   "source": [
    "p_values = f_regression(X_train,y_train)[1]\n",
    "p_values"
   ]
  },
  {
   "cell_type": "code",
   "execution_count": 101,
   "metadata": {},
   "outputs": [
    {
     "data": {
      "text/html": [
       "<div>\n",
       "<style scoped>\n",
       "    .dataframe tbody tr th:only-of-type {\n",
       "        vertical-align: middle;\n",
       "    }\n",
       "\n",
       "    .dataframe tbody tr th {\n",
       "        vertical-align: top;\n",
       "    }\n",
       "\n",
       "    .dataframe thead th {\n",
       "        text-align: right;\n",
       "    }\n",
       "</style>\n",
       "<table border=\"1\" class=\"dataframe\">\n",
       "  <thead>\n",
       "    <tr style=\"text-align: right;\">\n",
       "      <th></th>\n",
       "      <th>Features</th>\n",
       "      <th>Weights</th>\n",
       "      <th>P Values</th>\n",
       "    </tr>\n",
       "  </thead>\n",
       "  <tbody>\n",
       "    <tr>\n",
       "      <td>11</td>\n",
       "      <td>logsqft_above</td>\n",
       "      <td>264558.588844</td>\n",
       "      <td>0.0</td>\n",
       "    </tr>\n",
       "    <tr>\n",
       "      <td>3</td>\n",
       "      <td>waterfront</td>\n",
       "      <td>234438.141916</td>\n",
       "      <td>0.0</td>\n",
       "    </tr>\n",
       "    <tr>\n",
       "      <td>6</td>\n",
       "      <td>grade</td>\n",
       "      <td>136233.903678</td>\n",
       "      <td>0.0</td>\n",
       "    </tr>\n",
       "    <tr>\n",
       "      <td>1</td>\n",
       "      <td>bathrooms</td>\n",
       "      <td>39716.101155</td>\n",
       "      <td>0.0</td>\n",
       "    </tr>\n",
       "    <tr>\n",
       "      <td>4</td>\n",
       "      <td>view</td>\n",
       "      <td>39244.253639</td>\n",
       "      <td>0.0</td>\n",
       "    </tr>\n",
       "    <tr>\n",
       "      <td>2</td>\n",
       "      <td>floors</td>\n",
       "      <td>25204.590754</td>\n",
       "      <td>0.0</td>\n",
       "    </tr>\n",
       "    <tr>\n",
       "      <td>9</td>\n",
       "      <td>yr_renovated</td>\n",
       "      <td>22132.533626</td>\n",
       "      <td>0.0</td>\n",
       "    </tr>\n",
       "    <tr>\n",
       "      <td>5</td>\n",
       "      <td>condition</td>\n",
       "      <td>18958.266836</td>\n",
       "      <td>0.0</td>\n",
       "    </tr>\n",
       "    <tr>\n",
       "      <td>7</td>\n",
       "      <td>sqft_basement</td>\n",
       "      <td>157.120483</td>\n",
       "      <td>0.0</td>\n",
       "    </tr>\n",
       "    <tr>\n",
       "      <td>10</td>\n",
       "      <td>zipcode</td>\n",
       "      <td>-20.389946</td>\n",
       "      <td>0.0</td>\n",
       "    </tr>\n",
       "    <tr>\n",
       "      <td>8</td>\n",
       "      <td>yr_built</td>\n",
       "      <td>-3132.273232</td>\n",
       "      <td>0.0</td>\n",
       "    </tr>\n",
       "    <tr>\n",
       "      <td>13</td>\n",
       "      <td>logsqft_lot</td>\n",
       "      <td>-14324.878763</td>\n",
       "      <td>0.0</td>\n",
       "    </tr>\n",
       "    <tr>\n",
       "      <td>0</td>\n",
       "      <td>bedrooms</td>\n",
       "      <td>-15508.099308</td>\n",
       "      <td>0.0</td>\n",
       "    </tr>\n",
       "    <tr>\n",
       "      <td>12</td>\n",
       "      <td>logsqft_living</td>\n",
       "      <td>-108849.223247</td>\n",
       "      <td>0.0</td>\n",
       "    </tr>\n",
       "  </tbody>\n",
       "</table>\n",
       "</div>"
      ],
      "text/plain": [
       "          Features        Weights  P Values\n",
       "11   logsqft_above  264558.588844       0.0\n",
       "3       waterfront  234438.141916       0.0\n",
       "6            grade  136233.903678       0.0\n",
       "1        bathrooms   39716.101155       0.0\n",
       "4             view   39244.253639       0.0\n",
       "2           floors   25204.590754       0.0\n",
       "9     yr_renovated   22132.533626       0.0\n",
       "5        condition   18958.266836       0.0\n",
       "7    sqft_basement     157.120483       0.0\n",
       "10         zipcode     -20.389946       0.0\n",
       "8         yr_built   -3132.273232       0.0\n",
       "13     logsqft_lot  -14324.878763       0.0\n",
       "0         bedrooms  -15508.099308       0.0\n",
       "12  logsqft_living -108849.223247       0.0"
      ]
     },
     "execution_count": 101,
     "metadata": {},
     "output_type": "execute_result"
    }
   ],
   "source": [
    "df_feat_base_log_col['Weights'] = reg.coef_\n",
    "df_feat_base_log_col['P Values'] = p_values.round(3)\n",
    "df_feat_base_log_col.sort_values(['Weights'], ascending=False)"
   ]
  },
  {
   "cell_type": "code",
   "execution_count": 102,
   "metadata": {},
   "outputs": [
    {
     "data": {
      "text/plain": [
       "0.6276562674269828"
      ]
     },
     "execution_count": 102,
     "metadata": {},
     "output_type": "execute_result"
    }
   ],
   "source": [
    "r2_train = reg.score(X_train, y_train)\n",
    "r2_train\n",
    "n = X_train.shape[0]\n",
    "p = X_train.shape[1]\n",
    "\n",
    "adjusted_r2_train = 1-(1-r2_train)*(n-1)/(n-p-1)\n",
    "adjusted_r2_train"
   ]
  },
  {
   "cell_type": "code",
   "execution_count": 103,
   "metadata": {},
   "outputs": [
    {
     "name": "stdout",
     "output_type": "stream",
     "text": [
      "Mean Absolute Error: 123459.6069422734\n",
      "Mean Squared Error: 29396633810.977425\n",
      "Root Mean Squared Error: 171454.465707305\n"
     ]
    }
   ],
   "source": [
    "y_train_pred = reg.predict(X_train)\n",
    "train_mae = metrics.mean_absolute_error(y_train, y_train_pred)\n",
    "train_mse = metrics.mean_squared_error(y_train, y_train_pred)\n",
    "train_rmse = np.sqrt(metrics.mean_squared_error(y_train, y_train_pred))\n",
    "\n",
    "print('Mean Absolute Error:', train_mae )\n",
    "print('Mean Squared Error:',  train_mse)\n",
    "print('Root Mean Squared Error:' , train_rmse)"
   ]
  },
  {
   "cell_type": "code",
   "execution_count": 104,
   "metadata": {},
   "outputs": [
    {
     "name": "stdout",
     "output_type": "stream",
     "text": [
      "Mean Absolute Error: 0.43418604744767797\n",
      "Root Mean Squared Error: 0.6029756503073587\n"
     ]
    }
   ],
   "source": [
    "price_std = df_tgt.std()\n",
    "\n",
    "print('Mean Absolute Error:', train_mae/price_std )\n",
    "print('Root Mean Squared Error:' , train_rmse/price_std)"
   ]
  },
  {
   "cell_type": "code",
   "execution_count": 105,
   "metadata": {},
   "outputs": [
    {
     "data": {
      "text/plain": [
       "0.6183305354663649"
      ]
     },
     "execution_count": 105,
     "metadata": {},
     "output_type": "execute_result"
    }
   ],
   "source": [
    "reg.score(X_test, y_test)"
   ]
  },
  {
   "cell_type": "code",
   "execution_count": 106,
   "metadata": {},
   "outputs": [
    {
     "data": {
      "text/plain": [
       "0.6167631044005183"
      ]
     },
     "execution_count": 106,
     "metadata": {},
     "output_type": "execute_result"
    }
   ],
   "source": [
    "r2_test = reg.score(X_test, y_test)\n",
    "n = X_test.shape[0]\n",
    "p = X_test.shape[1]\n",
    "\n",
    "adjusted_r2_test = 1-(1-r2_test)*(n-1)/(n-p-1)\n",
    "adjusted_r2_test"
   ]
  },
  {
   "cell_type": "code",
   "execution_count": 107,
   "metadata": {},
   "outputs": [
    {
     "name": "stdout",
     "output_type": "stream",
     "text": [
      "Mean Absolute Error: 129638.53186296944\n",
      "Mean Squared Error: 33580438783.493904\n",
      "Root Mean Squared Error: 183249.66243759877\n"
     ]
    }
   ],
   "source": [
    "y_test_pred = reg.predict(X_test)\n",
    "test_mae = metrics.mean_absolute_error(y_test, y_test_pred)\n",
    "test_mse = metrics.mean_squared_error(y_test, y_test_pred)\n",
    "test_rmse = np.sqrt(metrics.mean_squared_error(y_test, y_test_pred))\n",
    "\n",
    "print('Mean Absolute Error:', test_mae )\n",
    "print('Mean Squared Error:',  test_mse)\n",
    "print('Root Mean Squared Error:' , test_rmse)"
   ]
  },
  {
   "cell_type": "code",
   "execution_count": 108,
   "metadata": {},
   "outputs": [
    {
     "name": "stdout",
     "output_type": "stream",
     "text": [
      "Mean Absolute Error  Z: 0.45591625585541556\n",
      "Root Mean Squared Error Z: 0.6444573136143593\n"
     ]
    }
   ],
   "source": [
    "\n",
    "print('Mean Absolute Error  Z:', test_mae/price_std )\n",
    "print('Root Mean Squared Error Z:' , test_rmse/price_std)"
   ]
  },
  {
   "cell_type": "code",
   "execution_count": 109,
   "metadata": {},
   "outputs": [
    {
     "data": {
      "text/plain": [
       "Text(0, 0.5, 'Predictions')"
      ]
     },
     "execution_count": 109,
     "metadata": {},
     "output_type": "execute_result"
    },
    {
     "data": {
      "image/png": "[encoded data removed]",
      "text/plain": [
       "<Figure size 432x288 with 1 Axes>"
      ]
     },
     "metadata": {
      "needs_background": "light"
     },
     "output_type": "display_data"
    }
   ],
   "source": [
    "\n",
    "plt.scatter(y_test, y_test_pred, alpha=0.3)\n",
    "plt.xlabel(\"True Values\")\n",
    "plt.ylabel(\"Predictions\")"
   ]
  },
  {
   "cell_type": "code",
   "execution_count": 110,
   "metadata": {},
   "outputs": [
    {
     "data": {
      "text/plain": [
       "0.618"
      ]
     },
     "execution_count": 110,
     "metadata": {},
     "output_type": "execute_result"
    }
   ],
   "source": [
    "train_rmse = round(train_rmse, 3)\n",
    "r2_train = round(r2_train, 3)\n",
    "adjusted_r2_train = round(adjusted_r2_train, 3)\n",
    "r2_test = round(r2_test, 3)\n",
    "adjusted_r2_test = round(adjusted_r2_test, 3)\n",
    "\n",
    "r2_test"
   ]
  },
  {
   "cell_type": "code",
   "execution_count": 111,
   "metadata": {},
   "outputs": [
    {
     "data": {
      "text/html": [
       "<div>\n",
       "<style scoped>\n",
       "    .dataframe tbody tr th:only-of-type {\n",
       "        vertical-align: middle;\n",
       "    }\n",
       "\n",
       "    .dataframe tbody tr th {\n",
       "        vertical-align: top;\n",
       "    }\n",
       "\n",
       "    .dataframe thead th {\n",
       "        text-align: right;\n",
       "    }\n",
       "</style>\n",
       "<table border=\"1\" class=\"dataframe\">\n",
       "  <thead>\n",
       "    <tr style=\"text-align: right;\">\n",
       "      <th></th>\n",
       "      <th>Model</th>\n",
       "      <th>Description</th>\n",
       "      <th>Root Mean Squared Error (RMSE)</th>\n",
       "      <th>R-squared (training)</th>\n",
       "      <th>Adjusted R-squared (training)</th>\n",
       "      <th>R-squared (test)</th>\n",
       "      <th>Adjusted R-squared (test)</th>\n",
       "      <th>5-fold Cross Validation</th>\n",
       "    </tr>\n",
       "  </thead>\n",
       "  <tbody>\n",
       "    <tr>\n",
       "      <td>0</td>\n",
       "      <td>Multiple Regression-1</td>\n",
       "      <td>Cary- Base</td>\n",
       "      <td>169097.418</td>\n",
       "      <td>0.638</td>\n",
       "      <td>0.638</td>\n",
       "      <td>0.632</td>\n",
       "      <td>0.630</td>\n",
       "      <td>NaN</td>\n",
       "    </tr>\n",
       "    <tr>\n",
       "      <td>1</td>\n",
       "      <td>Multiple Regression-2</td>\n",
       "      <td>Cary- Two</td>\n",
       "      <td>196250.267</td>\n",
       "      <td>0.513</td>\n",
       "      <td>0.512</td>\n",
       "      <td>0.515</td>\n",
       "      <td>0.514</td>\n",
       "      <td>NaN</td>\n",
       "    </tr>\n",
       "    <tr>\n",
       "      <td>2</td>\n",
       "      <td>Multiple Regression-3</td>\n",
       "      <td>Cary- Base Scaled</td>\n",
       "      <td>196250.267</td>\n",
       "      <td>0.513</td>\n",
       "      <td>0.512</td>\n",
       "      <td>0.515</td>\n",
       "      <td>0.514</td>\n",
       "      <td>NaN</td>\n",
       "    </tr>\n",
       "    <tr>\n",
       "      <td>3</td>\n",
       "      <td>Multiple Regression-4</td>\n",
       "      <td>Cary- Base Log</td>\n",
       "      <td>171454.466</td>\n",
       "      <td>0.628</td>\n",
       "      <td>0.628</td>\n",
       "      <td>0.618</td>\n",
       "      <td>0.617</td>\n",
       "      <td>NaN</td>\n",
       "    </tr>\n",
       "  </tbody>\n",
       "</table>\n",
       "</div>"
      ],
      "text/plain": [
       "                   Model        Description  Root Mean Squared Error (RMSE)  \\\n",
       "0  Multiple Regression-1         Cary- Base                      169097.418   \n",
       "1  Multiple Regression-2          Cary- Two                      196250.267   \n",
       "2  Multiple Regression-3  Cary- Base Scaled                      196250.267   \n",
       "3  Multiple Regression-4     Cary- Base Log                      171454.466   \n",
       "\n",
       "   R-squared (training)  Adjusted R-squared (training)  R-squared (test)  \\\n",
       "0                 0.638                          0.638             0.632   \n",
       "1                 0.513                          0.512             0.515   \n",
       "2                 0.513                          0.512             0.515   \n",
       "3                 0.628                          0.628             0.618   \n",
       "\n",
       "   Adjusted R-squared (test)  5-fold Cross Validation  \n",
       "0                      0.630                      NaN  \n",
       "1                      0.514                      NaN  \n",
       "2                      0.514                      NaN  \n",
       "3                      0.617                      NaN  "
      ]
     },
     "execution_count": 111,
     "metadata": {},
     "output_type": "execute_result"
    }
   ],
   "source": [
    "summary_df = summary_df.append({'Model' : 'Multiple Regression-4', 'Description' : 'Cary- Base Log' , 'Root Mean Squared Error (RMSE)' : train_rmse, 'R-squared (training)' : r2_train, 'Adjusted R-squared (training)': adjusted_r2_train, 'R-squared (test)' : r2_test, 'Adjusted R-squared (test)' : adjusted_r2_test} , ignore_index=True)\n",
    "summary_df"
   ]
  },
  {
   "cell_type": "markdown",
   "metadata": {},
   "source": [
    "## Polynomial 2nd order"
   ]
  },
  {
   "cell_type": "code",
   "execution_count": 112,
   "metadata": {
    "scrolled": true
   },
   "outputs": [
    {
     "name": "stdout",
     "output_type": "stream",
     "text": [
      "Training set - Features:  (13693, 14) Target:  (13693,)\n",
      "Training set - Features:  (3424, 14) Target:  (3424,)\n"
     ]
    }
   ],
   "source": [
    "X_train, X_test, y_train, y_test = train_test_split(df_feat_base, df_tgt, random_state=13,test_size=0.2)\n",
    "\n",
    "#check the shape of the results\n",
    "print(\"Training set - Features: \", X_train.shape, \"Target: \", y_train.shape)\n",
    "print(\"Training set - Features: \", X_test.shape, \"Target: \",y_test.shape)"
   ]
  },
  {
   "cell_type": "code",
   "execution_count": 113,
   "metadata": {},
   "outputs": [],
   "source": [
    "poly = PolynomialFeatures(2)\n",
    "X_train_fin = poly.fit_transform(X_train)\n",
    "X_test_fin = poly.fit_transform(X_test)"
   ]
  },
  {
   "cell_type": "code",
   "execution_count": 114,
   "metadata": {},
   "outputs": [],
   "source": [
    "reg_poly = LinearRegression()\n",
    "reg_poly.fit(X_train_fin,y_train)\n",
    "predict = reg_poly.predict(X_test_fin)"
   ]
  },
  {
   "cell_type": "code",
   "execution_count": 115,
   "metadata": {},
   "outputs": [],
   "source": [
    "train_rmse = np.sqrt(mean_squared_error(y_train, reg_poly.predict(X_train_fin)))"
   ]
  },
  {
   "cell_type": "code",
   "execution_count": 116,
   "metadata": {},
   "outputs": [
    {
     "name": "stdout",
     "output_type": "stream",
     "text": [
      "0.6781761592677358\n",
      "0.6778467592260446\n"
     ]
    }
   ],
   "source": [
    "r2_train = reg_poly.score(X_train_fin, y_train)\n",
    "n = X_train.shape[0]\n",
    "p = X_train.shape[1]\n",
    "adjusted_r2_train = 1-(1-r2_train)*(n-1)/(n-p-1)\n",
    "print(r2_train)\n",
    "print(adjusted_r2_train)"
   ]
  },
  {
   "cell_type": "code",
   "execution_count": 117,
   "metadata": {},
   "outputs": [
    {
     "name": "stdout",
     "output_type": "stream",
     "text": [
      "0.6582063384765202\n",
      "0.6568026684086621\n"
     ]
    }
   ],
   "source": [
    "r2_test = reg_poly.score(X_test_fin, y_test)\n",
    "n = X_test.shape[0]\n",
    "p = X_test.shape[1]\n",
    "adjusted_r2_test = 1-(1-r2_test)*(n-1)/(n-p-1)\n",
    "print(r2_test)\n",
    "print(adjusted_r2_test)"
   ]
  },
  {
   "cell_type": "code",
   "execution_count": null,
   "metadata": {},
   "outputs": [],
   "source": []
  },
  {
   "cell_type": "code",
   "execution_count": null,
   "metadata": {},
   "outputs": [],
   "source": []
  },
  {
   "cell_type": "code",
   "execution_count": null,
   "metadata": {},
   "outputs": [],
   "source": []
  },
  {
   "cell_type": "code",
   "execution_count": null,
   "metadata": {},
   "outputs": [],
   "source": []
  },
  {
   "cell_type": "code",
   "execution_count": null,
   "metadata": {},
   "outputs": [],
   "source": []
  },
  {
   "cell_type": "code",
   "execution_count": 118,
   "metadata": {
    "scrolled": true
   },
   "outputs": [
    {
     "data": {
      "text/html": [
       "<div>\n",
       "<style scoped>\n",
       "    .dataframe tbody tr th:only-of-type {\n",
       "        vertical-align: middle;\n",
       "    }\n",
       "\n",
       "    .dataframe tbody tr th {\n",
       "        vertical-align: top;\n",
       "    }\n",
       "\n",
       "    .dataframe thead th {\n",
       "        text-align: right;\n",
       "    }\n",
       "</style>\n",
       "<table border=\"1\" class=\"dataframe\">\n",
       "  <thead>\n",
       "    <tr style=\"text-align: right;\">\n",
       "      <th></th>\n",
       "      <th>Model</th>\n",
       "      <th>Description</th>\n",
       "      <th>Root Mean Squared Error (RMSE)</th>\n",
       "      <th>R-squared (training)</th>\n",
       "      <th>Adjusted R-squared (training)</th>\n",
       "      <th>R-squared (test)</th>\n",
       "      <th>Adjusted R-squared (test)</th>\n",
       "      <th>5-fold Cross Validation</th>\n",
       "    </tr>\n",
       "  </thead>\n",
       "  <tbody>\n",
       "    <tr>\n",
       "      <td>0</td>\n",
       "      <td>Multiple Regression-1</td>\n",
       "      <td>Cary- Base</td>\n",
       "      <td>169097.418000</td>\n",
       "      <td>0.638000</td>\n",
       "      <td>0.638000</td>\n",
       "      <td>0.632000</td>\n",
       "      <td>0.630000</td>\n",
       "      <td>NaN</td>\n",
       "    </tr>\n",
       "    <tr>\n",
       "      <td>1</td>\n",
       "      <td>Multiple Regression-2</td>\n",
       "      <td>Cary- Two</td>\n",
       "      <td>196250.267000</td>\n",
       "      <td>0.513000</td>\n",
       "      <td>0.512000</td>\n",
       "      <td>0.515000</td>\n",
       "      <td>0.514000</td>\n",
       "      <td>NaN</td>\n",
       "    </tr>\n",
       "    <tr>\n",
       "      <td>2</td>\n",
       "      <td>Multiple Regression-3</td>\n",
       "      <td>Cary- Base Scaled</td>\n",
       "      <td>196250.267000</td>\n",
       "      <td>0.513000</td>\n",
       "      <td>0.512000</td>\n",
       "      <td>0.515000</td>\n",
       "      <td>0.514000</td>\n",
       "      <td>NaN</td>\n",
       "    </tr>\n",
       "    <tr>\n",
       "      <td>3</td>\n",
       "      <td>Multiple Regression-4</td>\n",
       "      <td>Cary- Base Log</td>\n",
       "      <td>171454.466000</td>\n",
       "      <td>0.628000</td>\n",
       "      <td>0.628000</td>\n",
       "      <td>0.618000</td>\n",
       "      <td>0.617000</td>\n",
       "      <td>NaN</td>\n",
       "    </tr>\n",
       "    <tr>\n",
       "      <td>4</td>\n",
       "      <td>Multiple Regression-5</td>\n",
       "      <td>Cary- Base Poly2</td>\n",
       "      <td>159480.661919</td>\n",
       "      <td>0.678176</td>\n",
       "      <td>0.677847</td>\n",
       "      <td>0.658206</td>\n",
       "      <td>0.656803</td>\n",
       "      <td>NaN</td>\n",
       "    </tr>\n",
       "  </tbody>\n",
       "</table>\n",
       "</div>"
      ],
      "text/plain": [
       "                   Model        Description  Root Mean Squared Error (RMSE)  \\\n",
       "0  Multiple Regression-1         Cary- Base                   169097.418000   \n",
       "1  Multiple Regression-2          Cary- Two                   196250.267000   \n",
       "2  Multiple Regression-3  Cary- Base Scaled                   196250.267000   \n",
       "3  Multiple Regression-4     Cary- Base Log                   171454.466000   \n",
       "4  Multiple Regression-5   Cary- Base Poly2                   159480.661919   \n",
       "\n",
       "   R-squared (training)  Adjusted R-squared (training)  R-squared (test)  \\\n",
       "0              0.638000                       0.638000          0.632000   \n",
       "1              0.513000                       0.512000          0.515000   \n",
       "2              0.513000                       0.512000          0.515000   \n",
       "3              0.628000                       0.628000          0.618000   \n",
       "4              0.678176                       0.677847          0.658206   \n",
       "\n",
       "   Adjusted R-squared (test)  5-fold Cross Validation  \n",
       "0                   0.630000                      NaN  \n",
       "1                   0.514000                      NaN  \n",
       "2                   0.514000                      NaN  \n",
       "3                   0.617000                      NaN  \n",
       "4                   0.656803                      NaN  "
      ]
     },
     "execution_count": 118,
     "metadata": {},
     "output_type": "execute_result"
    }
   ],
   "source": [
    "summary_df = summary_df.append({'Model' : 'Multiple Regression-5', 'Description' : 'Cary- Base Poly2' , 'Root Mean Squared Error (RMSE)' : train_rmse, 'R-squared (training)' : r2_train, 'Adjusted R-squared (training)': adjusted_r2_train, 'R-squared (test)' : r2_test, 'Adjusted R-squared (test)' : adjusted_r2_test} , ignore_index=True)\n",
    "summary_df"
   ]
  },
  {
   "cell_type": "markdown",
   "metadata": {},
   "source": [
    "## 3rd order polynomial"
   ]
  },
  {
   "cell_type": "code",
   "execution_count": 119,
   "metadata": {},
   "outputs": [],
   "source": [
    "poly = PolynomialFeatures(3)\n",
    "X_train_fin = poly.fit_transform(X_train)\n",
    "X_test_fin = poly.fit_transform(X_test)"
   ]
  },
  {
   "cell_type": "code",
   "execution_count": 120,
   "metadata": {},
   "outputs": [],
   "source": [
    "reg_poly = LinearRegression()\n",
    "reg_poly.fit(X_train_fin,y_train)\n",
    "predict = reg_poly.predict(X_test_fin)"
   ]
  },
  {
   "cell_type": "code",
   "execution_count": 121,
   "metadata": {},
   "outputs": [],
   "source": [
    "train_rmse = np.sqrt(mean_squared_error(y_train, reg_poly.predict(X_train_fin)))"
   ]
  },
  {
   "cell_type": "code",
   "execution_count": 122,
   "metadata": {},
   "outputs": [
    {
     "name": "stdout",
     "output_type": "stream",
     "text": [
      "0.7038559226623606\n",
      "0.7035528069230181\n"
     ]
    }
   ],
   "source": [
    "r2_train = reg_poly.score(X_train_fin, y_train)\n",
    "n = X_train.shape[0]\n",
    "p = X_train.shape[1]\n",
    "adjusted_r2_train = 1-(1-r2_train)*(n-1)/(n-p-1)\n",
    "print(r2_train)\n",
    "print(adjusted_r2_train)"
   ]
  },
  {
   "cell_type": "code",
   "execution_count": 123,
   "metadata": {},
   "outputs": [
    {
     "name": "stdout",
     "output_type": "stream",
     "text": [
      "0.601803873647338\n",
      "0.6001685712803866\n"
     ]
    }
   ],
   "source": [
    "r2_test = reg_poly.score(X_test_fin, y_test)\n",
    "n = X_test.shape[0]\n",
    "p = X_test.shape[1]\n",
    "adjusted_r2_test = 1-(1-r2_test)*(n-1)/(n-p-1)\n",
    "print(r2_test)\n",
    "print(adjusted_r2_test)"
   ]
  },
  {
   "cell_type": "code",
   "execution_count": 124,
   "metadata": {},
   "outputs": [
    {
     "data": {
      "text/html": [
       "<div>\n",
       "<style scoped>\n",
       "    .dataframe tbody tr th:only-of-type {\n",
       "        vertical-align: middle;\n",
       "    }\n",
       "\n",
       "    .dataframe tbody tr th {\n",
       "        vertical-align: top;\n",
       "    }\n",
       "\n",
       "    .dataframe thead th {\n",
       "        text-align: right;\n",
       "    }\n",
       "</style>\n",
       "<table border=\"1\" class=\"dataframe\">\n",
       "  <thead>\n",
       "    <tr style=\"text-align: right;\">\n",
       "      <th></th>\n",
       "      <th>Model</th>\n",
       "      <th>Description</th>\n",
       "      <th>Root Mean Squared Error (RMSE)</th>\n",
       "      <th>R-squared (training)</th>\n",
       "      <th>Adjusted R-squared (training)</th>\n",
       "      <th>R-squared (test)</th>\n",
       "      <th>Adjusted R-squared (test)</th>\n",
       "      <th>5-fold Cross Validation</th>\n",
       "    </tr>\n",
       "  </thead>\n",
       "  <tbody>\n",
       "    <tr>\n",
       "      <td>0</td>\n",
       "      <td>Multiple Regression-1</td>\n",
       "      <td>Cary- Base</td>\n",
       "      <td>169097.418000</td>\n",
       "      <td>0.638000</td>\n",
       "      <td>0.638000</td>\n",
       "      <td>0.632000</td>\n",
       "      <td>0.630000</td>\n",
       "      <td>NaN</td>\n",
       "    </tr>\n",
       "    <tr>\n",
       "      <td>1</td>\n",
       "      <td>Multiple Regression-2</td>\n",
       "      <td>Cary- Two</td>\n",
       "      <td>196250.267000</td>\n",
       "      <td>0.513000</td>\n",
       "      <td>0.512000</td>\n",
       "      <td>0.515000</td>\n",
       "      <td>0.514000</td>\n",
       "      <td>NaN</td>\n",
       "    </tr>\n",
       "    <tr>\n",
       "      <td>2</td>\n",
       "      <td>Multiple Regression-3</td>\n",
       "      <td>Cary- Base Scaled</td>\n",
       "      <td>196250.267000</td>\n",
       "      <td>0.513000</td>\n",
       "      <td>0.512000</td>\n",
       "      <td>0.515000</td>\n",
       "      <td>0.514000</td>\n",
       "      <td>NaN</td>\n",
       "    </tr>\n",
       "    <tr>\n",
       "      <td>3</td>\n",
       "      <td>Multiple Regression-4</td>\n",
       "      <td>Cary- Base Log</td>\n",
       "      <td>171454.466000</td>\n",
       "      <td>0.628000</td>\n",
       "      <td>0.628000</td>\n",
       "      <td>0.618000</td>\n",
       "      <td>0.617000</td>\n",
       "      <td>NaN</td>\n",
       "    </tr>\n",
       "    <tr>\n",
       "      <td>4</td>\n",
       "      <td>Multiple Regression-5</td>\n",
       "      <td>Cary- Base Poly2</td>\n",
       "      <td>159480.661919</td>\n",
       "      <td>0.678176</td>\n",
       "      <td>0.677847</td>\n",
       "      <td>0.658206</td>\n",
       "      <td>0.656803</td>\n",
       "      <td>NaN</td>\n",
       "    </tr>\n",
       "    <tr>\n",
       "      <td>5</td>\n",
       "      <td>Multiple Regression-6</td>\n",
       "      <td>Cary- Base Poly3</td>\n",
       "      <td>152985.562797</td>\n",
       "      <td>0.703856</td>\n",
       "      <td>0.703553</td>\n",
       "      <td>0.601804</td>\n",
       "      <td>0.600169</td>\n",
       "      <td>NaN</td>\n",
       "    </tr>\n",
       "  </tbody>\n",
       "</table>\n",
       "</div>"
      ],
      "text/plain": [
       "                   Model        Description  Root Mean Squared Error (RMSE)  \\\n",
       "0  Multiple Regression-1         Cary- Base                   169097.418000   \n",
       "1  Multiple Regression-2          Cary- Two                   196250.267000   \n",
       "2  Multiple Regression-3  Cary- Base Scaled                   196250.267000   \n",
       "3  Multiple Regression-4     Cary- Base Log                   171454.466000   \n",
       "4  Multiple Regression-5   Cary- Base Poly2                   159480.661919   \n",
       "5  Multiple Regression-6   Cary- Base Poly3                   152985.562797   \n",
       "\n",
       "   R-squared (training)  Adjusted R-squared (training)  R-squared (test)  \\\n",
       "0              0.638000                       0.638000          0.632000   \n",
       "1              0.513000                       0.512000          0.515000   \n",
       "2              0.513000                       0.512000          0.515000   \n",
       "3              0.628000                       0.628000          0.618000   \n",
       "4              0.678176                       0.677847          0.658206   \n",
       "5              0.703856                       0.703553          0.601804   \n",
       "\n",
       "   Adjusted R-squared (test)  5-fold Cross Validation  \n",
       "0                   0.630000                      NaN  \n",
       "1                   0.514000                      NaN  \n",
       "2                   0.514000                      NaN  \n",
       "3                   0.617000                      NaN  \n",
       "4                   0.656803                      NaN  \n",
       "5                   0.600169                      NaN  "
      ]
     },
     "execution_count": 124,
     "metadata": {},
     "output_type": "execute_result"
    }
   ],
   "source": [
    "summary_df = summary_df.append({'Model' : 'Multiple Regression-6', 'Description' : 'Cary- Base Poly3' , 'Root Mean Squared Error (RMSE)' : train_rmse, 'R-squared (training)' : r2_train, 'Adjusted R-squared (training)': adjusted_r2_train, 'R-squared (test)' : r2_test, 'Adjusted R-squared (test)' : adjusted_r2_test} , ignore_index=True)\n",
    "summary_df"
   ]
  },
  {
   "cell_type": "code",
   "execution_count": 125,
   "metadata": {},
   "outputs": [],
   "source": [
    "df2['year']=df2['date'].apply(lambda x: x.year)\n",
    "df2 = df2.drop(['id','date'], axis=1)"
   ]
  },
  {
   "cell_type": "markdown",
   "metadata": {},
   "source": [
    "## 2nd order polynomial all columns"
   ]
  },
  {
   "cell_type": "code",
   "execution_count": 126,
   "metadata": {},
   "outputs": [],
   "source": [
    "\n",
    "df_feat_poly = df2.drop(['price'], axis=1)"
   ]
  },
  {
   "cell_type": "code",
   "execution_count": 127,
   "metadata": {},
   "outputs": [
    {
     "name": "stdout",
     "output_type": "stream",
     "text": [
      "Training set - Features:  (13832, 19) Target:  (13832,)\n",
      "Training set - Features:  (3458, 19) Target:  (3458,)\n"
     ]
    }
   ],
   "source": [
    "X_train, X_test, y_train, y_test = train_test_split(df_feat_poly, df2_tgt, random_state=13,test_size=0.2)\n",
    "\n",
    "#check the shape of the results\n",
    "print(\"Training set - Features: \", X_train.shape, \"Target: \", y_train.shape)\n",
    "print(\"Training set - Features: \", X_test.shape, \"Target: \",y_test.shape)"
   ]
  },
  {
   "cell_type": "code",
   "execution_count": 128,
   "metadata": {},
   "outputs": [],
   "source": [
    "poly = PolynomialFeatures(2)\n",
    "X_train_fin = poly.fit_transform(X_train)\n",
    "X_test_fin = poly.fit_transform(X_test)"
   ]
  },
  {
   "cell_type": "code",
   "execution_count": 129,
   "metadata": {},
   "outputs": [],
   "source": [
    "reg_poly = LinearRegression()\n",
    "reg_poly.fit(X_train_fin,y_train)\n",
    "predict = reg_poly.predict(X_test_fin)"
   ]
  },
  {
   "cell_type": "code",
   "execution_count": 130,
   "metadata": {},
   "outputs": [],
   "source": [
    "train_rmse = np.sqrt(mean_squared_error(y_train, reg_poly.predict(X_train_fin)))"
   ]
  },
  {
   "cell_type": "code",
   "execution_count": 131,
   "metadata": {},
   "outputs": [
    {
     "name": "stdout",
     "output_type": "stream",
     "text": [
      "0.8337640874920405\n",
      "0.8335354108096157\n"
     ]
    }
   ],
   "source": [
    "r2_train = reg_poly.score(X_train_fin, y_train)\n",
    "n = X_train.shape[0]\n",
    "p = X_train.shape[1]\n",
    "adjusted_r2_train = 1-(1-r2_train)*(n-1)/(n-p-1)\n",
    "print(r2_train)\n",
    "print(adjusted_r2_train)"
   ]
  },
  {
   "cell_type": "code",
   "execution_count": 132,
   "metadata": {},
   "outputs": [
    {
     "name": "stdout",
     "output_type": "stream",
     "text": [
      "0.8233893704331472\n",
      "0.8224133372854537\n"
     ]
    }
   ],
   "source": [
    "r2_test = reg_poly.score(X_test_fin, y_test)\n",
    "n = X_test.shape[0]\n",
    "p = X_test.shape[1]\n",
    "adjusted_r2_test = 1-(1-r2_test)*(n-1)/(n-p-1)\n",
    "print(r2_test)\n",
    "print(adjusted_r2_test)"
   ]
  },
  {
   "cell_type": "code",
   "execution_count": 133,
   "metadata": {},
   "outputs": [
    {
     "data": {
      "text/html": [
       "<div>\n",
       "<style scoped>\n",
       "    .dataframe tbody tr th:only-of-type {\n",
       "        vertical-align: middle;\n",
       "    }\n",
       "\n",
       "    .dataframe tbody tr th {\n",
       "        vertical-align: top;\n",
       "    }\n",
       "\n",
       "    .dataframe thead th {\n",
       "        text-align: right;\n",
       "    }\n",
       "</style>\n",
       "<table border=\"1\" class=\"dataframe\">\n",
       "  <thead>\n",
       "    <tr style=\"text-align: right;\">\n",
       "      <th></th>\n",
       "      <th>Model</th>\n",
       "      <th>Description</th>\n",
       "      <th>Root Mean Squared Error (RMSE)</th>\n",
       "      <th>R-squared (training)</th>\n",
       "      <th>Adjusted R-squared (training)</th>\n",
       "      <th>R-squared (test)</th>\n",
       "      <th>Adjusted R-squared (test)</th>\n",
       "      <th>5-fold Cross Validation</th>\n",
       "    </tr>\n",
       "  </thead>\n",
       "  <tbody>\n",
       "    <tr>\n",
       "      <td>0</td>\n",
       "      <td>Multiple Regression-1</td>\n",
       "      <td>Cary- Base</td>\n",
       "      <td>169097.418000</td>\n",
       "      <td>0.638000</td>\n",
       "      <td>0.638000</td>\n",
       "      <td>0.632000</td>\n",
       "      <td>0.630000</td>\n",
       "      <td>NaN</td>\n",
       "    </tr>\n",
       "    <tr>\n",
       "      <td>1</td>\n",
       "      <td>Multiple Regression-2</td>\n",
       "      <td>Cary- Two</td>\n",
       "      <td>196250.267000</td>\n",
       "      <td>0.513000</td>\n",
       "      <td>0.512000</td>\n",
       "      <td>0.515000</td>\n",
       "      <td>0.514000</td>\n",
       "      <td>NaN</td>\n",
       "    </tr>\n",
       "    <tr>\n",
       "      <td>2</td>\n",
       "      <td>Multiple Regression-3</td>\n",
       "      <td>Cary- Base Scaled</td>\n",
       "      <td>196250.267000</td>\n",
       "      <td>0.513000</td>\n",
       "      <td>0.512000</td>\n",
       "      <td>0.515000</td>\n",
       "      <td>0.514000</td>\n",
       "      <td>NaN</td>\n",
       "    </tr>\n",
       "    <tr>\n",
       "      <td>3</td>\n",
       "      <td>Multiple Regression-4</td>\n",
       "      <td>Cary- Base Log</td>\n",
       "      <td>171454.466000</td>\n",
       "      <td>0.628000</td>\n",
       "      <td>0.628000</td>\n",
       "      <td>0.618000</td>\n",
       "      <td>0.617000</td>\n",
       "      <td>NaN</td>\n",
       "    </tr>\n",
       "    <tr>\n",
       "      <td>4</td>\n",
       "      <td>Multiple Regression-5</td>\n",
       "      <td>Cary- Base Poly2</td>\n",
       "      <td>159480.661919</td>\n",
       "      <td>0.678176</td>\n",
       "      <td>0.677847</td>\n",
       "      <td>0.658206</td>\n",
       "      <td>0.656803</td>\n",
       "      <td>NaN</td>\n",
       "    </tr>\n",
       "    <tr>\n",
       "      <td>5</td>\n",
       "      <td>Multiple Regression-6</td>\n",
       "      <td>Cary- Base Poly3</td>\n",
       "      <td>152985.562797</td>\n",
       "      <td>0.703856</td>\n",
       "      <td>0.703553</td>\n",
       "      <td>0.601804</td>\n",
       "      <td>0.600169</td>\n",
       "      <td>NaN</td>\n",
       "    </tr>\n",
       "    <tr>\n",
       "      <td>6</td>\n",
       "      <td>Multiple Regression-7</td>\n",
       "      <td>Cary- Base PolyAll</td>\n",
       "      <td>150665.511104</td>\n",
       "      <td>0.833764</td>\n",
       "      <td>0.833535</td>\n",
       "      <td>0.823389</td>\n",
       "      <td>0.822413</td>\n",
       "      <td>NaN</td>\n",
       "    </tr>\n",
       "  </tbody>\n",
       "</table>\n",
       "</div>"
      ],
      "text/plain": [
       "                   Model         Description  Root Mean Squared Error (RMSE)  \\\n",
       "0  Multiple Regression-1          Cary- Base                   169097.418000   \n",
       "1  Multiple Regression-2           Cary- Two                   196250.267000   \n",
       "2  Multiple Regression-3   Cary- Base Scaled                   196250.267000   \n",
       "3  Multiple Regression-4      Cary- Base Log                   171454.466000   \n",
       "4  Multiple Regression-5    Cary- Base Poly2                   159480.661919   \n",
       "5  Multiple Regression-6    Cary- Base Poly3                   152985.562797   \n",
       "6  Multiple Regression-7  Cary- Base PolyAll                   150665.511104   \n",
       "\n",
       "   R-squared (training)  Adjusted R-squared (training)  R-squared (test)  \\\n",
       "0              0.638000                       0.638000          0.632000   \n",
       "1              0.513000                       0.512000          0.515000   \n",
       "2              0.513000                       0.512000          0.515000   \n",
       "3              0.628000                       0.628000          0.618000   \n",
       "4              0.678176                       0.677847          0.658206   \n",
       "5              0.703856                       0.703553          0.601804   \n",
       "6              0.833764                       0.833535          0.823389   \n",
       "\n",
       "   Adjusted R-squared (test)  5-fold Cross Validation  \n",
       "0                   0.630000                      NaN  \n",
       "1                   0.514000                      NaN  \n",
       "2                   0.514000                      NaN  \n",
       "3                   0.617000                      NaN  \n",
       "4                   0.656803                      NaN  \n",
       "5                   0.600169                      NaN  \n",
       "6                   0.822413                      NaN  "
      ]
     },
     "execution_count": 133,
     "metadata": {},
     "output_type": "execute_result"
    }
   ],
   "source": [
    "summary_df = summary_df.append({'Model' : 'Multiple Regression-7', 'Description' : 'Cary- Base PolyAll' , 'Root Mean Squared Error (RMSE)' : train_rmse, 'R-squared (training)' : r2_train, 'Adjusted R-squared (training)': adjusted_r2_train, 'R-squared (test)' : r2_test, 'Adjusted R-squared (test)' : adjusted_r2_test} , ignore_index=True)\n",
    "summary_df"
   ]
  },
  {
   "cell_type": "markdown",
   "metadata": {},
   "source": [
    "## Dropping sqft_above"
   ]
  },
  {
   "cell_type": "code",
   "execution_count": 134,
   "metadata": {},
   "outputs": [],
   "source": [
    "\n",
    "df_feat_poly2 = df2.drop(['price','sqft_above'], axis=1)"
   ]
  },
  {
   "cell_type": "code",
   "execution_count": 135,
   "metadata": {},
   "outputs": [
    {
     "name": "stdout",
     "output_type": "stream",
     "text": [
      "Training set - Features:  (13832, 18) Target:  (13832,)\n",
      "Training set - Features:  (3458, 18) Target:  (3458,)\n"
     ]
    }
   ],
   "source": [
    "X_train, X_test, y_train, y_test = train_test_split(df_feat_poly2, df2_tgt, random_state=13,test_size=0.2)\n",
    "\n",
    "#check the shape of the results\n",
    "print(\"Training set - Features: \", X_train.shape, \"Target: \", y_train.shape)\n",
    "print(\"Training set - Features: \", X_test.shape, \"Target: \",y_test.shape)"
   ]
  },
  {
   "cell_type": "code",
   "execution_count": 136,
   "metadata": {},
   "outputs": [],
   "source": [
    "poly = PolynomialFeatures(2)\n",
    "X_train_fin = poly.fit_transform(X_train)\n",
    "X_test_fin = poly.fit_transform(X_test)"
   ]
  },
  {
   "cell_type": "code",
   "execution_count": 137,
   "metadata": {},
   "outputs": [],
   "source": [
    "reg_poly = LinearRegression()\n",
    "reg_poly.fit(X_train_fin,y_train)\n",
    "predict = reg_poly.predict(X_test_fin)"
   ]
  },
  {
   "cell_type": "code",
   "execution_count": 138,
   "metadata": {},
   "outputs": [],
   "source": [
    "train_rmse = np.sqrt(mean_squared_error(y_train, reg_poly.predict(X_train_fin)))"
   ]
  },
  {
   "cell_type": "code",
   "execution_count": 139,
   "metadata": {},
   "outputs": [
    {
     "name": "stdout",
     "output_type": "stream",
     "text": [
      "0.8331388517919027\n",
      "0.8329214116508945\n"
     ]
    }
   ],
   "source": [
    "r2_train = reg_poly.score(X_train_fin, y_train)\n",
    "n = X_train.shape[0]\n",
    "p = X_train.shape[1]\n",
    "adjusted_r2_train = 1-(1-r2_train)*(n-1)/(n-p-1)\n",
    "print(r2_train)\n",
    "print(adjusted_r2_train)"
   ]
  },
  {
   "cell_type": "code",
   "execution_count": 140,
   "metadata": {},
   "outputs": [
    {
     "name": "stdout",
     "output_type": "stream",
     "text": [
      "0.8270223508668372\n",
      "0.8261169720693969\n"
     ]
    }
   ],
   "source": [
    "r2_test = reg_poly.score(X_test_fin, y_test)\n",
    "n = X_test.shape[0]\n",
    "p = X_test.shape[1]\n",
    "adjusted_r2_test = 1-(1-r2_test)*(n-1)/(n-p-1)\n",
    "print(r2_test)\n",
    "print(adjusted_r2_test)"
   ]
  },
  {
   "cell_type": "code",
   "execution_count": null,
   "metadata": {},
   "outputs": [],
   "source": []
  },
  {
   "cell_type": "code",
   "execution_count": 141,
   "metadata": {},
   "outputs": [
    {
     "data": {
      "text/html": [
       "<div>\n",
       "<style scoped>\n",
       "    .dataframe tbody tr th:only-of-type {\n",
       "        vertical-align: middle;\n",
       "    }\n",
       "\n",
       "    .dataframe tbody tr th {\n",
       "        vertical-align: top;\n",
       "    }\n",
       "\n",
       "    .dataframe thead th {\n",
       "        text-align: right;\n",
       "    }\n",
       "</style>\n",
       "<table border=\"1\" class=\"dataframe\">\n",
       "  <thead>\n",
       "    <tr style=\"text-align: right;\">\n",
       "      <th></th>\n",
       "      <th>Model</th>\n",
       "      <th>Description</th>\n",
       "      <th>Root Mean Squared Error (RMSE)</th>\n",
       "      <th>R-squared (training)</th>\n",
       "      <th>Adjusted R-squared (training)</th>\n",
       "      <th>R-squared (test)</th>\n",
       "      <th>Adjusted R-squared (test)</th>\n",
       "      <th>5-fold Cross Validation</th>\n",
       "    </tr>\n",
       "  </thead>\n",
       "  <tbody>\n",
       "    <tr>\n",
       "      <td>0</td>\n",
       "      <td>Multiple Regression-1</td>\n",
       "      <td>Cary- Base</td>\n",
       "      <td>169097.418000</td>\n",
       "      <td>0.638000</td>\n",
       "      <td>0.638000</td>\n",
       "      <td>0.632000</td>\n",
       "      <td>0.630000</td>\n",
       "      <td>NaN</td>\n",
       "    </tr>\n",
       "    <tr>\n",
       "      <td>1</td>\n",
       "      <td>Multiple Regression-2</td>\n",
       "      <td>Cary- Two</td>\n",
       "      <td>196250.267000</td>\n",
       "      <td>0.513000</td>\n",
       "      <td>0.512000</td>\n",
       "      <td>0.515000</td>\n",
       "      <td>0.514000</td>\n",
       "      <td>NaN</td>\n",
       "    </tr>\n",
       "    <tr>\n",
       "      <td>2</td>\n",
       "      <td>Multiple Regression-3</td>\n",
       "      <td>Cary- Base Scaled</td>\n",
       "      <td>196250.267000</td>\n",
       "      <td>0.513000</td>\n",
       "      <td>0.512000</td>\n",
       "      <td>0.515000</td>\n",
       "      <td>0.514000</td>\n",
       "      <td>NaN</td>\n",
       "    </tr>\n",
       "    <tr>\n",
       "      <td>3</td>\n",
       "      <td>Multiple Regression-4</td>\n",
       "      <td>Cary- Base Log</td>\n",
       "      <td>171454.466000</td>\n",
       "      <td>0.628000</td>\n",
       "      <td>0.628000</td>\n",
       "      <td>0.618000</td>\n",
       "      <td>0.617000</td>\n",
       "      <td>NaN</td>\n",
       "    </tr>\n",
       "    <tr>\n",
       "      <td>4</td>\n",
       "      <td>Multiple Regression-5</td>\n",
       "      <td>Cary- Base Poly2</td>\n",
       "      <td>159480.661919</td>\n",
       "      <td>0.678176</td>\n",
       "      <td>0.677847</td>\n",
       "      <td>0.658206</td>\n",
       "      <td>0.656803</td>\n",
       "      <td>NaN</td>\n",
       "    </tr>\n",
       "    <tr>\n",
       "      <td>5</td>\n",
       "      <td>Multiple Regression-6</td>\n",
       "      <td>Cary- Base Poly3</td>\n",
       "      <td>152985.562797</td>\n",
       "      <td>0.703856</td>\n",
       "      <td>0.703553</td>\n",
       "      <td>0.601804</td>\n",
       "      <td>0.600169</td>\n",
       "      <td>NaN</td>\n",
       "    </tr>\n",
       "    <tr>\n",
       "      <td>6</td>\n",
       "      <td>Multiple Regression-7</td>\n",
       "      <td>Cary- Base PolyAll</td>\n",
       "      <td>150665.511104</td>\n",
       "      <td>0.833764</td>\n",
       "      <td>0.833535</td>\n",
       "      <td>0.823389</td>\n",
       "      <td>0.822413</td>\n",
       "      <td>NaN</td>\n",
       "    </tr>\n",
       "    <tr>\n",
       "      <td>7</td>\n",
       "      <td>Multiple Regression-8</td>\n",
       "      <td>Cary- Poly No Sqft Above</td>\n",
       "      <td>150948.581847</td>\n",
       "      <td>0.833139</td>\n",
       "      <td>0.832921</td>\n",
       "      <td>0.827022</td>\n",
       "      <td>0.826117</td>\n",
       "      <td>NaN</td>\n",
       "    </tr>\n",
       "  </tbody>\n",
       "</table>\n",
       "</div>"
      ],
      "text/plain": [
       "                   Model               Description  \\\n",
       "0  Multiple Regression-1                Cary- Base   \n",
       "1  Multiple Regression-2                 Cary- Two   \n",
       "2  Multiple Regression-3         Cary- Base Scaled   \n",
       "3  Multiple Regression-4            Cary- Base Log   \n",
       "4  Multiple Regression-5          Cary- Base Poly2   \n",
       "5  Multiple Regression-6          Cary- Base Poly3   \n",
       "6  Multiple Regression-7        Cary- Base PolyAll   \n",
       "7  Multiple Regression-8  Cary- Poly No Sqft Above   \n",
       "\n",
       "   Root Mean Squared Error (RMSE)  R-squared (training)  \\\n",
       "0                   169097.418000              0.638000   \n",
       "1                   196250.267000              0.513000   \n",
       "2                   196250.267000              0.513000   \n",
       "3                   171454.466000              0.628000   \n",
       "4                   159480.661919              0.678176   \n",
       "5                   152985.562797              0.703856   \n",
       "6                   150665.511104              0.833764   \n",
       "7                   150948.581847              0.833139   \n",
       "\n",
       "   Adjusted R-squared (training)  R-squared (test)  Adjusted R-squared (test)  \\\n",
       "0                       0.638000          0.632000                   0.630000   \n",
       "1                       0.512000          0.515000                   0.514000   \n",
       "2                       0.512000          0.515000                   0.514000   \n",
       "3                       0.628000          0.618000                   0.617000   \n",
       "4                       0.677847          0.658206                   0.656803   \n",
       "5                       0.703553          0.601804                   0.600169   \n",
       "6                       0.833535          0.823389                   0.822413   \n",
       "7                       0.832921          0.827022                   0.826117   \n",
       "\n",
       "   5-fold Cross Validation  \n",
       "0                      NaN  \n",
       "1                      NaN  \n",
       "2                      NaN  \n",
       "3                      NaN  \n",
       "4                      NaN  \n",
       "5                      NaN  \n",
       "6                      NaN  \n",
       "7                      NaN  "
      ]
     },
     "execution_count": 141,
     "metadata": {},
     "output_type": "execute_result"
    }
   ],
   "source": [
    "summary_df = summary_df.append({'Model' : 'Multiple Regression-8', 'Description' : 'Cary- Poly No Sqft Above' , 'Root Mean Squared Error (RMSE)' : train_rmse, 'R-squared (training)' : r2_train, 'Adjusted R-squared (training)': adjusted_r2_train, 'R-squared (test)' : r2_test, 'Adjusted R-squared (test)' : adjusted_r2_test} , ignore_index=True)\n",
    "summary_df"
   ]
  },
  {
   "cell_type": "code",
   "execution_count": 142,
   "metadata": {},
   "outputs": [
    {
     "data": {
      "text/plain": [
       "Index(['bedrooms', 'bathrooms', 'sqft_living', 'sqft_lot', 'floors',\n",
       "       'waterfront', 'view', 'condition', 'grade', 'sqft_basement', 'yr_built',\n",
       "       'yr_renovated', 'zipcode', 'lat', 'long', 'sqft_living15', 'sqft_lot15',\n",
       "       'year'],\n",
       "      dtype='object')"
      ]
     },
     "execution_count": 142,
     "metadata": {},
     "output_type": "execute_result"
    }
   ],
   "source": [
    "df_feat_poly2.columns"
   ]
  },
  {
   "cell_type": "markdown",
   "metadata": {},
   "source": [
    "## dropping columns"
   ]
  },
  {
   "cell_type": "code",
   "execution_count": 154,
   "metadata": {},
   "outputs": [],
   "source": [
    "df_feat_polyTEST = df2.copy()\n",
    "\n",
    "\n",
    "a_up = df_feat_polyTEST.price.quantile(.975)\n",
    "a_low = df_feat_polyTEST.price.quantile(.025)\n",
    "b_up = df_feat_polyTEST.sqft_living.quantile(.975)\n",
    "b_low = df_feat_polyTEST.sqft_living.quantile(.025) \n",
    "c_up = df_feat_polyTEST.sqft_lot.quantile(.975)\n",
    "c_low = df_feat_polyTEST.sqft_lot.quantile(.025)\n",
    "df_feat_polyTEST = df_feat_polyTEST[df_feat_polyTEST['price']<a_up]\n",
    "df_feat_polyTEST = df_feat_polyTEST[df_feat_polyTEST['price']>a_low]\n",
    "df_feat_polyTEST = df_feat_polyTEST[df_feat_polyTEST['sqft_lot']<c_up]\n",
    "df_feat_polyTEST = df_feat_polyTEST[df_feat_polyTEST['price']>c_low]\n",
    "df_feat_polyTEST = df_feat_polyTEST[df_feat_polyTEST['sqft_living']<b_up]\n",
    "df_feat_polyTEST = df_feat_polyTEST[df_feat_polyTEST['price']>b_low]\n",
    "\n",
    "df_tgt_polyTEST = df_feat_polyTEST.price\n",
    "df_feat_polyTEST = df_feat_polyTEST.drop(['price','sqft_above'], axis=1)\n"
   ]
  },
  {
   "cell_type": "code",
   "execution_count": 155,
   "metadata": {},
   "outputs": [
    {
     "name": "stdout",
     "output_type": "stream",
     "text": [
      "Training set - Features:  (12638, 18) Target:  (12638,)\n",
      "Training set - Features:  (3160, 18) Target:  (3160,)\n"
     ]
    }
   ],
   "source": [
    "X_train, X_test, y_train, y_test = train_test_split(df_feat_polyTEST, df_tgt_polyTEST, random_state=13,test_size=0.2)\n",
    "\n",
    "#check the shape of the results\n",
    "print(\"Training set - Features: \", X_train.shape, \"Target: \", y_train.shape)\n",
    "print(\"Training set - Features: \", X_test.shape, \"Target: \",y_test.shape)"
   ]
  },
  {
   "cell_type": "code",
   "execution_count": 156,
   "metadata": {},
   "outputs": [],
   "source": [
    "poly = PolynomialFeatures(2)\n",
    "X_train_fin = poly.fit_transform(X_train)\n",
    "X_test_fin = poly.fit_transform(X_test)"
   ]
  },
  {
   "cell_type": "code",
   "execution_count": 157,
   "metadata": {},
   "outputs": [],
   "source": [
    "reg_poly = LinearRegression()\n",
    "reg_poly.fit(X_train_fin,y_train)\n",
    "predict = reg_poly.predict(X_test_fin)"
   ]
  },
  {
   "cell_type": "code",
   "execution_count": 158,
   "metadata": {},
   "outputs": [],
   "source": [
    "train_rmse = np.sqrt(mean_squared_error(y_train, reg_poly.predict(X_train_fin)))"
   ]
  },
  {
   "cell_type": "code",
   "execution_count": 159,
   "metadata": {},
   "outputs": [
    {
     "name": "stdout",
     "output_type": "stream",
     "text": [
      "0.7799051430862014\n",
      "0.7795911952754043\n"
     ]
    }
   ],
   "source": [
    "r2_train = reg_poly.score(X_train_fin, y_train)\n",
    "n = X_train.shape[0]\n",
    "p = X_train.shape[1]\n",
    "adjusted_r2_train = 1-(1-r2_train)*(n-1)/(n-p-1)\n",
    "print(r2_train)\n",
    "print(adjusted_r2_train)"
   ]
  },
  {
   "cell_type": "code",
   "execution_count": 160,
   "metadata": {},
   "outputs": [
    {
     "name": "stdout",
     "output_type": "stream",
     "text": [
      "0.7588487337862576\n",
      "0.7574667781059496\n"
     ]
    }
   ],
   "source": [
    "r2_test = reg_poly.score(X_test_fin, y_test)\n",
    "n = X_test.shape[0]\n",
    "p = X_test.shape[1]\n",
    "adjusted_r2_test = 1-(1-r2_test)*(n-1)/(n-p-1)\n",
    "print(r2_test)\n",
    "print(adjusted_r2_test)"
   ]
  },
  {
   "cell_type": "code",
   "execution_count": 161,
   "metadata": {},
   "outputs": [
    {
     "data": {
      "text/html": [
       "<div>\n",
       "<style scoped>\n",
       "    .dataframe tbody tr th:only-of-type {\n",
       "        vertical-align: middle;\n",
       "    }\n",
       "\n",
       "    .dataframe tbody tr th {\n",
       "        vertical-align: top;\n",
       "    }\n",
       "\n",
       "    .dataframe thead th {\n",
       "        text-align: right;\n",
       "    }\n",
       "</style>\n",
       "<table border=\"1\" class=\"dataframe\">\n",
       "  <thead>\n",
       "    <tr style=\"text-align: right;\">\n",
       "      <th></th>\n",
       "      <th>Model</th>\n",
       "      <th>Description</th>\n",
       "      <th>Root Mean Squared Error (RMSE)</th>\n",
       "      <th>R-squared (training)</th>\n",
       "      <th>Adjusted R-squared (training)</th>\n",
       "      <th>R-squared (test)</th>\n",
       "      <th>Adjusted R-squared (test)</th>\n",
       "      <th>5-fold Cross Validation</th>\n",
       "    </tr>\n",
       "  </thead>\n",
       "  <tbody>\n",
       "    <tr>\n",
       "      <td>0</td>\n",
       "      <td>Multiple Regression-1</td>\n",
       "      <td>Cary- Base</td>\n",
       "      <td>169097.418000</td>\n",
       "      <td>0.638000</td>\n",
       "      <td>0.638000</td>\n",
       "      <td>0.632000</td>\n",
       "      <td>0.630000</td>\n",
       "      <td>NaN</td>\n",
       "    </tr>\n",
       "    <tr>\n",
       "      <td>1</td>\n",
       "      <td>Multiple Regression-2</td>\n",
       "      <td>Cary- Two</td>\n",
       "      <td>196250.267000</td>\n",
       "      <td>0.513000</td>\n",
       "      <td>0.512000</td>\n",
       "      <td>0.515000</td>\n",
       "      <td>0.514000</td>\n",
       "      <td>NaN</td>\n",
       "    </tr>\n",
       "    <tr>\n",
       "      <td>2</td>\n",
       "      <td>Multiple Regression-3</td>\n",
       "      <td>Cary- Base Scaled</td>\n",
       "      <td>196250.267000</td>\n",
       "      <td>0.513000</td>\n",
       "      <td>0.512000</td>\n",
       "      <td>0.515000</td>\n",
       "      <td>0.514000</td>\n",
       "      <td>NaN</td>\n",
       "    </tr>\n",
       "    <tr>\n",
       "      <td>3</td>\n",
       "      <td>Multiple Regression-4</td>\n",
       "      <td>Cary- Base Log</td>\n",
       "      <td>171454.466000</td>\n",
       "      <td>0.628000</td>\n",
       "      <td>0.628000</td>\n",
       "      <td>0.618000</td>\n",
       "      <td>0.617000</td>\n",
       "      <td>NaN</td>\n",
       "    </tr>\n",
       "    <tr>\n",
       "      <td>4</td>\n",
       "      <td>Multiple Regression-5</td>\n",
       "      <td>Cary- Base Poly2</td>\n",
       "      <td>159480.661919</td>\n",
       "      <td>0.678176</td>\n",
       "      <td>0.677847</td>\n",
       "      <td>0.658206</td>\n",
       "      <td>0.656803</td>\n",
       "      <td>NaN</td>\n",
       "    </tr>\n",
       "    <tr>\n",
       "      <td>5</td>\n",
       "      <td>Multiple Regression-6</td>\n",
       "      <td>Cary- Base Poly3</td>\n",
       "      <td>152985.562797</td>\n",
       "      <td>0.703856</td>\n",
       "      <td>0.703553</td>\n",
       "      <td>0.601804</td>\n",
       "      <td>0.600169</td>\n",
       "      <td>NaN</td>\n",
       "    </tr>\n",
       "    <tr>\n",
       "      <td>6</td>\n",
       "      <td>Multiple Regression-7</td>\n",
       "      <td>Cary- Base PolyAll</td>\n",
       "      <td>150665.511104</td>\n",
       "      <td>0.833764</td>\n",
       "      <td>0.833535</td>\n",
       "      <td>0.823389</td>\n",
       "      <td>0.822413</td>\n",
       "      <td>NaN</td>\n",
       "    </tr>\n",
       "    <tr>\n",
       "      <td>7</td>\n",
       "      <td>Multiple Regression-8</td>\n",
       "      <td>Cary- Poly No Sqft Above</td>\n",
       "      <td>150948.581847</td>\n",
       "      <td>0.833139</td>\n",
       "      <td>0.832921</td>\n",
       "      <td>0.827022</td>\n",
       "      <td>0.826117</td>\n",
       "      <td>NaN</td>\n",
       "    </tr>\n",
       "    <tr>\n",
       "      <td>8</td>\n",
       "      <td>Multiple Regression-9</td>\n",
       "      <td>Cary- Poly Test</td>\n",
       "      <td>108562.893357</td>\n",
       "      <td>0.779905</td>\n",
       "      <td>0.779591</td>\n",
       "      <td>0.758849</td>\n",
       "      <td>0.757467</td>\n",
       "      <td>NaN</td>\n",
       "    </tr>\n",
       "  </tbody>\n",
       "</table>\n",
       "</div>"
      ],
      "text/plain": [
       "                   Model               Description  \\\n",
       "0  Multiple Regression-1                Cary- Base   \n",
       "1  Multiple Regression-2                 Cary- Two   \n",
       "2  Multiple Regression-3         Cary- Base Scaled   \n",
       "3  Multiple Regression-4            Cary- Base Log   \n",
       "4  Multiple Regression-5          Cary- Base Poly2   \n",
       "5  Multiple Regression-6          Cary- Base Poly3   \n",
       "6  Multiple Regression-7        Cary- Base PolyAll   \n",
       "7  Multiple Regression-8  Cary- Poly No Sqft Above   \n",
       "8  Multiple Regression-9           Cary- Poly Test   \n",
       "\n",
       "   Root Mean Squared Error (RMSE)  R-squared (training)  \\\n",
       "0                   169097.418000              0.638000   \n",
       "1                   196250.267000              0.513000   \n",
       "2                   196250.267000              0.513000   \n",
       "3                   171454.466000              0.628000   \n",
       "4                   159480.661919              0.678176   \n",
       "5                   152985.562797              0.703856   \n",
       "6                   150665.511104              0.833764   \n",
       "7                   150948.581847              0.833139   \n",
       "8                   108562.893357              0.779905   \n",
       "\n",
       "   Adjusted R-squared (training)  R-squared (test)  Adjusted R-squared (test)  \\\n",
       "0                       0.638000          0.632000                   0.630000   \n",
       "1                       0.512000          0.515000                   0.514000   \n",
       "2                       0.512000          0.515000                   0.514000   \n",
       "3                       0.628000          0.618000                   0.617000   \n",
       "4                       0.677847          0.658206                   0.656803   \n",
       "5                       0.703553          0.601804                   0.600169   \n",
       "6                       0.833535          0.823389                   0.822413   \n",
       "7                       0.832921          0.827022                   0.826117   \n",
       "8                       0.779591          0.758849                   0.757467   \n",
       "\n",
       "   5-fold Cross Validation  \n",
       "0                      NaN  \n",
       "1                      NaN  \n",
       "2                      NaN  \n",
       "3                      NaN  \n",
       "4                      NaN  \n",
       "5                      NaN  \n",
       "6                      NaN  \n",
       "7                      NaN  \n",
       "8                      NaN  "
      ]
     },
     "execution_count": 161,
     "metadata": {},
     "output_type": "execute_result"
    }
   ],
   "source": [
    "summary_df = summary_df.append({'Model' : 'Multiple Regression-9', 'Description' : 'Cary- Poly Test' , 'Root Mean Squared Error (RMSE)' : train_rmse, 'R-squared (training)' : r2_train, 'Adjusted R-squared (training)': adjusted_r2_train, 'R-squared (test)' : r2_test, 'Adjusted R-squared (test)' : adjusted_r2_test} , ignore_index=True)\n",
    "summary_df\n",
    "\n"
   ]
  },
  {
   "cell_type": "code",
   "execution_count": 162,
   "metadata": {},
   "outputs": [
    {
     "data": {
      "text/plain": [
       "5605.550000000003"
      ]
     },
     "execution_count": 162,
     "metadata": {},
     "output_type": "execute_result"
    }
   ],
   "source": [
    "df2['sqft_living'].quantile(.995)"
   ]
  },
  {
   "cell_type": "code",
   "execution_count": null,
   "metadata": {},
   "outputs": [],
   "source": []
  }
 ],
 "metadata": {
  "kernelspec": {
   "display_name": "Python 3",
   "language": "python",
   "name": "python3"
  },
  "language_info": {
   "codemirror_mode": {
    "name": "ipython",
    "version": 3
   },
   "file_extension": ".py",
   "mimetype": "text/x-python",
   "name": "python",
   "nbconvert_exporter": "python",
   "pygments_lexer": "ipython3",
   "version": "3.7.4"
  }
 },
 "nbformat": 4,
 "nbformat_minor": 2
}
